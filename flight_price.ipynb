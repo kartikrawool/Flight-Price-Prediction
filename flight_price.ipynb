{
  "nbformat": 4,
  "nbformat_minor": 0,
  "metadata": {
    "kernelspec": {
      "display_name": "Python 3",
      "language": "python",
      "name": "python3"
    },
    "language_info": {
      "codemirror_mode": {
        "name": "ipython",
        "version": 3
      },
      "file_extension": ".py",
      "mimetype": "text/x-python",
      "name": "python",
      "nbconvert_exporter": "python",
      "pygments_lexer": "ipython3",
      "version": "3.7.6"
    },
    "colab": {
      "provenance": []
    }
  },
  "cells": [
    {
      "cell_type": "markdown",
      "metadata": {
        "id": "9dVNUKPMitWy"
      },
      "source": [
        "# Flight Price Prediction\n",
        "---"
      ]
    },
    {
      "cell_type": "markdown",
      "metadata": {
        "id": "mBQ-18mwoD6j"
      },
      "source": [
        "\n",
        "    Airline: The name of the airline.\n",
        "    Date_of_Journey: The date of the journey\n",
        "    Source: The source from which the service begins.\n",
        "    Destination: The destination where the service ends.\n",
        "    Route: The route taken by the flight to reach the destination.\n",
        "    Dep_Time: The time when the journey starts from the source.\n",
        "    Arrival_Time: Time of arrival at the destination.\n",
        "    Duration: Total duration of the flight.\n",
        "    Total_Stops: Total stops between the source and destination.\n",
        "    Additional_Info: Additional information about the flight\n",
        "    Price: The price of the ticke"
      ]
    },
    {
      "cell_type": "code",
      "metadata": {
        "id": "sFuve6g8itWz"
      },
      "source": [
        "import numpy as np\n",
        "import pandas as pd\n",
        "import matplotlib.pyplot as plt\n",
        "import seaborn as sns\n",
        "from plotly.offline import init_notebook_mode, iplot \n",
        "import plotly.graph_objects as go\n",
        "import plotly.offline as py\n",
        "import plotly.express as px\n",
        "sns.set()"
      ],
      "execution_count": null,
      "outputs": []
    },
    {
      "cell_type": "code",
      "metadata": {
        "id": "6WjoMxsajMQB",
        "outputId": "851db741-3004-4a98-c0e9-1b934c576d7f",
        "colab": {
          "base_uri": "https://localhost:8080/",
          "height": 34
        }
      },
      "source": [
        "from google.colab import drive\n",
        "drive.mount('/content/drive')"
      ],
      "execution_count": null,
      "outputs": [
        {
          "output_type": "stream",
          "text": [
            "Drive already mounted at /content/drive; to attempt to forcibly remount, call drive.mount(\"/content/drive\", force_remount=True).\n"
          ],
          "name": "stdout"
        }
      ]
    },
    {
      "cell_type": "code",
      "metadata": {
        "id": "fuLUMlpeitW3"
      },
      "source": [
        "train_data = pd.read_excel(\"/content/drive/My Drive/ML Project/Data_Train.xlsx\")"
      ],
      "execution_count": null,
      "outputs": []
    },
    {
      "cell_type": "code",
      "metadata": {
        "id": "Tejhh2DTitW5"
      },
      "source": [
        "pd.set_option('display.max_columns', None)"
      ],
      "execution_count": null,
      "outputs": []
    },
    {
      "cell_type": "code",
      "metadata": {
        "id": "VqeU_XZEitW8",
        "outputId": "864c2a5f-570d-4b59-c73b-4e666ee18315",
        "colab": {
          "base_uri": "https://localhost:8080/",
          "height": 195
        }
      },
      "source": [
        "train_data.head()"
      ],
      "execution_count": null,
      "outputs": [
        {
          "output_type": "execute_result",
          "data": {
            "text/html": [
              "<div>\n",
              "<style scoped>\n",
              "    .dataframe tbody tr th:only-of-type {\n",
              "        vertical-align: middle;\n",
              "    }\n",
              "\n",
              "    .dataframe tbody tr th {\n",
              "        vertical-align: top;\n",
              "    }\n",
              "\n",
              "    .dataframe thead th {\n",
              "        text-align: right;\n",
              "    }\n",
              "</style>\n",
              "<table border=\"1\" class=\"dataframe\">\n",
              "  <thead>\n",
              "    <tr style=\"text-align: right;\">\n",
              "      <th></th>\n",
              "      <th>Airline</th>\n",
              "      <th>Date_of_Journey</th>\n",
              "      <th>Source</th>\n",
              "      <th>Destination</th>\n",
              "      <th>Route</th>\n",
              "      <th>Dep_Time</th>\n",
              "      <th>Arrival_Time</th>\n",
              "      <th>Duration</th>\n",
              "      <th>Total_Stops</th>\n",
              "      <th>Additional_Info</th>\n",
              "      <th>Price</th>\n",
              "    </tr>\n",
              "  </thead>\n",
              "  <tbody>\n",
              "    <tr>\n",
              "      <th>0</th>\n",
              "      <td>IndiGo</td>\n",
              "      <td>24/03/2019</td>\n",
              "      <td>Banglore</td>\n",
              "      <td>New Delhi</td>\n",
              "      <td>BLR → DEL</td>\n",
              "      <td>22:20</td>\n",
              "      <td>01:10 22 Mar</td>\n",
              "      <td>2h 50m</td>\n",
              "      <td>non-stop</td>\n",
              "      <td>No info</td>\n",
              "      <td>3897</td>\n",
              "    </tr>\n",
              "    <tr>\n",
              "      <th>1</th>\n",
              "      <td>Air India</td>\n",
              "      <td>1/05/2019</td>\n",
              "      <td>Kolkata</td>\n",
              "      <td>Banglore</td>\n",
              "      <td>CCU → IXR → BBI → BLR</td>\n",
              "      <td>05:50</td>\n",
              "      <td>13:15</td>\n",
              "      <td>7h 25m</td>\n",
              "      <td>2 stops</td>\n",
              "      <td>No info</td>\n",
              "      <td>7662</td>\n",
              "    </tr>\n",
              "    <tr>\n",
              "      <th>2</th>\n",
              "      <td>Jet Airways</td>\n",
              "      <td>9/06/2019</td>\n",
              "      <td>Delhi</td>\n",
              "      <td>Cochin</td>\n",
              "      <td>DEL → LKO → BOM → COK</td>\n",
              "      <td>09:25</td>\n",
              "      <td>04:25 10 Jun</td>\n",
              "      <td>19h</td>\n",
              "      <td>2 stops</td>\n",
              "      <td>No info</td>\n",
              "      <td>13882</td>\n",
              "    </tr>\n",
              "    <tr>\n",
              "      <th>3</th>\n",
              "      <td>IndiGo</td>\n",
              "      <td>12/05/2019</td>\n",
              "      <td>Kolkata</td>\n",
              "      <td>Banglore</td>\n",
              "      <td>CCU → NAG → BLR</td>\n",
              "      <td>18:05</td>\n",
              "      <td>23:30</td>\n",
              "      <td>5h 25m</td>\n",
              "      <td>1 stop</td>\n",
              "      <td>No info</td>\n",
              "      <td>6218</td>\n",
              "    </tr>\n",
              "    <tr>\n",
              "      <th>4</th>\n",
              "      <td>IndiGo</td>\n",
              "      <td>01/03/2019</td>\n",
              "      <td>Banglore</td>\n",
              "      <td>New Delhi</td>\n",
              "      <td>BLR → NAG → DEL</td>\n",
              "      <td>16:50</td>\n",
              "      <td>21:35</td>\n",
              "      <td>4h 45m</td>\n",
              "      <td>1 stop</td>\n",
              "      <td>No info</td>\n",
              "      <td>13302</td>\n",
              "    </tr>\n",
              "  </tbody>\n",
              "</table>\n",
              "</div>"
            ],
            "text/plain": [
              "       Airline Date_of_Journey    Source Destination                  Route  \\\n",
              "0       IndiGo      24/03/2019  Banglore   New Delhi              BLR → DEL   \n",
              "1    Air India       1/05/2019   Kolkata    Banglore  CCU → IXR → BBI → BLR   \n",
              "2  Jet Airways       9/06/2019     Delhi      Cochin  DEL → LKO → BOM → COK   \n",
              "3       IndiGo      12/05/2019   Kolkata    Banglore        CCU → NAG → BLR   \n",
              "4       IndiGo      01/03/2019  Banglore   New Delhi        BLR → NAG → DEL   \n",
              "\n",
              "  Dep_Time  Arrival_Time Duration Total_Stops Additional_Info  Price  \n",
              "0    22:20  01:10 22 Mar   2h 50m    non-stop         No info   3897  \n",
              "1    05:50         13:15   7h 25m     2 stops         No info   7662  \n",
              "2    09:25  04:25 10 Jun      19h     2 stops         No info  13882  \n",
              "3    18:05         23:30   5h 25m      1 stop         No info   6218  \n",
              "4    16:50         21:35   4h 45m      1 stop         No info  13302  "
            ]
          },
          "metadata": {
            "tags": []
          },
          "execution_count": 10
        }
      ]
    },
    {
      "cell_type": "code",
      "metadata": {
        "id": "dAHm73twitW_",
        "outputId": "8b407c66-8f34-461c-81d1-4e3bfb9a80f8",
        "colab": {
          "base_uri": "https://localhost:8080/",
          "height": 319
        }
      },
      "source": [
        "train_data.info()"
      ],
      "execution_count": null,
      "outputs": [
        {
          "output_type": "stream",
          "text": [
            "<class 'pandas.core.frame.DataFrame'>\n",
            "RangeIndex: 10683 entries, 0 to 10682\n",
            "Data columns (total 11 columns):\n",
            " #   Column           Non-Null Count  Dtype \n",
            "---  ------           --------------  ----- \n",
            " 0   Airline          10683 non-null  object\n",
            " 1   Date_of_Journey  10683 non-null  object\n",
            " 2   Source           10683 non-null  object\n",
            " 3   Destination      10683 non-null  object\n",
            " 4   Route            10682 non-null  object\n",
            " 5   Dep_Time         10683 non-null  object\n",
            " 6   Arrival_Time     10683 non-null  object\n",
            " 7   Duration         10683 non-null  object\n",
            " 8   Total_Stops      10682 non-null  object\n",
            " 9   Additional_Info  10683 non-null  object\n",
            " 10  Price            10683 non-null  int64 \n",
            "dtypes: int64(1), object(10)\n",
            "memory usage: 918.2+ KB\n"
          ],
          "name": "stdout"
        }
      ]
    },
    {
      "cell_type": "code",
      "metadata": {
        "id": "u_-aHhiIitXB",
        "outputId": "de793755-9f19-44df-d04b-b219aa1bb8a1",
        "colab": {
          "base_uri": "https://localhost:8080/",
          "height": 218
        }
      },
      "source": [
        "train_data[\"Duration\"].value_counts()"
      ],
      "execution_count": null,
      "outputs": [
        {
          "output_type": "execute_result",
          "data": {
            "text/plain": [
              "2h 50m     550\n",
              "1h 30m     386\n",
              "2h 45m     337\n",
              "2h 55m     337\n",
              "2h 35m     329\n",
              "          ... \n",
              "29h 40m      1\n",
              "42h 5m       1\n",
              "31h 50m      1\n",
              "32h 20m      1\n",
              "27h 55m      1\n",
              "Name: Duration, Length: 368, dtype: int64"
            ]
          },
          "metadata": {
            "tags": []
          },
          "execution_count": 12
        }
      ]
    },
    {
      "cell_type": "code",
      "metadata": {
        "id": "W46ZRMXmitXE"
      },
      "source": [
        "train_data.dropna(inplace = True)"
      ],
      "execution_count": null,
      "outputs": []
    },
    {
      "cell_type": "code",
      "metadata": {
        "id": "5R6kNNPsitXL",
        "outputId": "b378125a-7028-46fc-d98b-6e65b4fa47f2",
        "colab": {
          "base_uri": "https://localhost:8080/",
          "height": 218
        }
      },
      "source": [
        "train_data.isnull().sum()"
      ],
      "execution_count": null,
      "outputs": [
        {
          "output_type": "execute_result",
          "data": {
            "text/plain": [
              "Airline            0\n",
              "Date_of_Journey    0\n",
              "Source             0\n",
              "Destination        0\n",
              "Route              0\n",
              "Dep_Time           0\n",
              "Arrival_Time       0\n",
              "Duration           0\n",
              "Total_Stops        0\n",
              "Additional_Info    0\n",
              "Price              0\n",
              "dtype: int64"
            ]
          },
          "metadata": {
            "tags": []
          },
          "execution_count": 14
        }
      ]
    },
    {
      "cell_type": "markdown",
      "metadata": {
        "id": "3kPJPYSwitXQ"
      },
      "source": [
        "---"
      ]
    },
    {
      "cell_type": "code",
      "metadata": {
        "id": "v8NLaPR-itXT"
      },
      "source": [
        "train_data[\"Journey_day\"] = pd.to_datetime(train_data.Date_of_Journey, format=\"%d/%m/%Y\").dt.day"
      ],
      "execution_count": null,
      "outputs": []
    },
    {
      "cell_type": "code",
      "metadata": {
        "id": "8uXdDcaMitXW"
      },
      "source": [
        "train_data[\"Journey_month\"] = pd.to_datetime(train_data[\"Date_of_Journey\"], format = \"%d/%m/%Y\").dt.month"
      ],
      "execution_count": null,
      "outputs": []
    },
    {
      "cell_type": "code",
      "metadata": {
        "id": "ukpRvns8itXY",
        "outputId": "35852a14-7237-413e-c333-39896a3041be",
        "colab": {
          "base_uri": "https://localhost:8080/",
          "height": 195
        }
      },
      "source": [
        "train_data.head()"
      ],
      "execution_count": null,
      "outputs": [
        {
          "output_type": "execute_result",
          "data": {
            "text/html": [
              "<div>\n",
              "<style scoped>\n",
              "    .dataframe tbody tr th:only-of-type {\n",
              "        vertical-align: middle;\n",
              "    }\n",
              "\n",
              "    .dataframe tbody tr th {\n",
              "        vertical-align: top;\n",
              "    }\n",
              "\n",
              "    .dataframe thead th {\n",
              "        text-align: right;\n",
              "    }\n",
              "</style>\n",
              "<table border=\"1\" class=\"dataframe\">\n",
              "  <thead>\n",
              "    <tr style=\"text-align: right;\">\n",
              "      <th></th>\n",
              "      <th>Airline</th>\n",
              "      <th>Date_of_Journey</th>\n",
              "      <th>Source</th>\n",
              "      <th>Destination</th>\n",
              "      <th>Route</th>\n",
              "      <th>Dep_Time</th>\n",
              "      <th>Arrival_Time</th>\n",
              "      <th>Duration</th>\n",
              "      <th>Total_Stops</th>\n",
              "      <th>Additional_Info</th>\n",
              "      <th>Price</th>\n",
              "      <th>Journey_day</th>\n",
              "      <th>Journey_month</th>\n",
              "    </tr>\n",
              "  </thead>\n",
              "  <tbody>\n",
              "    <tr>\n",
              "      <th>0</th>\n",
              "      <td>IndiGo</td>\n",
              "      <td>24/03/2019</td>\n",
              "      <td>Banglore</td>\n",
              "      <td>New Delhi</td>\n",
              "      <td>BLR → DEL</td>\n",
              "      <td>22:20</td>\n",
              "      <td>01:10 22 Mar</td>\n",
              "      <td>2h 50m</td>\n",
              "      <td>non-stop</td>\n",
              "      <td>No info</td>\n",
              "      <td>3897</td>\n",
              "      <td>24</td>\n",
              "      <td>3</td>\n",
              "    </tr>\n",
              "    <tr>\n",
              "      <th>1</th>\n",
              "      <td>Air India</td>\n",
              "      <td>1/05/2019</td>\n",
              "      <td>Kolkata</td>\n",
              "      <td>Banglore</td>\n",
              "      <td>CCU → IXR → BBI → BLR</td>\n",
              "      <td>05:50</td>\n",
              "      <td>13:15</td>\n",
              "      <td>7h 25m</td>\n",
              "      <td>2 stops</td>\n",
              "      <td>No info</td>\n",
              "      <td>7662</td>\n",
              "      <td>1</td>\n",
              "      <td>5</td>\n",
              "    </tr>\n",
              "    <tr>\n",
              "      <th>2</th>\n",
              "      <td>Jet Airways</td>\n",
              "      <td>9/06/2019</td>\n",
              "      <td>Delhi</td>\n",
              "      <td>Cochin</td>\n",
              "      <td>DEL → LKO → BOM → COK</td>\n",
              "      <td>09:25</td>\n",
              "      <td>04:25 10 Jun</td>\n",
              "      <td>19h</td>\n",
              "      <td>2 stops</td>\n",
              "      <td>No info</td>\n",
              "      <td>13882</td>\n",
              "      <td>9</td>\n",
              "      <td>6</td>\n",
              "    </tr>\n",
              "    <tr>\n",
              "      <th>3</th>\n",
              "      <td>IndiGo</td>\n",
              "      <td>12/05/2019</td>\n",
              "      <td>Kolkata</td>\n",
              "      <td>Banglore</td>\n",
              "      <td>CCU → NAG → BLR</td>\n",
              "      <td>18:05</td>\n",
              "      <td>23:30</td>\n",
              "      <td>5h 25m</td>\n",
              "      <td>1 stop</td>\n",
              "      <td>No info</td>\n",
              "      <td>6218</td>\n",
              "      <td>12</td>\n",
              "      <td>5</td>\n",
              "    </tr>\n",
              "    <tr>\n",
              "      <th>4</th>\n",
              "      <td>IndiGo</td>\n",
              "      <td>01/03/2019</td>\n",
              "      <td>Banglore</td>\n",
              "      <td>New Delhi</td>\n",
              "      <td>BLR → NAG → DEL</td>\n",
              "      <td>16:50</td>\n",
              "      <td>21:35</td>\n",
              "      <td>4h 45m</td>\n",
              "      <td>1 stop</td>\n",
              "      <td>No info</td>\n",
              "      <td>13302</td>\n",
              "      <td>1</td>\n",
              "      <td>3</td>\n",
              "    </tr>\n",
              "  </tbody>\n",
              "</table>\n",
              "</div>"
            ],
            "text/plain": [
              "       Airline Date_of_Journey    Source Destination                  Route  \\\n",
              "0       IndiGo      24/03/2019  Banglore   New Delhi              BLR → DEL   \n",
              "1    Air India       1/05/2019   Kolkata    Banglore  CCU → IXR → BBI → BLR   \n",
              "2  Jet Airways       9/06/2019     Delhi      Cochin  DEL → LKO → BOM → COK   \n",
              "3       IndiGo      12/05/2019   Kolkata    Banglore        CCU → NAG → BLR   \n",
              "4       IndiGo      01/03/2019  Banglore   New Delhi        BLR → NAG → DEL   \n",
              "\n",
              "  Dep_Time  Arrival_Time Duration Total_Stops Additional_Info  Price  \\\n",
              "0    22:20  01:10 22 Mar   2h 50m    non-stop         No info   3897   \n",
              "1    05:50         13:15   7h 25m     2 stops         No info   7662   \n",
              "2    09:25  04:25 10 Jun      19h     2 stops         No info  13882   \n",
              "3    18:05         23:30   5h 25m      1 stop         No info   6218   \n",
              "4    16:50         21:35   4h 45m      1 stop         No info  13302   \n",
              "\n",
              "   Journey_day  Journey_month  \n",
              "0           24              3  \n",
              "1            1              5  \n",
              "2            9              6  \n",
              "3           12              5  \n",
              "4            1              3  "
            ]
          },
          "metadata": {
            "tags": []
          },
          "execution_count": 17
        }
      ]
    },
    {
      "cell_type": "code",
      "metadata": {
        "id": "fszpvkIBitXa"
      },
      "source": [
        "# Since we have converted Date_of_Journey column into integers, Now we can drop as it is of no use.\n",
        "\n",
        "train_data.drop([\"Date_of_Journey\"], axis = 1, inplace = True)"
      ],
      "execution_count": null,
      "outputs": []
    },
    {
      "cell_type": "code",
      "metadata": {
        "id": "DyGJNrw3itXd"
      },
      "source": [
        "# Departure time is when a plane leaves the gate. \n",
        "# Similar to Date_of_Journey we can extract values from Dep_Time\n",
        "\n",
        "# Extracting Hours\n",
        "train_data[\"Dep_hour\"] = pd.to_datetime(train_data[\"Dep_Time\"]).dt.hour\n",
        "\n",
        "# Extracting Minutes\n",
        "train_data[\"Dep_min\"] = pd.to_datetime(train_data[\"Dep_Time\"]).dt.minute\n",
        "\n",
        "# Now we can drop Dep_Time as it is of no use\n",
        "train_data.drop([\"Dep_Time\"], axis = 1, inplace = True)"
      ],
      "execution_count": null,
      "outputs": []
    },
    {
      "cell_type": "code",
      "metadata": {
        "id": "zULQtv4hitXf",
        "outputId": "ad3fdb89-a0a3-4327-e79f-db089f73d399",
        "colab": {
          "base_uri": "https://localhost:8080/",
          "height": 195
        }
      },
      "source": [
        "train_data.head()"
      ],
      "execution_count": null,
      "outputs": [
        {
          "output_type": "execute_result",
          "data": {
            "text/html": [
              "<div>\n",
              "<style scoped>\n",
              "    .dataframe tbody tr th:only-of-type {\n",
              "        vertical-align: middle;\n",
              "    }\n",
              "\n",
              "    .dataframe tbody tr th {\n",
              "        vertical-align: top;\n",
              "    }\n",
              "\n",
              "    .dataframe thead th {\n",
              "        text-align: right;\n",
              "    }\n",
              "</style>\n",
              "<table border=\"1\" class=\"dataframe\">\n",
              "  <thead>\n",
              "    <tr style=\"text-align: right;\">\n",
              "      <th></th>\n",
              "      <th>Airline</th>\n",
              "      <th>Source</th>\n",
              "      <th>Destination</th>\n",
              "      <th>Route</th>\n",
              "      <th>Arrival_Time</th>\n",
              "      <th>Duration</th>\n",
              "      <th>Total_Stops</th>\n",
              "      <th>Additional_Info</th>\n",
              "      <th>Price</th>\n",
              "      <th>Journey_day</th>\n",
              "      <th>Journey_month</th>\n",
              "      <th>Dep_hour</th>\n",
              "      <th>Dep_min</th>\n",
              "    </tr>\n",
              "  </thead>\n",
              "  <tbody>\n",
              "    <tr>\n",
              "      <th>0</th>\n",
              "      <td>IndiGo</td>\n",
              "      <td>Banglore</td>\n",
              "      <td>New Delhi</td>\n",
              "      <td>BLR → DEL</td>\n",
              "      <td>01:10 22 Mar</td>\n",
              "      <td>2h 50m</td>\n",
              "      <td>non-stop</td>\n",
              "      <td>No info</td>\n",
              "      <td>3897</td>\n",
              "      <td>24</td>\n",
              "      <td>3</td>\n",
              "      <td>22</td>\n",
              "      <td>20</td>\n",
              "    </tr>\n",
              "    <tr>\n",
              "      <th>1</th>\n",
              "      <td>Air India</td>\n",
              "      <td>Kolkata</td>\n",
              "      <td>Banglore</td>\n",
              "      <td>CCU → IXR → BBI → BLR</td>\n",
              "      <td>13:15</td>\n",
              "      <td>7h 25m</td>\n",
              "      <td>2 stops</td>\n",
              "      <td>No info</td>\n",
              "      <td>7662</td>\n",
              "      <td>1</td>\n",
              "      <td>5</td>\n",
              "      <td>5</td>\n",
              "      <td>50</td>\n",
              "    </tr>\n",
              "    <tr>\n",
              "      <th>2</th>\n",
              "      <td>Jet Airways</td>\n",
              "      <td>Delhi</td>\n",
              "      <td>Cochin</td>\n",
              "      <td>DEL → LKO → BOM → COK</td>\n",
              "      <td>04:25 10 Jun</td>\n",
              "      <td>19h</td>\n",
              "      <td>2 stops</td>\n",
              "      <td>No info</td>\n",
              "      <td>13882</td>\n",
              "      <td>9</td>\n",
              "      <td>6</td>\n",
              "      <td>9</td>\n",
              "      <td>25</td>\n",
              "    </tr>\n",
              "    <tr>\n",
              "      <th>3</th>\n",
              "      <td>IndiGo</td>\n",
              "      <td>Kolkata</td>\n",
              "      <td>Banglore</td>\n",
              "      <td>CCU → NAG → BLR</td>\n",
              "      <td>23:30</td>\n",
              "      <td>5h 25m</td>\n",
              "      <td>1 stop</td>\n",
              "      <td>No info</td>\n",
              "      <td>6218</td>\n",
              "      <td>12</td>\n",
              "      <td>5</td>\n",
              "      <td>18</td>\n",
              "      <td>5</td>\n",
              "    </tr>\n",
              "    <tr>\n",
              "      <th>4</th>\n",
              "      <td>IndiGo</td>\n",
              "      <td>Banglore</td>\n",
              "      <td>New Delhi</td>\n",
              "      <td>BLR → NAG → DEL</td>\n",
              "      <td>21:35</td>\n",
              "      <td>4h 45m</td>\n",
              "      <td>1 stop</td>\n",
              "      <td>No info</td>\n",
              "      <td>13302</td>\n",
              "      <td>1</td>\n",
              "      <td>3</td>\n",
              "      <td>16</td>\n",
              "      <td>50</td>\n",
              "    </tr>\n",
              "  </tbody>\n",
              "</table>\n",
              "</div>"
            ],
            "text/plain": [
              "       Airline    Source Destination                  Route  Arrival_Time  \\\n",
              "0       IndiGo  Banglore   New Delhi              BLR → DEL  01:10 22 Mar   \n",
              "1    Air India   Kolkata    Banglore  CCU → IXR → BBI → BLR         13:15   \n",
              "2  Jet Airways     Delhi      Cochin  DEL → LKO → BOM → COK  04:25 10 Jun   \n",
              "3       IndiGo   Kolkata    Banglore        CCU → NAG → BLR         23:30   \n",
              "4       IndiGo  Banglore   New Delhi        BLR → NAG → DEL         21:35   \n",
              "\n",
              "  Duration Total_Stops Additional_Info  Price  Journey_day  Journey_month  \\\n",
              "0   2h 50m    non-stop         No info   3897           24              3   \n",
              "1   7h 25m     2 stops         No info   7662            1              5   \n",
              "2      19h     2 stops         No info  13882            9              6   \n",
              "3   5h 25m      1 stop         No info   6218           12              5   \n",
              "4   4h 45m      1 stop         No info  13302            1              3   \n",
              "\n",
              "   Dep_hour  Dep_min  \n",
              "0        22       20  \n",
              "1         5       50  \n",
              "2         9       25  \n",
              "3        18        5  \n",
              "4        16       50  "
            ]
          },
          "metadata": {
            "tags": []
          },
          "execution_count": 20
        }
      ]
    },
    {
      "cell_type": "code",
      "metadata": {
        "id": "7By_9TbKitXh"
      },
      "source": [
        "# Arrival time is when the plane pulls up to the gate.\n",
        "# Similar to Date_of_Journey we can extract values from Arrival_Time\n",
        "\n",
        "# Extracting Hours\n",
        "train_data[\"Arrival_hour\"] = pd.to_datetime(train_data.Arrival_Time).dt.hour\n",
        "\n",
        "# Extracting Minutes\n",
        "train_data[\"Arrival_min\"] = pd.to_datetime(train_data.Arrival_Time).dt.minute\n",
        "\n",
        "# Now we can drop Arrival_Time as it is of no use\n",
        "train_data.drop([\"Arrival_Time\"], axis = 1, inplace = True)"
      ],
      "execution_count": null,
      "outputs": []
    },
    {
      "cell_type": "code",
      "metadata": {
        "id": "yNGtwUt9itXj",
        "outputId": "7abf4ae5-4379-4ee0-b84e-790dcd989aba",
        "colab": {
          "base_uri": "https://localhost:8080/",
          "height": 195
        }
      },
      "source": [
        "train_data.head()"
      ],
      "execution_count": null,
      "outputs": [
        {
          "output_type": "execute_result",
          "data": {
            "text/html": [
              "<div>\n",
              "<style scoped>\n",
              "    .dataframe tbody tr th:only-of-type {\n",
              "        vertical-align: middle;\n",
              "    }\n",
              "\n",
              "    .dataframe tbody tr th {\n",
              "        vertical-align: top;\n",
              "    }\n",
              "\n",
              "    .dataframe thead th {\n",
              "        text-align: right;\n",
              "    }\n",
              "</style>\n",
              "<table border=\"1\" class=\"dataframe\">\n",
              "  <thead>\n",
              "    <tr style=\"text-align: right;\">\n",
              "      <th></th>\n",
              "      <th>Airline</th>\n",
              "      <th>Source</th>\n",
              "      <th>Destination</th>\n",
              "      <th>Route</th>\n",
              "      <th>Duration</th>\n",
              "      <th>Total_Stops</th>\n",
              "      <th>Additional_Info</th>\n",
              "      <th>Price</th>\n",
              "      <th>Journey_day</th>\n",
              "      <th>Journey_month</th>\n",
              "      <th>Dep_hour</th>\n",
              "      <th>Dep_min</th>\n",
              "      <th>Arrival_hour</th>\n",
              "      <th>Arrival_min</th>\n",
              "    </tr>\n",
              "  </thead>\n",
              "  <tbody>\n",
              "    <tr>\n",
              "      <th>0</th>\n",
              "      <td>IndiGo</td>\n",
              "      <td>Banglore</td>\n",
              "      <td>New Delhi</td>\n",
              "      <td>BLR → DEL</td>\n",
              "      <td>2h 50m</td>\n",
              "      <td>non-stop</td>\n",
              "      <td>No info</td>\n",
              "      <td>3897</td>\n",
              "      <td>24</td>\n",
              "      <td>3</td>\n",
              "      <td>22</td>\n",
              "      <td>20</td>\n",
              "      <td>1</td>\n",
              "      <td>10</td>\n",
              "    </tr>\n",
              "    <tr>\n",
              "      <th>1</th>\n",
              "      <td>Air India</td>\n",
              "      <td>Kolkata</td>\n",
              "      <td>Banglore</td>\n",
              "      <td>CCU → IXR → BBI → BLR</td>\n",
              "      <td>7h 25m</td>\n",
              "      <td>2 stops</td>\n",
              "      <td>No info</td>\n",
              "      <td>7662</td>\n",
              "      <td>1</td>\n",
              "      <td>5</td>\n",
              "      <td>5</td>\n",
              "      <td>50</td>\n",
              "      <td>13</td>\n",
              "      <td>15</td>\n",
              "    </tr>\n",
              "    <tr>\n",
              "      <th>2</th>\n",
              "      <td>Jet Airways</td>\n",
              "      <td>Delhi</td>\n",
              "      <td>Cochin</td>\n",
              "      <td>DEL → LKO → BOM → COK</td>\n",
              "      <td>19h</td>\n",
              "      <td>2 stops</td>\n",
              "      <td>No info</td>\n",
              "      <td>13882</td>\n",
              "      <td>9</td>\n",
              "      <td>6</td>\n",
              "      <td>9</td>\n",
              "      <td>25</td>\n",
              "      <td>4</td>\n",
              "      <td>25</td>\n",
              "    </tr>\n",
              "    <tr>\n",
              "      <th>3</th>\n",
              "      <td>IndiGo</td>\n",
              "      <td>Kolkata</td>\n",
              "      <td>Banglore</td>\n",
              "      <td>CCU → NAG → BLR</td>\n",
              "      <td>5h 25m</td>\n",
              "      <td>1 stop</td>\n",
              "      <td>No info</td>\n",
              "      <td>6218</td>\n",
              "      <td>12</td>\n",
              "      <td>5</td>\n",
              "      <td>18</td>\n",
              "      <td>5</td>\n",
              "      <td>23</td>\n",
              "      <td>30</td>\n",
              "    </tr>\n",
              "    <tr>\n",
              "      <th>4</th>\n",
              "      <td>IndiGo</td>\n",
              "      <td>Banglore</td>\n",
              "      <td>New Delhi</td>\n",
              "      <td>BLR → NAG → DEL</td>\n",
              "      <td>4h 45m</td>\n",
              "      <td>1 stop</td>\n",
              "      <td>No info</td>\n",
              "      <td>13302</td>\n",
              "      <td>1</td>\n",
              "      <td>3</td>\n",
              "      <td>16</td>\n",
              "      <td>50</td>\n",
              "      <td>21</td>\n",
              "      <td>35</td>\n",
              "    </tr>\n",
              "  </tbody>\n",
              "</table>\n",
              "</div>"
            ],
            "text/plain": [
              "       Airline    Source Destination                  Route Duration  \\\n",
              "0       IndiGo  Banglore   New Delhi              BLR → DEL   2h 50m   \n",
              "1    Air India   Kolkata    Banglore  CCU → IXR → BBI → BLR   7h 25m   \n",
              "2  Jet Airways     Delhi      Cochin  DEL → LKO → BOM → COK      19h   \n",
              "3       IndiGo   Kolkata    Banglore        CCU → NAG → BLR   5h 25m   \n",
              "4       IndiGo  Banglore   New Delhi        BLR → NAG → DEL   4h 45m   \n",
              "\n",
              "  Total_Stops Additional_Info  Price  Journey_day  Journey_month  Dep_hour  \\\n",
              "0    non-stop         No info   3897           24              3        22   \n",
              "1     2 stops         No info   7662            1              5         5   \n",
              "2     2 stops         No info  13882            9              6         9   \n",
              "3      1 stop         No info   6218           12              5        18   \n",
              "4      1 stop         No info  13302            1              3        16   \n",
              "\n",
              "   Dep_min  Arrival_hour  Arrival_min  \n",
              "0       20             1           10  \n",
              "1       50            13           15  \n",
              "2       25             4           25  \n",
              "3        5            23           30  \n",
              "4       50            21           35  "
            ]
          },
          "metadata": {
            "tags": []
          },
          "execution_count": 22
        }
      ]
    },
    {
      "cell_type": "code",
      "metadata": {
        "id": "9rjOy1OiitXm"
      },
      "source": [
        "# Time taken by plane to reach destination is called Duration\n",
        "# It is the differnce betwwen Departure Time and Arrival time\n",
        "\n",
        "\n",
        "# Assigning and converting Duration column into list\n",
        "duration = list(train_data[\"Duration\"])\n",
        "\n",
        "for i in range(len(duration)):\n",
        "    if len(duration[i].split()) != 2:    # Check if duration contains only hour or mins\n",
        "        if \"h\" in duration[i]:\n",
        "            duration[i] = duration[i].strip() + \" 0m\"   # Adds 0 minute\n",
        "        else:\n",
        "            duration[i] = \"0h \" + duration[i]           # Adds 0 hour\n",
        "\n",
        "duration_hours = []\n",
        "duration_mins = []\n",
        "for i in range(len(duration)):\n",
        "    duration_hours.append(int(duration[i].split(sep = \"h\")[0]))    # Extract hours from duration\n",
        "    duration_mins.append(int(duration[i].split(sep = \"m\")[0].split()[-1]))   # Extracts only minutes from duration"
      ],
      "execution_count": null,
      "outputs": []
    },
    {
      "cell_type": "code",
      "metadata": {
        "id": "DzSvAcDtitXo"
      },
      "source": [
        "# Adding duration_hours and duration_mins list to train_data dataframe\n",
        "\n",
        "train_data[\"Duration_hours\"] = duration_hours\n",
        "train_data[\"Duration_mins\"] = duration_mins"
      ],
      "execution_count": null,
      "outputs": []
    },
    {
      "cell_type": "code",
      "metadata": {
        "id": "VhcrbOvjitXq"
      },
      "source": [
        "train_data.drop([\"Duration\"], axis = 1, inplace = True)"
      ],
      "execution_count": null,
      "outputs": []
    },
    {
      "cell_type": "code",
      "metadata": {
        "id": "Yv3BhXheitXs",
        "outputId": "4c2c3b9e-4118-4c81-97d3-3f86ca7a8984",
        "colab": {
          "base_uri": "https://localhost:8080/",
          "height": 380
        }
      },
      "source": [
        "train_data.head()"
      ],
      "execution_count": null,
      "outputs": [
        {
          "output_type": "execute_result",
          "data": {
            "text/html": [
              "<div>\n",
              "<style scoped>\n",
              "    .dataframe tbody tr th:only-of-type {\n",
              "        vertical-align: middle;\n",
              "    }\n",
              "\n",
              "    .dataframe tbody tr th {\n",
              "        vertical-align: top;\n",
              "    }\n",
              "\n",
              "    .dataframe thead th {\n",
              "        text-align: right;\n",
              "    }\n",
              "</style>\n",
              "<table border=\"1\" class=\"dataframe\">\n",
              "  <thead>\n",
              "    <tr style=\"text-align: right;\">\n",
              "      <th></th>\n",
              "      <th>Airline</th>\n",
              "      <th>Source</th>\n",
              "      <th>Destination</th>\n",
              "      <th>Route</th>\n",
              "      <th>Total_Stops</th>\n",
              "      <th>Additional_Info</th>\n",
              "      <th>Price</th>\n",
              "      <th>Journey_day</th>\n",
              "      <th>Journey_month</th>\n",
              "      <th>Dep_hour</th>\n",
              "      <th>Dep_min</th>\n",
              "      <th>Arrival_hour</th>\n",
              "      <th>Arrival_min</th>\n",
              "      <th>Duration_hours</th>\n",
              "      <th>Duration_mins</th>\n",
              "    </tr>\n",
              "  </thead>\n",
              "  <tbody>\n",
              "    <tr>\n",
              "      <th>0</th>\n",
              "      <td>IndiGo</td>\n",
              "      <td>Banglore</td>\n",
              "      <td>New Delhi</td>\n",
              "      <td>BLR → DEL</td>\n",
              "      <td>non-stop</td>\n",
              "      <td>No info</td>\n",
              "      <td>3897</td>\n",
              "      <td>24</td>\n",
              "      <td>3</td>\n",
              "      <td>22</td>\n",
              "      <td>20</td>\n",
              "      <td>1</td>\n",
              "      <td>10</td>\n",
              "      <td>2</td>\n",
              "      <td>50</td>\n",
              "    </tr>\n",
              "    <tr>\n",
              "      <th>1</th>\n",
              "      <td>Air India</td>\n",
              "      <td>Kolkata</td>\n",
              "      <td>Banglore</td>\n",
              "      <td>CCU → IXR → BBI → BLR</td>\n",
              "      <td>2 stops</td>\n",
              "      <td>No info</td>\n",
              "      <td>7662</td>\n",
              "      <td>1</td>\n",
              "      <td>5</td>\n",
              "      <td>5</td>\n",
              "      <td>50</td>\n",
              "      <td>13</td>\n",
              "      <td>15</td>\n",
              "      <td>7</td>\n",
              "      <td>25</td>\n",
              "    </tr>\n",
              "    <tr>\n",
              "      <th>2</th>\n",
              "      <td>Jet Airways</td>\n",
              "      <td>Delhi</td>\n",
              "      <td>Cochin</td>\n",
              "      <td>DEL → LKO → BOM → COK</td>\n",
              "      <td>2 stops</td>\n",
              "      <td>No info</td>\n",
              "      <td>13882</td>\n",
              "      <td>9</td>\n",
              "      <td>6</td>\n",
              "      <td>9</td>\n",
              "      <td>25</td>\n",
              "      <td>4</td>\n",
              "      <td>25</td>\n",
              "      <td>19</td>\n",
              "      <td>0</td>\n",
              "    </tr>\n",
              "    <tr>\n",
              "      <th>3</th>\n",
              "      <td>IndiGo</td>\n",
              "      <td>Kolkata</td>\n",
              "      <td>Banglore</td>\n",
              "      <td>CCU → NAG → BLR</td>\n",
              "      <td>1 stop</td>\n",
              "      <td>No info</td>\n",
              "      <td>6218</td>\n",
              "      <td>12</td>\n",
              "      <td>5</td>\n",
              "      <td>18</td>\n",
              "      <td>5</td>\n",
              "      <td>23</td>\n",
              "      <td>30</td>\n",
              "      <td>5</td>\n",
              "      <td>25</td>\n",
              "    </tr>\n",
              "    <tr>\n",
              "      <th>4</th>\n",
              "      <td>IndiGo</td>\n",
              "      <td>Banglore</td>\n",
              "      <td>New Delhi</td>\n",
              "      <td>BLR → NAG → DEL</td>\n",
              "      <td>1 stop</td>\n",
              "      <td>No info</td>\n",
              "      <td>13302</td>\n",
              "      <td>1</td>\n",
              "      <td>3</td>\n",
              "      <td>16</td>\n",
              "      <td>50</td>\n",
              "      <td>21</td>\n",
              "      <td>35</td>\n",
              "      <td>4</td>\n",
              "      <td>45</td>\n",
              "    </tr>\n",
              "  </tbody>\n",
              "</table>\n",
              "</div>"
            ],
            "text/plain": [
              "       Airline    Source Destination                  Route Total_Stops  \\\n",
              "0       IndiGo  Banglore   New Delhi              BLR → DEL    non-stop   \n",
              "1    Air India   Kolkata    Banglore  CCU → IXR → BBI → BLR     2 stops   \n",
              "2  Jet Airways     Delhi      Cochin  DEL → LKO → BOM → COK     2 stops   \n",
              "3       IndiGo   Kolkata    Banglore        CCU → NAG → BLR      1 stop   \n",
              "4       IndiGo  Banglore   New Delhi        BLR → NAG → DEL      1 stop   \n",
              "\n",
              "  Additional_Info  Price  Journey_day  Journey_month  Dep_hour  Dep_min  \\\n",
              "0         No info   3897           24              3        22       20   \n",
              "1         No info   7662            1              5         5       50   \n",
              "2         No info  13882            9              6         9       25   \n",
              "3         No info   6218           12              5        18        5   \n",
              "4         No info  13302            1              3        16       50   \n",
              "\n",
              "   Arrival_hour  Arrival_min  Duration_hours  Duration_mins  \n",
              "0             1           10               2             50  \n",
              "1            13           15               7             25  \n",
              "2             4           25              19              0  \n",
              "3            23           30               5             25  \n",
              "4            21           35               4             45  "
            ]
          },
          "metadata": {
            "tags": []
          },
          "execution_count": 26
        }
      ]
    },
    {
      "cell_type": "code",
      "metadata": {
        "id": "RLVHx9R4itXw",
        "outputId": "d6b3f0d4-3f38-4f24-de28-4ce272256675",
        "colab": {
          "base_uri": "https://localhost:8080/",
          "height": 235
        }
      },
      "source": [
        "train_data[\"Airline\"].value_counts()"
      ],
      "execution_count": null,
      "outputs": [
        {
          "output_type": "execute_result",
          "data": {
            "text/plain": [
              "Jet Airways                          3849\n",
              "IndiGo                               2053\n",
              "Air India                            1751\n",
              "Multiple carriers                    1196\n",
              "SpiceJet                              818\n",
              "Vistara                               479\n",
              "Air Asia                              319\n",
              "GoAir                                 194\n",
              "Multiple carriers Premium economy      13\n",
              "Jet Airways Business                    6\n",
              "Vistara Premium economy                 3\n",
              "Trujet                                  1\n",
              "Name: Airline, dtype: int64"
            ]
          },
          "metadata": {
            "tags": []
          },
          "execution_count": 27
        }
      ]
    },
    {
      "cell_type": "code",
      "metadata": {
        "id": "iqOZ2LNGitXz",
        "outputId": "587a8119-83df-449d-d3ab-16cb34fa6387",
        "colab": {
          "base_uri": "https://localhost:8080/",
          "height": 542
        }
      },
      "source": [
        "# From graph we can see that Jet Airways Business have the highest Price.\n",
        "# Apart from the first Airline almost all are having similar median\n",
        "\n",
        "# Airline vs Price\n",
        "import plotly.express as px\n",
        "#df = px.data.result()\n",
        "fig = px.box(train_data, x=\"Airline\", y=\"Price\", color=\"Airline\", notched=True)\n",
        "fig.show()"
      ],
      "execution_count": null,
      "outputs": [
        {
          "output_type": "display_data",
          "data": {
            "text/html": [
              "<html>\n",
              "<head><meta charset=\"utf-8\" /></head>\n",
              "<body>\n",
              "    <div>\n",
              "            <script src=\"https://cdnjs.cloudflare.com/ajax/libs/mathjax/2.7.5/MathJax.js?config=TeX-AMS-MML_SVG\"></script><script type=\"text/javascript\">if (window.MathJax) {MathJax.Hub.Config({SVG: {font: \"STIX-Web\"}});}</script>\n",
              "                <script type=\"text/javascript\">window.PlotlyConfig = {MathJaxConfig: 'local'};</script>\n",
              "        <script src=\"https://cdn.plot.ly/plotly-latest.min.js\"></script>    \n",
              "            <div id=\"ef45c835-a612-4586-8ca6-13de935672de\" class=\"plotly-graph-div\" style=\"height:525px; width:100%;\"></div>\n",
              "            <script type=\"text/javascript\">\n",
              "                \n",
              "                    window.PLOTLYENV=window.PLOTLYENV || {};\n",
              "                    \n",
              "                if (document.getElementById(\"ef45c835-a612-4586-8ca6-13de935672de\")) {\n",
              "                    Plotly.newPlot(\n",
              "                        'ef45c835-a612-4586-8ca6-13de935672de',\n",
              "                        [{\"alignmentgroup\": \"True\", \"hoverlabel\": {\"namelength\": 0}, \"hovertemplate\": \"Airline=%{x}<br>Price=%{y}\", \"legendgroup\": \"Airline=IndiGo\", \"marker\": {\"color\": \"#636efa\"}, \"name\": \"Airline=IndiGo\", \"notched\": true, \"offsetgroup\": \"Airline=IndiGo\", \"orientation\": \"v\", \"showlegend\": true, \"type\": \"box\", \"x\": [\"IndiGo\", \"IndiGo\", \"IndiGo\", \"IndiGo\", \"IndiGo\", \"IndiGo\", \"IndiGo\", \"IndiGo\", \"IndiGo\", \"IndiGo\", \"IndiGo\", \"IndiGo\", \"IndiGo\", \"IndiGo\", \"IndiGo\", \"IndiGo\", \"IndiGo\", \"IndiGo\", \"IndiGo\", \"IndiGo\", \"IndiGo\", \"IndiGo\", \"IndiGo\", \"IndiGo\", \"IndiGo\", \"IndiGo\", \"IndiGo\", \"IndiGo\", \"IndiGo\", \"IndiGo\", \"IndiGo\", \"IndiGo\", \"IndiGo\", \"IndiGo\", \"IndiGo\", \"IndiGo\", \"IndiGo\", \"IndiGo\", \"IndiGo\", \"IndiGo\", \"IndiGo\", \"IndiGo\", \"IndiGo\", \"IndiGo\", \"IndiGo\", \"IndiGo\", \"IndiGo\", \"IndiGo\", \"IndiGo\", \"IndiGo\", \"IndiGo\", \"IndiGo\", \"IndiGo\", \"IndiGo\", \"IndiGo\", \"IndiGo\", \"IndiGo\", \"IndiGo\", \"IndiGo\", \"IndiGo\", \"IndiGo\", \"IndiGo\", \"IndiGo\", \"IndiGo\", \"IndiGo\", \"IndiGo\", \"IndiGo\", \"IndiGo\", \"IndiGo\", \"IndiGo\", \"IndiGo\", \"IndiGo\", \"IndiGo\", \"IndiGo\", \"IndiGo\", \"IndiGo\", \"IndiGo\", \"IndiGo\", \"IndiGo\", \"IndiGo\", \"IndiGo\", \"IndiGo\", \"IndiGo\", \"IndiGo\", \"IndiGo\", \"IndiGo\", \"IndiGo\", \"IndiGo\", \"IndiGo\", \"IndiGo\", \"IndiGo\", \"IndiGo\", \"IndiGo\", \"IndiGo\", \"IndiGo\", \"IndiGo\", \"IndiGo\", \"IndiGo\", \"IndiGo\", \"IndiGo\", \"IndiGo\", \"IndiGo\", \"IndiGo\", \"IndiGo\", \"IndiGo\", \"IndiGo\", \"IndiGo\", \"IndiGo\", \"IndiGo\", \"IndiGo\", \"IndiGo\", \"IndiGo\", \"IndiGo\", \"IndiGo\", \"IndiGo\", \"IndiGo\", \"IndiGo\", \"IndiGo\", \"IndiGo\", \"IndiGo\", \"IndiGo\", \"IndiGo\", \"IndiGo\", \"IndiGo\", \"IndiGo\", \"IndiGo\", \"IndiGo\", \"IndiGo\", \"IndiGo\", \"IndiGo\", \"IndiGo\", \"IndiGo\", \"IndiGo\", \"IndiGo\", \"IndiGo\", \"IndiGo\", \"IndiGo\", \"IndiGo\", \"IndiGo\", \"IndiGo\", \"IndiGo\", \"IndiGo\", \"IndiGo\", \"IndiGo\", \"IndiGo\", \"IndiGo\", \"IndiGo\", \"IndiGo\", \"IndiGo\", \"IndiGo\", \"IndiGo\", \"IndiGo\", \"IndiGo\", \"IndiGo\", \"IndiGo\", \"IndiGo\", \"IndiGo\", \"IndiGo\", \"IndiGo\", \"IndiGo\", \"IndiGo\", \"IndiGo\", \"IndiGo\", \"IndiGo\", \"IndiGo\", \"IndiGo\", \"IndiGo\", \"IndiGo\", \"IndiGo\", \"IndiGo\", \"IndiGo\", \"IndiGo\", \"IndiGo\", \"IndiGo\", \"IndiGo\", \"IndiGo\", \"IndiGo\", \"IndiGo\", \"IndiGo\", \"IndiGo\", \"IndiGo\", \"IndiGo\", \"IndiGo\", \"IndiGo\", \"IndiGo\", \"IndiGo\", \"IndiGo\", \"IndiGo\", \"IndiGo\", \"IndiGo\", \"IndiGo\", \"IndiGo\", \"IndiGo\", \"IndiGo\", \"IndiGo\", \"IndiGo\", \"IndiGo\", \"IndiGo\", \"IndiGo\", \"IndiGo\", \"IndiGo\", \"IndiGo\", \"IndiGo\", \"IndiGo\", \"IndiGo\", \"IndiGo\", \"IndiGo\", \"IndiGo\", \"IndiGo\", \"IndiGo\", \"IndiGo\", \"IndiGo\", \"IndiGo\", \"IndiGo\", \"IndiGo\", \"IndiGo\", \"IndiGo\", \"IndiGo\", \"IndiGo\", \"IndiGo\", \"IndiGo\", \"IndiGo\", \"IndiGo\", \"IndiGo\", \"IndiGo\", \"IndiGo\", \"IndiGo\", \"IndiGo\", \"IndiGo\", \"IndiGo\", \"IndiGo\", \"IndiGo\", \"IndiGo\", \"IndiGo\", \"IndiGo\", \"IndiGo\", \"IndiGo\", \"IndiGo\", \"IndiGo\", \"IndiGo\", \"IndiGo\", \"IndiGo\", \"IndiGo\", \"IndiGo\", \"IndiGo\", \"IndiGo\", \"IndiGo\", \"IndiGo\", \"IndiGo\", \"IndiGo\", \"IndiGo\", \"IndiGo\", \"IndiGo\", \"IndiGo\", \"IndiGo\", \"IndiGo\", \"IndiGo\", \"IndiGo\", \"IndiGo\", \"IndiGo\", \"IndiGo\", \"IndiGo\", \"IndiGo\", \"IndiGo\", \"IndiGo\", \"IndiGo\", \"IndiGo\", \"IndiGo\", \"IndiGo\", \"IndiGo\", \"IndiGo\", \"IndiGo\", \"IndiGo\", \"IndiGo\", \"IndiGo\", \"IndiGo\", \"IndiGo\", \"IndiGo\", \"IndiGo\", \"IndiGo\", \"IndiGo\", \"IndiGo\", \"IndiGo\", \"IndiGo\", \"IndiGo\", \"IndiGo\", \"IndiGo\", \"IndiGo\", \"IndiGo\", \"IndiGo\", \"IndiGo\", \"IndiGo\", \"IndiGo\", \"IndiGo\", \"IndiGo\", \"IndiGo\", \"IndiGo\", \"IndiGo\", \"IndiGo\", \"IndiGo\", \"IndiGo\", \"IndiGo\", \"IndiGo\", \"IndiGo\", \"IndiGo\", \"IndiGo\", \"IndiGo\", \"IndiGo\", \"IndiGo\", \"IndiGo\", \"IndiGo\", \"IndiGo\", \"IndiGo\", \"IndiGo\", \"IndiGo\", \"IndiGo\", \"IndiGo\", \"IndiGo\", \"IndiGo\", \"IndiGo\", \"IndiGo\", \"IndiGo\", \"IndiGo\", \"IndiGo\", \"IndiGo\", \"IndiGo\", \"IndiGo\", \"IndiGo\", \"IndiGo\", \"IndiGo\", \"IndiGo\", \"IndiGo\", \"IndiGo\", \"IndiGo\", \"IndiGo\", \"IndiGo\", \"IndiGo\", \"IndiGo\", \"IndiGo\", \"IndiGo\", \"IndiGo\", \"IndiGo\", \"IndiGo\", \"IndiGo\", \"IndiGo\", \"IndiGo\", \"IndiGo\", \"IndiGo\", \"IndiGo\", \"IndiGo\", \"IndiGo\", \"IndiGo\", \"IndiGo\", \"IndiGo\", \"IndiGo\", \"IndiGo\", \"IndiGo\", \"IndiGo\", \"IndiGo\", \"IndiGo\", \"IndiGo\", \"IndiGo\", \"IndiGo\", \"IndiGo\", \"IndiGo\", \"IndiGo\", \"IndiGo\", \"IndiGo\", \"IndiGo\", \"IndiGo\", \"IndiGo\", \"IndiGo\", \"IndiGo\", \"IndiGo\", \"IndiGo\", \"IndiGo\", \"IndiGo\", \"IndiGo\", \"IndiGo\", \"IndiGo\", \"IndiGo\", \"IndiGo\", \"IndiGo\", \"IndiGo\", \"IndiGo\", \"IndiGo\", \"IndiGo\", \"IndiGo\", \"IndiGo\", \"IndiGo\", \"IndiGo\", \"IndiGo\", \"IndiGo\", \"IndiGo\", \"IndiGo\", \"IndiGo\", \"IndiGo\", \"IndiGo\", \"IndiGo\", \"IndiGo\", \"IndiGo\", \"IndiGo\", \"IndiGo\", \"IndiGo\", \"IndiGo\", \"IndiGo\", \"IndiGo\", \"IndiGo\", \"IndiGo\", \"IndiGo\", \"IndiGo\", \"IndiGo\", \"IndiGo\", \"IndiGo\", \"IndiGo\", \"IndiGo\", \"IndiGo\", \"IndiGo\", \"IndiGo\", \"IndiGo\", \"IndiGo\", \"IndiGo\", \"IndiGo\", \"IndiGo\", \"IndiGo\", \"IndiGo\", \"IndiGo\", \"IndiGo\", \"IndiGo\", \"IndiGo\", \"IndiGo\", \"IndiGo\", \"IndiGo\", \"IndiGo\", \"IndiGo\", \"IndiGo\", \"IndiGo\", \"IndiGo\", \"IndiGo\", \"IndiGo\", \"IndiGo\", \"IndiGo\", \"IndiGo\", \"IndiGo\", \"IndiGo\", \"IndiGo\", \"IndiGo\", \"IndiGo\", \"IndiGo\", \"IndiGo\", \"IndiGo\", \"IndiGo\", \"IndiGo\", \"IndiGo\", \"IndiGo\", \"IndiGo\", \"IndiGo\", \"IndiGo\", \"IndiGo\", \"IndiGo\", \"IndiGo\", \"IndiGo\", \"IndiGo\", \"IndiGo\", \"IndiGo\", \"IndiGo\", \"IndiGo\", \"IndiGo\", \"IndiGo\", \"IndiGo\", \"IndiGo\", \"IndiGo\", \"IndiGo\", \"IndiGo\", \"IndiGo\", \"IndiGo\", \"IndiGo\", \"IndiGo\", \"IndiGo\", \"IndiGo\", \"IndiGo\", \"IndiGo\", \"IndiGo\", \"IndiGo\", \"IndiGo\", \"IndiGo\", \"IndiGo\", \"IndiGo\", \"IndiGo\", \"IndiGo\", \"IndiGo\", \"IndiGo\", \"IndiGo\", \"IndiGo\", \"IndiGo\", \"IndiGo\", \"IndiGo\", \"IndiGo\", \"IndiGo\", \"IndiGo\", \"IndiGo\", \"IndiGo\", \"IndiGo\", \"IndiGo\", \"IndiGo\", \"IndiGo\", \"IndiGo\", \"IndiGo\", \"IndiGo\", \"IndiGo\", \"IndiGo\", \"IndiGo\", \"IndiGo\", \"IndiGo\", \"IndiGo\", \"IndiGo\", \"IndiGo\", \"IndiGo\", \"IndiGo\", \"IndiGo\", \"IndiGo\", \"IndiGo\", \"IndiGo\", \"IndiGo\", \"IndiGo\", \"IndiGo\", \"IndiGo\", \"IndiGo\", \"IndiGo\", \"IndiGo\", \"IndiGo\", \"IndiGo\", \"IndiGo\", \"IndiGo\", \"IndiGo\", \"IndiGo\", \"IndiGo\", \"IndiGo\", \"IndiGo\", \"IndiGo\", \"IndiGo\", \"IndiGo\", \"IndiGo\", \"IndiGo\", \"IndiGo\", \"IndiGo\", \"IndiGo\", \"IndiGo\", \"IndiGo\", \"IndiGo\", \"IndiGo\", \"IndiGo\", \"IndiGo\", \"IndiGo\", \"IndiGo\", \"IndiGo\", \"IndiGo\", \"IndiGo\", \"IndiGo\", \"IndiGo\", \"IndiGo\", \"IndiGo\", \"IndiGo\", \"IndiGo\", \"IndiGo\", \"IndiGo\", \"IndiGo\", \"IndiGo\", \"IndiGo\", \"IndiGo\", \"IndiGo\", \"IndiGo\", \"IndiGo\", \"IndiGo\", \"IndiGo\", \"IndiGo\", \"IndiGo\", \"IndiGo\", \"IndiGo\", \"IndiGo\", \"IndiGo\", \"IndiGo\", \"IndiGo\", \"IndiGo\", \"IndiGo\", \"IndiGo\", \"IndiGo\", \"IndiGo\", \"IndiGo\", \"IndiGo\", \"IndiGo\", \"IndiGo\", \"IndiGo\", \"IndiGo\", \"IndiGo\", \"IndiGo\", \"IndiGo\", \"IndiGo\", \"IndiGo\", \"IndiGo\", \"IndiGo\", \"IndiGo\", \"IndiGo\", \"IndiGo\", \"IndiGo\", \"IndiGo\", \"IndiGo\", \"IndiGo\", \"IndiGo\", \"IndiGo\", \"IndiGo\", \"IndiGo\", \"IndiGo\", \"IndiGo\", \"IndiGo\", \"IndiGo\", \"IndiGo\", \"IndiGo\", \"IndiGo\", \"IndiGo\", \"IndiGo\", \"IndiGo\", \"IndiGo\", \"IndiGo\", \"IndiGo\", \"IndiGo\", \"IndiGo\", \"IndiGo\", \"IndiGo\", \"IndiGo\", \"IndiGo\", \"IndiGo\", \"IndiGo\", \"IndiGo\", \"IndiGo\", \"IndiGo\", \"IndiGo\", \"IndiGo\", \"IndiGo\", \"IndiGo\", \"IndiGo\", \"IndiGo\", \"IndiGo\", \"IndiGo\", \"IndiGo\", \"IndiGo\", \"IndiGo\", \"IndiGo\", \"IndiGo\", \"IndiGo\", \"IndiGo\", \"IndiGo\", \"IndiGo\", \"IndiGo\", \"IndiGo\", \"IndiGo\", \"IndiGo\", \"IndiGo\", \"IndiGo\", \"IndiGo\", \"IndiGo\", \"IndiGo\", \"IndiGo\", \"IndiGo\", \"IndiGo\", \"IndiGo\", \"IndiGo\", \"IndiGo\", \"IndiGo\", \"IndiGo\", \"IndiGo\", \"IndiGo\", \"IndiGo\", \"IndiGo\", \"IndiGo\", \"IndiGo\", \"IndiGo\", \"IndiGo\", \"IndiGo\", \"IndiGo\", \"IndiGo\", \"IndiGo\", \"IndiGo\", \"IndiGo\", \"IndiGo\", \"IndiGo\", \"IndiGo\", \"IndiGo\", \"IndiGo\", \"IndiGo\", \"IndiGo\", \"IndiGo\", \"IndiGo\", \"IndiGo\", \"IndiGo\", \"IndiGo\", \"IndiGo\", \"IndiGo\", \"IndiGo\", \"IndiGo\", \"IndiGo\", \"IndiGo\", \"IndiGo\", \"IndiGo\", \"IndiGo\", \"IndiGo\", \"IndiGo\", \"IndiGo\", \"IndiGo\", \"IndiGo\", \"IndiGo\", \"IndiGo\", \"IndiGo\", \"IndiGo\", \"IndiGo\", \"IndiGo\", \"IndiGo\", \"IndiGo\", \"IndiGo\", \"IndiGo\", \"IndiGo\", \"IndiGo\", \"IndiGo\", \"IndiGo\", \"IndiGo\", \"IndiGo\", \"IndiGo\", \"IndiGo\", \"IndiGo\", \"IndiGo\", \"IndiGo\", \"IndiGo\", \"IndiGo\", \"IndiGo\", \"IndiGo\", \"IndiGo\", \"IndiGo\", \"IndiGo\", \"IndiGo\", \"IndiGo\", \"IndiGo\", \"IndiGo\", \"IndiGo\", \"IndiGo\", \"IndiGo\", \"IndiGo\", \"IndiGo\", \"IndiGo\", \"IndiGo\", \"IndiGo\", \"IndiGo\", \"IndiGo\", \"IndiGo\", \"IndiGo\", \"IndiGo\", \"IndiGo\", \"IndiGo\", \"IndiGo\", \"IndiGo\", \"IndiGo\", \"IndiGo\", \"IndiGo\", \"IndiGo\", \"IndiGo\", \"IndiGo\", \"IndiGo\", \"IndiGo\", \"IndiGo\", \"IndiGo\", \"IndiGo\", \"IndiGo\", \"IndiGo\", \"IndiGo\", \"IndiGo\", \"IndiGo\", \"IndiGo\", \"IndiGo\", \"IndiGo\", \"IndiGo\", \"IndiGo\", \"IndiGo\", \"IndiGo\", \"IndiGo\", \"IndiGo\", \"IndiGo\", \"IndiGo\", \"IndiGo\", \"IndiGo\", \"IndiGo\", \"IndiGo\", \"IndiGo\", \"IndiGo\", \"IndiGo\", \"IndiGo\", \"IndiGo\", \"IndiGo\", \"IndiGo\", \"IndiGo\", \"IndiGo\", \"IndiGo\", \"IndiGo\", \"IndiGo\", \"IndiGo\", \"IndiGo\", \"IndiGo\", \"IndiGo\", \"IndiGo\", \"IndiGo\", \"IndiGo\", \"IndiGo\", \"IndiGo\", \"IndiGo\", \"IndiGo\", \"IndiGo\", \"IndiGo\", \"IndiGo\", \"IndiGo\", \"IndiGo\", \"IndiGo\", \"IndiGo\", \"IndiGo\", \"IndiGo\", \"IndiGo\", \"IndiGo\", \"IndiGo\", \"IndiGo\", \"IndiGo\", \"IndiGo\", \"IndiGo\", \"IndiGo\", \"IndiGo\", \"IndiGo\", \"IndiGo\", \"IndiGo\", \"IndiGo\", \"IndiGo\", \"IndiGo\", \"IndiGo\", \"IndiGo\", \"IndiGo\", \"IndiGo\", \"IndiGo\", \"IndiGo\", \"IndiGo\", \"IndiGo\", \"IndiGo\", \"IndiGo\", \"IndiGo\", \"IndiGo\", \"IndiGo\", \"IndiGo\", \"IndiGo\", \"IndiGo\", \"IndiGo\", \"IndiGo\", \"IndiGo\", \"IndiGo\", \"IndiGo\", \"IndiGo\", \"IndiGo\", \"IndiGo\", \"IndiGo\", \"IndiGo\", \"IndiGo\", \"IndiGo\", \"IndiGo\", \"IndiGo\", \"IndiGo\", \"IndiGo\", \"IndiGo\", \"IndiGo\", \"IndiGo\", \"IndiGo\", \"IndiGo\", \"IndiGo\", \"IndiGo\", \"IndiGo\", \"IndiGo\", \"IndiGo\", \"IndiGo\", \"IndiGo\", \"IndiGo\", \"IndiGo\", \"IndiGo\", \"IndiGo\", \"IndiGo\", \"IndiGo\", \"IndiGo\", \"IndiGo\", \"IndiGo\", \"IndiGo\", \"IndiGo\", \"IndiGo\", \"IndiGo\", \"IndiGo\", \"IndiGo\", \"IndiGo\", \"IndiGo\", \"IndiGo\", \"IndiGo\", \"IndiGo\", \"IndiGo\", \"IndiGo\", \"IndiGo\", \"IndiGo\", \"IndiGo\", \"IndiGo\", \"IndiGo\", \"IndiGo\", \"IndiGo\", \"IndiGo\", \"IndiGo\", \"IndiGo\", \"IndiGo\", \"IndiGo\", \"IndiGo\", \"IndiGo\", \"IndiGo\", \"IndiGo\", \"IndiGo\", \"IndiGo\", \"IndiGo\", \"IndiGo\", \"IndiGo\", \"IndiGo\", \"IndiGo\", \"IndiGo\", \"IndiGo\", \"IndiGo\", \"IndiGo\", \"IndiGo\", \"IndiGo\", \"IndiGo\", \"IndiGo\", \"IndiGo\", \"IndiGo\", \"IndiGo\", \"IndiGo\", \"IndiGo\", \"IndiGo\", \"IndiGo\", \"IndiGo\", \"IndiGo\", \"IndiGo\", \"IndiGo\", \"IndiGo\", \"IndiGo\", \"IndiGo\", \"IndiGo\", \"IndiGo\", \"IndiGo\", \"IndiGo\", \"IndiGo\", \"IndiGo\", \"IndiGo\", \"IndiGo\", \"IndiGo\", \"IndiGo\", \"IndiGo\", \"IndiGo\", \"IndiGo\", \"IndiGo\", \"IndiGo\", \"IndiGo\", \"IndiGo\", \"IndiGo\", \"IndiGo\", \"IndiGo\", \"IndiGo\", \"IndiGo\", \"IndiGo\", \"IndiGo\", \"IndiGo\", \"IndiGo\", \"IndiGo\", \"IndiGo\", \"IndiGo\", \"IndiGo\", \"IndiGo\", \"IndiGo\", \"IndiGo\", \"IndiGo\", \"IndiGo\", \"IndiGo\", \"IndiGo\", \"IndiGo\", \"IndiGo\", \"IndiGo\", \"IndiGo\", \"IndiGo\", \"IndiGo\", \"IndiGo\", \"IndiGo\", \"IndiGo\", \"IndiGo\", \"IndiGo\", \"IndiGo\", \"IndiGo\", \"IndiGo\", \"IndiGo\", \"IndiGo\", \"IndiGo\", \"IndiGo\", \"IndiGo\", \"IndiGo\", \"IndiGo\", \"IndiGo\", \"IndiGo\", \"IndiGo\", \"IndiGo\", \"IndiGo\", \"IndiGo\", \"IndiGo\", \"IndiGo\", \"IndiGo\", \"IndiGo\", \"IndiGo\", \"IndiGo\", \"IndiGo\", \"IndiGo\", \"IndiGo\", \"IndiGo\", \"IndiGo\", \"IndiGo\", \"IndiGo\", \"IndiGo\", \"IndiGo\", \"IndiGo\", \"IndiGo\", \"IndiGo\", \"IndiGo\", \"IndiGo\", \"IndiGo\", \"IndiGo\", \"IndiGo\", \"IndiGo\", \"IndiGo\", \"IndiGo\", \"IndiGo\", \"IndiGo\", \"IndiGo\", \"IndiGo\", \"IndiGo\", \"IndiGo\", \"IndiGo\", \"IndiGo\", \"IndiGo\", \"IndiGo\", \"IndiGo\", \"IndiGo\", \"IndiGo\", \"IndiGo\", \"IndiGo\", \"IndiGo\", \"IndiGo\", \"IndiGo\", \"IndiGo\", \"IndiGo\", \"IndiGo\", \"IndiGo\", \"IndiGo\", \"IndiGo\", \"IndiGo\", \"IndiGo\", \"IndiGo\", \"IndiGo\", \"IndiGo\", \"IndiGo\", \"IndiGo\", \"IndiGo\", \"IndiGo\", \"IndiGo\", \"IndiGo\", \"IndiGo\", \"IndiGo\", \"IndiGo\", \"IndiGo\", \"IndiGo\", \"IndiGo\", \"IndiGo\", \"IndiGo\", \"IndiGo\", \"IndiGo\", \"IndiGo\", \"IndiGo\", \"IndiGo\", \"IndiGo\", \"IndiGo\", \"IndiGo\", \"IndiGo\", \"IndiGo\", \"IndiGo\", \"IndiGo\", \"IndiGo\", \"IndiGo\", \"IndiGo\", \"IndiGo\", \"IndiGo\", \"IndiGo\", \"IndiGo\", \"IndiGo\", \"IndiGo\", \"IndiGo\", \"IndiGo\", \"IndiGo\", \"IndiGo\", \"IndiGo\", \"IndiGo\", \"IndiGo\", \"IndiGo\", \"IndiGo\", \"IndiGo\", \"IndiGo\", \"IndiGo\", \"IndiGo\", \"IndiGo\", \"IndiGo\", \"IndiGo\", \"IndiGo\", \"IndiGo\", \"IndiGo\", \"IndiGo\", \"IndiGo\", \"IndiGo\", \"IndiGo\", \"IndiGo\", \"IndiGo\", \"IndiGo\", \"IndiGo\", \"IndiGo\", \"IndiGo\", \"IndiGo\", \"IndiGo\", \"IndiGo\", \"IndiGo\", \"IndiGo\", \"IndiGo\", \"IndiGo\", \"IndiGo\", \"IndiGo\", \"IndiGo\", \"IndiGo\", \"IndiGo\", \"IndiGo\", \"IndiGo\", \"IndiGo\", \"IndiGo\", \"IndiGo\", \"IndiGo\", \"IndiGo\", \"IndiGo\", \"IndiGo\", \"IndiGo\", \"IndiGo\", \"IndiGo\", \"IndiGo\", \"IndiGo\", \"IndiGo\", \"IndiGo\", \"IndiGo\", \"IndiGo\", \"IndiGo\", \"IndiGo\", \"IndiGo\", \"IndiGo\", \"IndiGo\", \"IndiGo\", \"IndiGo\", \"IndiGo\", \"IndiGo\", \"IndiGo\", \"IndiGo\", \"IndiGo\", \"IndiGo\", \"IndiGo\", \"IndiGo\", \"IndiGo\", \"IndiGo\", \"IndiGo\", \"IndiGo\", \"IndiGo\", \"IndiGo\", \"IndiGo\", \"IndiGo\", \"IndiGo\", \"IndiGo\", \"IndiGo\", \"IndiGo\", \"IndiGo\", \"IndiGo\", \"IndiGo\", \"IndiGo\", \"IndiGo\", \"IndiGo\", \"IndiGo\", \"IndiGo\", \"IndiGo\", \"IndiGo\", \"IndiGo\", \"IndiGo\", \"IndiGo\", \"IndiGo\", \"IndiGo\", \"IndiGo\", \"IndiGo\", \"IndiGo\", \"IndiGo\", \"IndiGo\", \"IndiGo\", \"IndiGo\", \"IndiGo\", \"IndiGo\", \"IndiGo\", \"IndiGo\", \"IndiGo\", \"IndiGo\", \"IndiGo\", \"IndiGo\", \"IndiGo\", \"IndiGo\", \"IndiGo\", \"IndiGo\", \"IndiGo\", \"IndiGo\", \"IndiGo\", \"IndiGo\", \"IndiGo\", \"IndiGo\", \"IndiGo\", \"IndiGo\", \"IndiGo\", \"IndiGo\", \"IndiGo\", \"IndiGo\", \"IndiGo\", \"IndiGo\", \"IndiGo\", \"IndiGo\", \"IndiGo\", \"IndiGo\", \"IndiGo\", \"IndiGo\", \"IndiGo\", \"IndiGo\", \"IndiGo\", \"IndiGo\", \"IndiGo\", \"IndiGo\", \"IndiGo\", \"IndiGo\", \"IndiGo\", \"IndiGo\", \"IndiGo\", \"IndiGo\", \"IndiGo\", \"IndiGo\", \"IndiGo\", \"IndiGo\", \"IndiGo\", \"IndiGo\", \"IndiGo\", \"IndiGo\", \"IndiGo\", \"IndiGo\", \"IndiGo\", \"IndiGo\", \"IndiGo\", \"IndiGo\", \"IndiGo\", \"IndiGo\", \"IndiGo\", \"IndiGo\", \"IndiGo\", \"IndiGo\", \"IndiGo\", \"IndiGo\", \"IndiGo\", \"IndiGo\", \"IndiGo\", \"IndiGo\", \"IndiGo\", \"IndiGo\", \"IndiGo\", \"IndiGo\", \"IndiGo\", \"IndiGo\", \"IndiGo\", \"IndiGo\", \"IndiGo\", \"IndiGo\", \"IndiGo\", \"IndiGo\", \"IndiGo\", \"IndiGo\", \"IndiGo\", \"IndiGo\", \"IndiGo\", \"IndiGo\", \"IndiGo\", \"IndiGo\", \"IndiGo\", \"IndiGo\", \"IndiGo\", \"IndiGo\", \"IndiGo\", \"IndiGo\", \"IndiGo\", \"IndiGo\", \"IndiGo\", \"IndiGo\", \"IndiGo\", \"IndiGo\", \"IndiGo\", \"IndiGo\", \"IndiGo\", \"IndiGo\", \"IndiGo\", \"IndiGo\", \"IndiGo\", \"IndiGo\", \"IndiGo\", \"IndiGo\", \"IndiGo\", \"IndiGo\", \"IndiGo\", \"IndiGo\", \"IndiGo\", \"IndiGo\", \"IndiGo\", \"IndiGo\", \"IndiGo\", \"IndiGo\", \"IndiGo\", \"IndiGo\", \"IndiGo\", \"IndiGo\", \"IndiGo\", \"IndiGo\", \"IndiGo\", \"IndiGo\", \"IndiGo\", \"IndiGo\", \"IndiGo\", \"IndiGo\", \"IndiGo\", \"IndiGo\", \"IndiGo\", \"IndiGo\", \"IndiGo\", \"IndiGo\", \"IndiGo\", \"IndiGo\", \"IndiGo\", \"IndiGo\", \"IndiGo\", \"IndiGo\", \"IndiGo\", \"IndiGo\", \"IndiGo\", \"IndiGo\", \"IndiGo\", \"IndiGo\", \"IndiGo\", \"IndiGo\", \"IndiGo\", \"IndiGo\", \"IndiGo\", \"IndiGo\", \"IndiGo\", \"IndiGo\", \"IndiGo\", \"IndiGo\", \"IndiGo\", \"IndiGo\", \"IndiGo\", \"IndiGo\", \"IndiGo\", \"IndiGo\", \"IndiGo\", \"IndiGo\", \"IndiGo\", \"IndiGo\", \"IndiGo\", \"IndiGo\", \"IndiGo\", \"IndiGo\", \"IndiGo\", \"IndiGo\", \"IndiGo\", \"IndiGo\", \"IndiGo\", \"IndiGo\", \"IndiGo\", \"IndiGo\", \"IndiGo\", \"IndiGo\", \"IndiGo\", \"IndiGo\", \"IndiGo\", \"IndiGo\", \"IndiGo\", \"IndiGo\", \"IndiGo\", \"IndiGo\", \"IndiGo\", \"IndiGo\", \"IndiGo\", \"IndiGo\", \"IndiGo\", \"IndiGo\", \"IndiGo\", \"IndiGo\", \"IndiGo\", \"IndiGo\", \"IndiGo\", \"IndiGo\", \"IndiGo\", \"IndiGo\", \"IndiGo\", \"IndiGo\", \"IndiGo\", \"IndiGo\", \"IndiGo\", \"IndiGo\", \"IndiGo\", \"IndiGo\", \"IndiGo\", \"IndiGo\", \"IndiGo\", \"IndiGo\", \"IndiGo\", \"IndiGo\", \"IndiGo\", \"IndiGo\", \"IndiGo\", \"IndiGo\", \"IndiGo\", \"IndiGo\", \"IndiGo\", \"IndiGo\", \"IndiGo\", \"IndiGo\", \"IndiGo\", \"IndiGo\", \"IndiGo\", \"IndiGo\", \"IndiGo\", \"IndiGo\", \"IndiGo\", \"IndiGo\", \"IndiGo\", \"IndiGo\", \"IndiGo\", \"IndiGo\", \"IndiGo\", \"IndiGo\", \"IndiGo\", \"IndiGo\", \"IndiGo\", \"IndiGo\", \"IndiGo\", \"IndiGo\", \"IndiGo\", \"IndiGo\", \"IndiGo\", \"IndiGo\", \"IndiGo\", \"IndiGo\", \"IndiGo\", \"IndiGo\", \"IndiGo\", \"IndiGo\", \"IndiGo\", \"IndiGo\", \"IndiGo\", \"IndiGo\", \"IndiGo\", \"IndiGo\", \"IndiGo\", \"IndiGo\", \"IndiGo\", \"IndiGo\", \"IndiGo\", \"IndiGo\", \"IndiGo\", \"IndiGo\", \"IndiGo\", \"IndiGo\", \"IndiGo\", \"IndiGo\", \"IndiGo\", \"IndiGo\", \"IndiGo\", \"IndiGo\", \"IndiGo\", \"IndiGo\", \"IndiGo\", \"IndiGo\", \"IndiGo\", \"IndiGo\", \"IndiGo\", \"IndiGo\", \"IndiGo\", \"IndiGo\", \"IndiGo\", \"IndiGo\", \"IndiGo\", \"IndiGo\", \"IndiGo\", \"IndiGo\", \"IndiGo\", \"IndiGo\", \"IndiGo\", \"IndiGo\", \"IndiGo\", \"IndiGo\", \"IndiGo\", \"IndiGo\", \"IndiGo\", \"IndiGo\", \"IndiGo\", \"IndiGo\", \"IndiGo\", \"IndiGo\", \"IndiGo\", \"IndiGo\", \"IndiGo\", \"IndiGo\", \"IndiGo\", \"IndiGo\", \"IndiGo\", \"IndiGo\", \"IndiGo\", \"IndiGo\", \"IndiGo\", \"IndiGo\", \"IndiGo\", \"IndiGo\", \"IndiGo\", \"IndiGo\", \"IndiGo\", \"IndiGo\", \"IndiGo\", \"IndiGo\", \"IndiGo\", \"IndiGo\", \"IndiGo\", \"IndiGo\", \"IndiGo\", \"IndiGo\", \"IndiGo\", \"IndiGo\", \"IndiGo\", \"IndiGo\", \"IndiGo\", \"IndiGo\", \"IndiGo\", \"IndiGo\", \"IndiGo\", \"IndiGo\", \"IndiGo\", \"IndiGo\", \"IndiGo\", \"IndiGo\", \"IndiGo\", \"IndiGo\", \"IndiGo\", \"IndiGo\", \"IndiGo\", \"IndiGo\", \"IndiGo\", \"IndiGo\", \"IndiGo\", \"IndiGo\", \"IndiGo\", \"IndiGo\", \"IndiGo\", \"IndiGo\", \"IndiGo\", \"IndiGo\", \"IndiGo\", \"IndiGo\", \"IndiGo\", \"IndiGo\", \"IndiGo\", \"IndiGo\", \"IndiGo\", \"IndiGo\", \"IndiGo\", \"IndiGo\", \"IndiGo\", \"IndiGo\", \"IndiGo\", \"IndiGo\", \"IndiGo\", \"IndiGo\", \"IndiGo\", \"IndiGo\", \"IndiGo\", \"IndiGo\", \"IndiGo\", \"IndiGo\", \"IndiGo\", \"IndiGo\", \"IndiGo\", \"IndiGo\", \"IndiGo\", \"IndiGo\", \"IndiGo\", \"IndiGo\", \"IndiGo\", \"IndiGo\", \"IndiGo\", \"IndiGo\", \"IndiGo\", \"IndiGo\", \"IndiGo\", \"IndiGo\", \"IndiGo\", \"IndiGo\", \"IndiGo\", \"IndiGo\", \"IndiGo\", \"IndiGo\", \"IndiGo\", \"IndiGo\", \"IndiGo\", \"IndiGo\", \"IndiGo\", \"IndiGo\", \"IndiGo\", \"IndiGo\", \"IndiGo\", \"IndiGo\", \"IndiGo\", \"IndiGo\", \"IndiGo\", \"IndiGo\", \"IndiGo\", \"IndiGo\", \"IndiGo\", \"IndiGo\", \"IndiGo\", \"IndiGo\", \"IndiGo\", \"IndiGo\", \"IndiGo\", \"IndiGo\", \"IndiGo\", \"IndiGo\", \"IndiGo\", \"IndiGo\", \"IndiGo\", \"IndiGo\", \"IndiGo\", \"IndiGo\", \"IndiGo\", \"IndiGo\", \"IndiGo\", \"IndiGo\", \"IndiGo\", \"IndiGo\", \"IndiGo\", \"IndiGo\", \"IndiGo\", \"IndiGo\", \"IndiGo\", \"IndiGo\", \"IndiGo\", \"IndiGo\", \"IndiGo\", \"IndiGo\", \"IndiGo\", \"IndiGo\", \"IndiGo\", \"IndiGo\", \"IndiGo\", \"IndiGo\", \"IndiGo\", \"IndiGo\", \"IndiGo\", \"IndiGo\", \"IndiGo\", \"IndiGo\", \"IndiGo\", \"IndiGo\", \"IndiGo\", \"IndiGo\", \"IndiGo\", \"IndiGo\", \"IndiGo\", \"IndiGo\", \"IndiGo\", \"IndiGo\", \"IndiGo\", \"IndiGo\", \"IndiGo\", \"IndiGo\", \"IndiGo\", \"IndiGo\", \"IndiGo\", \"IndiGo\", \"IndiGo\", \"IndiGo\", \"IndiGo\", \"IndiGo\", \"IndiGo\", \"IndiGo\", \"IndiGo\", \"IndiGo\", \"IndiGo\", \"IndiGo\", \"IndiGo\", \"IndiGo\", \"IndiGo\", \"IndiGo\", \"IndiGo\", \"IndiGo\", \"IndiGo\", \"IndiGo\", \"IndiGo\", \"IndiGo\", \"IndiGo\", \"IndiGo\", \"IndiGo\", \"IndiGo\", \"IndiGo\", \"IndiGo\", \"IndiGo\", \"IndiGo\", \"IndiGo\", \"IndiGo\", \"IndiGo\", \"IndiGo\", \"IndiGo\", \"IndiGo\", \"IndiGo\", \"IndiGo\", \"IndiGo\", \"IndiGo\", \"IndiGo\", \"IndiGo\", \"IndiGo\", \"IndiGo\", \"IndiGo\", \"IndiGo\", \"IndiGo\", \"IndiGo\", \"IndiGo\", \"IndiGo\", \"IndiGo\", \"IndiGo\", \"IndiGo\", \"IndiGo\", \"IndiGo\", \"IndiGo\", \"IndiGo\", \"IndiGo\", \"IndiGo\", \"IndiGo\", \"IndiGo\", \"IndiGo\", \"IndiGo\", \"IndiGo\", \"IndiGo\", \"IndiGo\", \"IndiGo\", \"IndiGo\", \"IndiGo\", \"IndiGo\", \"IndiGo\", \"IndiGo\", \"IndiGo\", \"IndiGo\", \"IndiGo\", \"IndiGo\", \"IndiGo\", \"IndiGo\", \"IndiGo\", \"IndiGo\", \"IndiGo\", \"IndiGo\", \"IndiGo\", \"IndiGo\", \"IndiGo\", \"IndiGo\", \"IndiGo\", \"IndiGo\", \"IndiGo\", \"IndiGo\", \"IndiGo\", \"IndiGo\", \"IndiGo\", \"IndiGo\", \"IndiGo\", \"IndiGo\", \"IndiGo\", \"IndiGo\", \"IndiGo\", \"IndiGo\", \"IndiGo\", \"IndiGo\", \"IndiGo\", \"IndiGo\", \"IndiGo\", \"IndiGo\", \"IndiGo\", \"IndiGo\", \"IndiGo\", \"IndiGo\", \"IndiGo\", \"IndiGo\", \"IndiGo\", \"IndiGo\", \"IndiGo\", \"IndiGo\", \"IndiGo\", \"IndiGo\", \"IndiGo\", \"IndiGo\", \"IndiGo\", \"IndiGo\", \"IndiGo\", \"IndiGo\", \"IndiGo\", \"IndiGo\", \"IndiGo\", \"IndiGo\", \"IndiGo\", \"IndiGo\", \"IndiGo\", \"IndiGo\", \"IndiGo\", \"IndiGo\", \"IndiGo\", \"IndiGo\", \"IndiGo\", \"IndiGo\", \"IndiGo\", \"IndiGo\", \"IndiGo\", \"IndiGo\", \"IndiGo\", \"IndiGo\", \"IndiGo\", \"IndiGo\", \"IndiGo\", \"IndiGo\", \"IndiGo\", \"IndiGo\", \"IndiGo\", \"IndiGo\", \"IndiGo\", \"IndiGo\", \"IndiGo\", \"IndiGo\", \"IndiGo\", \"IndiGo\", \"IndiGo\", \"IndiGo\", \"IndiGo\", \"IndiGo\", \"IndiGo\", \"IndiGo\", \"IndiGo\", \"IndiGo\", \"IndiGo\", \"IndiGo\", \"IndiGo\", \"IndiGo\", \"IndiGo\", \"IndiGo\", \"IndiGo\", \"IndiGo\", \"IndiGo\", \"IndiGo\", \"IndiGo\", \"IndiGo\", \"IndiGo\", \"IndiGo\", \"IndiGo\", \"IndiGo\", \"IndiGo\", \"IndiGo\", \"IndiGo\", \"IndiGo\", \"IndiGo\", \"IndiGo\", \"IndiGo\", \"IndiGo\", \"IndiGo\", \"IndiGo\", \"IndiGo\", \"IndiGo\", \"IndiGo\", \"IndiGo\", \"IndiGo\", \"IndiGo\", \"IndiGo\", \"IndiGo\", \"IndiGo\", \"IndiGo\", \"IndiGo\", \"IndiGo\", \"IndiGo\", \"IndiGo\", \"IndiGo\", \"IndiGo\", \"IndiGo\", \"IndiGo\", \"IndiGo\", \"IndiGo\", \"IndiGo\", \"IndiGo\", \"IndiGo\", \"IndiGo\", \"IndiGo\", \"IndiGo\", \"IndiGo\", \"IndiGo\", \"IndiGo\", \"IndiGo\", \"IndiGo\", \"IndiGo\", \"IndiGo\", \"IndiGo\", \"IndiGo\", \"IndiGo\", \"IndiGo\", \"IndiGo\", \"IndiGo\", \"IndiGo\", \"IndiGo\", \"IndiGo\", \"IndiGo\", \"IndiGo\", \"IndiGo\", \"IndiGo\", \"IndiGo\", \"IndiGo\", \"IndiGo\", \"IndiGo\", \"IndiGo\", \"IndiGo\", \"IndiGo\", \"IndiGo\", \"IndiGo\", \"IndiGo\", \"IndiGo\", \"IndiGo\", \"IndiGo\", \"IndiGo\", \"IndiGo\", \"IndiGo\", \"IndiGo\", \"IndiGo\", \"IndiGo\", \"IndiGo\", \"IndiGo\", \"IndiGo\", \"IndiGo\", \"IndiGo\", \"IndiGo\", \"IndiGo\", \"IndiGo\", \"IndiGo\", \"IndiGo\", \"IndiGo\", \"IndiGo\", \"IndiGo\", \"IndiGo\", \"IndiGo\", \"IndiGo\", \"IndiGo\", \"IndiGo\", \"IndiGo\", \"IndiGo\", \"IndiGo\", \"IndiGo\", \"IndiGo\", \"IndiGo\", \"IndiGo\", \"IndiGo\", \"IndiGo\", \"IndiGo\", \"IndiGo\", \"IndiGo\", \"IndiGo\", \"IndiGo\", \"IndiGo\", \"IndiGo\", \"IndiGo\", \"IndiGo\", \"IndiGo\", \"IndiGo\", \"IndiGo\", \"IndiGo\", \"IndiGo\", \"IndiGo\", \"IndiGo\", \"IndiGo\", \"IndiGo\", \"IndiGo\", \"IndiGo\", \"IndiGo\", \"IndiGo\", \"IndiGo\", \"IndiGo\", \"IndiGo\", \"IndiGo\", \"IndiGo\", \"IndiGo\", \"IndiGo\", \"IndiGo\", \"IndiGo\", \"IndiGo\", \"IndiGo\", \"IndiGo\", \"IndiGo\", \"IndiGo\", \"IndiGo\", \"IndiGo\", \"IndiGo\", \"IndiGo\", \"IndiGo\", \"IndiGo\", \"IndiGo\", \"IndiGo\", \"IndiGo\", \"IndiGo\", \"IndiGo\", \"IndiGo\", \"IndiGo\", \"IndiGo\", \"IndiGo\", \"IndiGo\", \"IndiGo\", \"IndiGo\", \"IndiGo\", \"IndiGo\", \"IndiGo\", \"IndiGo\", \"IndiGo\", \"IndiGo\", \"IndiGo\", \"IndiGo\", \"IndiGo\", \"IndiGo\", \"IndiGo\", \"IndiGo\", \"IndiGo\", \"IndiGo\", \"IndiGo\"], \"x0\": \" \", \"xaxis\": \"x\", \"y\": [3897, 6218, 13302, 4174, 4804, 3943, 4823, 8238, 4423, 5894, 3943, 4377, 3943, 7191, 5894, 6297, 6893, 4049, 5894, 5636, 3540, 5780, 3540, 3943, 3597, 4804, 5636, 6442, 6147, 8855, 4777, 6442, 3419, 5073, 3858, 5775, 4804, 8738, 6412, 5013, 7048, 3943, 6842, 4077, 3943, 6349, 8855, 3943, 6979, 3359, 4462, 6171, 5684, 2754, 5000, 4804, 4823, 14871, 4804, 2754, 8146, 14871, 7295, 4148, 7303, 6528, 4148, 4804, 6496, 4804, 4591, 4437, 7295, 6860, 4823, 2754, 4823, 4804, 14871, 3597, 4591, 3943, 6442, 6906, 6347, 4823, 6818, 3858, 6534, 7648, 5618, 6316, 6482, 3717, 3597, 6442, 4823, 2227, 3540, 4423, 8899, 4174, 5699, 4392, 5073, 4488, 4804, 6600, 6442, 3597, 4804, 7451, 4804, 4784, 4823, 14871, 4049, 4226, 2754, 4049, 5279, 3597, 6027, 3943, 4326, 4823, 7774, 7514, 3858, 8872, 6416, 4462, 5073, 4326, 3175, 4226, 8618, 4174, 7681, 5069, 6144, 14871, 6979, 7048, 5054, 6442, 3943, 14871, 4423, 3540, 6938, 3597, 8153, 3419, 5277, 6412, 3419, 3943, 4148, 12475, 3943, 3943, 8542, 4804, 6711, 3943, 5694, 6144, 6015, 4205, 9027, 6442, 5703, 4174, 4804, 3943, 3175, 3943, 3419, 8033, 11600, 5277, 6144, 9476, 3943, 10112, 5277, 7048, 4990, 9264, 6442, 6218, 4462, 7303, 6442, 4823, 4823, 5054, 2754, 7318, 6195, 5406, 6674, 2227, 3175, 6565, 4778, 3943, 2227, 4777, 3943, 14871, 4148, 5647, 6818, 4423, 7503, 4804, 4591, 6297, 9806, 6195, 6704, 4462, 5224, 4804, 5601, 6778, 2754, 5796, 5298, 4804, 6938, 8075, 2754, 6558, 6093, 3540, 6416, 4823, 4823, 4804, 6069, 6442, 4804, 4591, 4823, 10351, 4775, 4049, 6565, 4823, 4823, 5883, 6575, 5069, 6386, 4591, 4174, 6412, 4804, 6412, 3858, 4804, 6582, 5046, 13753, 5224, 2754, 5054, 5224, 9694, 7318, 5054, 6755, 2227, 4804, 5458, 14871, 5054, 4823, 6818, 4804, 7318, 3384, 4591, 9165, 3850, 3175, 4392, 6442, 6015, 6442, 3597, 4077, 6104, 9585, 6147, 13611, 3597, 8285, 4423, 6144, 4148, 14871, 6938, 6093, 3943, 8855, 3943, 8443, 4775, 2227, 6093, 5073, 3419, 6027, 4423, 5054, 3943, 4423, 4823, 4049, 6442, 6442, 4823, 3943, 7191, 4804, 3597, 7303, 7191, 6442, 4804, 5406, 5069, 2754, 8033, 6860, 4823, 4174, 5000, 6565, 6208, 4804, 6069, 5636, 3850, 2227, 6860, 6628, 3943, 3850, 4804, 4591, 5192, 6093, 4804, 6558, 5775, 3943, 2754, 5755, 6069, 6038, 5601, 12351, 4823, 4777, 5000, 3943, 7295, 4150, 5601, 3342, 2754, 5894, 4823, 3175, 4804, 6282, 5601, 14306, 3749, 7503, 6297, 14871, 3943, 5644, 6442, 2754, 2227, 4174, 14871, 3850, 3540, 2437, 6104, 4049, 6270, 6416, 3342, 6818, 8567, 4777, 3175, 3943, 4423, 8285, 6838, 8574, 4823, 14306, 14871, 3175, 6015, 4174, 7006, 6220, 6015, 5780, 6496, 4823, 12649, 4423, 5073, 3943, 4804, 10231, 2227, 7205, 6015, 4226, 8177, 3809, 4591, 3850, 6442, 11378, 7917, 7191, 14871, 6297, 7006, 4823, 10394, 4823, 4823, 4823, 4226, 5277, 6218, 7318, 5224, 2754, 3419, 4174, 4423, 6442, 7048, 7503, 6104, 4823, 2754, 6316, 13790, 14871, 3943, 8574, 5054, 4804, 4049, 4804, 6171, 6093, 4174, 3342, 6015, 8146, 3943, 3943, 5170, 4777, 4049, 4049, 4804, 4377, 4823, 5198, 5755, 4823, 6069, 4804, 6442, 6297, 6526, 4823, 3175, 4423, 4174, 4804, 2227, 6790, 3943, 5618, 3943, 3419, 7074, 6968, 4804, 12351, 4077, 4804, 4990, 4804, 3419, 6103, 5277, 4148, 3597, 5000, 4226, 2754, 6301, 6218, 7295, 5224, 10208, 5054, 14871, 7648, 6979, 3943, 6838, 4148, 7923, 4591, 3943, 6573, 4332, 6015, 3943, 6558, 4804, 6064, 6442, 3943, 3342, 4049, 3850, 6232, 4777, 6093, 4804, 5406, 4804, 3943, 5684, 2754, 4729, 4823, 6985, 4804, 4804, 4784, 6218, 4804, 3419, 6316, 6704, 7081, 3943, 3540, 4591, 6442, 2227, 4148, 3943, 4591, 3597, 6938, 4778, 6838, 4823, 3858, 4804, 3858, 3943, 8784, 5277, 6885, 10112, 14871, 6316, 3943, 6762, 3480, 5268, 7648, 3597, 6442, 12351, 4823, 7648, 6582, 4823, 5636, 4823, 4226, 4174, 4423, 4049, 6818, 4823, 4423, 4575, 3597, 4423, 7258, 2754, 6493, 6218, 7094, 5601, 4226, 6628, 8033, 4804, 6314, 4174, 10518, 4823, 4804, 4823, 2227, 4575, 5636, 4804, 6287, 4332, 4804, 4804, 6794, 2754, 4823, 4823, 4777, 10308, 11319, 5054, 4423, 5380, 5883, 6171, 3175, 4832, 2754, 4804, 4545, 5277, 6206, 6860, 4823, 7514, 3850, 6069, 4077, 7605, 11600, 5755, 4545, 4049, 6351, 7228, 4804, 11160, 4332, 5069, 7615, 4823, 3175, 6442, 4823, 7164, 2754, 10067, 8470, 3943, 4804, 8855, 3943, 5699, 4591, 5530, 7081, 8542, 4823, 5755, 6297, 4049, 4823, 5224, 3597, 2754, 5224, 6069, 4591, 4804, 5069, 4049, 7280, 3850, 4823, 4823, 4823, 6818, 6938, 4804, 2754, 2227, 3943, 3597, 3749, 4823, 8285, 4148, 6496, 4148, 3943, 11465, 8854, 7682, 4804, 5069, 4591, 4591, 4049, 4804, 4077, 5775, 6297, 6426, 3603, 4778, 4804, 4804, 4804, 8853, 6582, 4804, 5277, 4591, 3597, 3850, 6482, 6628, 5170, 7295, 6147, 6093, 4804, 5298, 6790, 4392, 4423, 7191, 5694, 4823, 13790, 6416, 7725, 5224, 6316, 4392, 2754, 6842, 4862, 4823, 6860, 4174, 9376, 6674, 7663, 6386, 5947, 4049, 3943, 3419, 10278, 6442, 3597, 5740, 6297, 4778, 6442, 4784, 4804, 4284, 6114, 13611, 6794, 6412, 2227, 6565, 3175, 4804, 9304, 3943, 7060, 4775, 4823, 5883, 4049, 4804, 6104, 6027, 6794, 6896, 6144, 2754, 4284, 3419, 4423, 17501, 6442, 4804, 4823, 2754, 4804, 6093, 6818, 6482, 3540, 8434, 5224, 4823, 14871, 5224, 2754, 2227, 4591, 5930, 4823, 3943, 4944, 7514, 6493, 6528, 5761, 5895, 4049, 7054, 4804, 3175, 3943, 3943, 3597, 5277, 4823, 8049, 6496, 3943, 9581, 4804, 6442, 5761, 4174, 5601, 3419, 4804, 4778, 3540, 6442, 5644, 5224, 7166, 7295, 4804, 7725, 6565, 12214, 6147, 7673, 4804, 4823, 6674, 5069, 3943, 4049, 7673, 13611, 4823, 4591, 3603, 4804, 4823, 3597, 4823, 5780, 11934, 14871, 6600, 11160, 8626, 6144, 7503, 4804, 4823, 6558, 5000, 7048, 4049, 4174, 3540, 3342, 6674, 8330, 5277, 4392, 5883, 4804, 4804, 6171, 4777, 4423, 7648, 4049, 10208, 5947, 7476, 4744, 4462, 4990, 5733, 4823, 6979, 6600, 5198, 2754, 7255, 6386, 8227, 3943, 4775, 4804, 7252, 6069, 3850, 7006, 4259, 4174, 4990, 6985, 4823, 6818, 6573, 3943, 6860, 4823, 5277, 6734, 3384, 3480, 4804, 5694, 4077, 5224, 4804, 5694, 4823, 6593, 3858, 4174, 3175, 3858, 4990, 6860, 3419, 6565, 4392, 6442, 9413, 8216, 5058, 6442, 6494, 4804, 4823, 4990, 4049, 4049, 4990, 5277, 4174, 4804, 13628, 6628, 7010, 8033, 6911, 3943, 14871, 4174, 4823, 4823, 6818, 4226, 5224, 4823, 2754, 6937, 2227, 2754, 4804, 6860, 4804, 6416, 6442, 5298, 4176, 5883, 3850, 3597, 6442, 6838, 4804, 7640, 3625, 3419, 3850, 6104, 3943, 7514, 4423, 4049, 5618, 4423, 3943, 6442, 2754, 8330, 16000, 3858, 6412, 8855, 3943, 4823, 5277, 3943, 3943, 6015, 5073, 4326, 3943, 4174, 5073, 3597, 6979, 7295, 5530, 5224, 4804, 5000, 4174, 3943, 6442, 4804, 8855, 4804, 10482, 9413, 4804, 5618, 6565, 6442, 4823, 4423, 6442, 4804, 6416, 9264, 4804, 4148, 3943, 6979, 6284, 4226, 6442, 2227, 5636, 5054, 4823, 3809, 5224, 8330, 2754, 4591, 5298, 2227, 6386, 6270, 4729, 4804, 4804, 4823, 6758, 14871, 4784, 4823, 6979, 3850, 4823, 2227, 6314, 14871, 4804, 7303, 7295, 3943, 8784, 5298, 7228, 6287, 6985, 6093, 4804, 5298, 5406, 5636, 4148, 7191, 4823, 4944, 3943, 4990, 6493, 6093, 6565, 22153, 3858, 5694, 4423, 5912, 6147, 6101, 6628, 4148, 6297, 4423, 6297, 4205, 4823, 3419, 3943, 7417, 4804, 6991, 5073, 6674, 2754, 4238, 3809, 4565, 12351, 5021, 4488, 4864, 7060, 7900, 4860, 5069, 5073, 4729, 4804, 6442, 7144, 4284, 3943, 4332, 8033, 4823, 3597, 3597, 4804, 4423, 4174, 6818, 6316, 10958, 3858, 4823, 5224, 4778, 14871, 5386, 2754, 6144, 6442, 4823, 4174, 7189, 4804, 7673, 5740, 4174, 7738, 4423, 4823, 6111, 7258, 5298, 4823, 4591, 12214, 6860, 8075, 4778, 6979, 4226, 6838, 6628, 4174, 2227, 5277, 4823, 6206, 4591, 4729, 2754, 4226, 3384, 4823, 3597, 3384, 4591, 14871, 6206, 4804, 4804, 6838, 8258, 4148, 6582, 14871, 3175, 9257, 9861, 10406, 4804, 11465, 4591, 6628, 8025, 3943, 6232, 6496, 4823, 6116, 4804, 3943, 2754, 6494, 5607, 4823, 4823, 4823, 3175, 3175, 6058, 3838, 3850, 4077, 6937, 2754, 4226, 9165, 4148, 6442, 2227, 6628, 5021, 7673, 4823, 4804, 7503, 4049, 4823, 5601, 4174, 6144, 6195, 11934, 6104, 7094, 10067, 4804, 4284, 4226, 6838, 5224, 4591, 4077, 3480, 7514, 14871, 6442, 5170, 6442, 3419, 3943, 7303, 6628, 3597, 5644, 4226, 4588, 4575, 5601, 6147, 4804, 6027, 3943, 6628, 6416, 3943, 6093, 5307, 4488, 4777, 3943, 4049, 4174, 6144, 4462, 11237, 5224, 6834, 6316, 5644, 2227, 6442, 10067, 7144, 5746, 4804, 16162, 3419, 5397, 5232, 6144, 7725, 4174, 7648, 3597, 3574, 5694, 3597, 4804, 3858, 7095, 6860, 4226, 9274, 4804, 3175, 4804, 5224, 5069, 8033, 6818, 4804, 4148, 3850, 4591, 4804, 7006, 5647, 8745, 4148, 4823, 4174, 6442, 6258, 14871, 6027, 6015, 4990, 4804, 3597, 3419, 4591, 4462, 5780, 8784, 3943, 5298, 12649, 6303, 4823, 5276, 4804, 6628, 4804, 6628, 10123, 3943, 14871, 4174, 5699, 12198, 5755, 4990, 3419, 4823, 6144, 3175, 4784, 4804, 4148, 6314, 4423, 9709, 6442, 3175, 7640, 5298, 2227, 5458, 3943, 4823, 6985, 5694, 4823, 4823, 3384, 6093, 4226, 4174, 2754, 2754, 4804, 4804, 4148, 5164, 4268, 4823, 13628, 3858, 6493, 6938, 4804, 2227, 6526, 5636, 9476, 7514, 5618, 4823, 3597, 7189, 5684, 5694, 6573, 5224, 4823, 6442, 4226, 6860, 4238, 4804, 6860, 4823, 4332, 4049, 6144, 3597, 2227, 9319, 4990, 6593, 6162, 3384, 4804, 2754, 14871, 4823, 7503, 5054, 6541, 6628, 6223, 5380, 6938, 6593, 3597, 10067, 8258, 5894, 4174, 7303, 6015, 4823, 6442, 6093, 7303, 3943, 5636, 4268, 4174, 6794, 7228, 4804, 7191, 4332, 4226, 3419, 4077, 4823, 4326, 3419, 4423, 4591, 7191, 3943, 3597, 3943, 6297, 6144, 5198, 4462, 4462, 4804, 3943, 10067, 5054, 5912, 3597, 4049, 6316, 4332, 4804, 4284, 2437, 4864, 7295, 6734, 3850, 4423, 4823, 6442, 5699, 11319, 3838, 3342, 5277, 5277, 5734, 5601, 8330, 4823, 5298, 7255, 8707, 4823, 4860, 6314, 6270, 6610, 4462, 4804, 5883, 4462, 4804, 3943, 4284, 8147, 3342, 5734, 4823, 4804, 10112, 6838, 4049, 5277, 6669, 4148, 3175, 5277, 4049, 4326, 4777, 6838, 6582, 4148, 6494, 4823, 3858, 3943, 7166, 3850, 4744, 6795, 3850, 3943, 4174, 6496, 10112, 6206, 4804, 5065, 3419, 3943, 7580, 6093, 7318, 4804, 3858, 6937, 4174, 3574, 2227, 3597, 5277, 5684, 6218, 12649, 6093, 2754, 6297, 3943, 4148, 5224, 4804, 3597, 4804, 6171, 7894, 3943, 6147, 6979, 7295, 4423, 5694, 4804, 6565, 7725, 3943, 4777, 4174, 6860, 4804, 4049, 4392, 4148, 5241, 5883, 6442, 2754, 5021, 7731, 4777, 4823, 6093, 7514, 6015, 4823, 3597, 5636, 4823, 13999, 6582, 8574, 4784, 6818, 4778, 5224, 6860, 5386, 6442, 5883, 6297, 7464, 6794, 4565, 8110, 4804, 4804, 2754, 6933, 6442, 4729, 6442, 7295, 14871, 3540, 6442, 3850, 4423, 4804, 6938, 4990, 6015, 3850, 6674, 3943, 6860, 6297, 4332, 3943, 12649, 4823, 4823, 6147, 5684, 6171, 4423, 6093, 3597, 7060, 6565, 3597, 4174, 5386, 6412, 7738, 7503, 5883, 4823, 8854, 2754, 3540, 6860, 4990, 7303, 4226, 7318, 4823, 4148, 4804, 5746, 4332, 6416, 6412, 6494, 13292, 4174, 5912, 5065, 19685, 4226, 14871, 4804, 7191, 5073, 14871, 4804, 6827, 6386, 7648, 4049, 3597, 3597, 5000, 6769, 8580, 4049, 5636, 5883, 4804, 13611, 6628, 5601, 3943, 4777, 5883, 4804, 4049, 4804, 4174, 4049, 4804, 7648, 3850, 3540, 5277, 5073, 2754, 3943, 6494, 4777, 4174, 4823, 2227, 4545, 4148, 4148, 5000, 4804, 4864, 8064, 5277, 6038, 6938, 7160, 4823, 4804, 7673, 6015, 4804, 2754, 6838, 3943, 3943, 4775, 4804, 6015, 4148, 5276, 8378, 4823, 6442, 5073, 6093, 6534, 4804, 6979, 4148, 5054, 10236, 3597, 4049, 5000, 11600, 7648, 7295, 6442, 3809, 3943, 2227, 5073, 4752, 4823, 5684, 4823, 3943, 6442, 3419, 4823, 4174, 4226, 11532, 5644, 4174, 4049, 3419, 5073, 6069, 9709, 3943, 7708, 7173, 5054, 8855, 3597, 3597, 7191, 8784, 3850, 6610, 5226, 6674, 3597, 4804, 6171, 2227, 6442, 6297, 6838, 8330, 4823, 6206, 4823, 6388, 4077, 4591, 4174, 6937, 10509, 3597, 5073, 4823, 6171, 6093, 6206, 6093, 13611, 6704, 4226, 10141, 6442, 6218, 4777, 5277, 6144, 4423, 4804, 2227, 6171, 2754, 6674, 5930, 3540, 5684, 3858, 4049, 2754, 3850, 3540, 4804, 4823, 6016, 6104, 7295, 3943, 6314, 6496, 3625, 10851, 6979, 5277, 4226, 3597, 4174, 4423, 6069, 3175, 7144, 5277, 3943, 9165, 4591, 3850, 6104, 3943, 5073, 4423, 2227, 3858, 4823, 8662, 6860, 4966, 6144, 3419, 5883, 6223, 11873, 7189, 2227, 5618, 7398, 4804, 7520, 7503, 7303, 8021, 2227, 7640, 6093, 6442, 2754, 2754, 6758, 6373, 5644, 4392, 4778, 4778, 8033, 7503, 4804, 3943, 6144, 5883, 6838, 4148, 2754, 4462, 6628, 6860, 2754, 4784, 4804, 6386, 3943, 4410, 2754, 5694, 4990, 2754, 6144, 9413, 4148, 4804, 6628, 6541, 4823, 4823, 5636, 3943, 4804, 3858, 6015, 2227, 4804, 3419, 5224, 6147, 4823, 6297, 5000, 6442, 2754, 5883, 4804, 4804, 2437, 7081, 8513, 4804, 12475, 5644, 4864, 7006, 3574, 5755, 2227, 6628, 6938, 5636, 6144, 8765, 2754, 3597, 2754, 6307, 4174, 4804, 6037, 7295, 4778, 4823, 4804], \"y0\": \" \", \"yaxis\": \"y\"}, {\"alignmentgroup\": \"True\", \"hoverlabel\": {\"namelength\": 0}, \"hovertemplate\": \"Airline=%{x}<br>Price=%{y}\", \"legendgroup\": \"Airline=Air India\", \"marker\": {\"color\": \"#EF553B\"}, \"name\": \"Airline=Air India\", \"notched\": true, \"offsetgroup\": \"Airline=Air India\", \"orientation\": \"v\", \"showlegend\": true, \"type\": \"box\", \"x\": [\"Air India\", \"Air India\", \"Air India\", \"Air India\", \"Air India\", \"Air India\", \"Air India\", \"Air India\", \"Air India\", \"Air India\", \"Air India\", \"Air India\", \"Air India\", \"Air India\", \"Air India\", \"Air India\", \"Air India\", \"Air India\", \"Air India\", \"Air India\", \"Air India\", \"Air India\", \"Air India\", \"Air India\", \"Air India\", \"Air India\", \"Air India\", \"Air India\", \"Air India\", \"Air India\", \"Air India\", \"Air India\", \"Air India\", \"Air India\", \"Air India\", \"Air India\", \"Air India\", \"Air India\", \"Air India\", \"Air India\", \"Air India\", \"Air India\", \"Air India\", \"Air India\", \"Air India\", \"Air India\", \"Air India\", \"Air India\", \"Air India\", \"Air India\", \"Air India\", \"Air India\", \"Air India\", \"Air India\", \"Air India\", \"Air India\", \"Air India\", \"Air India\", \"Air India\", \"Air India\", \"Air India\", \"Air India\", \"Air India\", \"Air India\", \"Air India\", \"Air India\", \"Air India\", \"Air India\", \"Air India\", \"Air India\", \"Air India\", \"Air India\", \"Air India\", \"Air India\", \"Air India\", \"Air India\", \"Air India\", \"Air India\", \"Air India\", \"Air India\", \"Air India\", \"Air India\", \"Air India\", \"Air India\", \"Air India\", \"Air India\", \"Air India\", \"Air India\", \"Air India\", \"Air India\", \"Air India\", \"Air India\", \"Air India\", \"Air India\", \"Air India\", \"Air India\", \"Air India\", \"Air India\", \"Air India\", \"Air India\", \"Air India\", \"Air India\", \"Air India\", \"Air India\", \"Air India\", \"Air India\", \"Air India\", \"Air India\", \"Air India\", \"Air India\", \"Air India\", \"Air India\", \"Air India\", \"Air India\", \"Air India\", \"Air India\", \"Air India\", \"Air India\", \"Air India\", \"Air India\", \"Air India\", \"Air India\", \"Air India\", \"Air India\", \"Air India\", \"Air India\", \"Air India\", \"Air India\", \"Air India\", \"Air India\", \"Air India\", \"Air India\", \"Air India\", \"Air India\", \"Air India\", \"Air India\", \"Air India\", \"Air India\", \"Air India\", \"Air India\", \"Air India\", \"Air India\", \"Air India\", \"Air India\", \"Air India\", \"Air India\", \"Air India\", \"Air India\", \"Air India\", \"Air India\", \"Air India\", \"Air India\", \"Air India\", \"Air India\", \"Air India\", \"Air India\", \"Air India\", \"Air India\", \"Air India\", \"Air India\", \"Air India\", \"Air India\", \"Air India\", \"Air India\", \"Air India\", \"Air India\", \"Air India\", \"Air India\", \"Air India\", \"Air India\", \"Air India\", \"Air India\", \"Air India\", \"Air India\", \"Air India\", \"Air India\", \"Air India\", \"Air India\", \"Air India\", \"Air India\", \"Air India\", \"Air India\", \"Air India\", \"Air India\", \"Air India\", \"Air India\", \"Air India\", \"Air India\", \"Air India\", \"Air India\", \"Air India\", \"Air India\", \"Air India\", \"Air India\", \"Air India\", \"Air India\", \"Air India\", \"Air India\", \"Air India\", \"Air India\", \"Air India\", \"Air India\", \"Air India\", \"Air India\", \"Air India\", \"Air India\", \"Air India\", \"Air India\", \"Air India\", \"Air India\", \"Air India\", \"Air India\", \"Air India\", \"Air India\", \"Air India\", \"Air India\", \"Air India\", \"Air India\", \"Air India\", \"Air India\", \"Air India\", \"Air India\", \"Air India\", \"Air India\", \"Air India\", \"Air India\", \"Air India\", \"Air India\", \"Air India\", \"Air India\", \"Air India\", \"Air India\", \"Air India\", \"Air India\", \"Air India\", \"Air India\", \"Air India\", \"Air India\", \"Air India\", \"Air India\", \"Air India\", \"Air India\", \"Air India\", \"Air India\", \"Air India\", \"Air India\", \"Air India\", \"Air India\", \"Air India\", \"Air India\", \"Air India\", \"Air India\", \"Air India\", \"Air India\", \"Air India\", \"Air India\", \"Air India\", \"Air India\", \"Air India\", \"Air India\", \"Air India\", \"Air India\", \"Air India\", \"Air India\", \"Air India\", \"Air India\", \"Air India\", \"Air India\", \"Air India\", \"Air India\", \"Air India\", \"Air India\", \"Air India\", \"Air India\", \"Air India\", \"Air India\", \"Air India\", \"Air India\", \"Air India\", \"Air India\", \"Air India\", \"Air India\", \"Air India\", \"Air India\", \"Air India\", \"Air India\", \"Air India\", \"Air India\", \"Air India\", \"Air India\", \"Air India\", \"Air India\", \"Air India\", \"Air India\", \"Air India\", \"Air India\", \"Air India\", \"Air India\", \"Air India\", \"Air India\", \"Air India\", \"Air India\", \"Air India\", \"Air India\", \"Air India\", \"Air India\", \"Air India\", \"Air India\", \"Air India\", \"Air India\", \"Air India\", \"Air India\", \"Air India\", \"Air India\", \"Air India\", \"Air India\", \"Air India\", \"Air India\", \"Air India\", \"Air India\", \"Air India\", \"Air India\", \"Air India\", \"Air India\", \"Air India\", \"Air India\", \"Air India\", \"Air India\", \"Air India\", \"Air India\", \"Air India\", \"Air India\", \"Air India\", \"Air India\", \"Air India\", \"Air India\", \"Air India\", \"Air India\", \"Air India\", \"Air India\", \"Air India\", \"Air India\", \"Air India\", \"Air India\", \"Air India\", \"Air India\", \"Air India\", \"Air India\", \"Air India\", \"Air India\", \"Air India\", \"Air India\", \"Air India\", \"Air India\", \"Air India\", \"Air India\", \"Air India\", \"Air India\", \"Air India\", \"Air India\", \"Air India\", \"Air India\", \"Air India\", \"Air India\", \"Air India\", \"Air India\", \"Air India\", \"Air India\", \"Air India\", \"Air India\", \"Air India\", \"Air India\", \"Air India\", \"Air India\", \"Air India\", \"Air India\", \"Air India\", \"Air India\", \"Air India\", \"Air India\", \"Air India\", \"Air India\", \"Air India\", \"Air India\", \"Air India\", \"Air India\", \"Air India\", \"Air India\", \"Air India\", \"Air India\", \"Air India\", \"Air India\", \"Air India\", \"Air India\", \"Air India\", \"Air India\", \"Air India\", \"Air India\", \"Air India\", \"Air India\", \"Air India\", \"Air India\", \"Air India\", \"Air India\", \"Air India\", \"Air India\", \"Air India\", \"Air India\", \"Air India\", \"Air India\", \"Air India\", \"Air India\", \"Air India\", \"Air India\", \"Air India\", \"Air India\", \"Air India\", \"Air India\", \"Air India\", \"Air India\", \"Air India\", \"Air India\", \"Air India\", \"Air India\", \"Air India\", \"Air India\", \"Air India\", \"Air India\", \"Air India\", \"Air India\", \"Air India\", \"Air India\", \"Air India\", \"Air India\", \"Air India\", \"Air India\", \"Air India\", \"Air India\", \"Air India\", \"Air India\", \"Air India\", \"Air India\", \"Air India\", \"Air India\", \"Air India\", \"Air India\", \"Air India\", \"Air India\", \"Air India\", \"Air India\", \"Air India\", \"Air India\", \"Air India\", \"Air India\", \"Air India\", \"Air India\", \"Air India\", \"Air India\", \"Air India\", \"Air India\", \"Air India\", \"Air India\", \"Air India\", \"Air India\", \"Air India\", \"Air India\", \"Air India\", \"Air India\", \"Air India\", \"Air India\", \"Air India\", \"Air India\", \"Air India\", \"Air India\", \"Air India\", \"Air India\", \"Air India\", \"Air India\", \"Air India\", \"Air India\", \"Air India\", \"Air India\", \"Air India\", \"Air India\", \"Air India\", \"Air India\", \"Air India\", \"Air India\", \"Air India\", \"Air India\", \"Air India\", \"Air India\", \"Air India\", \"Air India\", \"Air India\", \"Air India\", \"Air India\", \"Air India\", \"Air India\", \"Air India\", \"Air India\", \"Air India\", \"Air India\", \"Air India\", \"Air India\", \"Air India\", \"Air India\", \"Air India\", \"Air India\", \"Air India\", \"Air India\", \"Air India\", \"Air India\", \"Air India\", \"Air India\", \"Air India\", \"Air India\", \"Air India\", \"Air India\", \"Air India\", \"Air India\", \"Air India\", \"Air India\", \"Air India\", \"Air India\", \"Air India\", \"Air India\", \"Air India\", \"Air India\", \"Air India\", \"Air India\", \"Air India\", \"Air India\", \"Air India\", \"Air India\", \"Air India\", \"Air India\", \"Air India\", \"Air India\", \"Air India\", \"Air India\", \"Air India\", \"Air India\", \"Air India\", \"Air India\", \"Air India\", \"Air India\", \"Air India\", \"Air India\", \"Air India\", \"Air India\", \"Air India\", \"Air India\", \"Air India\", \"Air India\", \"Air India\", \"Air India\", \"Air India\", \"Air India\", \"Air India\", \"Air India\", \"Air India\", \"Air India\", \"Air India\", \"Air India\", \"Air India\", \"Air India\", \"Air India\", \"Air India\", \"Air India\", \"Air India\", \"Air India\", \"Air India\", \"Air India\", \"Air India\", \"Air India\", \"Air India\", \"Air India\", \"Air India\", \"Air India\", \"Air India\", \"Air India\", \"Air India\", \"Air India\", \"Air India\", \"Air India\", \"Air India\", \"Air India\", \"Air India\", \"Air India\", \"Air India\", \"Air India\", \"Air India\", \"Air India\", \"Air India\", \"Air India\", \"Air India\", \"Air India\", \"Air India\", \"Air India\", \"Air India\", \"Air India\", \"Air India\", \"Air India\", \"Air India\", \"Air India\", \"Air India\", \"Air India\", \"Air India\", \"Air India\", \"Air India\", \"Air India\", \"Air India\", \"Air India\", \"Air India\", \"Air India\", \"Air India\", \"Air India\", \"Air India\", \"Air India\", \"Air India\", \"Air India\", \"Air India\", \"Air India\", \"Air India\", \"Air India\", \"Air India\", \"Air India\", \"Air India\", \"Air India\", \"Air India\", \"Air India\", \"Air India\", \"Air India\", \"Air India\", \"Air India\", \"Air India\", \"Air India\", \"Air India\", \"Air India\", \"Air India\", \"Air India\", \"Air India\", \"Air India\", \"Air India\", \"Air India\", \"Air India\", \"Air India\", \"Air India\", \"Air India\", \"Air India\", \"Air India\", \"Air India\", \"Air India\", \"Air India\", \"Air India\", \"Air India\", \"Air India\", \"Air India\", \"Air India\", \"Air India\", \"Air India\", \"Air India\", \"Air India\", \"Air India\", \"Air India\", \"Air India\", \"Air India\", \"Air India\", \"Air India\", \"Air India\", \"Air India\", \"Air India\", \"Air India\", \"Air India\", \"Air India\", \"Air India\", \"Air India\", \"Air India\", \"Air India\", \"Air India\", \"Air India\", \"Air India\", \"Air India\", \"Air India\", \"Air India\", \"Air India\", \"Air India\", \"Air India\", \"Air India\", \"Air India\", \"Air India\", \"Air India\", \"Air India\", \"Air India\", \"Air India\", \"Air India\", \"Air India\", \"Air India\", \"Air India\", \"Air India\", \"Air India\", \"Air India\", \"Air India\", \"Air India\", \"Air India\", \"Air India\", \"Air India\", \"Air India\", \"Air India\", \"Air India\", \"Air India\", \"Air India\", \"Air India\", \"Air India\", \"Air India\", \"Air India\", \"Air India\", \"Air India\", \"Air India\", \"Air India\", \"Air India\", \"Air India\", \"Air India\", \"Air India\", \"Air India\", \"Air India\", \"Air India\", \"Air India\", \"Air India\", \"Air India\", \"Air India\", \"Air India\", \"Air India\", \"Air India\", \"Air India\", \"Air India\", \"Air India\", \"Air India\", \"Air India\", \"Air India\", \"Air India\", \"Air India\", \"Air India\", \"Air India\", \"Air India\", \"Air India\", \"Air India\", \"Air India\", \"Air India\", \"Air India\", \"Air India\", \"Air India\", \"Air India\", \"Air India\", \"Air India\", \"Air India\", \"Air India\", \"Air India\", \"Air India\", \"Air India\", \"Air India\", \"Air India\", \"Air India\", \"Air India\", \"Air India\", \"Air India\", \"Air India\", \"Air India\", \"Air India\", \"Air India\", \"Air India\", \"Air India\", \"Air India\", \"Air India\", \"Air India\", \"Air India\", \"Air India\", \"Air India\", \"Air India\", \"Air India\", \"Air India\", \"Air India\", \"Air India\", \"Air India\", \"Air India\", \"Air India\", \"Air India\", \"Air India\", \"Air India\", \"Air India\", \"Air India\", \"Air India\", \"Air India\", \"Air India\", \"Air India\", \"Air India\", \"Air India\", \"Air India\", \"Air India\", \"Air India\", \"Air India\", \"Air India\", \"Air India\", \"Air India\", \"Air India\", \"Air India\", \"Air India\", \"Air India\", \"Air India\", \"Air India\", \"Air India\", \"Air India\", \"Air India\", \"Air India\", \"Air India\", \"Air India\", \"Air India\", \"Air India\", \"Air India\", \"Air India\", \"Air India\", \"Air India\", \"Air India\", \"Air India\", \"Air India\", \"Air India\", \"Air India\", \"Air India\", \"Air India\", \"Air India\", \"Air India\", \"Air India\", \"Air India\", \"Air India\", \"Air India\", \"Air India\", \"Air India\", \"Air India\", \"Air India\", \"Air India\", \"Air India\", \"Air India\", \"Air India\", \"Air India\", \"Air India\", \"Air India\", \"Air India\", \"Air India\", \"Air India\", \"Air India\", \"Air India\", \"Air India\", \"Air India\", \"Air India\", \"Air India\", \"Air India\", \"Air India\", \"Air India\", \"Air India\", \"Air India\", \"Air India\", \"Air India\", \"Air India\", \"Air India\", \"Air India\", \"Air India\", \"Air India\", \"Air India\", \"Air India\", \"Air India\", \"Air India\", \"Air India\", \"Air India\", \"Air India\", \"Air India\", \"Air India\", \"Air India\", \"Air India\", \"Air India\", \"Air India\", \"Air India\", \"Air India\", \"Air India\", \"Air India\", \"Air India\", \"Air India\", \"Air India\", \"Air India\", \"Air India\", \"Air India\", \"Air India\", \"Air India\", \"Air India\", \"Air India\", \"Air India\", \"Air India\", \"Air India\", \"Air India\", \"Air India\", \"Air India\", \"Air India\", \"Air India\", \"Air India\", \"Air India\", \"Air India\", \"Air India\", \"Air India\", \"Air India\", \"Air India\", \"Air India\", \"Air India\", \"Air India\", \"Air India\", \"Air India\", \"Air India\", \"Air India\", \"Air India\", \"Air India\", \"Air India\", \"Air India\", \"Air India\", \"Air India\", \"Air India\", \"Air India\", \"Air India\", \"Air India\", \"Air India\", \"Air India\", \"Air India\", \"Air India\", \"Air India\", \"Air India\", \"Air India\", \"Air India\", \"Air India\", \"Air India\", \"Air India\", \"Air India\", \"Air India\", \"Air India\", \"Air India\", \"Air India\", \"Air India\", \"Air India\", \"Air India\", \"Air India\", \"Air India\", \"Air India\", \"Air India\", \"Air India\", \"Air India\", \"Air India\", \"Air India\", \"Air India\", \"Air India\", \"Air India\", \"Air India\", \"Air India\", \"Air India\", \"Air India\", \"Air India\", \"Air India\", \"Air India\", \"Air India\", \"Air India\", \"Air India\", \"Air India\", \"Air India\", \"Air India\", \"Air India\", \"Air India\", \"Air India\", \"Air India\", \"Air India\", \"Air India\", \"Air India\", \"Air India\", \"Air India\", \"Air India\", \"Air India\", \"Air India\", \"Air India\", \"Air India\", \"Air India\", \"Air India\", \"Air India\", \"Air India\", \"Air India\", \"Air India\", \"Air India\", \"Air India\", \"Air India\", \"Air India\", \"Air India\", \"Air India\", \"Air India\", \"Air India\", \"Air India\", \"Air India\", \"Air India\", \"Air India\", \"Air India\", \"Air India\", \"Air India\", \"Air India\", \"Air India\", \"Air India\", \"Air India\", \"Air India\", \"Air India\", \"Air India\", \"Air India\", \"Air India\", \"Air India\", \"Air India\", \"Air India\", \"Air India\", \"Air India\", \"Air India\", \"Air India\", \"Air India\", \"Air India\", \"Air India\", \"Air India\", \"Air India\", \"Air India\", \"Air India\", \"Air India\", \"Air India\", \"Air India\", \"Air India\", \"Air India\", \"Air India\", \"Air India\", \"Air India\", \"Air India\", \"Air India\", \"Air India\", \"Air India\", \"Air India\", \"Air India\", \"Air India\", \"Air India\", \"Air India\", \"Air India\", \"Air India\", \"Air India\", \"Air India\", \"Air India\", \"Air India\", \"Air India\", \"Air India\", \"Air India\", \"Air India\", \"Air India\", \"Air India\", \"Air India\", \"Air India\", \"Air India\", \"Air India\", \"Air India\", \"Air India\", \"Air India\", \"Air India\", \"Air India\", \"Air India\", \"Air India\", \"Air India\", \"Air India\", \"Air India\", \"Air India\", \"Air India\", \"Air India\", \"Air India\", \"Air India\", \"Air India\", \"Air India\", \"Air India\", \"Air India\", \"Air India\", \"Air India\", \"Air India\", \"Air India\", \"Air India\", \"Air India\", \"Air India\", \"Air India\", \"Air India\", \"Air India\", \"Air India\", \"Air India\", \"Air India\", \"Air India\", \"Air India\", \"Air India\", \"Air India\", \"Air India\", \"Air India\", \"Air India\", \"Air India\", \"Air India\", \"Air India\", \"Air India\", \"Air India\", \"Air India\", \"Air India\", \"Air India\", \"Air India\", \"Air India\", \"Air India\", \"Air India\", \"Air India\", \"Air India\", \"Air India\", \"Air India\", \"Air India\", \"Air India\", \"Air India\", \"Air India\", \"Air India\", \"Air India\", \"Air India\", \"Air India\", \"Air India\", \"Air India\", \"Air India\", \"Air India\", \"Air India\", \"Air India\", \"Air India\", \"Air India\", \"Air India\", \"Air India\", \"Air India\", \"Air India\", \"Air India\", \"Air India\", \"Air India\", \"Air India\", \"Air India\", \"Air India\", \"Air India\", \"Air India\", \"Air India\", \"Air India\", \"Air India\", \"Air India\", \"Air India\", \"Air India\", \"Air India\", \"Air India\", \"Air India\", \"Air India\", \"Air India\", \"Air India\", \"Air India\", \"Air India\", \"Air India\", \"Air India\", \"Air India\", \"Air India\", \"Air India\", \"Air India\", \"Air India\", \"Air India\", \"Air India\", \"Air India\", \"Air India\", \"Air India\", \"Air India\", \"Air India\", \"Air India\", \"Air India\", \"Air India\", \"Air India\", \"Air India\", \"Air India\", \"Air India\", \"Air India\", \"Air India\", \"Air India\", \"Air India\", \"Air India\", \"Air India\", \"Air India\", \"Air India\", \"Air India\", \"Air India\", \"Air India\", \"Air India\", \"Air India\", \"Air India\", \"Air India\", \"Air India\", \"Air India\", \"Air India\", \"Air India\", \"Air India\", \"Air India\", \"Air India\", \"Air India\", \"Air India\", \"Air India\", \"Air India\", \"Air India\", \"Air India\", \"Air India\", \"Air India\", \"Air India\", \"Air India\", \"Air India\", \"Air India\", \"Air India\", \"Air India\", \"Air India\", \"Air India\", \"Air India\", \"Air India\", \"Air India\", \"Air India\", \"Air India\", \"Air India\", \"Air India\", \"Air India\", \"Air India\", \"Air India\", \"Air India\", \"Air India\", \"Air India\", \"Air India\", \"Air India\", \"Air India\", \"Air India\", \"Air India\", \"Air India\", \"Air India\", \"Air India\", \"Air India\", \"Air India\", \"Air India\", \"Air India\", \"Air India\", \"Air India\", \"Air India\", \"Air India\", \"Air India\", \"Air India\", \"Air India\", \"Air India\", \"Air India\", \"Air India\", \"Air India\", \"Air India\", \"Air India\", \"Air India\", \"Air India\", \"Air India\", \"Air India\", \"Air India\", \"Air India\", \"Air India\", \"Air India\", \"Air India\", \"Air India\", \"Air India\", \"Air India\", \"Air India\", \"Air India\", \"Air India\", \"Air India\", \"Air India\", \"Air India\", \"Air India\", \"Air India\", \"Air India\", \"Air India\", \"Air India\", \"Air India\", \"Air India\", \"Air India\", \"Air India\", \"Air India\", \"Air India\", \"Air India\", \"Air India\", \"Air India\", \"Air India\", \"Air India\", \"Air India\", \"Air India\", \"Air India\", \"Air India\", \"Air India\", \"Air India\", \"Air India\", \"Air India\", \"Air India\", \"Air India\", \"Air India\", \"Air India\", \"Air India\", \"Air India\", \"Air India\", \"Air India\", \"Air India\", \"Air India\", \"Air India\", \"Air India\", \"Air India\", \"Air India\", \"Air India\", \"Air India\", \"Air India\", \"Air India\", \"Air India\", \"Air India\", \"Air India\", \"Air India\", \"Air India\", \"Air India\", \"Air India\", \"Air India\", \"Air India\", \"Air India\", \"Air India\", \"Air India\", \"Air India\", \"Air India\", \"Air India\", \"Air India\", \"Air India\", \"Air India\", \"Air India\", \"Air India\", \"Air India\", \"Air India\", \"Air India\", \"Air India\", \"Air India\", \"Air India\", \"Air India\", \"Air India\", \"Air India\", \"Air India\", \"Air India\", \"Air India\", \"Air India\", \"Air India\", \"Air India\", \"Air India\", \"Air India\", \"Air India\", \"Air India\", \"Air India\", \"Air India\", \"Air India\", \"Air India\", \"Air India\", \"Air India\", \"Air India\", \"Air India\", \"Air India\", \"Air India\", \"Air India\", \"Air India\", \"Air India\", \"Air India\", \"Air India\", \"Air India\", \"Air India\", \"Air India\", \"Air India\", \"Air India\", \"Air India\", \"Air India\", \"Air India\", \"Air India\", \"Air India\", \"Air India\", \"Air India\", \"Air India\", \"Air India\", \"Air India\", \"Air India\", \"Air India\", \"Air India\", \"Air India\", \"Air India\", \"Air India\", \"Air India\", \"Air India\", \"Air India\", \"Air India\", \"Air India\", \"Air India\", \"Air India\", \"Air India\", \"Air India\", \"Air India\", \"Air India\", \"Air India\", \"Air India\", \"Air India\", \"Air India\", \"Air India\", \"Air India\", \"Air India\", \"Air India\", \"Air India\", \"Air India\", \"Air India\", \"Air India\", \"Air India\", \"Air India\", \"Air India\", \"Air India\", \"Air India\", \"Air India\", \"Air India\", \"Air India\", \"Air India\", \"Air India\", \"Air India\", \"Air India\", \"Air India\", \"Air India\", \"Air India\", \"Air India\", \"Air India\", \"Air India\", \"Air India\", \"Air India\", \"Air India\", \"Air India\", \"Air India\", \"Air India\", \"Air India\", \"Air India\", \"Air India\", \"Air India\", \"Air India\", \"Air India\", \"Air India\", \"Air India\", \"Air India\", \"Air India\", \"Air India\", \"Air India\", \"Air India\", \"Air India\", \"Air India\", \"Air India\", \"Air India\", \"Air India\", \"Air India\", \"Air India\", \"Air India\", \"Air India\", \"Air India\", \"Air India\", \"Air India\", \"Air India\", \"Air India\", \"Air India\", \"Air India\", \"Air India\", \"Air India\", \"Air India\", \"Air India\", \"Air India\", \"Air India\", \"Air India\", \"Air India\", \"Air India\", \"Air India\", \"Air India\", \"Air India\", \"Air India\", \"Air India\", \"Air India\", \"Air India\", \"Air India\", \"Air India\", \"Air India\", \"Air India\", \"Air India\", \"Air India\", \"Air India\", \"Air India\", \"Air India\", \"Air India\", \"Air India\", \"Air India\", \"Air India\", \"Air India\", \"Air India\", \"Air India\", \"Air India\", \"Air India\", \"Air India\", \"Air India\", \"Air India\", \"Air India\", \"Air India\", \"Air India\", \"Air India\", \"Air India\", \"Air India\", \"Air India\", \"Air India\", \"Air India\", \"Air India\", \"Air India\", \"Air India\", \"Air India\", \"Air India\", \"Air India\", \"Air India\", \"Air India\", \"Air India\", \"Air India\", \"Air India\", \"Air India\", \"Air India\", \"Air India\", \"Air India\", \"Air India\", \"Air India\", \"Air India\", \"Air India\", \"Air India\", \"Air India\", \"Air India\", \"Air India\", \"Air India\", \"Air India\", \"Air India\", \"Air India\", \"Air India\", \"Air India\", \"Air India\", \"Air India\", \"Air India\", \"Air India\", \"Air India\", \"Air India\", \"Air India\", \"Air India\", \"Air India\", \"Air India\", \"Air India\", \"Air India\", \"Air India\", \"Air India\", \"Air India\", \"Air India\", \"Air India\", \"Air India\", \"Air India\", \"Air India\", \"Air India\", \"Air India\", \"Air India\", \"Air India\", \"Air India\", \"Air India\", \"Air India\", \"Air India\", \"Air India\", \"Air India\", \"Air India\", \"Air India\", \"Air India\", \"Air India\", \"Air India\", \"Air India\", \"Air India\", \"Air India\", \"Air India\", \"Air India\", \"Air India\", \"Air India\", \"Air India\", \"Air India\", \"Air India\", \"Air India\", \"Air India\", \"Air India\", \"Air India\", \"Air India\", \"Air India\", \"Air India\", \"Air India\", \"Air India\", \"Air India\", \"Air India\", \"Air India\", \"Air India\", \"Air India\", \"Air India\", \"Air India\", \"Air India\", \"Air India\", \"Air India\", \"Air India\", \"Air India\", \"Air India\", \"Air India\", \"Air India\", \"Air India\", \"Air India\", \"Air India\", \"Air India\", \"Air India\", \"Air India\", \"Air India\", \"Air India\", \"Air India\", \"Air India\", \"Air India\", \"Air India\", \"Air India\", \"Air India\", \"Air India\", \"Air India\", \"Air India\", \"Air India\", \"Air India\", \"Air India\", \"Air India\", \"Air India\", \"Air India\", \"Air India\", \"Air India\", \"Air India\", \"Air India\", \"Air India\", \"Air India\", \"Air India\", \"Air India\", \"Air India\", \"Air India\", \"Air India\", \"Air India\", \"Air India\", \"Air India\", \"Air India\", \"Air India\", \"Air India\", \"Air India\", \"Air India\", \"Air India\", \"Air India\", \"Air India\", \"Air India\", \"Air India\", \"Air India\", \"Air India\", \"Air India\", \"Air India\", \"Air India\", \"Air India\", \"Air India\", \"Air India\", \"Air India\", \"Air India\", \"Air India\", \"Air India\", \"Air India\", \"Air India\", \"Air India\", \"Air India\", \"Air India\", \"Air India\", \"Air India\", \"Air India\", \"Air India\", \"Air India\", \"Air India\", \"Air India\", \"Air India\", \"Air India\", \"Air India\", \"Air India\", \"Air India\", \"Air India\", \"Air India\", \"Air India\", \"Air India\", \"Air India\", \"Air India\", \"Air India\", \"Air India\", \"Air India\", \"Air India\", \"Air India\", \"Air India\", \"Air India\", \"Air India\", \"Air India\", \"Air India\", \"Air India\", \"Air India\", \"Air India\", \"Air India\", \"Air India\", \"Air India\", \"Air India\", \"Air India\", \"Air India\", \"Air India\", \"Air India\", \"Air India\", \"Air India\", \"Air India\", \"Air India\", \"Air India\", \"Air India\", \"Air India\", \"Air India\", \"Air India\", \"Air India\", \"Air India\", \"Air India\", \"Air India\", \"Air India\", \"Air India\", \"Air India\", \"Air India\", \"Air India\", \"Air India\", \"Air India\", \"Air India\", \"Air India\", \"Air India\", \"Air India\", \"Air India\", \"Air India\", \"Air India\", \"Air India\", \"Air India\", \"Air India\", \"Air India\", \"Air India\", \"Air India\", \"Air India\", \"Air India\", \"Air India\", \"Air India\", \"Air India\"], \"x0\": \" \", \"xaxis\": \"x\", \"y\": [7662, 8907, 4667, 14011, 13381, 6955, 13227, 6245, 8714, 4667, 6117, 17345, 8366, 5117, 3625, 10861, 13748, 4880, 6528, 6121, 11596, 12677, 3100, 27430, 10676, 5932, 10441, 5117, 10697, 7662, 6092, 8246, 7165, 4441, 6961, 6934, 5911, 8372, 13591, 14641, 4460, 10191, 10651, 6587, 5228, 12303, 8366, 19630, 9929, 4487, 2575, 8991, 14042, 12778, 8708, 10939, 11753, 13465, 8996, 5201, 9968, 11542, 13439, 14594, 8425, 13349, 8669, 10741, 11432, 10493, 13381, 11911, 12392, 12639, 5228, 5013, 13381, 13013, 10441, 8669, 10846, 14069, 14641, 5704, 8372, 3100, 8839, 22096, 10991, 5201, 13873, 7384, 4880, 15284, 11096, 10598, 6961, 7591, 4966, 15481, 6094, 6961, 25139, 5117, 6955, 6745, 12725, 6046, 10246, 5228, 4667, 8665, 4667, 7591, 12835, 11642, 14221, 8236, 12961, 3670, 8576, 5228, 8907, 8582, 8879, 6117, 6961, 26743, 14687, 9400, 9796, 5228, 6528, 8666, 6961, 3625, 14687, 15422, 8277, 9347, 4939, 15532, 5228, 12415, 10972, 11972, 10991, 6535, 5022, 10657, 10697, 3100, 10493, 11552, 7934, 6092, 13492, 5510, 4667, 11791, 10231, 6383, 11989, 14960, 10231, 14483, 13381, 7932, 10216, 3100, 8245, 14594, 13164, 10231, 10441, 6961, 7384, 11185, 7174, 6850, 13227, 5228, 5092, 3100, 12723, 13643, 5176, 4405, 8052, 5092, 10676, 13538, 9416, 10203, 10991, 14960, 7480, 11543, 6245, 10203, 4667, 6121, 8067, 13538, 7384, 4441, 10413, 3100, 6094, 2575, 11161, 12865, 5462, 4441, 10660, 14214, 8361, 10493, 12392, 20999, 11654, 5176, 4435, 14634, 9941, 6587, 5510, 10151, 8907, 5228, 5228, 2050, 9977, 6961, 3100, 12488, 14483, 11989, 14960, 6121, 11542, 10408, 8446, 10671, 10945, 8372, 10441, 11234, 7664, 7480, 4647, 6902, 13039, 9194, 15894, 7480, 7276, 9417, 10651, 13381, 7480, 6961, 10467, 7452, 13276, 31783, 4667, 6961, 8366, 6824, 9443, 12346, 10975, 13366, 7452, 11161, 12224, 7480, 5232, 7258, 5626, 10975, 8372, 14219, 9653, 10756, 10283, 7795, 6094, 22619, 9292, 14960, 7258, 13381, 10975, 14746, 13381, 8891, 4441, 8576, 11432, 13591, 5510, 8372, 8879, 6528, 8273, 10703, 12224, 14887, 7258, 8603, 8603, 12725, 5228, 10651, 10697, 9443, 10454, 8372, 14960, 5510, 8366, 8341, 3100, 25430, 7662, 14752, 11542, 2575, 6094, 10441, 8576, 16163, 12488, 9258, 10151, 10703, 8032, 5510, 14431, 9719, 7662, 6057, 5176, 8366, 10208, 17049, 12723, 8714, 10203, 13873, 14960, 7171, 12173, 11392, 16057, 11050, 6961, 10913, 7931, 8603, 13033, 13033, 5201, 13243, 10573, 3100, 12723, 10975, 5228, 12646, 11096, 8907, 4145, 12734, 9548, 10413, 4435, 6117, 4145, 6121, 8669, 10566, 6961, 9653, 12599, 11003, 12224, 8372, 10203, 8366, 13885, 13538, 10975, 11213, 8714, 14410, 7480, 14120, 12723, 9929, 15113, 8875, 15676, 11491, 9653, 15187, 10861, 11542, 18293, 11038, 19508, 8714, 7711, 12219, 12534, 6528, 11071, 13439, 11642, 13033, 11936, 8879, 22096, 13222, 12127, 9920, 14109, 10441, 15586, 7199, 11753, 10676, 6961, 9929, 5704, 5228, 5228, 11185, 14960, 11491, 5911, 3100, 13387, 8839, 13007, 4145, 4729, 8891, 7480, 15434, 10676, 9678, 10861, 7480, 4435, 16373, 10991, 14305, 11753, 3625, 12744, 6961, 13355, 12592, 3625, 9443, 18959, 7893, 14431, 7480, 8372, 6961, 6121, 5911, 10203, 8366, 13348, 10991, 8372, 11701, 8635, 11936, 5117, 10441, 13547, 14667, 11432, 4943, 9929, 5674, 10394, 11622, 11972, 5998, 11753, 5704, 4460, 6881, 10697, 9443, 5201, 12599, 12797, 13217, 15894, 8991, 7893, 6681, 10861, 7664, 12698, 12797, 5510, 5831, 7276, 13033, 12436, 6094, 5201, 7090, 8366, 10021, 13591, 10493, 11003, 7171, 12970, 12723, 7662, 16666, 9929, 7480, 7480, 10111, 8576, 8603, 4667, 11222, 12829, 12497, 10203, 11602, 6961, 11552, 10991, 7480, 12592, 4667, 6902, 11522, 6121, 12488, 9968, 13387, 5510, 12324, 10231, 26092, 11753, 19372, 3100, 9181, 14960, 11911, 8907, 4145, 11628, 3100, 8030, 8372, 11228, 13227, 5228, 10151, 17732, 12940, 13039, 8366, 5006, 7480, 16352, 10441, 8372, 8669, 12592, 14851, 10808, 3100, 3625, 11753, 12488, 5201, 5201, 13576, 15434, 9416, 9194, 8907, 8770, 4729, 9128, 7952, 16172, 13591, 11678, 6961, 15704, 8372, 12704, 8366, 11936, 6934, 13039, 11774, 3100, 5998, 8603, 7452, 11707, 14260, 13591, 13538, 7082, 9653, 6327, 12121, 11386, 3100, 15107, 11260, 9929, 5642, 16057, 5562, 25913, 4937, 13039, 5176, 7480, 12723, 5793, 10493, 9719, 12009, 9653, 8907, 8588, 10151, 13486, 15187, 5521, 11077, 12392, 10366, 10703, 7174, 14960, 3100, 5117, 5674, 14143, 13591, 3100, 11281, 4145, 11707, 21130, 8839, 11596, 7199, 5626, 15809, 3100, 8372, 9653, 14777, 5228, 12723, 15532, 10151, 5510, 15428, 13227, 12723, 6121, 5117, 11942, 10151, 5201, 8366, 10231, 5201, 8891, 7480, 8907, 5117, 2575, 7662, 8366, 6121, 7480, 10991, 6934, 12009, 13757, 6587, 6961, 11732, 14960, 13381, 4943, 8450, 12646, 7893, 7171, 5201, 5228, 9404, 10703, 2050, 3100, 3100, 5201, 12592, 6961, 4145, 7468, 8372, 10924, 6934, 13532, 12009, 8372, 13591, 12970, 6482, 4441, 3100, 15164, 6094, 5228, 10835, 11883, 10861, 11858, 3100, 20416, 10441, 11528, 14083, 7662, 10703, 6304, 14219, 12093, 3100, 5438, 11668, 12497, 5411, 3100, 14431, 6117, 6587, 9653, 10413, 14777, 11948, 6117, 7171, 11942, 6245, 2050, 8851, 13007, 4667, 5438, 14083, 10413, 5176, 2575, 10493, 16111, 10651, 12778, 7742, 8891, 12125, 12074, 12940, 11762, 11543, 11038, 5228, 13243, 10697, 5228, 8891, 7662, 12009, 4729, 7931, 10203, 16057, 16372, 5411, 12182, 15164, 12140, 8372, 8607, 6961, 8907, 13486, 3100, 5201, 13591, 6781, 11911, 6781, 11762, 11883, 8991, 9941, 6587, 13307, 2050, 12568, 13879, 10178, 9929, 6094, 7480, 11936, 10151, 13033, 8425, 7258, 13899, 13381, 13033, 12778, 10676, 8367, 8372, 15107, 8236, 7480, 4227, 9706, 8372, 4441, 12802, 17327, 8892, 13591, 7690, 10203, 6528, 10651, 6121, 4487, 3100, 8236, 6961, 9586, 10975, 6245, 9968, 11602, 13261, 6094, 9443, 14195, 10966, 5228, 6010, 13437, 13942, 10231, 8372, 11701, 6901, 11762, 14960, 5462, 3145, 6482, 7662, 11885, 14330, 7480, 5510, 9417, 5176, 14083, 5932, 10441, 6961, 9736, 8372, 6121, 5911, 2050, 12358, 4960, 8656, 7174, 11071, 13801, 6587, 25430, 14462, 7662, 13904, 10203, 6961, 3100, 12173, 8372, 14687, 13381, 6094, 9443, 11762, 7480, 8854, 15164, 14424, 3100, 13484, 8372, 8534, 16754, 6094, 11542, 8372, 10413, 11948, 11411, 12324, 12723, 10082, 5228, 12029, 4437, 7174, 4435, 11432, 10441, 7480, 16172, 10573, 7615, 10467, 6121, 5510, 13253, 9968, 7480, 8366, 21571, 13591, 28322, 15145, 14594, 8656, 14594, 11853, 12744, 13227, 14960, 5201, 8996, 4697, 7480, 5674, 12854, 8425, 6781, 3100, 11003, 9064, 4667, 6383, 10441, 3100, 7893, 6094, 4729, 12718, 10907, 5510, 3625, 8971, 15113, 7192, 6612, 8851, 7931, 8669, 5510, 3100, 6961, 7904, 4729, 12199, 12358, 6117, 7480, 15107, 8669, 7171, 17135, 6094, 2575, 15164, 6377, 4441, 4460, 12677, 2050, 12127, 8456, 5170, 11678, 9929, 5006, 10493, 5201, 3100, 3100, 17327, 9481, 5704, 11518, 14298, 13859, 13547, 12389, 14424, 5747, 3100, 8996, 8907, 15197, 10203, 12488, 12723, 13169, 8366, 8052, 4880, 6094, 9181, 7690, 10315, 12173, 4227, 8372, 9535, 2050, 10203, 4667, 12513, 10151, 6681, 5022, 12698, 13437, 8582, 5228, 9166, 12677, 4405, 6121, 3100, 6565, 6117, 8005, 8918, 8891, 10203, 19681, 15164, 5674, 6094, 11307, 7486, 4960, 3100, 3100, 4441, 10703, 11753, 9653, 7211, 5170, 7480, 6121, 7452, 13591, 10203, 7932, 7893, 6528, 6121, 11642, 13223, 8907, 6902, 8372, 11241, 15187, 12802, 5228, 8065, 4441, 6094, 7480, 11432, 4307, 3100, 10441, 14221, 8366, 11753, 15107, 14015, 3100, 2575, 7934, 12257, 6121, 8851, 7174, 13616, 14482, 7662, 11281, 6117, 9416, 6961, 6961, 11228, 7662, 5117, 10975, 7893, 6121, 6094, 11281, 13899, 6961, 12119, 6245, 11444, 9535, 3100, 11732, 10441, 12856, 7893, 2575, 14120, 15284, 13428, 12383, 8372, 8991, 11936, 6327, 10651, 7480, 10676, 11185, 5228, 10283, 7174, 9417, 8372, 13547, 10756, 13039, 15385, 8534, 12436, 4460, 8372, 3100, 17198, 13007, 11752, 8372, 12436, 6961, 15292, 9064, 8839, 16697, 16439, 5911, 13002, 8907, 5228, 6117, 6961, 14508, 5092, 13381, 12803, 10975, 4937, 8366, 11222, 13007, 6528, 9416, 11552, 10783, 8879, 10975, 15170, 7001, 8576, 10203, 5228, 3100, 13591, 10203, 15894, 10979, 5674, 7690, 4435, 5957, 6117, 11642, 6327, 7416, 14588, 8669, 15107, 8372, 10991, 10321, 10493, 4145, 4880, 4145, 13885, 6117, 14960, 11185, 8372, 11542, 12257, 9416, 6934, 3100, 6587, 7082, 4441, 2050, 5176, 9916, 13381, 8907, 15407, 14960, 10231, 10703, 11516, 7480, 7480, 4227, 7690, 8366, 7480, 13990, 8245, 11633, 6961, 10361, 8151, 6961, 4441, 5022, 5201, 6934, 13381, 18211, 11458, 4441, 13912, 12199, 6117, 10231, 15428, 4460, 10178, 11432, 13442, 6528, 6724, 12677, 7662, 12751, 7664, 11281, 11647, 6121, 8907, 10203, 9968, 12760, 12392, 9968, 7452, 13486, 10975, 10975, 13832, 10703, 7591, 10623, 10441, 13696, 9443, 8114, 8140, 10467, 10151, 9626, 14960, 11752, 10441, 4441, 11972, 8366, 8366, 10697, 8991, 12436, 12515, 10840, 6121, 10676, 12140, 9548, 8714, 10975, 6692, 7480, 12219, 3100, 10697, 9920, 5170, 3100, 9237, 10441, 5201, 17926, 10671, 10178, 3100, 12646, 6094, 9416, 7107, 9863, 11281, 6117, 8996, 11563, 5117, 8372, 11423, 5228, 12760, 7934, 6987, 13381, 5201, 6094, 7817, 5170, 3100, 18797, 10454, 5228, 7276, 6961, 7480, 12173, 7664, 12777, 8792, 7480, 6121, 10651, 8372, 8665, 8891, 12383, 12308, 6934, 11989, 6094, 10493, 9653, 12305, 6961, 9653, 14069, 9029, 10441, 3625, 4145, 11201, 6117, 3100, 10676, 11552, 5674, 12434, 5201, 12599, 10467, 7480, 10493, 7931, 10151, 3100, 8372, 8839, 10151, 11432, 9626, 10623, 11642, 14687, 7480, 8603, 8372, 10810, 10203, 13276, 12287, 9416, 9920, 13873, 12935, 8366, 13576, 12723, 8891, 8907, 8767, 6327, 8907, 10203, 25703, 9601, 8425, 9836, 3100, 11728, 7480, 12358, 10703, 13033, 7480, 12849, 22798, 10975, 5228, 9653, 7952, 9929, 7174, 8907, 13303, 5118, 12723, 5195, 6121, 11306, 3625, 9258, 17686, 11222, 10697, 27282, 7642, 12723, 10203, 8366, 7171, 11753, 11342, 13243, 4647, 4145, 12409, 11911, 11458, 8907, 8907, 6961, 6528, 10657, 11474, 3100, 5683, 11668, 13381, 8891, 10943, 4729, 9863, 5228, 7480, 14424, 5228, 8528, 12760, 12199, 5510, 6241, 16142, 6094, 5176, 8026, 10991, 17266, 7893, 6094, 8372, 7480, 6961, 4307, 15957, 12954, 5228, 8372, 6593, 15119, 12534, 9128, 6961, 15107, 3100, 13243, 12723, 4943, 11806, 12526, 11522, 8026, 7276, 13081, 9340, 8372, 8845, 12173, 10203, 8879, 2050, 10981, 12488, 6094, 9968, 15170, 12778, 5567, 7174, 13748, 15170, 13033, 10975, 7532, 8577, 11552, 12704, 6612, 13250, 8792, 7013, 15532, 3100, 4441, 14214, 12436, 15170, 5117, 4651, 14408, 13381, 6117, 17135, 5911, 12646, 8603, 13942, 11201, 10231, 12646, 12173, 6587, 11654, 10408, 12488, 8576, 5510, 2050, 9190, 12778, 12723, 10151, 11543, 13591, 9181, 24017, 17476, 4647, 9258, 8366, 4667, 6121, 5704, 4145, 7276, 8372, 9653, 13873, 12841, 4667, 8372, 10336, 31945, 8603, 14882, 4145, 10413, 7801, 10835, 7952, 4667, 6674, 13381, 11972, 17461, 10203, 23677, 13227, 6934, 12723, 8425, 10975, 6535, 2575, 6902, 12324, 10413, 13143, 6383, 6245, 10231, 11447, 13832, 10676, 12723, 12646, 3100, 6377, 6528, 3100, 12199, 11791, 13616, 4145, 9925, 7662, 13022, 11003, 7480, 6961, 8119, 3625, 4145, 14424, 7591, 7872, 6987, 6961, 6117, 12646, 6982, 6121, 4145, 8656, 11570, 6934, 8996, 12646, 8366, 3625, 11148, 12488, 7532, 11432, 8372, 18736, 3758, 12646, 26480, 5176, 9416, 6273, 3100, 11432, 12940, 9863, 13591, 12723, 8372, 4487, 16372, 14897, 9653, 13432, 8669, 11281, 11228, 14960, 10493, 11222, 13801, 9790, 8372, 12352, 9929, 11411, 3100, 3100, 4145, 11753], \"y0\": \" \", \"yaxis\": \"y\"}, {\"alignmentgroup\": \"True\", \"hoverlabel\": {\"namelength\": 0}, \"hovertemplate\": \"Airline=%{x}<br>Price=%{y}\", \"legendgroup\": \"Airline=Jet Airways\", \"marker\": {\"color\": \"#00cc96\"}, \"name\": \"Airline=Jet Airways\", \"notched\": true, \"offsetgroup\": \"Airline=Jet Airways\", \"orientation\": \"v\", \"showlegend\": true, \"type\": \"box\", \"x\": [\"Jet Airways\", \"Jet Airways\", \"Jet Airways\", \"Jet Airways\", \"Jet Airways\", \"Jet Airways\", \"Jet Airways\", \"Jet Airways\", \"Jet Airways\", \"Jet Airways\", \"Jet Airways\", \"Jet Airways\", \"Jet Airways\", \"Jet Airways\", \"Jet Airways\", \"Jet Airways\", \"Jet Airways\", \"Jet Airways\", \"Jet Airways\", \"Jet Airways\", \"Jet Airways\", \"Jet Airways\", \"Jet Airways\", \"Jet Airways\", \"Jet Airways\", \"Jet Airways\", \"Jet Airways\", \"Jet Airways\", \"Jet Airways\", \"Jet Airways\", \"Jet Airways\", \"Jet Airways\", \"Jet Airways\", \"Jet Airways\", \"Jet Airways\", \"Jet Airways\", \"Jet Airways\", \"Jet Airways\", \"Jet Airways\", \"Jet Airways\", \"Jet Airways\", \"Jet Airways\", \"Jet Airways\", \"Jet Airways\", \"Jet Airways\", \"Jet Airways\", \"Jet Airways\", \"Jet Airways\", \"Jet Airways\", \"Jet Airways\", \"Jet Airways\", \"Jet Airways\", \"Jet Airways\", \"Jet Airways\", \"Jet Airways\", \"Jet Airways\", \"Jet Airways\", \"Jet Airways\", \"Jet Airways\", \"Jet Airways\", \"Jet Airways\", \"Jet Airways\", \"Jet Airways\", \"Jet Airways\", \"Jet Airways\", \"Jet Airways\", \"Jet Airways\", \"Jet Airways\", \"Jet Airways\", \"Jet Airways\", \"Jet Airways\", \"Jet Airways\", \"Jet Airways\", \"Jet Airways\", \"Jet Airways\", \"Jet Airways\", \"Jet Airways\", \"Jet Airways\", \"Jet Airways\", \"Jet Airways\", \"Jet Airways\", \"Jet Airways\", \"Jet Airways\", \"Jet Airways\", \"Jet Airways\", \"Jet Airways\", \"Jet Airways\", \"Jet Airways\", \"Jet Airways\", \"Jet Airways\", \"Jet Airways\", \"Jet Airways\", \"Jet Airways\", \"Jet Airways\", \"Jet Airways\", \"Jet Airways\", \"Jet Airways\", \"Jet Airways\", \"Jet Airways\", \"Jet Airways\", \"Jet Airways\", \"Jet Airways\", \"Jet Airways\", \"Jet Airways\", \"Jet Airways\", \"Jet Airways\", \"Jet Airways\", \"Jet Airways\", \"Jet Airways\", \"Jet Airways\", \"Jet Airways\", \"Jet Airways\", \"Jet Airways\", \"Jet Airways\", \"Jet Airways\", \"Jet Airways\", \"Jet Airways\", \"Jet Airways\", \"Jet Airways\", \"Jet Airways\", \"Jet Airways\", \"Jet Airways\", \"Jet Airways\", \"Jet Airways\", \"Jet Airways\", \"Jet Airways\", \"Jet Airways\", \"Jet Airways\", \"Jet Airways\", \"Jet Airways\", \"Jet Airways\", \"Jet Airways\", \"Jet Airways\", \"Jet Airways\", \"Jet Airways\", \"Jet Airways\", \"Jet Airways\", \"Jet Airways\", \"Jet Airways\", \"Jet Airways\", \"Jet Airways\", \"Jet Airways\", \"Jet Airways\", \"Jet Airways\", \"Jet Airways\", \"Jet Airways\", \"Jet Airways\", \"Jet Airways\", \"Jet Airways\", \"Jet Airways\", \"Jet Airways\", \"Jet Airways\", \"Jet Airways\", \"Jet Airways\", \"Jet Airways\", \"Jet Airways\", \"Jet Airways\", \"Jet Airways\", \"Jet Airways\", \"Jet Airways\", \"Jet Airways\", \"Jet Airways\", \"Jet Airways\", \"Jet Airways\", \"Jet Airways\", \"Jet Airways\", \"Jet Airways\", \"Jet Airways\", \"Jet Airways\", \"Jet Airways\", \"Jet Airways\", \"Jet Airways\", \"Jet Airways\", \"Jet Airways\", \"Jet Airways\", \"Jet Airways\", \"Jet Airways\", \"Jet Airways\", \"Jet Airways\", \"Jet Airways\", \"Jet Airways\", \"Jet Airways\", \"Jet Airways\", \"Jet Airways\", \"Jet Airways\", \"Jet Airways\", \"Jet Airways\", \"Jet Airways\", \"Jet Airways\", \"Jet Airways\", \"Jet Airways\", \"Jet Airways\", \"Jet Airways\", \"Jet Airways\", \"Jet Airways\", \"Jet Airways\", \"Jet Airways\", \"Jet Airways\", \"Jet Airways\", \"Jet Airways\", \"Jet Airways\", \"Jet Airways\", \"Jet Airways\", \"Jet Airways\", \"Jet Airways\", \"Jet Airways\", \"Jet Airways\", \"Jet Airways\", \"Jet Airways\", \"Jet Airways\", \"Jet Airways\", \"Jet Airways\", \"Jet Airways\", \"Jet Airways\", \"Jet Airways\", \"Jet Airways\", \"Jet Airways\", \"Jet Airways\", \"Jet Airways\", \"Jet Airways\", \"Jet Airways\", \"Jet Airways\", \"Jet Airways\", \"Jet Airways\", \"Jet Airways\", \"Jet Airways\", \"Jet Airways\", \"Jet Airways\", \"Jet Airways\", \"Jet Airways\", \"Jet Airways\", \"Jet Airways\", \"Jet Airways\", \"Jet Airways\", \"Jet Airways\", \"Jet Airways\", \"Jet Airways\", \"Jet Airways\", \"Jet Airways\", \"Jet Airways\", \"Jet Airways\", \"Jet Airways\", \"Jet Airways\", \"Jet Airways\", \"Jet Airways\", \"Jet Airways\", \"Jet Airways\", \"Jet Airways\", \"Jet Airways\", \"Jet Airways\", \"Jet Airways\", \"Jet Airways\", \"Jet Airways\", \"Jet Airways\", \"Jet Airways\", \"Jet Airways\", \"Jet Airways\", \"Jet Airways\", \"Jet Airways\", \"Jet Airways\", \"Jet Airways\", \"Jet Airways\", \"Jet Airways\", \"Jet Airways\", \"Jet Airways\", \"Jet Airways\", \"Jet Airways\", \"Jet Airways\", \"Jet Airways\", \"Jet Airways\", \"Jet Airways\", \"Jet Airways\", \"Jet Airways\", \"Jet Airways\", \"Jet Airways\", \"Jet Airways\", \"Jet Airways\", \"Jet Airways\", \"Jet Airways\", \"Jet Airways\", \"Jet Airways\", \"Jet Airways\", \"Jet Airways\", \"Jet Airways\", \"Jet Airways\", \"Jet Airways\", \"Jet Airways\", \"Jet Airways\", \"Jet Airways\", \"Jet Airways\", \"Jet Airways\", \"Jet Airways\", \"Jet Airways\", \"Jet Airways\", \"Jet Airways\", \"Jet Airways\", \"Jet Airways\", \"Jet Airways\", \"Jet Airways\", \"Jet Airways\", \"Jet Airways\", \"Jet Airways\", \"Jet Airways\", \"Jet Airways\", \"Jet Airways\", \"Jet Airways\", \"Jet Airways\", \"Jet Airways\", \"Jet Airways\", \"Jet Airways\", \"Jet Airways\", \"Jet Airways\", \"Jet Airways\", \"Jet Airways\", \"Jet Airways\", \"Jet Airways\", \"Jet Airways\", \"Jet Airways\", \"Jet Airways\", \"Jet Airways\", \"Jet Airways\", \"Jet Airways\", \"Jet Airways\", \"Jet Airways\", \"Jet Airways\", \"Jet Airways\", \"Jet Airways\", \"Jet Airways\", \"Jet Airways\", \"Jet Airways\", \"Jet Airways\", \"Jet Airways\", \"Jet Airways\", \"Jet Airways\", \"Jet Airways\", \"Jet Airways\", \"Jet Airways\", \"Jet Airways\", \"Jet Airways\", \"Jet Airways\", \"Jet Airways\", \"Jet Airways\", \"Jet Airways\", \"Jet Airways\", \"Jet Airways\", \"Jet Airways\", \"Jet Airways\", \"Jet Airways\", \"Jet Airways\", \"Jet Airways\", \"Jet Airways\", \"Jet Airways\", \"Jet Airways\", \"Jet Airways\", \"Jet Airways\", \"Jet Airways\", \"Jet Airways\", \"Jet Airways\", \"Jet Airways\", \"Jet Airways\", \"Jet Airways\", \"Jet Airways\", \"Jet Airways\", \"Jet Airways\", \"Jet Airways\", \"Jet Airways\", \"Jet Airways\", \"Jet Airways\", \"Jet Airways\", \"Jet Airways\", \"Jet Airways\", \"Jet Airways\", \"Jet Airways\", \"Jet Airways\", \"Jet Airways\", \"Jet Airways\", \"Jet Airways\", \"Jet Airways\", \"Jet Airways\", \"Jet Airways\", \"Jet Airways\", \"Jet Airways\", \"Jet Airways\", \"Jet Airways\", \"Jet Airways\", \"Jet Airways\", \"Jet Airways\", \"Jet Airways\", \"Jet Airways\", \"Jet Airways\", \"Jet Airways\", \"Jet Airways\", \"Jet Airways\", \"Jet Airways\", \"Jet Airways\", \"Jet Airways\", \"Jet Airways\", \"Jet Airways\", \"Jet Airways\", \"Jet Airways\", \"Jet Airways\", \"Jet Airways\", \"Jet Airways\", \"Jet Airways\", \"Jet Airways\", \"Jet Airways\", \"Jet Airways\", \"Jet Airways\", \"Jet Airways\", \"Jet Airways\", \"Jet Airways\", \"Jet Airways\", \"Jet Airways\", \"Jet Airways\", \"Jet Airways\", \"Jet Airways\", \"Jet Airways\", \"Jet Airways\", \"Jet Airways\", \"Jet Airways\", \"Jet Airways\", \"Jet Airways\", \"Jet Airways\", \"Jet Airways\", \"Jet Airways\", \"Jet Airways\", \"Jet Airways\", \"Jet Airways\", \"Jet Airways\", \"Jet Airways\", \"Jet Airways\", \"Jet Airways\", \"Jet Airways\", \"Jet Airways\", \"Jet Airways\", \"Jet Airways\", \"Jet Airways\", \"Jet Airways\", \"Jet Airways\", \"Jet Airways\", \"Jet Airways\", \"Jet Airways\", \"Jet Airways\", \"Jet Airways\", \"Jet Airways\", \"Jet Airways\", \"Jet Airways\", \"Jet Airways\", \"Jet Airways\", \"Jet Airways\", \"Jet Airways\", \"Jet Airways\", \"Jet Airways\", \"Jet Airways\", \"Jet Airways\", \"Jet Airways\", \"Jet Airways\", \"Jet Airways\", \"Jet Airways\", \"Jet Airways\", \"Jet Airways\", \"Jet Airways\", \"Jet Airways\", \"Jet Airways\", \"Jet Airways\", \"Jet Airways\", \"Jet Airways\", \"Jet Airways\", \"Jet Airways\", \"Jet Airways\", \"Jet Airways\", \"Jet Airways\", \"Jet Airways\", \"Jet Airways\", \"Jet Airways\", \"Jet Airways\", \"Jet Airways\", \"Jet Airways\", \"Jet Airways\", \"Jet Airways\", \"Jet Airways\", \"Jet Airways\", \"Jet Airways\", \"Jet Airways\", \"Jet Airways\", \"Jet Airways\", \"Jet Airways\", \"Jet Airways\", \"Jet Airways\", \"Jet Airways\", \"Jet Airways\", \"Jet Airways\", \"Jet Airways\", \"Jet Airways\", \"Jet Airways\", \"Jet Airways\", \"Jet Airways\", \"Jet Airways\", \"Jet Airways\", \"Jet Airways\", \"Jet Airways\", \"Jet Airways\", \"Jet Airways\", \"Jet Airways\", \"Jet Airways\", \"Jet Airways\", \"Jet Airways\", \"Jet Airways\", \"Jet Airways\", \"Jet Airways\", \"Jet Airways\", \"Jet Airways\", \"Jet Airways\", \"Jet Airways\", \"Jet Airways\", \"Jet Airways\", \"Jet Airways\", \"Jet Airways\", \"Jet Airways\", \"Jet Airways\", \"Jet Airways\", \"Jet Airways\", \"Jet Airways\", \"Jet Airways\", \"Jet Airways\", \"Jet Airways\", \"Jet Airways\", \"Jet Airways\", \"Jet Airways\", \"Jet Airways\", \"Jet Airways\", \"Jet Airways\", \"Jet Airways\", \"Jet Airways\", \"Jet Airways\", \"Jet Airways\", \"Jet Airways\", \"Jet Airways\", \"Jet Airways\", \"Jet Airways\", \"Jet Airways\", \"Jet Airways\", \"Jet Airways\", \"Jet Airways\", \"Jet Airways\", \"Jet Airways\", \"Jet Airways\", \"Jet Airways\", \"Jet Airways\", \"Jet Airways\", \"Jet Airways\", \"Jet Airways\", \"Jet Airways\", \"Jet Airways\", \"Jet Airways\", \"Jet Airways\", \"Jet Airways\", \"Jet Airways\", \"Jet Airways\", \"Jet Airways\", \"Jet Airways\", \"Jet Airways\", \"Jet Airways\", \"Jet Airways\", \"Jet Airways\", \"Jet Airways\", \"Jet Airways\", \"Jet Airways\", \"Jet Airways\", \"Jet Airways\", \"Jet Airways\", \"Jet Airways\", \"Jet Airways\", \"Jet Airways\", \"Jet Airways\", \"Jet Airways\", \"Jet Airways\", \"Jet Airways\", \"Jet Airways\", \"Jet Airways\", \"Jet Airways\", \"Jet Airways\", \"Jet Airways\", \"Jet Airways\", \"Jet Airways\", \"Jet Airways\", \"Jet Airways\", \"Jet Airways\", \"Jet Airways\", \"Jet Airways\", \"Jet Airways\", \"Jet Airways\", \"Jet Airways\", \"Jet Airways\", \"Jet Airways\", \"Jet Airways\", \"Jet Airways\", \"Jet Airways\", \"Jet Airways\", \"Jet Airways\", \"Jet Airways\", \"Jet Airways\", \"Jet Airways\", \"Jet Airways\", \"Jet Airways\", \"Jet Airways\", \"Jet Airways\", \"Jet Airways\", \"Jet Airways\", \"Jet Airways\", \"Jet Airways\", \"Jet Airways\", \"Jet Airways\", \"Jet Airways\", \"Jet Airways\", \"Jet Airways\", \"Jet Airways\", \"Jet Airways\", \"Jet Airways\", \"Jet Airways\", \"Jet Airways\", \"Jet Airways\", \"Jet Airways\", \"Jet Airways\", \"Jet Airways\", \"Jet Airways\", \"Jet Airways\", \"Jet Airways\", \"Jet Airways\", \"Jet Airways\", \"Jet Airways\", \"Jet Airways\", \"Jet Airways\", \"Jet Airways\", \"Jet Airways\", \"Jet Airways\", \"Jet Airways\", \"Jet Airways\", \"Jet Airways\", \"Jet Airways\", \"Jet Airways\", \"Jet Airways\", \"Jet Airways\", \"Jet Airways\", \"Jet Airways\", \"Jet Airways\", \"Jet Airways\", \"Jet Airways\", \"Jet Airways\", \"Jet Airways\", \"Jet Airways\", \"Jet Airways\", \"Jet Airways\", \"Jet Airways\", \"Jet Airways\", \"Jet Airways\", \"Jet Airways\", \"Jet Airways\", \"Jet Airways\", \"Jet Airways\", \"Jet Airways\", \"Jet Airways\", \"Jet Airways\", \"Jet Airways\", \"Jet Airways\", \"Jet Airways\", \"Jet Airways\", \"Jet Airways\", \"Jet Airways\", \"Jet Airways\", \"Jet Airways\", \"Jet Airways\", \"Jet Airways\", \"Jet Airways\", \"Jet Airways\", \"Jet Airways\", \"Jet Airways\", \"Jet Airways\", \"Jet Airways\", \"Jet Airways\", \"Jet Airways\", \"Jet Airways\", \"Jet Airways\", \"Jet Airways\", \"Jet Airways\", \"Jet Airways\", \"Jet Airways\", \"Jet Airways\", \"Jet Airways\", \"Jet Airways\", \"Jet Airways\", \"Jet Airways\", \"Jet Airways\", \"Jet Airways\", \"Jet Airways\", \"Jet Airways\", \"Jet Airways\", \"Jet Airways\", \"Jet Airways\", \"Jet Airways\", \"Jet Airways\", \"Jet Airways\", \"Jet Airways\", \"Jet Airways\", \"Jet Airways\", \"Jet Airways\", \"Jet Airways\", \"Jet Airways\", \"Jet Airways\", \"Jet Airways\", \"Jet Airways\", \"Jet Airways\", \"Jet Airways\", \"Jet Airways\", \"Jet Airways\", \"Jet Airways\", \"Jet Airways\", \"Jet Airways\", \"Jet Airways\", \"Jet Airways\", \"Jet Airways\", \"Jet Airways\", \"Jet Airways\", \"Jet Airways\", \"Jet Airways\", \"Jet Airways\", \"Jet Airways\", \"Jet Airways\", \"Jet Airways\", \"Jet Airways\", \"Jet Airways\", \"Jet Airways\", \"Jet Airways\", \"Jet Airways\", \"Jet Airways\", \"Jet Airways\", \"Jet Airways\", \"Jet Airways\", \"Jet Airways\", \"Jet Airways\", \"Jet Airways\", \"Jet Airways\", \"Jet Airways\", \"Jet Airways\", \"Jet Airways\", \"Jet Airways\", \"Jet Airways\", \"Jet Airways\", \"Jet Airways\", \"Jet Airways\", \"Jet Airways\", \"Jet Airways\", \"Jet Airways\", \"Jet Airways\", \"Jet Airways\", \"Jet Airways\", \"Jet Airways\", \"Jet Airways\", \"Jet Airways\", \"Jet Airways\", \"Jet Airways\", \"Jet Airways\", \"Jet Airways\", \"Jet Airways\", \"Jet Airways\", \"Jet Airways\", \"Jet Airways\", \"Jet Airways\", \"Jet Airways\", \"Jet Airways\", \"Jet Airways\", \"Jet Airways\", \"Jet Airways\", \"Jet Airways\", \"Jet Airways\", \"Jet Airways\", \"Jet Airways\", \"Jet Airways\", \"Jet Airways\", \"Jet Airways\", \"Jet Airways\", \"Jet Airways\", \"Jet Airways\", \"Jet Airways\", \"Jet Airways\", \"Jet Airways\", \"Jet Airways\", \"Jet Airways\", \"Jet Airways\", \"Jet Airways\", \"Jet Airways\", \"Jet Airways\", \"Jet Airways\", \"Jet Airways\", \"Jet Airways\", \"Jet Airways\", \"Jet Airways\", \"Jet Airways\", \"Jet Airways\", \"Jet Airways\", \"Jet Airways\", \"Jet Airways\", \"Jet Airways\", \"Jet Airways\", \"Jet Airways\", \"Jet Airways\", \"Jet Airways\", \"Jet Airways\", \"Jet Airways\", \"Jet Airways\", \"Jet Airways\", \"Jet Airways\", \"Jet Airways\", \"Jet Airways\", \"Jet Airways\", \"Jet Airways\", \"Jet Airways\", \"Jet Airways\", \"Jet Airways\", \"Jet Airways\", \"Jet Airways\", \"Jet Airways\", \"Jet Airways\", \"Jet Airways\", \"Jet Airways\", \"Jet Airways\", \"Jet Airways\", \"Jet Airways\", \"Jet Airways\", \"Jet Airways\", \"Jet Airways\", \"Jet Airways\", \"Jet Airways\", \"Jet Airways\", \"Jet Airways\", \"Jet Airways\", \"Jet Airways\", \"Jet Airways\", \"Jet Airways\", \"Jet Airways\", \"Jet Airways\", \"Jet Airways\", \"Jet Airways\", \"Jet Airways\", \"Jet Airways\", \"Jet Airways\", \"Jet Airways\", \"Jet Airways\", \"Jet Airways\", \"Jet Airways\", \"Jet Airways\", \"Jet Airways\", \"Jet Airways\", \"Jet Airways\", \"Jet Airways\", \"Jet Airways\", \"Jet Airways\", \"Jet Airways\", \"Jet Airways\", \"Jet Airways\", \"Jet Airways\", \"Jet Airways\", \"Jet Airways\", \"Jet Airways\", \"Jet Airways\", \"Jet Airways\", \"Jet Airways\", \"Jet Airways\", \"Jet Airways\", \"Jet Airways\", \"Jet Airways\", \"Jet Airways\", \"Jet Airways\", \"Jet Airways\", \"Jet Airways\", \"Jet Airways\", \"Jet Airways\", \"Jet Airways\", \"Jet Airways\", \"Jet Airways\", \"Jet Airways\", \"Jet Airways\", \"Jet Airways\", \"Jet Airways\", \"Jet Airways\", \"Jet Airways\", \"Jet Airways\", \"Jet Airways\", \"Jet Airways\", \"Jet Airways\", \"Jet Airways\", \"Jet Airways\", \"Jet Airways\", \"Jet Airways\", \"Jet Airways\", \"Jet Airways\", \"Jet Airways\", \"Jet Airways\", \"Jet Airways\", \"Jet Airways\", \"Jet Airways\", \"Jet Airways\", \"Jet Airways\", \"Jet Airways\", \"Jet Airways\", \"Jet Airways\", \"Jet Airways\", \"Jet Airways\", \"Jet Airways\", \"Jet Airways\", \"Jet Airways\", \"Jet Airways\", \"Jet Airways\", \"Jet Airways\", \"Jet Airways\", \"Jet Airways\", \"Jet Airways\", \"Jet Airways\", \"Jet Airways\", \"Jet Airways\", \"Jet Airways\", \"Jet Airways\", \"Jet Airways\", \"Jet Airways\", \"Jet Airways\", \"Jet Airways\", \"Jet Airways\", \"Jet Airways\", \"Jet Airways\", \"Jet Airways\", \"Jet Airways\", \"Jet Airways\", \"Jet Airways\", \"Jet Airways\", \"Jet Airways\", \"Jet Airways\", \"Jet Airways\", \"Jet Airways\", \"Jet Airways\", \"Jet Airways\", \"Jet Airways\", \"Jet Airways\", \"Jet Airways\", \"Jet Airways\", \"Jet Airways\", \"Jet Airways\", \"Jet Airways\", \"Jet Airways\", \"Jet Airways\", \"Jet Airways\", \"Jet Airways\", \"Jet Airways\", \"Jet Airways\", \"Jet Airways\", \"Jet Airways\", \"Jet Airways\", \"Jet Airways\", \"Jet Airways\", \"Jet Airways\", \"Jet Airways\", \"Jet Airways\", \"Jet Airways\", \"Jet Airways\", \"Jet Airways\", \"Jet Airways\", \"Jet Airways\", \"Jet Airways\", \"Jet Airways\", \"Jet Airways\", \"Jet Airways\", \"Jet Airways\", \"Jet Airways\", \"Jet Airways\", \"Jet Airways\", \"Jet Airways\", \"Jet Airways\", \"Jet Airways\", \"Jet Airways\", \"Jet Airways\", \"Jet Airways\", \"Jet Airways\", \"Jet Airways\", \"Jet Airways\", \"Jet Airways\", \"Jet Airways\", \"Jet Airways\", \"Jet Airways\", \"Jet Airways\", \"Jet Airways\", \"Jet Airways\", \"Jet Airways\", \"Jet Airways\", \"Jet Airways\", \"Jet Airways\", \"Jet Airways\", \"Jet Airways\", \"Jet Airways\", \"Jet Airways\", \"Jet Airways\", \"Jet Airways\", \"Jet Airways\", \"Jet Airways\", \"Jet Airways\", \"Jet Airways\", \"Jet Airways\", \"Jet Airways\", \"Jet Airways\", \"Jet Airways\", \"Jet Airways\", \"Jet Airways\", \"Jet Airways\", \"Jet Airways\", \"Jet Airways\", \"Jet Airways\", \"Jet Airways\", \"Jet Airways\", \"Jet Airways\", \"Jet Airways\", \"Jet Airways\", \"Jet Airways\", \"Jet Airways\", \"Jet Airways\", \"Jet Airways\", \"Jet Airways\", \"Jet Airways\", \"Jet Airways\", \"Jet Airways\", \"Jet Airways\", \"Jet Airways\", \"Jet Airways\", \"Jet Airways\", \"Jet Airways\", \"Jet Airways\", \"Jet Airways\", \"Jet Airways\", \"Jet Airways\", \"Jet Airways\", \"Jet Airways\", \"Jet Airways\", \"Jet Airways\", \"Jet Airways\", \"Jet Airways\", \"Jet Airways\", \"Jet Airways\", \"Jet Airways\", \"Jet Airways\", \"Jet Airways\", \"Jet Airways\", \"Jet Airways\", \"Jet Airways\", \"Jet Airways\", \"Jet Airways\", \"Jet Airways\", \"Jet Airways\", \"Jet Airways\", \"Jet Airways\", \"Jet Airways\", \"Jet Airways\", \"Jet Airways\", \"Jet Airways\", \"Jet Airways\", \"Jet Airways\", \"Jet Airways\", \"Jet Airways\", \"Jet Airways\", \"Jet Airways\", \"Jet Airways\", \"Jet Airways\", \"Jet Airways\", \"Jet Airways\", \"Jet Airways\", \"Jet Airways\", \"Jet Airways\", \"Jet Airways\", \"Jet Airways\", \"Jet Airways\", \"Jet Airways\", \"Jet Airways\", \"Jet Airways\", \"Jet Airways\", \"Jet Airways\", \"Jet Airways\", \"Jet Airways\", \"Jet Airways\", \"Jet Airways\", \"Jet Airways\", \"Jet Airways\", \"Jet Airways\", \"Jet Airways\", \"Jet Airways\", \"Jet Airways\", \"Jet Airways\", \"Jet Airways\", \"Jet Airways\", \"Jet Airways\", \"Jet Airways\", \"Jet Airways\", \"Jet Airways\", \"Jet Airways\", \"Jet Airways\", \"Jet Airways\", \"Jet Airways\", \"Jet Airways\", \"Jet Airways\", \"Jet Airways\", \"Jet Airways\", \"Jet Airways\", \"Jet Airways\", \"Jet Airways\", \"Jet Airways\", \"Jet Airways\", \"Jet Airways\", \"Jet Airways\", \"Jet Airways\", \"Jet Airways\", \"Jet Airways\", \"Jet Airways\", \"Jet Airways\", \"Jet Airways\", \"Jet Airways\", \"Jet Airways\", \"Jet Airways\", \"Jet Airways\", \"Jet Airways\", \"Jet Airways\", \"Jet Airways\", \"Jet Airways\", \"Jet Airways\", \"Jet Airways\", \"Jet Airways\", \"Jet Airways\", \"Jet Airways\", \"Jet Airways\", \"Jet Airways\", \"Jet Airways\", \"Jet Airways\", \"Jet Airways\", \"Jet Airways\", \"Jet Airways\", \"Jet Airways\", \"Jet Airways\", \"Jet Airways\", \"Jet Airways\", \"Jet Airways\", \"Jet Airways\", \"Jet Airways\", \"Jet Airways\", \"Jet Airways\", \"Jet Airways\", \"Jet Airways\", \"Jet Airways\", \"Jet Airways\", \"Jet Airways\", \"Jet Airways\", \"Jet Airways\", \"Jet Airways\", \"Jet Airways\", \"Jet Airways\", \"Jet Airways\", \"Jet Airways\", \"Jet Airways\", \"Jet Airways\", \"Jet Airways\", \"Jet Airways\", \"Jet Airways\", \"Jet Airways\", \"Jet Airways\", \"Jet Airways\", \"Jet Airways\", \"Jet Airways\", \"Jet Airways\", \"Jet Airways\", \"Jet Airways\", \"Jet Airways\", \"Jet Airways\", \"Jet Airways\", \"Jet Airways\", \"Jet Airways\", \"Jet Airways\", \"Jet Airways\", \"Jet Airways\", \"Jet Airways\", \"Jet Airways\", \"Jet Airways\", \"Jet Airways\", \"Jet Airways\", \"Jet Airways\", \"Jet Airways\", \"Jet Airways\", \"Jet Airways\", \"Jet Airways\", \"Jet Airways\", \"Jet Airways\", \"Jet Airways\", \"Jet Airways\", \"Jet Airways\", \"Jet Airways\", \"Jet Airways\", \"Jet Airways\", \"Jet Airways\", \"Jet Airways\", \"Jet Airways\", \"Jet Airways\", \"Jet Airways\", \"Jet Airways\", \"Jet Airways\", \"Jet Airways\", \"Jet Airways\", \"Jet Airways\", \"Jet Airways\", \"Jet Airways\", \"Jet Airways\", \"Jet Airways\", \"Jet Airways\", \"Jet Airways\", \"Jet Airways\", \"Jet Airways\", \"Jet Airways\", \"Jet Airways\", \"Jet Airways\", \"Jet Airways\", \"Jet Airways\", \"Jet Airways\", \"Jet Airways\", \"Jet Airways\", \"Jet Airways\", \"Jet Airways\", \"Jet Airways\", \"Jet Airways\", \"Jet Airways\", \"Jet Airways\", \"Jet Airways\", \"Jet Airways\", \"Jet Airways\", \"Jet Airways\", \"Jet Airways\", \"Jet Airways\", \"Jet Airways\", \"Jet Airways\", \"Jet Airways\", \"Jet Airways\", \"Jet Airways\", \"Jet Airways\", \"Jet Airways\", \"Jet Airways\", \"Jet Airways\", \"Jet Airways\", \"Jet Airways\", \"Jet Airways\", \"Jet Airways\", \"Jet Airways\", \"Jet Airways\", \"Jet Airways\", \"Jet Airways\", \"Jet Airways\", \"Jet Airways\", \"Jet Airways\", \"Jet Airways\", \"Jet Airways\", \"Jet Airways\", \"Jet Airways\", \"Jet Airways\", \"Jet Airways\", \"Jet Airways\", \"Jet Airways\", \"Jet Airways\", \"Jet Airways\", \"Jet Airways\", \"Jet Airways\", \"Jet Airways\", \"Jet Airways\", \"Jet Airways\", \"Jet Airways\", \"Jet Airways\", \"Jet Airways\", \"Jet Airways\", \"Jet Airways\", \"Jet Airways\", \"Jet Airways\", \"Jet Airways\", \"Jet Airways\", \"Jet Airways\", \"Jet Airways\", \"Jet Airways\", \"Jet Airways\", \"Jet Airways\", \"Jet Airways\", \"Jet Airways\", \"Jet Airways\", \"Jet Airways\", \"Jet Airways\", \"Jet Airways\", \"Jet Airways\", \"Jet Airways\", \"Jet Airways\", \"Jet Airways\", \"Jet Airways\", \"Jet Airways\", \"Jet Airways\", \"Jet Airways\", \"Jet Airways\", \"Jet Airways\", \"Jet Airways\", \"Jet Airways\", \"Jet Airways\", \"Jet Airways\", \"Jet Airways\", \"Jet Airways\", \"Jet Airways\", \"Jet Airways\", \"Jet Airways\", \"Jet Airways\", \"Jet Airways\", \"Jet Airways\", \"Jet Airways\", \"Jet Airways\", \"Jet Airways\", \"Jet Airways\", \"Jet Airways\", \"Jet Airways\", \"Jet Airways\", \"Jet Airways\", \"Jet Airways\", \"Jet Airways\", \"Jet Airways\", \"Jet Airways\", \"Jet Airways\", \"Jet Airways\", \"Jet Airways\", \"Jet Airways\", \"Jet Airways\", \"Jet Airways\", \"Jet Airways\", \"Jet Airways\", \"Jet Airways\", \"Jet Airways\", \"Jet Airways\", \"Jet Airways\", \"Jet Airways\", \"Jet Airways\", \"Jet Airways\", \"Jet Airways\", \"Jet Airways\", \"Jet Airways\", \"Jet Airways\", \"Jet Airways\", \"Jet Airways\", \"Jet Airways\", \"Jet Airways\", \"Jet Airways\", \"Jet Airways\", \"Jet Airways\", \"Jet Airways\", \"Jet Airways\", \"Jet Airways\", \"Jet Airways\", \"Jet Airways\", \"Jet Airways\", \"Jet Airways\", \"Jet Airways\", \"Jet Airways\", \"Jet Airways\", \"Jet Airways\", \"Jet Airways\", \"Jet Airways\", \"Jet Airways\", \"Jet Airways\", \"Jet Airways\", \"Jet Airways\", \"Jet Airways\", \"Jet Airways\", \"Jet Airways\", \"Jet Airways\", \"Jet Airways\", \"Jet Airways\", \"Jet Airways\", \"Jet Airways\", \"Jet Airways\", \"Jet Airways\", \"Jet Airways\", \"Jet Airways\", \"Jet Airways\", \"Jet Airways\", \"Jet Airways\", \"Jet Airways\", \"Jet Airways\", \"Jet Airways\", \"Jet Airways\", \"Jet Airways\", \"Jet Airways\", \"Jet Airways\", \"Jet Airways\", \"Jet Airways\", \"Jet Airways\", \"Jet Airways\", \"Jet Airways\", \"Jet Airways\", \"Jet Airways\", \"Jet Airways\", \"Jet Airways\", \"Jet Airways\", \"Jet Airways\", \"Jet Airways\", \"Jet Airways\", \"Jet Airways\", \"Jet Airways\", \"Jet Airways\", \"Jet Airways\", \"Jet Airways\", \"Jet Airways\", \"Jet Airways\", \"Jet Airways\", \"Jet Airways\", \"Jet Airways\", \"Jet Airways\", \"Jet Airways\", \"Jet Airways\", \"Jet Airways\", \"Jet Airways\", \"Jet Airways\", \"Jet Airways\", \"Jet Airways\", \"Jet Airways\", \"Jet Airways\", \"Jet Airways\", \"Jet Airways\", \"Jet Airways\", \"Jet Airways\", \"Jet Airways\", \"Jet Airways\", \"Jet Airways\", \"Jet Airways\", \"Jet Airways\", \"Jet Airways\", \"Jet Airways\", \"Jet Airways\", \"Jet Airways\", \"Jet Airways\", \"Jet Airways\", \"Jet Airways\", \"Jet Airways\", \"Jet Airways\", \"Jet Airways\", \"Jet Airways\", \"Jet Airways\", \"Jet Airways\", \"Jet Airways\", \"Jet Airways\", \"Jet Airways\", \"Jet Airways\", \"Jet Airways\", \"Jet Airways\", \"Jet Airways\", \"Jet Airways\", \"Jet Airways\", \"Jet Airways\", \"Jet Airways\", \"Jet Airways\", \"Jet Airways\", \"Jet Airways\", \"Jet Airways\", \"Jet Airways\", \"Jet Airways\", \"Jet Airways\", \"Jet Airways\", \"Jet Airways\", \"Jet Airways\", \"Jet Airways\", \"Jet Airways\", \"Jet Airways\", \"Jet Airways\", \"Jet Airways\", \"Jet Airways\", \"Jet Airways\", \"Jet Airways\", \"Jet Airways\", \"Jet Airways\", \"Jet Airways\", \"Jet Airways\", \"Jet Airways\", \"Jet Airways\", \"Jet Airways\", \"Jet Airways\", \"Jet Airways\", \"Jet Airways\", \"Jet Airways\", \"Jet Airways\", \"Jet Airways\", \"Jet Airways\", \"Jet Airways\", \"Jet Airways\", \"Jet Airways\", \"Jet Airways\", \"Jet Airways\", \"Jet Airways\", \"Jet Airways\", \"Jet Airways\", \"Jet Airways\", \"Jet Airways\", \"Jet Airways\", \"Jet Airways\", \"Jet Airways\", \"Jet Airways\", \"Jet Airways\", \"Jet Airways\", \"Jet Airways\", \"Jet Airways\", \"Jet Airways\", \"Jet Airways\", \"Jet Airways\", \"Jet Airways\", \"Jet Airways\", \"Jet Airways\", \"Jet Airways\", \"Jet Airways\", \"Jet Airways\", \"Jet Airways\", \"Jet Airways\", \"Jet Airways\", \"Jet Airways\", \"Jet Airways\", \"Jet Airways\", \"Jet Airways\", \"Jet Airways\", \"Jet Airways\", \"Jet Airways\", \"Jet Airways\", \"Jet Airways\", \"Jet Airways\", \"Jet Airways\", \"Jet Airways\", \"Jet Airways\", \"Jet Airways\", \"Jet Airways\", \"Jet Airways\", \"Jet Airways\", \"Jet Airways\", \"Jet Airways\", \"Jet Airways\", \"Jet Airways\", \"Jet Airways\", \"Jet Airways\", \"Jet Airways\", \"Jet Airways\", \"Jet Airways\", \"Jet Airways\", \"Jet Airways\", \"Jet Airways\", \"Jet Airways\", \"Jet Airways\", \"Jet Airways\", \"Jet Airways\", \"Jet Airways\", \"Jet Airways\", \"Jet Airways\", \"Jet Airways\", \"Jet Airways\", \"Jet Airways\", \"Jet Airways\", \"Jet Airways\", \"Jet Airways\", \"Jet Airways\", \"Jet Airways\", \"Jet Airways\", \"Jet Airways\", \"Jet Airways\", \"Jet Airways\", \"Jet Airways\", \"Jet Airways\", \"Jet Airways\", \"Jet Airways\", \"Jet Airways\", \"Jet Airways\", \"Jet Airways\", \"Jet Airways\", \"Jet Airways\", \"Jet Airways\", \"Jet Airways\", \"Jet Airways\", \"Jet Airways\", \"Jet Airways\", \"Jet Airways\", \"Jet Airways\", \"Jet Airways\", \"Jet Airways\", \"Jet Airways\", \"Jet Airways\", \"Jet Airways\", \"Jet Airways\", \"Jet Airways\", \"Jet Airways\", \"Jet Airways\", \"Jet Airways\", \"Jet Airways\", \"Jet Airways\", \"Jet Airways\", \"Jet Airways\", \"Jet Airways\", \"Jet Airways\", \"Jet Airways\", \"Jet Airways\", \"Jet Airways\", \"Jet Airways\", \"Jet Airways\", \"Jet Airways\", \"Jet Airways\", \"Jet Airways\", \"Jet Airways\", \"Jet Airways\", \"Jet Airways\", \"Jet Airways\", \"Jet Airways\", \"Jet Airways\", \"Jet Airways\", \"Jet Airways\", \"Jet Airways\", \"Jet Airways\", \"Jet Airways\", \"Jet Airways\", \"Jet Airways\", \"Jet Airways\", \"Jet Airways\", \"Jet Airways\", \"Jet Airways\", \"Jet Airways\", \"Jet Airways\", \"Jet Airways\", \"Jet Airways\", \"Jet Airways\", \"Jet Airways\", \"Jet Airways\", \"Jet Airways\", \"Jet Airways\", \"Jet Airways\", \"Jet Airways\", \"Jet Airways\", \"Jet Airways\", \"Jet Airways\", \"Jet Airways\", \"Jet Airways\", \"Jet Airways\", \"Jet Airways\", \"Jet Airways\", \"Jet Airways\", \"Jet Airways\", \"Jet Airways\", \"Jet Airways\", \"Jet Airways\", \"Jet Airways\", \"Jet Airways\", \"Jet Airways\", \"Jet Airways\", \"Jet Airways\", \"Jet Airways\", \"Jet Airways\", \"Jet Airways\", \"Jet Airways\", \"Jet Airways\", \"Jet Airways\", \"Jet Airways\", \"Jet Airways\", \"Jet Airways\", \"Jet Airways\", \"Jet Airways\", \"Jet Airways\", \"Jet Airways\", \"Jet Airways\", \"Jet Airways\", \"Jet Airways\", \"Jet Airways\", \"Jet Airways\", \"Jet Airways\", \"Jet Airways\", \"Jet Airways\", \"Jet Airways\", \"Jet Airways\", \"Jet Airways\", \"Jet Airways\", \"Jet Airways\", \"Jet Airways\", \"Jet Airways\", \"Jet Airways\", \"Jet Airways\", \"Jet Airways\", \"Jet Airways\", \"Jet Airways\", \"Jet Airways\", \"Jet Airways\", \"Jet Airways\", \"Jet Airways\", \"Jet Airways\", \"Jet Airways\", \"Jet Airways\", \"Jet Airways\", \"Jet Airways\", \"Jet Airways\", \"Jet Airways\", \"Jet Airways\", \"Jet Airways\", \"Jet Airways\", \"Jet Airways\", \"Jet Airways\", \"Jet Airways\", \"Jet Airways\", \"Jet Airways\", \"Jet Airways\", \"Jet Airways\", \"Jet Airways\", \"Jet Airways\", \"Jet Airways\", \"Jet Airways\", \"Jet Airways\", \"Jet Airways\", \"Jet Airways\", \"Jet Airways\", \"Jet Airways\", \"Jet Airways\", \"Jet Airways\", \"Jet Airways\", \"Jet Airways\", \"Jet Airways\", \"Jet Airways\", \"Jet Airways\", \"Jet Airways\", \"Jet Airways\", \"Jet Airways\", \"Jet Airways\", \"Jet Airways\", \"Jet Airways\", \"Jet Airways\", \"Jet Airways\", \"Jet Airways\", \"Jet Airways\", \"Jet Airways\", \"Jet Airways\", \"Jet Airways\", \"Jet Airways\", \"Jet Airways\", \"Jet Airways\", \"Jet Airways\", \"Jet Airways\", \"Jet Airways\", \"Jet Airways\", \"Jet Airways\", \"Jet Airways\", \"Jet Airways\", \"Jet Airways\", \"Jet Airways\", \"Jet Airways\", \"Jet Airways\", \"Jet Airways\", \"Jet Airways\", \"Jet Airways\", \"Jet Airways\", \"Jet Airways\", \"Jet Airways\", \"Jet Airways\", \"Jet Airways\", \"Jet Airways\", \"Jet Airways\", \"Jet Airways\", \"Jet Airways\", \"Jet Airways\", \"Jet Airways\", \"Jet Airways\", \"Jet Airways\", \"Jet Airways\", \"Jet Airways\", \"Jet Airways\", \"Jet Airways\", \"Jet Airways\", \"Jet Airways\", \"Jet Airways\", \"Jet Airways\", \"Jet Airways\", \"Jet Airways\", \"Jet Airways\", \"Jet Airways\", \"Jet Airways\", \"Jet Airways\", \"Jet Airways\", \"Jet Airways\", \"Jet Airways\", \"Jet Airways\", \"Jet Airways\", \"Jet Airways\", \"Jet Airways\", \"Jet Airways\", \"Jet Airways\", \"Jet Airways\", \"Jet Airways\", \"Jet Airways\", \"Jet Airways\", \"Jet Airways\", \"Jet Airways\", \"Jet Airways\", \"Jet Airways\", \"Jet Airways\", \"Jet Airways\", \"Jet Airways\", \"Jet Airways\", \"Jet Airways\", \"Jet Airways\", \"Jet Airways\", \"Jet Airways\", \"Jet Airways\", \"Jet Airways\", \"Jet Airways\", \"Jet Airways\", \"Jet Airways\", \"Jet Airways\", \"Jet Airways\", \"Jet Airways\", \"Jet Airways\", \"Jet Airways\", \"Jet Airways\", \"Jet Airways\", \"Jet Airways\", \"Jet Airways\", \"Jet Airways\", \"Jet Airways\", \"Jet Airways\", \"Jet Airways\", \"Jet Airways\", \"Jet Airways\", \"Jet Airways\", \"Jet Airways\", \"Jet Airways\", \"Jet Airways\", \"Jet Airways\", \"Jet Airways\", \"Jet Airways\", \"Jet Airways\", \"Jet Airways\", \"Jet Airways\", \"Jet Airways\", \"Jet Airways\", \"Jet Airways\", \"Jet Airways\", \"Jet Airways\", \"Jet Airways\", \"Jet Airways\", \"Jet Airways\", \"Jet Airways\", \"Jet Airways\", \"Jet Airways\", \"Jet Airways\", \"Jet Airways\", \"Jet Airways\", \"Jet Airways\", \"Jet Airways\", \"Jet Airways\", \"Jet Airways\", \"Jet Airways\", \"Jet Airways\", \"Jet Airways\", \"Jet Airways\", \"Jet Airways\", \"Jet Airways\", \"Jet Airways\", \"Jet Airways\", \"Jet Airways\", \"Jet Airways\", \"Jet Airways\", \"Jet Airways\", \"Jet Airways\", \"Jet Airways\", \"Jet Airways\", \"Jet Airways\", \"Jet Airways\", \"Jet Airways\", \"Jet Airways\", \"Jet Airways\", \"Jet Airways\", \"Jet Airways\", \"Jet Airways\", \"Jet Airways\", \"Jet Airways\", \"Jet Airways\", \"Jet Airways\", \"Jet Airways\", \"Jet Airways\", \"Jet Airways\", \"Jet Airways\", \"Jet Airways\", \"Jet Airways\", \"Jet Airways\", \"Jet Airways\", \"Jet Airways\", \"Jet Airways\", \"Jet Airways\", \"Jet Airways\", \"Jet Airways\", \"Jet Airways\", \"Jet Airways\", \"Jet Airways\", \"Jet Airways\", \"Jet Airways\", \"Jet Airways\", \"Jet Airways\", \"Jet Airways\", \"Jet Airways\", \"Jet Airways\", \"Jet Airways\", \"Jet Airways\", \"Jet Airways\", \"Jet Airways\", \"Jet Airways\", \"Jet Airways\", \"Jet Airways\", \"Jet Airways\", \"Jet Airways\", \"Jet Airways\", \"Jet Airways\", \"Jet Airways\", \"Jet Airways\", \"Jet Airways\", \"Jet Airways\", \"Jet Airways\", \"Jet Airways\", \"Jet Airways\", \"Jet Airways\", \"Jet Airways\", \"Jet Airways\", \"Jet Airways\", \"Jet Airways\", \"Jet Airways\", \"Jet Airways\", \"Jet Airways\", \"Jet Airways\", \"Jet Airways\", \"Jet Airways\", \"Jet Airways\", \"Jet Airways\", \"Jet Airways\", \"Jet Airways\", \"Jet Airways\", \"Jet Airways\", \"Jet Airways\", \"Jet Airways\", \"Jet Airways\", \"Jet Airways\", \"Jet Airways\", \"Jet Airways\", \"Jet Airways\", \"Jet Airways\", \"Jet Airways\", \"Jet Airways\", \"Jet Airways\", \"Jet Airways\", \"Jet Airways\", \"Jet Airways\", \"Jet Airways\", \"Jet Airways\", \"Jet Airways\", \"Jet Airways\", \"Jet Airways\", \"Jet Airways\", \"Jet Airways\", \"Jet Airways\", \"Jet Airways\", \"Jet Airways\", \"Jet Airways\", \"Jet Airways\", \"Jet Airways\", \"Jet Airways\", \"Jet Airways\", \"Jet Airways\", \"Jet Airways\", \"Jet Airways\", \"Jet Airways\", \"Jet Airways\", \"Jet Airways\", \"Jet Airways\", \"Jet Airways\", \"Jet Airways\", \"Jet Airways\", \"Jet Airways\", \"Jet Airways\", \"Jet Airways\", \"Jet Airways\", \"Jet Airways\", \"Jet Airways\", \"Jet Airways\", \"Jet Airways\", \"Jet Airways\", \"Jet Airways\", \"Jet Airways\", \"Jet Airways\", \"Jet Airways\", \"Jet Airways\", \"Jet Airways\", \"Jet Airways\", \"Jet Airways\", \"Jet Airways\", \"Jet Airways\", \"Jet Airways\", \"Jet Airways\", \"Jet Airways\", \"Jet Airways\", \"Jet Airways\", \"Jet Airways\", \"Jet Airways\", \"Jet Airways\", \"Jet Airways\", \"Jet Airways\", \"Jet Airways\", \"Jet Airways\", \"Jet Airways\", \"Jet Airways\", \"Jet Airways\", \"Jet Airways\", \"Jet Airways\", \"Jet Airways\", \"Jet Airways\", \"Jet Airways\", \"Jet Airways\", \"Jet Airways\", \"Jet Airways\", \"Jet Airways\", \"Jet Airways\", \"Jet Airways\", \"Jet Airways\", \"Jet Airways\", \"Jet Airways\", \"Jet Airways\", \"Jet Airways\", \"Jet Airways\", \"Jet Airways\", \"Jet Airways\", \"Jet Airways\", \"Jet Airways\", \"Jet Airways\", \"Jet Airways\", \"Jet Airways\", \"Jet Airways\", \"Jet Airways\", \"Jet Airways\", \"Jet Airways\", \"Jet Airways\", \"Jet Airways\", \"Jet Airways\", \"Jet Airways\", \"Jet Airways\", \"Jet Airways\", \"Jet Airways\", \"Jet Airways\", \"Jet Airways\", \"Jet Airways\", \"Jet Airways\", \"Jet Airways\", \"Jet Airways\", \"Jet Airways\", \"Jet Airways\", \"Jet Airways\", \"Jet Airways\", \"Jet Airways\", \"Jet Airways\", \"Jet Airways\", \"Jet Airways\", \"Jet Airways\", \"Jet Airways\", \"Jet Airways\", \"Jet Airways\", \"Jet Airways\", \"Jet Airways\", \"Jet Airways\", \"Jet Airways\", \"Jet Airways\", \"Jet Airways\", \"Jet Airways\", \"Jet Airways\", \"Jet Airways\", \"Jet Airways\", \"Jet Airways\", \"Jet Airways\", \"Jet Airways\", \"Jet Airways\", \"Jet Airways\", \"Jet Airways\", \"Jet Airways\", \"Jet Airways\", \"Jet Airways\", \"Jet Airways\", \"Jet Airways\", \"Jet Airways\", \"Jet Airways\", \"Jet Airways\", \"Jet Airways\", \"Jet Airways\", \"Jet Airways\", \"Jet Airways\", \"Jet Airways\", \"Jet Airways\", \"Jet Airways\", \"Jet Airways\", \"Jet Airways\", \"Jet Airways\", \"Jet Airways\", \"Jet Airways\", \"Jet Airways\", \"Jet Airways\", \"Jet Airways\", \"Jet Airways\", \"Jet Airways\", \"Jet Airways\", \"Jet Airways\", \"Jet Airways\", \"Jet Airways\", \"Jet Airways\", \"Jet Airways\", \"Jet Airways\", \"Jet Airways\", \"Jet Airways\", \"Jet Airways\", \"Jet Airways\", \"Jet Airways\", \"Jet Airways\", \"Jet Airways\", \"Jet Airways\", \"Jet Airways\", \"Jet Airways\", \"Jet Airways\", \"Jet Airways\", \"Jet Airways\", \"Jet Airways\", \"Jet Airways\", \"Jet Airways\", \"Jet Airways\", \"Jet Airways\", \"Jet Airways\", \"Jet Airways\", \"Jet Airways\", \"Jet Airways\", \"Jet Airways\", \"Jet Airways\", \"Jet Airways\", \"Jet Airways\", \"Jet Airways\", \"Jet Airways\", \"Jet Airways\", \"Jet Airways\", \"Jet Airways\", \"Jet Airways\", \"Jet Airways\", \"Jet Airways\", \"Jet Airways\", \"Jet Airways\", \"Jet Airways\", \"Jet Airways\", \"Jet Airways\", \"Jet Airways\", \"Jet Airways\", \"Jet Airways\", \"Jet Airways\", \"Jet Airways\", \"Jet Airways\", \"Jet Airways\", \"Jet Airways\", \"Jet Airways\", \"Jet Airways\", \"Jet Airways\", \"Jet Airways\", \"Jet Airways\", \"Jet Airways\", \"Jet Airways\", \"Jet Airways\", \"Jet Airways\", \"Jet Airways\", \"Jet Airways\", \"Jet Airways\", \"Jet Airways\", \"Jet Airways\", \"Jet Airways\", \"Jet Airways\", \"Jet Airways\", \"Jet Airways\", \"Jet Airways\", \"Jet Airways\", \"Jet Airways\", \"Jet Airways\", \"Jet Airways\", \"Jet Airways\", \"Jet Airways\", \"Jet Airways\", \"Jet Airways\", \"Jet Airways\", \"Jet Airways\", \"Jet Airways\", \"Jet Airways\", \"Jet Airways\", \"Jet Airways\", \"Jet Airways\", \"Jet Airways\", \"Jet Airways\", \"Jet Airways\", \"Jet Airways\", \"Jet Airways\", \"Jet Airways\", \"Jet Airways\", \"Jet Airways\", \"Jet Airways\", \"Jet Airways\", \"Jet Airways\", \"Jet Airways\", \"Jet Airways\", \"Jet Airways\", \"Jet Airways\", \"Jet Airways\", \"Jet Airways\", \"Jet Airways\", \"Jet Airways\", \"Jet Airways\", \"Jet Airways\", \"Jet Airways\", \"Jet Airways\", \"Jet Airways\", \"Jet Airways\", \"Jet Airways\", \"Jet Airways\", \"Jet Airways\", \"Jet Airways\", \"Jet Airways\", \"Jet Airways\", \"Jet Airways\", \"Jet Airways\", \"Jet Airways\", \"Jet Airways\", \"Jet Airways\", \"Jet Airways\", \"Jet Airways\", \"Jet Airways\", \"Jet Airways\", \"Jet Airways\", \"Jet Airways\", \"Jet Airways\", \"Jet Airways\", \"Jet Airways\", \"Jet Airways\", \"Jet Airways\", \"Jet Airways\", \"Jet Airways\", \"Jet Airways\", \"Jet Airways\", \"Jet Airways\", \"Jet Airways\", \"Jet Airways\", \"Jet Airways\", \"Jet Airways\", \"Jet Airways\", \"Jet Airways\", \"Jet Airways\", \"Jet Airways\", \"Jet Airways\", \"Jet Airways\", \"Jet Airways\", \"Jet Airways\", \"Jet Airways\", \"Jet Airways\", \"Jet Airways\", \"Jet Airways\", \"Jet Airways\", \"Jet Airways\", \"Jet Airways\", \"Jet Airways\", \"Jet Airways\", \"Jet Airways\", \"Jet Airways\", \"Jet Airways\", \"Jet Airways\", \"Jet Airways\", \"Jet Airways\", \"Jet Airways\", \"Jet Airways\", \"Jet Airways\", \"Jet Airways\", \"Jet Airways\", \"Jet Airways\", \"Jet Airways\", \"Jet Airways\", \"Jet Airways\", \"Jet Airways\", \"Jet Airways\", \"Jet Airways\", \"Jet Airways\", \"Jet Airways\", \"Jet Airways\", \"Jet Airways\", \"Jet Airways\", \"Jet Airways\", \"Jet Airways\", \"Jet Airways\", \"Jet Airways\", \"Jet Airways\", \"Jet Airways\", \"Jet Airways\", \"Jet Airways\", \"Jet Airways\", \"Jet Airways\", \"Jet Airways\", \"Jet Airways\", \"Jet Airways\", \"Jet Airways\", \"Jet Airways\", \"Jet Airways\", \"Jet Airways\", \"Jet Airways\", \"Jet Airways\", \"Jet Airways\", \"Jet Airways\", \"Jet Airways\", \"Jet Airways\", \"Jet Airways\", \"Jet Airways\", \"Jet Airways\", \"Jet Airways\", \"Jet Airways\", \"Jet Airways\", \"Jet Airways\", \"Jet Airways\", \"Jet Airways\", \"Jet Airways\", \"Jet Airways\", \"Jet Airways\", \"Jet Airways\", \"Jet Airways\", \"Jet Airways\", \"Jet Airways\", \"Jet Airways\", \"Jet Airways\", \"Jet Airways\", \"Jet Airways\", \"Jet Airways\", \"Jet Airways\", \"Jet Airways\", \"Jet Airways\", \"Jet Airways\", \"Jet Airways\", \"Jet Airways\", \"Jet Airways\", \"Jet Airways\", \"Jet Airways\", \"Jet Airways\", \"Jet Airways\", \"Jet Airways\", \"Jet Airways\", \"Jet Airways\", \"Jet Airways\", \"Jet Airways\", \"Jet Airways\", \"Jet Airways\", \"Jet Airways\", \"Jet Airways\", \"Jet Airways\", \"Jet Airways\", \"Jet Airways\", \"Jet Airways\", \"Jet Airways\", \"Jet Airways\", \"Jet Airways\", \"Jet Airways\", \"Jet Airways\", \"Jet Airways\", \"Jet Airways\", \"Jet Airways\", \"Jet Airways\", \"Jet Airways\", \"Jet Airways\", \"Jet Airways\", \"Jet Airways\", \"Jet Airways\", \"Jet Airways\", \"Jet Airways\", \"Jet Airways\", \"Jet Airways\", \"Jet Airways\", \"Jet Airways\", \"Jet Airways\", \"Jet Airways\", \"Jet Airways\", \"Jet Airways\", \"Jet Airways\", \"Jet Airways\", \"Jet Airways\", \"Jet Airways\", \"Jet Airways\", \"Jet Airways\", \"Jet Airways\", \"Jet Airways\", \"Jet Airways\", \"Jet Airways\", \"Jet Airways\", \"Jet Airways\", \"Jet Airways\", \"Jet Airways\", \"Jet Airways\", \"Jet Airways\", \"Jet Airways\", \"Jet Airways\", \"Jet Airways\", \"Jet Airways\", \"Jet Airways\", \"Jet Airways\", \"Jet Airways\", \"Jet Airways\", \"Jet Airways\", \"Jet Airways\", \"Jet Airways\", \"Jet Airways\", \"Jet Airways\", \"Jet Airways\", \"Jet Airways\", \"Jet Airways\", \"Jet Airways\", \"Jet Airways\", \"Jet Airways\", \"Jet Airways\", \"Jet Airways\", \"Jet Airways\", \"Jet Airways\", \"Jet Airways\", \"Jet Airways\", \"Jet Airways\", \"Jet Airways\", \"Jet Airways\", \"Jet Airways\", \"Jet Airways\", \"Jet Airways\", \"Jet Airways\", \"Jet Airways\", \"Jet Airways\", \"Jet Airways\", \"Jet Airways\", \"Jet Airways\", \"Jet Airways\", \"Jet Airways\", \"Jet Airways\", \"Jet Airways\", \"Jet Airways\", \"Jet Airways\", \"Jet Airways\", \"Jet Airways\", \"Jet Airways\", \"Jet Airways\", \"Jet Airways\", \"Jet Airways\", \"Jet Airways\", \"Jet Airways\", \"Jet Airways\", \"Jet Airways\", \"Jet Airways\", \"Jet Airways\", \"Jet Airways\", \"Jet Airways\", \"Jet Airways\", \"Jet Airways\", \"Jet Airways\", \"Jet Airways\", \"Jet Airways\", \"Jet Airways\", \"Jet Airways\", \"Jet Airways\", \"Jet Airways\", \"Jet Airways\", \"Jet Airways\", \"Jet Airways\", \"Jet Airways\", \"Jet Airways\", \"Jet Airways\", \"Jet Airways\", \"Jet Airways\", \"Jet Airways\", \"Jet Airways\", \"Jet Airways\", \"Jet Airways\", \"Jet Airways\", \"Jet Airways\", \"Jet Airways\", \"Jet Airways\", \"Jet Airways\", \"Jet Airways\", \"Jet Airways\", \"Jet Airways\", \"Jet Airways\", \"Jet Airways\", \"Jet Airways\", \"Jet Airways\", \"Jet Airways\", \"Jet Airways\", \"Jet Airways\", \"Jet Airways\", \"Jet Airways\", \"Jet Airways\", \"Jet Airways\", \"Jet Airways\", \"Jet Airways\", \"Jet Airways\", \"Jet Airways\", \"Jet Airways\", \"Jet Airways\", \"Jet Airways\", \"Jet Airways\", \"Jet Airways\", \"Jet Airways\", \"Jet Airways\", \"Jet Airways\", \"Jet Airways\", \"Jet Airways\", \"Jet Airways\", \"Jet Airways\", \"Jet Airways\", \"Jet Airways\", \"Jet Airways\", \"Jet Airways\", \"Jet Airways\", \"Jet Airways\", \"Jet Airways\", \"Jet Airways\", \"Jet Airways\", \"Jet Airways\", \"Jet Airways\", \"Jet Airways\", \"Jet Airways\", \"Jet Airways\", \"Jet Airways\", \"Jet Airways\", \"Jet Airways\", \"Jet Airways\", \"Jet Airways\", \"Jet Airways\", \"Jet Airways\", \"Jet Airways\", \"Jet Airways\", \"Jet Airways\", \"Jet Airways\", \"Jet Airways\", \"Jet Airways\", \"Jet Airways\", \"Jet Airways\", \"Jet Airways\", \"Jet Airways\", \"Jet Airways\", \"Jet Airways\", \"Jet Airways\", \"Jet Airways\", \"Jet Airways\", \"Jet Airways\", \"Jet Airways\", \"Jet Airways\", \"Jet Airways\", \"Jet Airways\", \"Jet Airways\", \"Jet Airways\", \"Jet Airways\", \"Jet Airways\", \"Jet Airways\", \"Jet Airways\", \"Jet Airways\", \"Jet Airways\", \"Jet Airways\", \"Jet Airways\", \"Jet Airways\", \"Jet Airways\", \"Jet Airways\", \"Jet Airways\", \"Jet Airways\", \"Jet Airways\", \"Jet Airways\", \"Jet Airways\", \"Jet Airways\", \"Jet Airways\", \"Jet Airways\", \"Jet Airways\", \"Jet Airways\", \"Jet Airways\", \"Jet Airways\", \"Jet Airways\", \"Jet Airways\", \"Jet Airways\", \"Jet Airways\", \"Jet Airways\", \"Jet Airways\", \"Jet Airways\", \"Jet Airways\", \"Jet Airways\", \"Jet Airways\", \"Jet Airways\", \"Jet Airways\", \"Jet Airways\", \"Jet Airways\", \"Jet Airways\", \"Jet Airways\", \"Jet Airways\", \"Jet Airways\", \"Jet Airways\", \"Jet Airways\", \"Jet Airways\", \"Jet Airways\", \"Jet Airways\", \"Jet Airways\", \"Jet Airways\", \"Jet Airways\", \"Jet Airways\", \"Jet Airways\", \"Jet Airways\", \"Jet Airways\", \"Jet Airways\", \"Jet Airways\", \"Jet Airways\", \"Jet Airways\", \"Jet Airways\", \"Jet Airways\", \"Jet Airways\", \"Jet Airways\", \"Jet Airways\", \"Jet Airways\", \"Jet Airways\", \"Jet Airways\", \"Jet Airways\", \"Jet Airways\", \"Jet Airways\", \"Jet Airways\", \"Jet Airways\", \"Jet Airways\", \"Jet Airways\", \"Jet Airways\", \"Jet Airways\", \"Jet Airways\", \"Jet Airways\", \"Jet Airways\", \"Jet Airways\", \"Jet Airways\", \"Jet Airways\", \"Jet Airways\", \"Jet Airways\", \"Jet Airways\", \"Jet Airways\", \"Jet Airways\", \"Jet Airways\", \"Jet Airways\", \"Jet Airways\", \"Jet Airways\", \"Jet Airways\", \"Jet Airways\", \"Jet Airways\", \"Jet Airways\", \"Jet Airways\", \"Jet Airways\", \"Jet Airways\", \"Jet Airways\", \"Jet Airways\", \"Jet Airways\", \"Jet Airways\", \"Jet Airways\", \"Jet Airways\", \"Jet Airways\", \"Jet Airways\", \"Jet Airways\", \"Jet Airways\", \"Jet Airways\", \"Jet Airways\", \"Jet Airways\", \"Jet Airways\", \"Jet Airways\", \"Jet Airways\", \"Jet Airways\", \"Jet Airways\", \"Jet Airways\", \"Jet Airways\", \"Jet Airways\", \"Jet Airways\", \"Jet Airways\", \"Jet Airways\", \"Jet Airways\", \"Jet Airways\", \"Jet Airways\", \"Jet Airways\", \"Jet Airways\", \"Jet Airways\", \"Jet Airways\", \"Jet Airways\", \"Jet Airways\", \"Jet Airways\", \"Jet Airways\", \"Jet Airways\", \"Jet Airways\", \"Jet Airways\", \"Jet Airways\", \"Jet Airways\", \"Jet Airways\", \"Jet Airways\", \"Jet Airways\", \"Jet Airways\", \"Jet Airways\", \"Jet Airways\", \"Jet Airways\", \"Jet Airways\", \"Jet Airways\", \"Jet Airways\", \"Jet Airways\", \"Jet Airways\", \"Jet Airways\", \"Jet Airways\", \"Jet Airways\", \"Jet Airways\", \"Jet Airways\", \"Jet Airways\", \"Jet Airways\", \"Jet Airways\", \"Jet Airways\", \"Jet Airways\", \"Jet Airways\", \"Jet Airways\", \"Jet Airways\", \"Jet Airways\", \"Jet Airways\", \"Jet Airways\", \"Jet Airways\", \"Jet Airways\", \"Jet Airways\", \"Jet Airways\", \"Jet Airways\", \"Jet Airways\", \"Jet Airways\", \"Jet Airways\", \"Jet Airways\", \"Jet Airways\", \"Jet Airways\", \"Jet Airways\", \"Jet Airways\", \"Jet Airways\", \"Jet Airways\", \"Jet Airways\", \"Jet Airways\", \"Jet Airways\", \"Jet Airways\", \"Jet Airways\", \"Jet Airways\", \"Jet Airways\", \"Jet Airways\", \"Jet Airways\", \"Jet Airways\", \"Jet Airways\", \"Jet Airways\", \"Jet Airways\", \"Jet Airways\", \"Jet Airways\", \"Jet Airways\", \"Jet Airways\", \"Jet Airways\", \"Jet Airways\", \"Jet Airways\", \"Jet Airways\", \"Jet Airways\", \"Jet Airways\", \"Jet Airways\", \"Jet Airways\", \"Jet Airways\", \"Jet Airways\", \"Jet Airways\", \"Jet Airways\", \"Jet Airways\", \"Jet Airways\", \"Jet Airways\", \"Jet Airways\", \"Jet Airways\", \"Jet Airways\", \"Jet Airways\", \"Jet Airways\", \"Jet Airways\", \"Jet Airways\", \"Jet Airways\", \"Jet Airways\", \"Jet Airways\", \"Jet Airways\", \"Jet Airways\", \"Jet Airways\", \"Jet Airways\", \"Jet Airways\", \"Jet Airways\", \"Jet Airways\", \"Jet Airways\", \"Jet Airways\", \"Jet Airways\", \"Jet Airways\", \"Jet Airways\", \"Jet Airways\", \"Jet Airways\", \"Jet Airways\", \"Jet Airways\", \"Jet Airways\", \"Jet Airways\", \"Jet Airways\", \"Jet Airways\", \"Jet Airways\", \"Jet Airways\", \"Jet Airways\", \"Jet Airways\", \"Jet Airways\", \"Jet Airways\", \"Jet Airways\", \"Jet Airways\", \"Jet Airways\", \"Jet Airways\", \"Jet Airways\", \"Jet Airways\", \"Jet Airways\", \"Jet Airways\", \"Jet Airways\", \"Jet Airways\", \"Jet Airways\", \"Jet Airways\", \"Jet Airways\", \"Jet Airways\", \"Jet Airways\", \"Jet Airways\", \"Jet Airways\", \"Jet Airways\", \"Jet Airways\", \"Jet Airways\", \"Jet Airways\", \"Jet Airways\", \"Jet Airways\", \"Jet Airways\", \"Jet Airways\", \"Jet Airways\", \"Jet Airways\", \"Jet Airways\", \"Jet Airways\", \"Jet Airways\", \"Jet Airways\", \"Jet Airways\", \"Jet Airways\", \"Jet Airways\", \"Jet Airways\", \"Jet Airways\", \"Jet Airways\", \"Jet Airways\", \"Jet Airways\", \"Jet Airways\", \"Jet Airways\", \"Jet Airways\", \"Jet Airways\", \"Jet Airways\", \"Jet Airways\", \"Jet Airways\", \"Jet Airways\", \"Jet Airways\", \"Jet Airways\", \"Jet Airways\", \"Jet Airways\", \"Jet Airways\", \"Jet Airways\", \"Jet Airways\", \"Jet Airways\", \"Jet Airways\", \"Jet Airways\", \"Jet Airways\", \"Jet Airways\", \"Jet Airways\", \"Jet Airways\", \"Jet Airways\", \"Jet Airways\", \"Jet Airways\", \"Jet Airways\", \"Jet Airways\", \"Jet Airways\", \"Jet Airways\", \"Jet Airways\", \"Jet Airways\", \"Jet Airways\", \"Jet Airways\", \"Jet Airways\", \"Jet Airways\", \"Jet Airways\", \"Jet Airways\", \"Jet Airways\", \"Jet Airways\", \"Jet Airways\", \"Jet Airways\", \"Jet Airways\", \"Jet Airways\", \"Jet Airways\", \"Jet Airways\", \"Jet Airways\", \"Jet Airways\", \"Jet Airways\", \"Jet Airways\", \"Jet Airways\", \"Jet Airways\", \"Jet Airways\", \"Jet Airways\", \"Jet Airways\", \"Jet Airways\", \"Jet Airways\", \"Jet Airways\", \"Jet Airways\", \"Jet Airways\", \"Jet Airways\", \"Jet Airways\", \"Jet Airways\", \"Jet Airways\", \"Jet Airways\", \"Jet Airways\", \"Jet Airways\", \"Jet Airways\", \"Jet Airways\", \"Jet Airways\", \"Jet Airways\", \"Jet Airways\", \"Jet Airways\", \"Jet Airways\", \"Jet Airways\", \"Jet Airways\", \"Jet Airways\", \"Jet Airways\", \"Jet Airways\", \"Jet Airways\", \"Jet Airways\", \"Jet Airways\", \"Jet Airways\", \"Jet Airways\", \"Jet Airways\", \"Jet Airways\", \"Jet Airways\", \"Jet Airways\", \"Jet Airways\", \"Jet Airways\", \"Jet Airways\", \"Jet Airways\", \"Jet Airways\", \"Jet Airways\", \"Jet Airways\", \"Jet Airways\", \"Jet Airways\", \"Jet Airways\", \"Jet Airways\", \"Jet Airways\", \"Jet Airways\", \"Jet Airways\", \"Jet Airways\", \"Jet Airways\", \"Jet Airways\", \"Jet Airways\", \"Jet Airways\", \"Jet Airways\", \"Jet Airways\", \"Jet Airways\", \"Jet Airways\", \"Jet Airways\", \"Jet Airways\", \"Jet Airways\", \"Jet Airways\", \"Jet Airways\", \"Jet Airways\", \"Jet Airways\", \"Jet Airways\", \"Jet Airways\", \"Jet Airways\", \"Jet Airways\", \"Jet Airways\", \"Jet Airways\", \"Jet Airways\", \"Jet Airways\", \"Jet Airways\", \"Jet Airways\", \"Jet Airways\", \"Jet Airways\", \"Jet Airways\", \"Jet Airways\", \"Jet Airways\", \"Jet Airways\", \"Jet Airways\", \"Jet Airways\", \"Jet Airways\", \"Jet Airways\", \"Jet Airways\", \"Jet Airways\", \"Jet Airways\", \"Jet Airways\", \"Jet Airways\", \"Jet Airways\", \"Jet Airways\", \"Jet Airways\", \"Jet Airways\", \"Jet Airways\", \"Jet Airways\", \"Jet Airways\", \"Jet Airways\", \"Jet Airways\", \"Jet Airways\", \"Jet Airways\", \"Jet Airways\", \"Jet Airways\", \"Jet Airways\", \"Jet Airways\", \"Jet Airways\", \"Jet Airways\", \"Jet Airways\", \"Jet Airways\", \"Jet Airways\", \"Jet Airways\", \"Jet Airways\", \"Jet Airways\", \"Jet Airways\", \"Jet Airways\", \"Jet Airways\", \"Jet Airways\", \"Jet Airways\", \"Jet Airways\", \"Jet Airways\", \"Jet Airways\", \"Jet Airways\", \"Jet Airways\", \"Jet Airways\", \"Jet Airways\", \"Jet Airways\", \"Jet Airways\", \"Jet Airways\", \"Jet Airways\", \"Jet Airways\", \"Jet Airways\", \"Jet Airways\", \"Jet Airways\", \"Jet Airways\", \"Jet Airways\", \"Jet Airways\", \"Jet Airways\", \"Jet Airways\", \"Jet Airways\", \"Jet Airways\", \"Jet Airways\", \"Jet Airways\", \"Jet Airways\", \"Jet Airways\", \"Jet Airways\", \"Jet Airways\", \"Jet Airways\", \"Jet Airways\", \"Jet Airways\", \"Jet Airways\", \"Jet Airways\", \"Jet Airways\", \"Jet Airways\", \"Jet Airways\", \"Jet Airways\", \"Jet Airways\", \"Jet Airways\", \"Jet Airways\", \"Jet Airways\", \"Jet Airways\", \"Jet Airways\", \"Jet Airways\", \"Jet Airways\", \"Jet Airways\", \"Jet Airways\", \"Jet Airways\", \"Jet Airways\", \"Jet Airways\", \"Jet Airways\", \"Jet Airways\", \"Jet Airways\", \"Jet Airways\", \"Jet Airways\", \"Jet Airways\", \"Jet Airways\", \"Jet Airways\", \"Jet Airways\", \"Jet Airways\", \"Jet Airways\", \"Jet Airways\", \"Jet Airways\", \"Jet Airways\", \"Jet Airways\", \"Jet Airways\", \"Jet Airways\", \"Jet Airways\", \"Jet Airways\", \"Jet Airways\", \"Jet Airways\", \"Jet Airways\", \"Jet Airways\", \"Jet Airways\", \"Jet Airways\", \"Jet Airways\", \"Jet Airways\", \"Jet Airways\", \"Jet Airways\", \"Jet Airways\", \"Jet Airways\", \"Jet Airways\", \"Jet Airways\", \"Jet Airways\", \"Jet Airways\", \"Jet Airways\", \"Jet Airways\", \"Jet Airways\", \"Jet Airways\", \"Jet Airways\", \"Jet Airways\", \"Jet Airways\", \"Jet Airways\", \"Jet Airways\", \"Jet Airways\", \"Jet Airways\", \"Jet Airways\", \"Jet Airways\", \"Jet Airways\", \"Jet Airways\", \"Jet Airways\", \"Jet Airways\", \"Jet Airways\", \"Jet Airways\", \"Jet Airways\", \"Jet Airways\", \"Jet Airways\", \"Jet Airways\", \"Jet Airways\", \"Jet Airways\", \"Jet Airways\", \"Jet Airways\", \"Jet Airways\", \"Jet Airways\", \"Jet Airways\", \"Jet Airways\", \"Jet Airways\", \"Jet Airways\", \"Jet Airways\", \"Jet Airways\", \"Jet Airways\", \"Jet Airways\", \"Jet Airways\", \"Jet Airways\", \"Jet Airways\", \"Jet Airways\", \"Jet Airways\", \"Jet Airways\", \"Jet Airways\", \"Jet Airways\", \"Jet Airways\", \"Jet Airways\", \"Jet Airways\", \"Jet Airways\", \"Jet Airways\", \"Jet Airways\", \"Jet Airways\", \"Jet Airways\", \"Jet Airways\", \"Jet Airways\", \"Jet Airways\", \"Jet Airways\", \"Jet Airways\", \"Jet Airways\", \"Jet Airways\", \"Jet Airways\", \"Jet Airways\", \"Jet Airways\", \"Jet Airways\", \"Jet Airways\", \"Jet Airways\", \"Jet Airways\", \"Jet Airways\", \"Jet Airways\", \"Jet Airways\", \"Jet Airways\", \"Jet Airways\", \"Jet Airways\", \"Jet Airways\", \"Jet Airways\", \"Jet Airways\", \"Jet Airways\", \"Jet Airways\", \"Jet Airways\", \"Jet Airways\", \"Jet Airways\", \"Jet Airways\", \"Jet Airways\", \"Jet Airways\", \"Jet Airways\", \"Jet Airways\", \"Jet Airways\", \"Jet Airways\", \"Jet Airways\", \"Jet Airways\", \"Jet Airways\", \"Jet Airways\", \"Jet Airways\", \"Jet Airways\", \"Jet Airways\", \"Jet Airways\", \"Jet Airways\", \"Jet Airways\", \"Jet Airways\", \"Jet Airways\", \"Jet Airways\", \"Jet Airways\", \"Jet Airways\", \"Jet Airways\", \"Jet Airways\", \"Jet Airways\", \"Jet Airways\", \"Jet Airways\", \"Jet Airways\", \"Jet Airways\", \"Jet Airways\", \"Jet Airways\", \"Jet Airways\", \"Jet Airways\", \"Jet Airways\", \"Jet Airways\", \"Jet Airways\", \"Jet Airways\", \"Jet Airways\", \"Jet Airways\", \"Jet Airways\", \"Jet Airways\", \"Jet Airways\", \"Jet Airways\", \"Jet Airways\", \"Jet Airways\", \"Jet Airways\", \"Jet Airways\", \"Jet Airways\", \"Jet Airways\", \"Jet Airways\", \"Jet Airways\", \"Jet Airways\", \"Jet Airways\", \"Jet Airways\", \"Jet Airways\", \"Jet Airways\", \"Jet Airways\", \"Jet Airways\", \"Jet Airways\", \"Jet Airways\", \"Jet Airways\", \"Jet Airways\", \"Jet Airways\", \"Jet Airways\", \"Jet Airways\", \"Jet Airways\", \"Jet Airways\", \"Jet Airways\", \"Jet Airways\", \"Jet Airways\", \"Jet Airways\", \"Jet Airways\", \"Jet Airways\", \"Jet Airways\", \"Jet Airways\", \"Jet Airways\", \"Jet Airways\", \"Jet Airways\", \"Jet Airways\", \"Jet Airways\", \"Jet Airways\", \"Jet Airways\", \"Jet Airways\", \"Jet Airways\", \"Jet Airways\", \"Jet Airways\", \"Jet Airways\", \"Jet Airways\", \"Jet Airways\", \"Jet Airways\", \"Jet Airways\", \"Jet Airways\", \"Jet Airways\", \"Jet Airways\", \"Jet Airways\", \"Jet Airways\", \"Jet Airways\", \"Jet Airways\", \"Jet Airways\", \"Jet Airways\", \"Jet Airways\", \"Jet Airways\", \"Jet Airways\", \"Jet Airways\", \"Jet Airways\", \"Jet Airways\", \"Jet Airways\", \"Jet Airways\", \"Jet Airways\", \"Jet Airways\", \"Jet Airways\", \"Jet Airways\", \"Jet Airways\", \"Jet Airways\", \"Jet Airways\", \"Jet Airways\", \"Jet Airways\", \"Jet Airways\", \"Jet Airways\", \"Jet Airways\", \"Jet Airways\", \"Jet Airways\", \"Jet Airways\", \"Jet Airways\", \"Jet Airways\", \"Jet Airways\", \"Jet Airways\", \"Jet Airways\", \"Jet Airways\", \"Jet Airways\", \"Jet Airways\", \"Jet Airways\", \"Jet Airways\", \"Jet Airways\", \"Jet Airways\", \"Jet Airways\", \"Jet Airways\", \"Jet Airways\", \"Jet Airways\", \"Jet Airways\", \"Jet Airways\", \"Jet Airways\", \"Jet Airways\", \"Jet Airways\", \"Jet Airways\", \"Jet Airways\", \"Jet Airways\", \"Jet Airways\", \"Jet Airways\", \"Jet Airways\", \"Jet Airways\", \"Jet Airways\", \"Jet Airways\", \"Jet Airways\", \"Jet Airways\", \"Jet Airways\", \"Jet Airways\", \"Jet Airways\", \"Jet Airways\", \"Jet Airways\", \"Jet Airways\", \"Jet Airways\", \"Jet Airways\", \"Jet Airways\", \"Jet Airways\", \"Jet Airways\", \"Jet Airways\", \"Jet Airways\", \"Jet Airways\", \"Jet Airways\", \"Jet Airways\", \"Jet Airways\", \"Jet Airways\", \"Jet Airways\", \"Jet Airways\", \"Jet Airways\", \"Jet Airways\", \"Jet Airways\", \"Jet Airways\", \"Jet Airways\", \"Jet Airways\", \"Jet Airways\", \"Jet Airways\", \"Jet Airways\", \"Jet Airways\", \"Jet Airways\", \"Jet Airways\", \"Jet Airways\", \"Jet Airways\", \"Jet Airways\", \"Jet Airways\", \"Jet Airways\", \"Jet Airways\", \"Jet Airways\", \"Jet Airways\", \"Jet Airways\", \"Jet Airways\", \"Jet Airways\", \"Jet Airways\", \"Jet Airways\", \"Jet Airways\", \"Jet Airways\", \"Jet Airways\", \"Jet Airways\", \"Jet Airways\", \"Jet Airways\", \"Jet Airways\", \"Jet Airways\", \"Jet Airways\", \"Jet Airways\", \"Jet Airways\", \"Jet Airways\", \"Jet Airways\", \"Jet Airways\", \"Jet Airways\", \"Jet Airways\", \"Jet Airways\", \"Jet Airways\", \"Jet Airways\", \"Jet Airways\", \"Jet Airways\", \"Jet Airways\", \"Jet Airways\", \"Jet Airways\", \"Jet Airways\", \"Jet Airways\", \"Jet Airways\", \"Jet Airways\", \"Jet Airways\", \"Jet Airways\", \"Jet Airways\", \"Jet Airways\", \"Jet Airways\", \"Jet Airways\", \"Jet Airways\", \"Jet Airways\", \"Jet Airways\", \"Jet Airways\", \"Jet Airways\", \"Jet Airways\", \"Jet Airways\", \"Jet Airways\", \"Jet Airways\", \"Jet Airways\", \"Jet Airways\", \"Jet Airways\", \"Jet Airways\", \"Jet Airways\", \"Jet Airways\", \"Jet Airways\", \"Jet Airways\", \"Jet Airways\", \"Jet Airways\", \"Jet Airways\", \"Jet Airways\", \"Jet Airways\", \"Jet Airways\", \"Jet Airways\", \"Jet Airways\", \"Jet Airways\", \"Jet Airways\", \"Jet Airways\", \"Jet Airways\", \"Jet Airways\", \"Jet Airways\", \"Jet Airways\", \"Jet Airways\", \"Jet Airways\", \"Jet Airways\", \"Jet Airways\", \"Jet Airways\", \"Jet Airways\", \"Jet Airways\", \"Jet Airways\", \"Jet Airways\", \"Jet Airways\", \"Jet Airways\", \"Jet Airways\", \"Jet Airways\", \"Jet Airways\", \"Jet Airways\", \"Jet Airways\", \"Jet Airways\", \"Jet Airways\", \"Jet Airways\", \"Jet Airways\", \"Jet Airways\", \"Jet Airways\", \"Jet Airways\", \"Jet Airways\", \"Jet Airways\", \"Jet Airways\", \"Jet Airways\", \"Jet Airways\", \"Jet Airways\", \"Jet Airways\", \"Jet Airways\", \"Jet Airways\", \"Jet Airways\", \"Jet Airways\", \"Jet Airways\", \"Jet Airways\", \"Jet Airways\", \"Jet Airways\", \"Jet Airways\", \"Jet Airways\", \"Jet Airways\", \"Jet Airways\", \"Jet Airways\", \"Jet Airways\", \"Jet Airways\", \"Jet Airways\", \"Jet Airways\", \"Jet Airways\", \"Jet Airways\", \"Jet Airways\", \"Jet Airways\", \"Jet Airways\", \"Jet Airways\", \"Jet Airways\", \"Jet Airways\", \"Jet Airways\", \"Jet Airways\", \"Jet Airways\", \"Jet Airways\", \"Jet Airways\", \"Jet Airways\", \"Jet Airways\", \"Jet Airways\", \"Jet Airways\", \"Jet Airways\", \"Jet Airways\", \"Jet Airways\", \"Jet Airways\", \"Jet Airways\", \"Jet Airways\", \"Jet Airways\", \"Jet Airways\", \"Jet Airways\", \"Jet Airways\", \"Jet Airways\", \"Jet Airways\", \"Jet Airways\", \"Jet Airways\", \"Jet Airways\", \"Jet Airways\", \"Jet Airways\", \"Jet Airways\", \"Jet Airways\", \"Jet Airways\", \"Jet Airways\", \"Jet Airways\", \"Jet Airways\", \"Jet Airways\", \"Jet Airways\", \"Jet Airways\", \"Jet Airways\", \"Jet Airways\", \"Jet Airways\", \"Jet Airways\", \"Jet Airways\", \"Jet Airways\", \"Jet Airways\", \"Jet Airways\", \"Jet Airways\", \"Jet Airways\", \"Jet Airways\", \"Jet Airways\", \"Jet Airways\", \"Jet Airways\", \"Jet Airways\", \"Jet Airways\", \"Jet Airways\", \"Jet Airways\", \"Jet Airways\", \"Jet Airways\", \"Jet Airways\", \"Jet Airways\", \"Jet Airways\", \"Jet Airways\", \"Jet Airways\", \"Jet Airways\", \"Jet Airways\", \"Jet Airways\", \"Jet Airways\", \"Jet Airways\", \"Jet Airways\", \"Jet Airways\", \"Jet Airways\", \"Jet Airways\", \"Jet Airways\", \"Jet Airways\", \"Jet Airways\", \"Jet Airways\", \"Jet Airways\", \"Jet Airways\", \"Jet Airways\", \"Jet Airways\", \"Jet Airways\", \"Jet Airways\", \"Jet Airways\", \"Jet Airways\", \"Jet Airways\", \"Jet Airways\", \"Jet Airways\", \"Jet Airways\", \"Jet Airways\", \"Jet Airways\", \"Jet Airways\", \"Jet Airways\", \"Jet Airways\", \"Jet Airways\", \"Jet Airways\", \"Jet Airways\", \"Jet Airways\", \"Jet Airways\", \"Jet Airways\", \"Jet Airways\", \"Jet Airways\", \"Jet Airways\", \"Jet Airways\", \"Jet Airways\", \"Jet Airways\", \"Jet Airways\", \"Jet Airways\", \"Jet Airways\", \"Jet Airways\", \"Jet Airways\", \"Jet Airways\", \"Jet Airways\", \"Jet Airways\", \"Jet Airways\", \"Jet Airways\", \"Jet Airways\", \"Jet Airways\", \"Jet Airways\", \"Jet Airways\", \"Jet Airways\", \"Jet Airways\", \"Jet Airways\", \"Jet Airways\", \"Jet Airways\", \"Jet Airways\", \"Jet Airways\", \"Jet Airways\", \"Jet Airways\", \"Jet Airways\", \"Jet Airways\", \"Jet Airways\", \"Jet Airways\", \"Jet Airways\", \"Jet Airways\", \"Jet Airways\", \"Jet Airways\", \"Jet Airways\", \"Jet Airways\", \"Jet Airways\", \"Jet Airways\", \"Jet Airways\", \"Jet Airways\", \"Jet Airways\", \"Jet Airways\", \"Jet Airways\", \"Jet Airways\", \"Jet Airways\", \"Jet Airways\", \"Jet Airways\", \"Jet Airways\", \"Jet Airways\", \"Jet Airways\", \"Jet Airways\", \"Jet Airways\", \"Jet Airways\", \"Jet Airways\", \"Jet Airways\", \"Jet Airways\", \"Jet Airways\", \"Jet Airways\", \"Jet Airways\", \"Jet Airways\", \"Jet Airways\", \"Jet Airways\", \"Jet Airways\", \"Jet Airways\", \"Jet Airways\", \"Jet Airways\", \"Jet Airways\", \"Jet Airways\", \"Jet Airways\", \"Jet Airways\", \"Jet Airways\", \"Jet Airways\", \"Jet Airways\", \"Jet Airways\", \"Jet Airways\", \"Jet Airways\", \"Jet Airways\", \"Jet Airways\", \"Jet Airways\", \"Jet Airways\", \"Jet Airways\", \"Jet Airways\", \"Jet Airways\", \"Jet Airways\", \"Jet Airways\", \"Jet Airways\", \"Jet Airways\", \"Jet Airways\", \"Jet Airways\", \"Jet Airways\", \"Jet Airways\", \"Jet Airways\", \"Jet Airways\", \"Jet Airways\", \"Jet Airways\", \"Jet Airways\", \"Jet Airways\", \"Jet Airways\", \"Jet Airways\", \"Jet Airways\", \"Jet Airways\", \"Jet Airways\", \"Jet Airways\", \"Jet Airways\", \"Jet Airways\", \"Jet Airways\", \"Jet Airways\", \"Jet Airways\", \"Jet Airways\", \"Jet Airways\", \"Jet Airways\", \"Jet Airways\", \"Jet Airways\", \"Jet Airways\", \"Jet Airways\", \"Jet Airways\", \"Jet Airways\", \"Jet Airways\", \"Jet Airways\", \"Jet Airways\", \"Jet Airways\", \"Jet Airways\", \"Jet Airways\", \"Jet Airways\", \"Jet Airways\", \"Jet Airways\", \"Jet Airways\", \"Jet Airways\", \"Jet Airways\", \"Jet Airways\", \"Jet Airways\", \"Jet Airways\", \"Jet Airways\", \"Jet Airways\", \"Jet Airways\", \"Jet Airways\", \"Jet Airways\", \"Jet Airways\", \"Jet Airways\", \"Jet Airways\", \"Jet Airways\", \"Jet Airways\", \"Jet Airways\", \"Jet Airways\", \"Jet Airways\", \"Jet Airways\", \"Jet Airways\", \"Jet Airways\", \"Jet Airways\", \"Jet Airways\", \"Jet Airways\", \"Jet Airways\", \"Jet Airways\", \"Jet Airways\", \"Jet Airways\", \"Jet Airways\", \"Jet Airways\", \"Jet Airways\", \"Jet Airways\", \"Jet Airways\", \"Jet Airways\", \"Jet Airways\", \"Jet Airways\", \"Jet Airways\", \"Jet Airways\", \"Jet Airways\", \"Jet Airways\", \"Jet Airways\", \"Jet Airways\", \"Jet Airways\", \"Jet Airways\", \"Jet Airways\", \"Jet Airways\", \"Jet Airways\", \"Jet Airways\", \"Jet Airways\", \"Jet Airways\", \"Jet Airways\", \"Jet Airways\", \"Jet Airways\", \"Jet Airways\", \"Jet Airways\", \"Jet Airways\", \"Jet Airways\", \"Jet Airways\", \"Jet Airways\", \"Jet Airways\", \"Jet Airways\", \"Jet Airways\", \"Jet Airways\", \"Jet Airways\", \"Jet Airways\", \"Jet Airways\", \"Jet Airways\", \"Jet Airways\", \"Jet Airways\", \"Jet Airways\", \"Jet Airways\", \"Jet Airways\", \"Jet Airways\", \"Jet Airways\", \"Jet Airways\", \"Jet Airways\", \"Jet Airways\", \"Jet Airways\", \"Jet Airways\", \"Jet Airways\", \"Jet Airways\", \"Jet Airways\", \"Jet Airways\", \"Jet Airways\", \"Jet Airways\", \"Jet Airways\", \"Jet Airways\", \"Jet Airways\", \"Jet Airways\", \"Jet Airways\", \"Jet Airways\", \"Jet Airways\", \"Jet Airways\", \"Jet Airways\", \"Jet Airways\", \"Jet Airways\", \"Jet Airways\", \"Jet Airways\", \"Jet Airways\", \"Jet Airways\", \"Jet Airways\", \"Jet Airways\", \"Jet Airways\", \"Jet Airways\", \"Jet Airways\", \"Jet Airways\", \"Jet Airways\", \"Jet Airways\", \"Jet Airways\", \"Jet Airways\", \"Jet Airways\", \"Jet Airways\", \"Jet Airways\", \"Jet Airways\", \"Jet Airways\", \"Jet Airways\", \"Jet Airways\", \"Jet Airways\", \"Jet Airways\", \"Jet Airways\", \"Jet Airways\", \"Jet Airways\", \"Jet Airways\", \"Jet Airways\", \"Jet Airways\", \"Jet Airways\", \"Jet Airways\"], \"x0\": \" \", \"xaxis\": \"x\", \"y\": [13882, 11087, 22270, 11087, 9663, 10262, 12898, 7757, 13292, 10919, 12373, 19225, 14924, 12373, 11150, 7202, 12121, 14231, 5678, 9134, 12819, 10262, 10844, 7229, 13941, 13712, 13014, 7064, 10703, 13817, 6478, 8040, 14300, 14781, 14939, 10262, 13029, 15129, 13555, 17024, 15554, 9663, 13044, 14388, 10262, 15129, 13376, 4030, 17024, 10844, 15318, 9270, 14781, 8586, 14300, 10844, 17024, 9314, 12898, 6540, 5177, 14676, 9663, 13044, 9663, 10262, 5678, 9663, 10539, 8016, 11087, 12471, 10262, 7229, 10844, 15129, 4995, 7229, 4995, 13014, 18799, 4995, 13843, 17024, 13555, 10844, 10577, 10844, 5769, 14714, 13014, 13502, 14781, 8529, 4030, 10844, 10262, 12898, 10844, 7229, 7832, 10368, 12242, 9134, 10844, 14714, 9899, 10262, 8016, 10262, 11507, 14781, 16079, 12898, 9483, 18804, 16079, 7229, 10953, 16079, 11507, 7229, 4544, 6540, 7754, 10262, 8016, 14231, 6224, 11087, 15129, 10262, 16079, 13292, 12898, 11087, 13292, 13731, 13044, 12898, 12242, 14388, 13014, 16289, 10844, 5678, 14714, 5198, 12373, 10844, 9663, 9663, 7064, 10262, 15339, 5177, 7229, 14388, 13082, 12583, 10844, 7229, 8529, 26890, 5177, 9663, 14714, 5406, 14237, 12373, 17024, 14053, 10368, 26890, 7832, 14388, 7832, 12898, 12898, 10262, 10031, 12384, 7757, 17261, 7229, 13759, 10262, 19828, 7229, 10703, 14151, 8586, 5443, 10539, 7229, 4050, 14151, 11134, 14714, 7229, 5678, 12446, 16704, 9134, 8586, 7229, 6144, 10844, 10368, 9134, 13376, 10844, 9663, 12373, 10262, 6540, 15554, 7438, 12692, 13817, 10703, 13817, 27210, 13941, 5198, 5406, 12898, 14781, 9899, 13029, 19225, 12898, 11822, 6017, 14714, 8586, 10262, 8586, 13292, 13067, 15554, 14781, 13376, 2071, 13067, 16263, 16704, 5608, 13941, 10976, 10031, 12604, 5406, 5963, 10368, 4544, 4995, 10844, 10844, 9663, 13292, 14441, 4050, 8040, 10031, 10368, 4995, 15129, 15554, 3359, 10844, 13357, 13292, 10031, 7229, 16704, 7229, 13848, 13941, 7229, 8529, 8016, 13029, 15129, 10368, 15554, 26890, 13067, 4544, 10844, 15554, 10262, 10262, 10262, 13882, 12681, 8586, 12692, 5678, 10844, 7280, 13941, 11467, 8016, 12692, 4995, 12898, 10262, 15149, 13712, 11134, 10844, 14571, 12121, 12373, 10262, 12898, 12681, 10262, 13014, 17234, 19907, 8728, 7229, 7832, 11150, 25735, 16263, 14237, 10262, 10262, 12898, 27992, 13941, 14388, 10844, 10262, 12898, 13941, 12373, 26890, 10368, 11507, 26890, 13817, 13364, 17261, 14151, 12557, 10844, 9663, 10262, 8016, 10262, 7229, 4995, 6144, 15129, 12898, 5678, 2228, 7757, 13029, 14237, 14924, 10844, 7064, 10844, 6144, 12373, 16736, 20064, 8066, 20800, 13941, 5198, 7229, 10262, 12819, 7757, 13014, 12681, 3210, 14781, 14178, 8066, 8586, 13044, 10262, 16389, 8016, 10844, 14714, 10844, 14714, 9663, 13941, 5963, 13014, 9663, 21219, 15129, 4050, 15129, 12373, 7064, 16289, 5678, 14388, 7229, 13044, 13882, 8147, 14781, 14151, 9663, 8367, 13376, 13067, 4995, 15554, 9663, 14151, 10844, 13817, 7229, 11467, 10262, 2071, 12284, 4544, 16079, 7064, 15554, 14571, 14231, 15025, 26890, 15103, 8586, 10844, 12898, 8586, 13014, 13941, 14151, 12898, 11455, 13376, 10844, 10577, 12032, 10844, 8016, 10844, 9663, 14781, 12898, 9663, 14178, 13376, 14151, 4544, 4544, 14781, 5678, 18804, 12373, 5678, 4544, 14781, 14053, 10262, 12898, 16079, 15129, 10844, 13292, 15129, 7832, 4256, 7229, 14151, 15129, 13029, 12692, 11087, 14781, 3702, 13555, 4030, 16736, 10368, 3502, 4544, 24115, 7229, 14571, 6960, 16757, 16079, 13067, 13941, 5406, 9134, 7832, 14815, 12373, 13941, 16289, 8016, 14939, 25735, 13817, 14151, 7229, 16079, 54826, 10368, 12898, 18804, 6287, 7229, 4544, 16079, 11992, 15129, 16022, 10562, 1840, 3210, 7341, 11087, 5963, 8529, 18371, 12692, 7229, 10919, 11702, 8040, 15129, 13067, 12898, 9296, 10262, 11087, 13376, 14300, 12373, 11087, 11841, 9663, 14714, 8529, 7229, 10368, 15764, 14714, 10262, 15318, 5608, 12681, 10844, 5678, 12719, 7229, 16079, 7754, 14714, 7229, 14237, 13882, 9663, 16704, 7832, 13555, 16704, 27992, 11134, 14571, 4544, 13376, 11087, 9899, 13817, 19329, 16289, 9663, 14714, 10919, 14388, 15129, 10262, 13817, 13626, 14388, 14781, 16079, 12819, 9663, 15554, 13067, 9663, 12284, 17024, 14151, 14151, 14231, 14714, 17471, 8016, 11627, 14714, 14151, 12898, 12373, 8016, 15554, 11841, 10577, 15129, 14781, 7229, 15544, 17024, 4050, 26890, 10844, 8849, 14151, 9899, 12242, 10368, 10262, 11134, 13817, 10919, 16079, 10262, 8016, 16289, 10262, 12373, 10844, 21954, 11627, 13731, 6992, 13941, 14924, 18371, 13941, 12681, 8016, 16736, 10031, 4030, 16704, 5678, 7064, 10262, 13941, 7757, 10031, 11087, 12373, 13014, 10262, 7064, 18371, 10368, 10262, 15129, 14388, 4544, 5198, 14781, 8016, 14388, 14939, 14781, 13067, 26890, 9134, 14571, 9663, 14571, 17024, 12898, 13376, 9905, 17471, 15129, 11467, 10262, 17501, 14781, 13029, 10844, 7229, 4030, 12898, 12384, 14231, 15129, 13292, 14151, 4995, 9314, 8016, 8016, 10844, 12692, 14781, 7229, 13941, 12295, 12898, 19225, 13555, 13584, 13180, 14151, 10262, 12384, 9314, 9314, 11848, 10118, 14388, 14300, 17261, 12373, 13994, 15974, 15129, 11316, 10262, 14231, 13376, 10262, 7832, 4050, 10844, 14189, 8586, 9899, 14571, 4544, 7202, 15554, 9314, 4995, 7832, 8586, 13292, 10368, 7412, 15554, 36235, 10844, 27210, 8355, 6478, 12681, 15129, 14714, 10262, 10031, 12819, 22270, 10844, 7229, 10368, 12898, 12121, 12284, 4995, 17996, 15554, 12819, 3205, 12898, 9663, 8040, 8016, 7229, 10844, 12284, 13994, 9483, 5198, 10368, 10262, 14300, 7229, 8040, 4995, 10844, 4995, 13014, 7229, 3210, 17024, 6144, 3702, 12384, 10577, 16736, 10262, 10953, 12373, 14151, 12121, 10844, 8586, 13759, 16079, 10844, 8066, 14053, 12284, 7064, 9663, 10262, 14151, 4030, 14231, 10919, 14231, 14714, 12692, 9689, 13626, 12121, 9134, 15129, 2759, 6144, 9663, 5769, 12373, 14300, 7280, 13044, 8586, 15554, 14388, 13029, 10118, 10262, 2071, 7832, 14237, 13082, 13941, 13555, 15812, 14781, 14151, 10262, 7229, 11134, 6540, 6224, 16079, 13067, 14151, 11538, 17024, 22270, 12692, 16736, 11134, 16914, 8541, 7064, 14781, 13584, 12373, 16079, 7229, 17471, 14781, 14571, 14714, 10262, 10919, 10539, 10262, 10262, 5678, 12347, 12384, 10909, 12898, 10031, 14714, 12898, 5678, 12373, 14151, 13843, 7229, 4995, 10262, 13029, 14053, 26890, 12681, 13059, 8586, 13029, 10844, 11134, 11087, 17531, 4030, 13555, 13029, 9663, 4050, 14714, 4544, 13067, 16704, 13376, 13584, 25735, 4544, 10844, 12557, 9564, 13817, 12384, 11087, 11841, 12373, 12898, 10844, 7064, 10844, 19595, 13941, 11087, 22270, 14714, 14571, 7064, 15129, 5769, 13044, 15129, 16079, 54826, 13067, 13817, 26890, 9412, 10844, 16704, 10262, 11467, 10844, 17234, 15864, 7229, 13014, 13292, 15129, 12373, 11245, 10056, 10539, 13014, 12373, 10262, 4995, 7438, 16736, 35185, 10844, 12898, 13067, 14714, 13994, 8016, 6017, 12273, 5678, 12373, 10661, 13067, 10844, 6542, 12239, 14388, 14571, 8586, 14388, 13044, 14714, 6017, 14714, 11467, 12242, 14781, 14151, 10929, 12692, 12373, 19225, 14053, 7757, 5678, 12373, 5198, 15029, 10909, 10262, 8781, 20120, 16736, 13067, 14388, 16704, 13029, 7064, 13941, 14781, 2071, 4256, 12384, 12242, 11467, 14781, 17261, 10368, 8586, 12142, 14714, 10262, 13014, 14781, 10844, 14714, 9314, 5198, 10539, 14676, 6017, 4544, 7229, 9663, 8529, 4995, 7229, 12898, 14571, 8040, 14231, 8529, 16704, 13374, 16079, 10262, 9663, 9663, 10262, 3210, 11664, 11087, 5608, 17261, 15129, 14714, 9358, 5678, 14571, 12681, 17261, 10844, 14714, 11087, 14571, 14676, 17261, 13941, 8016, 12898, 7229, 16736, 10844, 16736, 10262, 5769, 6136, 11087, 12898, 14714, 14151, 13882, 4544, 7229, 10262, 13817, 2759, 7229, 14388, 13731, 5678, 9663, 15129, 13555, 10844, 7832, 11150, 14571, 28097, 17471, 10577, 10262, 7229, 8586, 15812, 12121, 8586, 8016, 12996, 12898, 15129, 9663, 12692, 10703, 8016, 10262, 2470, 11992, 12373, 14714, 13044, 2228, 12819, 8728, 14151, 13817, 12898, 27992, 7791, 14571, 11841, 15129, 10262, 8040, 8586, 10844, 12373, 4995, 13029, 12347, 7064, 13843, 13067, 8040, 14300, 7832, 16736, 10844, 12410, 15129, 16079, 7832, 13759, 7229, 10844, 4995, 14924, 10262, 6643, 4544, 8016, 8586, 7064, 14151, 13014, 10844, 13044, 12898, 14781, 12557, 11507, 8355, 8016, 10262, 7832, 19225, 26890, 10844, 10262, 17024, 9296, 8586, 10919, 14714, 4050, 14714, 10577, 14571, 10919, 8016, 15400, 21375, 14781, 9134, 8147, 14571, 10262, 12719, 10262, 14914, 3210, 12373, 12819, 8016, 10539, 10844, 12692, 9212, 10844, 12373, 10844, 21219, 10844, 8728, 8016, 8016, 14151, 4050, 14781, 8586, 13731, 7438, 14151, 7438, 13555, 10262, 10262, 8586, 14231, 16289, 25735, 12647, 8586, 12121, 5963, 10152, 16736, 13584, 10844, 9663, 8529, 13014, 14151, 17024, 14714, 14781, 13029, 14571, 11538, 10262, 14781, 10844, 15129, 8586, 10844, 5198, 8586, 4544, 10703, 16736, 9663, 15554, 13941, 12681, 15129, 10368, 13014, 12373, 13817, 9412, 7229, 10844, 6478, 5198, 10262, 14571, 7832, 13626, 10368, 12692, 13941, 8938, 7202, 12898, 12898, 10588, 11087, 10262, 4886, 10031, 10262, 5769, 8578, 12819, 14300, 5769, 12373, 14781, 13292, 12373, 10262, 10844, 13374, 13014, 8541, 11134, 7832, 9663, 7832, 10262, 10262, 10262, 7832, 3210, 13882, 9134, 10844, 7064, 9663, 12681, 15129, 8355, 15554, 12373, 6959, 13014, 13731, 14571, 14388, 8586, 31825, 14237, 16079, 9663, 15554, 15129, 7229, 10262, 10368, 9899, 16079, 6478, 17261, 10844, 13817, 10539, 10844, 3210, 8016, 14388, 7229, 8040, 13941, 14714, 4030, 10844, 9663, 13339, 13882, 11087, 15318, 16914, 14781, 4544, 12242, 9663, 13292, 9663, 10262, 13882, 11150, 16274, 12898, 13555, 14571, 8040, 14714, 9296, 13626, 15129, 20904, 13067, 7229, 12347, 6542, 14151, 12284, 11848, 16079, 10844, 5769, 10844, 14151, 14714, 14571, 13843, 5678, 10262, 8066, 14151, 11087, 13759, 16079, 4995, 7826, 10844, 13882, 8834, 8016, 13292, 12681, 14151, 14178, 20747, 13759, 9181, 17024, 13364, 10844, 13941, 10919, 12284, 10262, 10262, 14714, 14815, 13843, 9412, 12284, 5678, 8586, 9663, 13376, 14231, 19828, 8040, 16079, 9314, 14571, 13344, 16704, 8529, 14300, 14300, 7229, 4030, 16079, 12576, 13067, 9358, 8586, 11467, 7832, 13941, 10577, 12242, 3502, 10844, 5608, 13584, 10844, 14388, 14781, 10262, 12373, 12242, 16289, 7851, 12284, 15339, 16274, 8040, 10368, 7229, 13344, 11087, 11467, 16736, 11093, 13029, 12819, 5406, 14388, 7229, 20694, 12898, 14714, 17024, 14151, 12898, 7229, 8016, 14571, 10675, 6540, 12898, 10368, 8040, 18804, 14388, 13014, 10844, 13843, 10262, 5678, 14151, 4544, 12692, 17019, 12121, 10262, 10262, 14714, 8834, 10262, 14714, 8016, 9536, 14571, 15812, 14388, 19225, 11664, 10844, 7757, 14781, 13941, 14300, 17549, 4544, 9663, 12681, 12898, 13941, 4030, 8529, 11702, 13067, 10844, 13292, 10368, 4160, 10539, 10262, 13759, 10262, 13376, 12373, 7229, 10844, 14151, 14441, 9483, 6478, 16809, 16704, 11297, 14781, 14714, 2228, 10703, 13759, 10262, 9663, 14714, 10262, 17261, 13044, 10262, 12032, 12284, 9732, 8586, 6144, 10262, 9663, 10844, 13029, 12284, 10262, 13344, 7229, 8586, 13029, 7064, 7229, 15318, 10844, 15554, 12373, 15339, 10262, 5678, 10262, 10844, 12032, 6643, 7832, 15129, 4544, 9663, 14714, 9663, 13626, 5678, 8529, 14151, 15544, 8824, 8586, 5963, 10844, 13817, 12373, 25735, 14815, 10262, 10262, 8040, 12819, 7229, 9663, 7064, 15812, 10262, 13843, 14231, 10262, 10262, 8040, 13817, 8040, 10844, 14151, 14781, 19595, 10953, 14815, 14053, 10539, 16946, 4544, 5406, 11150, 10262, 15764, 7064, 10262, 4544, 8367, 10844, 14714, 12898, 13555, 16079, 10262, 13941, 13029, 13244, 13014, 8040, 16263, 22950, 15129, 17234, 7832, 9314, 14714, 13882, 16274, 9483, 17024, 12681, 13759, 8728, 13376, 14815, 14714, 10844, 12692, 13843, 7832, 12242, 10262, 14571, 7064, 13376, 13292, 10262, 10844, 11134, 14300, 17471, 10844, 10262, 14714, 17234, 16289, 15129, 7832, 22270, 11467, 9663, 8529, 10844, 5678, 12681, 9623, 7757, 10844, 13376, 13626, 17471, 12373, 16289, 5198, 10844, 11134, 13067, 12692, 11134, 10262, 12373, 13044, 9663, 27992, 14151, 14714, 9314, 14714, 7229, 15029, 11087, 5769, 12819, 10919, 15129, 10262, 14388, 14714, 10368, 7229, 10953, 14231, 10262, 14571, 14151, 15554, 15190, 9134, 11822, 8147, 12898, 10262, 7229, 15129, 10844, 14657, 10844, 8040, 14571, 14571, 12898, 7229, 19266, 8016, 12819, 15129, 7832, 13364, 13555, 8016, 12692, 10844, 14178, 14151, 12681, 4886, 14781, 8586, 18550, 7229, 14151, 12898, 16289, 13292, 12384, 16338, 6540, 3210, 8586, 31825, 10262, 16289, 9314, 4030, 9314, 13941, 10539, 10262, 9254, 14781, 15554, 10844, 8586, 15812, 5678, 7832, 14053, 10703, 20800, 13469, 11270, 12452, 10844, 13626, 6478, 15764, 10262, 10919, 10262, 5678, 12898, 11087, 14151, 6645, 8040, 10262, 12284, 10262, 11841, 18371, 13067, 13882, 10844, 12898, 14714, 16736, 7229, 8586, 11467, 7229, 7229, 14300, 5678, 17261, 7229, 17549, 10844, 14151, 14781, 14441, 14151, 12242, 4995, 10262, 9663, 5769, 7832, 7229, 13292, 13014, 5177, 17024, 4050, 7229, 10368, 7832, 10262, 14714, 13344, 8016, 10262, 8849, 9899, 9314, 7064, 13029, 22270, 12898, 7064, 10844, 8529, 18308, 10844, 15554, 7229, 14388, 10844, 13067, 16289, 15149, 13376, 10577, 7594, 13344, 18371, 6643, 8586, 3210, 12373, 13292, 10919, 2228, 15129, 13469, 13882, 8781, 15554, 10844, 5678, 11087, 12819, 11507, 10262, 10262, 10844, 13067, 13817, 13941, 14151, 10844, 14714, 15554, 11087, 11507, 10844, 12681, 12898, 15129, 54826, 8040, 7229, 13292, 16736, 5198, 7229, 11134, 10262, 13376, 11543, 12898, 6017, 14053, 13044, 4030, 14781, 10844, 16289, 14151, 4544, 11087, 13014, 4995, 13941, 11507, 12347, 13029, 16736, 17024, 7229, 22270, 12032, 12347, 7832, 12373, 13029, 15554, 12898, 14388, 9663, 10368, 13882, 12121, 7229, 10577, 8040, 14714, 7229, 10844, 7229, 15400, 4995, 10844, 14714, 14571, 7832, 11467, 10953, 13584, 12373, 11297, 7202, 10844, 13469, 14924, 6478, 15129, 18581, 10262, 11087, 12557, 8273, 10262, 11664, 13502, 15764, 8586, 12273, 5769, 31825, 10262, 14714, 15129, 4030, 7229, 7229, 13044, 12373, 14151, 8586, 4995, 5678, 5678, 26890, 15318, 12373, 36235, 7229, 12373, 14151, 14714, 7229, 12242, 9134, 23843, 26890, 8016, 11087, 2228, 9564, 14861, 9314, 13029, 12284, 14714, 7064, 5198, 14781, 14388, 9564, 10368, 12739, 10262, 10262, 9564, 13759, 14714, 16079, 7202, 9663, 8586, 19225, 15554, 12121, 13555, 8586, 12284, 4995, 9663, 14714, 14571, 10368, 14714, 4030, 13292, 13014, 16079, 11507, 10919, 13759, 13376, 25735, 17471, 10844, 17234, 11546, 8016, 3205, 7229, 14237, 10262, 10262, 7229, 13376, 9254, 8016, 4030, 5198, 9663, 10844, 19225, 7229, 10919, 4544, 6540, 9483, 16079, 14151, 16704, 10262, 13817, 13067, 17524, 13067, 11664, 7064, 6144, 19329, 13941, 15129, 13067, 14714, 11087, 9314, 5678, 19644, 13014, 12373, 10539, 10844, 8586, 14571, 11507, 13292, 13376, 10262, 10262, 13339, 7229, 13376, 10262, 8098, 7438, 12373, 5769, 10844, 4030, 8355, 10844, 10844, 16289, 9328, 7229, 14300, 8529, 4544, 14441, 13067, 8529, 13941, 10844, 15129, 14676, 19172, 13731, 14151, 8834, 11467, 13469, 14151, 10262, 13014, 12373, 11399, 14714, 12121, 7832, 11093, 7229, 11467, 8066, 5678, 14815, 13014, 12284, 7229, 12898, 12373, 14151, 19225, 9663, 10844, 14151, 10262, 13014, 17282, 4030, 10262, 16736, 4757, 14571, 10844, 17261, 16736, 10844, 14781, 12719, 12898, 10262, 11087, 13626, 12373, 10031, 10844, 5406, 10844, 12373, 8016, 10262, 14714, 10262, 12819, 10262, 10368, 10262, 14388, 15129, 14388, 12452, 15129, 8586, 13882, 11118, 8529, 7438, 14151, 14939, 25735, 13882, 8586, 15554, 10844, 10844, 14781, 11733, 10262, 17524, 15129, 4030, 7229, 14300, 7229, 7229, 14714, 7757, 11841, 14151, 10577, 5177, 14714, 10588, 7438, 14714, 25735, 7229, 15129, 13817, 10262, 13882, 11848, 10703, 10844, 10844, 19225, 7832, 9663, 13292, 10844, 10953, 10844, 10539, 13292, 14571, 14781, 10844, 16079, 10262, 12692, 12373, 15129, 14781, 8938, 14388, 5678, 18308, 6645, 13759, 7832, 5678, 7064, 14151, 15554, 7229, 13376, 13584, 14571, 5198, 7202, 15129, 15190, 14781, 10262, 8016, 5678, 10844, 7064, 12373, 11087, 16079, 12898, 14781, 8586, 18581, 13941, 7229, 14714, 10031, 13941, 31825, 14781, 7229, 10909, 4050, 14151, 14781, 26890, 7832, 9899, 10405, 18804, 27992, 5198, 7229, 7229, 12898, 10262, 13014, 7229, 12373, 10262, 15439, 12692, 9134, 15554, 7229, 7229, 10262, 17261, 11087, 7229, 16736, 10262, 10262, 5678, 16704, 15129, 7229, 10972, 10262, 14178, 8518, 13376, 18371, 10368, 11467, 14781, 10368, 10031, 7229, 5769, 5769, 7229, 4995, 5406, 17024, 8040, 10844, 5678, 8016, 5963, 14781, 12373, 3210, 9134, 10919, 14151, 13014, 4544, 10919, 12898, 10844, 15129, 14714, 14571, 10976, 10844, 10262, 2071, 11087, 12996, 16736, 13941, 12121, 14388, 11467, 13817, 13759, 4030, 6163, 6540, 10262, 13067, 13941, 10368, 7064, 12121, 13376, 13731, 7064, 16736, 8586, 11869, 20845, 7229, 20800, 4050, 11664, 12692, 8586, 7229, 6542, 10262, 4544, 16736, 3359, 8529, 14571, 11087, 14571, 13941, 16079, 14714, 22270, 9663, 7229, 15129, 10539, 8586, 13029, 10262, 13502, 6017, 8040, 12898, 14714, 13817, 14714, 15764, 13029, 10844, 12121, 11467, 13759, 10262, 10262, 12898, 9564, 12819, 7064, 13292, 13376, 7791, 16704, 13029, 10031, 4030, 10262, 7229, 5678, 10262, 8456, 4050, 8016, 13941, 11087, 8016, 7202, 5963, 13014, 10262, 19225, 11360, 10262, 8066, 10262, 10844, 8586, 10844, 16289, 10844, 8849, 12347, 18253, 4995, 12898, 12032, 13029, 14714, 9663, 5678, 13376, 13067, 7064, 13941, 13014, 7229, 12284, 10262, 8586, 13376, 13014, 11087, 13817, 5678, 4544, 14714, 14388, 12384, 6068, 7229, 13502, 16376, 13817, 7229, 13339, 14714, 12692, 10368, 15129, 10844, 13759, 13941, 8586, 13067, 12373, 14231, 14924, 7202, 4030, 8586, 8586, 15129, 14571, 14151, 13067, 12557, 14714, 4544, 12341, 5963, 2228, 13292, 9899, 5406, 8586, 16079, 15764, 13014, 14714, 9564, 12242, 8586, 11627, 7064, 10262, 5678, 8529, 7229, 15129, 9134, 15812, 10262, 9314, 15812, 14151, 10262, 10844, 12384, 11822, 14781, 11507, 18550, 7229, 10844, 11664, 5678, 8586, 11087, 11869, 12373, 17261, 10368, 12872, 10844, 13882, 13029, 13731, 5769, 26890, 9663, 7229, 10368, 8586, 14781, 10262, 11134, 7229, 15554, 8066, 13344, 8529, 11134, 13559, 8040, 15129, 5678, 14571, 10262, 14714, 12898, 10368, 13292, 14388, 12819, 8066, 13759, 5198, 13941, 12609, 10262, 14781, 10262, 10844, 13941, 14657, 14781, 7229, 12373, 10844, 12373, 13502, 10953, 14781, 8016, 8016, 11087, 5678, 7229, 10624, 14300, 15129, 10262, 10844, 14151, 5177, 10844, 10262, 26890, 8529, 10844, 6144, 7229, 12767, 7229, 12273, 26890, 10262, 10262, 2228, 9899, 14151, 14714, 7229, 14441, 14714, 7832, 15400, 10368, 17261, 7064, 13882, 19644, 4544, 10031, 8586, 7832, 12767, 13731, 11467, 15129, 10844, 20747, 12898, 13941, 14714, 8586, 9663, 9899, 9899, 5198, 9254, 14388, 10844, 5608, 13555, 15129, 10844, 8728, 4050, 12692, 7064, 13014, 26890, 7064, 10031, 9663, 5769, 27992, 15812, 4544, 4544, 7229, 10972, 14231, 10844, 13376, 13067, 17261, 12819, 26890, 10262, 5678, 13014, 10262, 10844, 10368, 13626, 9663, 11717, 14781, 7229, 14714, 15129, 10368, 13029, 11467, 14053, 10844, 5678, 15764, 17024, 7229, 5769, 7832, 14571, 12121, 8016, 13014, 10262, 14231, 7229, 12898, 14781, 5769, 14714, 12032, 4544, 10844, 11087, 7832, 17229, 4160, 10031, 11150, 9134, 10844, 9134, 26890, 14781, 10262, 12739, 10368, 13817, 14231, 6992, 16263, 14714, 11087, 10368, 12557, 14388, 10824, 5177, 14714, 13626, 14781, 10844, 10262, 10262, 7229, 13759, 12898, 19225, 4995, 9254, 5177, 10844, 12898, 10262, 13067, 10262, 14571, 16376, 5678, 14714, 4544, 11087, 17261, 14714, 10262, 19595, 14781, 14781, 10031, 10844, 3502, 13292, 14151, 14714, 11087, 10844, 12898, 10262, 13067, 5678, 14388, 14714, 11134, 10539, 13759, 3502, 8834, 11087, 10368, 7229, 10262, 7229, 13067, 14714, 7229, 13401, 8040, 2228, 10118, 18371, 10368, 15129, 10262, 15129, 8040, 12373, 10262, 10262, 12898, 12898, 4160, 4544, 15129, 4544, 14571, 8040, 13014, 8586, 10262, 11507, 13292, 10262, 10703, 4030, 14388, 10262, 15025, 6643, 10844, 13014, 13817, 13817, 10262, 4050, 11841, 14781, 11467, 16263, 12373, 7229, 10262, 13364, 12373, 12767, 15129, 7229, 14714, 9134, 10577, 14388, 14300, 10844, 11134, 14781, 4544, 10929, 4030, 14300, 10368, 13817, 15554, 14714, 15129, 10539, 11467, 6959, 12384, 7202, 7832, 15129, 4544, 10262, 16274, 12898, 4995, 10262, 3210, 9134, 11087, 13941, 15129, 13029, 4030, 9564, 8355, 16914, 12242, 13292, 8147, 13502, 13764, 12692, 7064, 14924, 3210, 10262, 12576, 14781, 13775, 5678, 5177, 10844, 12819, 9254, 8040, 7229, 8040, 11399, 7202, 10262, 12242, 10875, 10844, 12074, 9663, 7202, 7832, 12373, 10844, 13376, 26890, 8834, 7989, 10262, 4995, 16736, 18804, 9564, 17024, 27992, 7229, 9134, 14714, 7280, 8040, 14714, 7791, 16289, 12681, 13014, 5406, 14815, 10844, 14571, 12898, 10262, 17234, 14178, 14571, 14151, 15129, 15544, 25735, 9483, 10368, 13941, 10844, 10844, 10844, 8728, 11467, 7832, 5963, 15129, 16914, 10262, 14388, 15129, 10368, 12767, 10262, 10262, 10844, 14781, 9134, 4995, 13784, 10844, 12898, 4544, 14781, 14151, 13731, 15400, 8066, 21314, 2470, 15129, 13364, 15129, 3210, 8040, 10919, 11467, 11467, 13922, 9564, 8529, 14815, 13014, 12692, 16079, 15851, 15554, 12898, 15129, 10539, 13292, 13014, 11467, 13014, 10844, 12898, 12373, 13502, 9314, 10844, 8529, 9663, 10368, 14151, 12121, 14237, 13044, 15554, 10844, 9564, 14781, 7229, 14388, 12692, 9314, 10539, 15764, 10844, 10844, 10262, 4544, 6144, 5853, 10118, 10368, 14571, 7229, 8824, 14231, 4544, 16289, 7229, 14300, 12242, 4544, 15129, 15339, 7229, 12373, 14571, 10262, 10577, 12692, 5769, 12681, 10262, 8016, 13067, 11467, 23001, 10844, 10037, 14388, 10844, 4995, 8529, 11507, 5678, 7229, 7064, 14571, 10262, 15129, 7832, 8586, 5769, 8040, 13759, 5678, 17024, 10368, 14571, 7832, 14151, 6812, 11150, 12242, 11087, 13941, 15129, 9663, 10262, 12284, 14781, 9663, 13941, 10262, 15554, 10844, 12692, 3210, 11134, 12242, 26890, 12681, 13882, 15129, 10844, 12547, 14178, 10368, 14781, 15764, 9564, 15764, 14388, 6540, 9134, 22270, 23528, 8016, 12284, 2759, 13067, 10368, 9314, 5678, 12898, 14571, 8541, 31825, 13817, 14571, 16704, 13014, 13731, 12898, 14714, 5769, 14388, 22270, 4995, 5198, 10368, 8040, 18909, 14571, 13502, 15029, 15554, 8586, 9270, 13292, 8098, 8016, 9314, 9663, 10368, 11467, 13376, 12819, 10262, 14781, 5678, 10262, 5198, 13014, 13584, 2071, 12373, 8529, 14571, 15129, 8016, 9663, 11087, 10262, 12609, 9134, 10844, 5406, 14151, 14237, 12898, 14924, 15129, 13882, 5678, 10262, 12121, 12373, 17072, 10368, 10262, 4030, 7229, 10577, 14714, 7438, 13014, 13292, 12121, 10262, 8016, 7594, 16263, 6478, 15764, 8016, 25735, 10844, 13941, 15339, 20064, 9663, 5678, 5678, 3210, 14815, 11467, 10919, 22270, 15654, 10368, 13941, 14781, 7757, 2228, 10405, 10262, 11848, 9663, 4544, 4050, 12739, 4544, 10262, 17261, 13941, 10844, 14231, 14714, 11467, 12284, 12819, 14714, 8040, 15554, 10368, 10262, 10262, 19225, 8040, 7438, 14151, 8040, 14388, 10844, 10844, 14781, 7851, 13014, 5177, 22270, 15129, 11087, 13029, 8016, 8016, 10919, 10031, 12814, 12681, 13759, 10929, 13376, 12898, 14714, 4030, 13029, 11087, 14388, 7229, 7229, 10262, 14571, 10919, 10844, 10844, 12692, 4030, 7832, 11150, 9134, 14781, 14781, 15129, 3210, 10844, 13941, 7832, 14151, 10262, 3205, 10262, 15554, 7832, 8016, 10199, 13364, 10262, 10844, 14571, 19329, 15129, 15129, 10539, 10031, 13584, 9412, 12898, 12898, 10262, 5678, 14781, 7064, 21934, 10262, 14714, 9134, 10262, 8586, 9314, 5678, 11924, 12692, 6478, 10368, 13626, 9663, 16389, 7594, 13817, 7229, 10368, 13292, 13764, 12681, 5198, 11087, 8016, 10262, 13014, 13029, 15129, 14388, 11087, 9663, 13014, 10262, 13292, 8040, 27992, 7341, 12242, 13067, 18804, 8040, 13584, 13014, 11507, 5678, 7229, 14178, 13941, 13067, 4995, 5608, 16736, 9314, 5963, 9564, 14231, 13376, 7229, 8016, 8016, 22270, 14151, 5406, 5177, 12373, 12898, 7229, 10703, 9314, 13817, 9663, 13817, 6478, 16079, 11150, 7064, 9663, 10262, 13376, 13817, 12373, 10262, 12373, 10262, 5177, 10844, 14231, 13817, 12819, 10624, 5678, 16079, 10539, 11841, 9314, 13994, 12681, 10262, 10037, 6478, 13014, 10844, 13344, 10953, 15129, 14781, 14714, 8016, 8586, 7229, 13759, 10703, 12692, 10539, 11134, 12373, 14714, 11087, 7229, 12681, 14151, 13339, 9663, 12898, 13044, 11087, 9663, 19225, 7229, 10262, 10262, 9134, 14714, 7202, 4050, 10368, 7229, 8529, 13376, 14781, 13029, 15129, 11087, 5678, 12557, 12373, 21934, 9663, 12898, 12273, 12410, 12547, 10262, 3210, 10929, 13759, 13067, 10262, 10929, 7229, 13376, 12284, 7229, 17234, 15318, 6077, 10844, 12898, 10577, 11507, 4160, 14714, 5678, 11134, 10844, 13014, 4995, 13067, 10262, 8586, 9663, 12373, 13941, 14571, 2759, 14714, 7064, 14441, 10844, 12898, 7229, 15129, 18804, 13014, 10262, 14388, 14781, 13014, 8529, 10262, 14151, 9663, 18752, 9663, 12819, 9663, 12121, 6017, 15129, 26890, 5443, 13364, 12239, 12373, 7757, 10844, 10262, 4995, 14231, 10844, 10844, 10844, 17024, 13731, 13555, 16289, 7064, 10262, 14714, 10262, 12767, 4030, 18799, 5678, 27992, 4544, 7757, 13376, 13067, 10844, 11134, 7229, 10262, 10919, 8355, 9314, 8586, 13882, 7229, 8824, 11087, 14151, 11467, 10844, 10262, 13994, 15129, 13941, 14781, 10577, 9564, 14781, 7229, 13376, 11627, 7754, 10368, 18799, 13067, 12681, 14714, 10262, 15318, 14053, 8040, 10262, 11150, 12242, 16736, 13029, 10262, 14815, 14714, 10844, 7229, 10262, 7832, 14815, 13014, 10031, 7229, 10539, 10844, 13555, 10844, 10577, 22294, 24210, 14151, 15764, 12609, 5678, 7045, 4050, 10262, 14714, 14178, 26890, 15544, 15339, 10262, 10844, 13014, 9899, 12295, 16079, 13941, 4544, 10844, 13817, 12121, 5769, 10844, 31825, 12284, 4544, 6017, 14781, 10262, 10031, 14388, 10844, 8882, 13014, 20694, 17024, 5678, 2470, 12284, 12767, 8016, 13376, 6017, 17271, 9314, 4030, 10368, 9663, 7757, 14781, 9564, 5769, 10262, 5177, 10368, 7229, 7229, 8586, 8586, 11134, 7229, 8586, 10368, 12384, 12373, 10368, 12242, 5769, 14178, 20800, 10844, 12681, 14571, 7064, 17261, 9663, 10262, 4544, 13292, 14300, 10844, 12819, 10262, 4544, 12373, 14781, 8586, 4050, 11087, 8016, 7229, 13014, 9483, 19644, 10844, 11134, 12692, 11733, 14714, 14388, 7229, 7832, 14053, 11507, 4466, 12384, 14388, 5678, 9663, 5769, 11733, 10262, 11087, 21219, 11150, 16704, 11087, 7229], \"y0\": \" \", \"yaxis\": \"y\"}, {\"alignmentgroup\": \"True\", \"hoverlabel\": {\"namelength\": 0}, \"hovertemplate\": \"Airline=%{x}<br>Price=%{y}\", \"legendgroup\": \"Airline=SpiceJet\", \"marker\": {\"color\": \"#ab63fa\"}, \"name\": \"Airline=SpiceJet\", \"notched\": true, \"offsetgroup\": \"Airline=SpiceJet\", \"orientation\": \"v\", \"showlegend\": true, \"type\": \"box\", \"x\": [\"SpiceJet\", \"SpiceJet\", \"SpiceJet\", \"SpiceJet\", \"SpiceJet\", \"SpiceJet\", \"SpiceJet\", \"SpiceJet\", \"SpiceJet\", \"SpiceJet\", \"SpiceJet\", \"SpiceJet\", \"SpiceJet\", \"SpiceJet\", \"SpiceJet\", \"SpiceJet\", \"SpiceJet\", \"SpiceJet\", \"SpiceJet\", \"SpiceJet\", \"SpiceJet\", \"SpiceJet\", \"SpiceJet\", \"SpiceJet\", \"SpiceJet\", \"SpiceJet\", \"SpiceJet\", \"SpiceJet\", \"SpiceJet\", \"SpiceJet\", \"SpiceJet\", \"SpiceJet\", \"SpiceJet\", \"SpiceJet\", \"SpiceJet\", \"SpiceJet\", \"SpiceJet\", \"SpiceJet\", \"SpiceJet\", \"SpiceJet\", \"SpiceJet\", \"SpiceJet\", \"SpiceJet\", \"SpiceJet\", \"SpiceJet\", \"SpiceJet\", \"SpiceJet\", \"SpiceJet\", \"SpiceJet\", \"SpiceJet\", \"SpiceJet\", \"SpiceJet\", \"SpiceJet\", \"SpiceJet\", \"SpiceJet\", \"SpiceJet\", \"SpiceJet\", \"SpiceJet\", \"SpiceJet\", \"SpiceJet\", \"SpiceJet\", \"SpiceJet\", \"SpiceJet\", \"SpiceJet\", \"SpiceJet\", \"SpiceJet\", \"SpiceJet\", \"SpiceJet\", \"SpiceJet\", \"SpiceJet\", \"SpiceJet\", \"SpiceJet\", \"SpiceJet\", \"SpiceJet\", \"SpiceJet\", \"SpiceJet\", \"SpiceJet\", \"SpiceJet\", \"SpiceJet\", \"SpiceJet\", \"SpiceJet\", \"SpiceJet\", \"SpiceJet\", \"SpiceJet\", \"SpiceJet\", \"SpiceJet\", \"SpiceJet\", \"SpiceJet\", \"SpiceJet\", \"SpiceJet\", \"SpiceJet\", \"SpiceJet\", \"SpiceJet\", \"SpiceJet\", \"SpiceJet\", \"SpiceJet\", \"SpiceJet\", \"SpiceJet\", \"SpiceJet\", \"SpiceJet\", \"SpiceJet\", \"SpiceJet\", \"SpiceJet\", \"SpiceJet\", \"SpiceJet\", \"SpiceJet\", \"SpiceJet\", \"SpiceJet\", \"SpiceJet\", \"SpiceJet\", \"SpiceJet\", \"SpiceJet\", \"SpiceJet\", \"SpiceJet\", \"SpiceJet\", \"SpiceJet\", \"SpiceJet\", \"SpiceJet\", \"SpiceJet\", \"SpiceJet\", \"SpiceJet\", \"SpiceJet\", \"SpiceJet\", \"SpiceJet\", \"SpiceJet\", \"SpiceJet\", \"SpiceJet\", \"SpiceJet\", \"SpiceJet\", \"SpiceJet\", \"SpiceJet\", \"SpiceJet\", \"SpiceJet\", \"SpiceJet\", \"SpiceJet\", \"SpiceJet\", \"SpiceJet\", \"SpiceJet\", \"SpiceJet\", \"SpiceJet\", \"SpiceJet\", \"SpiceJet\", \"SpiceJet\", \"SpiceJet\", \"SpiceJet\", \"SpiceJet\", \"SpiceJet\", \"SpiceJet\", \"SpiceJet\", \"SpiceJet\", \"SpiceJet\", \"SpiceJet\", \"SpiceJet\", \"SpiceJet\", \"SpiceJet\", \"SpiceJet\", \"SpiceJet\", \"SpiceJet\", \"SpiceJet\", \"SpiceJet\", \"SpiceJet\", \"SpiceJet\", \"SpiceJet\", \"SpiceJet\", \"SpiceJet\", \"SpiceJet\", \"SpiceJet\", \"SpiceJet\", \"SpiceJet\", \"SpiceJet\", \"SpiceJet\", \"SpiceJet\", \"SpiceJet\", \"SpiceJet\", \"SpiceJet\", \"SpiceJet\", \"SpiceJet\", \"SpiceJet\", \"SpiceJet\", \"SpiceJet\", \"SpiceJet\", \"SpiceJet\", \"SpiceJet\", \"SpiceJet\", \"SpiceJet\", \"SpiceJet\", \"SpiceJet\", \"SpiceJet\", \"SpiceJet\", \"SpiceJet\", \"SpiceJet\", \"SpiceJet\", \"SpiceJet\", \"SpiceJet\", \"SpiceJet\", \"SpiceJet\", \"SpiceJet\", \"SpiceJet\", \"SpiceJet\", \"SpiceJet\", \"SpiceJet\", \"SpiceJet\", \"SpiceJet\", \"SpiceJet\", \"SpiceJet\", \"SpiceJet\", \"SpiceJet\", \"SpiceJet\", \"SpiceJet\", \"SpiceJet\", \"SpiceJet\", \"SpiceJet\", \"SpiceJet\", \"SpiceJet\", \"SpiceJet\", \"SpiceJet\", \"SpiceJet\", \"SpiceJet\", \"SpiceJet\", \"SpiceJet\", \"SpiceJet\", \"SpiceJet\", \"SpiceJet\", \"SpiceJet\", \"SpiceJet\", \"SpiceJet\", \"SpiceJet\", \"SpiceJet\", \"SpiceJet\", \"SpiceJet\", \"SpiceJet\", \"SpiceJet\", \"SpiceJet\", \"SpiceJet\", \"SpiceJet\", \"SpiceJet\", \"SpiceJet\", \"SpiceJet\", \"SpiceJet\", \"SpiceJet\", \"SpiceJet\", \"SpiceJet\", \"SpiceJet\", \"SpiceJet\", \"SpiceJet\", \"SpiceJet\", \"SpiceJet\", \"SpiceJet\", \"SpiceJet\", \"SpiceJet\", \"SpiceJet\", \"SpiceJet\", \"SpiceJet\", \"SpiceJet\", \"SpiceJet\", \"SpiceJet\", \"SpiceJet\", \"SpiceJet\", \"SpiceJet\", \"SpiceJet\", \"SpiceJet\", \"SpiceJet\", \"SpiceJet\", \"SpiceJet\", \"SpiceJet\", \"SpiceJet\", \"SpiceJet\", \"SpiceJet\", \"SpiceJet\", \"SpiceJet\", \"SpiceJet\", \"SpiceJet\", \"SpiceJet\", \"SpiceJet\", \"SpiceJet\", \"SpiceJet\", \"SpiceJet\", \"SpiceJet\", \"SpiceJet\", \"SpiceJet\", \"SpiceJet\", \"SpiceJet\", \"SpiceJet\", \"SpiceJet\", \"SpiceJet\", \"SpiceJet\", \"SpiceJet\", \"SpiceJet\", \"SpiceJet\", \"SpiceJet\", \"SpiceJet\", \"SpiceJet\", \"SpiceJet\", \"SpiceJet\", \"SpiceJet\", \"SpiceJet\", \"SpiceJet\", \"SpiceJet\", \"SpiceJet\", \"SpiceJet\", \"SpiceJet\", \"SpiceJet\", \"SpiceJet\", \"SpiceJet\", \"SpiceJet\", \"SpiceJet\", \"SpiceJet\", \"SpiceJet\", \"SpiceJet\", \"SpiceJet\", \"SpiceJet\", \"SpiceJet\", \"SpiceJet\", \"SpiceJet\", \"SpiceJet\", \"SpiceJet\", \"SpiceJet\", \"SpiceJet\", \"SpiceJet\", \"SpiceJet\", \"SpiceJet\", \"SpiceJet\", \"SpiceJet\", \"SpiceJet\", \"SpiceJet\", \"SpiceJet\", \"SpiceJet\", \"SpiceJet\", \"SpiceJet\", \"SpiceJet\", \"SpiceJet\", \"SpiceJet\", \"SpiceJet\", \"SpiceJet\", \"SpiceJet\", \"SpiceJet\", \"SpiceJet\", \"SpiceJet\", \"SpiceJet\", \"SpiceJet\", \"SpiceJet\", \"SpiceJet\", \"SpiceJet\", \"SpiceJet\", \"SpiceJet\", \"SpiceJet\", \"SpiceJet\", \"SpiceJet\", \"SpiceJet\", \"SpiceJet\", \"SpiceJet\", \"SpiceJet\", \"SpiceJet\", \"SpiceJet\", \"SpiceJet\", \"SpiceJet\", \"SpiceJet\", \"SpiceJet\", \"SpiceJet\", \"SpiceJet\", \"SpiceJet\", \"SpiceJet\", \"SpiceJet\", \"SpiceJet\", \"SpiceJet\", \"SpiceJet\", \"SpiceJet\", \"SpiceJet\", \"SpiceJet\", \"SpiceJet\", \"SpiceJet\", \"SpiceJet\", \"SpiceJet\", \"SpiceJet\", \"SpiceJet\", \"SpiceJet\", \"SpiceJet\", \"SpiceJet\", \"SpiceJet\", \"SpiceJet\", \"SpiceJet\", \"SpiceJet\", \"SpiceJet\", \"SpiceJet\", \"SpiceJet\", \"SpiceJet\", \"SpiceJet\", \"SpiceJet\", \"SpiceJet\", \"SpiceJet\", \"SpiceJet\", \"SpiceJet\", \"SpiceJet\", \"SpiceJet\", \"SpiceJet\", \"SpiceJet\", \"SpiceJet\", \"SpiceJet\", \"SpiceJet\", \"SpiceJet\", \"SpiceJet\", \"SpiceJet\", \"SpiceJet\", \"SpiceJet\", \"SpiceJet\", \"SpiceJet\", \"SpiceJet\", \"SpiceJet\", \"SpiceJet\", \"SpiceJet\", \"SpiceJet\", \"SpiceJet\", \"SpiceJet\", \"SpiceJet\", \"SpiceJet\", \"SpiceJet\", \"SpiceJet\", \"SpiceJet\", \"SpiceJet\", \"SpiceJet\", \"SpiceJet\", \"SpiceJet\", \"SpiceJet\", \"SpiceJet\", \"SpiceJet\", \"SpiceJet\", \"SpiceJet\", \"SpiceJet\", \"SpiceJet\", \"SpiceJet\", \"SpiceJet\", \"SpiceJet\", \"SpiceJet\", \"SpiceJet\", \"SpiceJet\", \"SpiceJet\", \"SpiceJet\", \"SpiceJet\", \"SpiceJet\", \"SpiceJet\", \"SpiceJet\", \"SpiceJet\", \"SpiceJet\", \"SpiceJet\", \"SpiceJet\", \"SpiceJet\", \"SpiceJet\", \"SpiceJet\", \"SpiceJet\", \"SpiceJet\", \"SpiceJet\", \"SpiceJet\", \"SpiceJet\", \"SpiceJet\", \"SpiceJet\", \"SpiceJet\", \"SpiceJet\", \"SpiceJet\", \"SpiceJet\", \"SpiceJet\", \"SpiceJet\", \"SpiceJet\", \"SpiceJet\", \"SpiceJet\", \"SpiceJet\", \"SpiceJet\", \"SpiceJet\", \"SpiceJet\", \"SpiceJet\", \"SpiceJet\", \"SpiceJet\", \"SpiceJet\", \"SpiceJet\", \"SpiceJet\", \"SpiceJet\", \"SpiceJet\", \"SpiceJet\", \"SpiceJet\", \"SpiceJet\", \"SpiceJet\", \"SpiceJet\", \"SpiceJet\", \"SpiceJet\", \"SpiceJet\", \"SpiceJet\", \"SpiceJet\", \"SpiceJet\", \"SpiceJet\", \"SpiceJet\", \"SpiceJet\", \"SpiceJet\", \"SpiceJet\", \"SpiceJet\", \"SpiceJet\", \"SpiceJet\", \"SpiceJet\", \"SpiceJet\", \"SpiceJet\", \"SpiceJet\", \"SpiceJet\", \"SpiceJet\", \"SpiceJet\", \"SpiceJet\", \"SpiceJet\", \"SpiceJet\", \"SpiceJet\", \"SpiceJet\", \"SpiceJet\", \"SpiceJet\", \"SpiceJet\", \"SpiceJet\", \"SpiceJet\", \"SpiceJet\", \"SpiceJet\", \"SpiceJet\", \"SpiceJet\", \"SpiceJet\", \"SpiceJet\", \"SpiceJet\", \"SpiceJet\", \"SpiceJet\", \"SpiceJet\", \"SpiceJet\", \"SpiceJet\", \"SpiceJet\", \"SpiceJet\", \"SpiceJet\", \"SpiceJet\", \"SpiceJet\", \"SpiceJet\", \"SpiceJet\", \"SpiceJet\", \"SpiceJet\", \"SpiceJet\", \"SpiceJet\", \"SpiceJet\", \"SpiceJet\", \"SpiceJet\", \"SpiceJet\", \"SpiceJet\", \"SpiceJet\", \"SpiceJet\", \"SpiceJet\", \"SpiceJet\", \"SpiceJet\", \"SpiceJet\", \"SpiceJet\", \"SpiceJet\", \"SpiceJet\", \"SpiceJet\", \"SpiceJet\", \"SpiceJet\", \"SpiceJet\", \"SpiceJet\", \"SpiceJet\", \"SpiceJet\", \"SpiceJet\", \"SpiceJet\", \"SpiceJet\", \"SpiceJet\", \"SpiceJet\", \"SpiceJet\", \"SpiceJet\", \"SpiceJet\", \"SpiceJet\", \"SpiceJet\", \"SpiceJet\", \"SpiceJet\", \"SpiceJet\", \"SpiceJet\", \"SpiceJet\", \"SpiceJet\", \"SpiceJet\", \"SpiceJet\", \"SpiceJet\", \"SpiceJet\", \"SpiceJet\", \"SpiceJet\", \"SpiceJet\", \"SpiceJet\", \"SpiceJet\", \"SpiceJet\", \"SpiceJet\", \"SpiceJet\", \"SpiceJet\", \"SpiceJet\", \"SpiceJet\", \"SpiceJet\", \"SpiceJet\", \"SpiceJet\", \"SpiceJet\", \"SpiceJet\", \"SpiceJet\", \"SpiceJet\", \"SpiceJet\", \"SpiceJet\", \"SpiceJet\", \"SpiceJet\", \"SpiceJet\", \"SpiceJet\", \"SpiceJet\", \"SpiceJet\", \"SpiceJet\", \"SpiceJet\", \"SpiceJet\", \"SpiceJet\", \"SpiceJet\", \"SpiceJet\", \"SpiceJet\", \"SpiceJet\", \"SpiceJet\", \"SpiceJet\", \"SpiceJet\", \"SpiceJet\", \"SpiceJet\", \"SpiceJet\", \"SpiceJet\", \"SpiceJet\", \"SpiceJet\", \"SpiceJet\", \"SpiceJet\", \"SpiceJet\", \"SpiceJet\", \"SpiceJet\", \"SpiceJet\", \"SpiceJet\", \"SpiceJet\", \"SpiceJet\", \"SpiceJet\", \"SpiceJet\", \"SpiceJet\", \"SpiceJet\", \"SpiceJet\", \"SpiceJet\", \"SpiceJet\", \"SpiceJet\", \"SpiceJet\", \"SpiceJet\", \"SpiceJet\", \"SpiceJet\", \"SpiceJet\", \"SpiceJet\", \"SpiceJet\", \"SpiceJet\", \"SpiceJet\", \"SpiceJet\", \"SpiceJet\", \"SpiceJet\", \"SpiceJet\", \"SpiceJet\", \"SpiceJet\", \"SpiceJet\", \"SpiceJet\", \"SpiceJet\", \"SpiceJet\", \"SpiceJet\", \"SpiceJet\", \"SpiceJet\", \"SpiceJet\", \"SpiceJet\", \"SpiceJet\", \"SpiceJet\", \"SpiceJet\", \"SpiceJet\", \"SpiceJet\", \"SpiceJet\", \"SpiceJet\", \"SpiceJet\", \"SpiceJet\", \"SpiceJet\", \"SpiceJet\", \"SpiceJet\", \"SpiceJet\", \"SpiceJet\", \"SpiceJet\", \"SpiceJet\", \"SpiceJet\", \"SpiceJet\", \"SpiceJet\", \"SpiceJet\", \"SpiceJet\", \"SpiceJet\", \"SpiceJet\", \"SpiceJet\", \"SpiceJet\", \"SpiceJet\", \"SpiceJet\", \"SpiceJet\", \"SpiceJet\", \"SpiceJet\", \"SpiceJet\", \"SpiceJet\", \"SpiceJet\", \"SpiceJet\", \"SpiceJet\", \"SpiceJet\", \"SpiceJet\", \"SpiceJet\", \"SpiceJet\", \"SpiceJet\", \"SpiceJet\", \"SpiceJet\", \"SpiceJet\", \"SpiceJet\", \"SpiceJet\", \"SpiceJet\", \"SpiceJet\", \"SpiceJet\", \"SpiceJet\", \"SpiceJet\", \"SpiceJet\", \"SpiceJet\", \"SpiceJet\", \"SpiceJet\", \"SpiceJet\", \"SpiceJet\", \"SpiceJet\", \"SpiceJet\", \"SpiceJet\", \"SpiceJet\", \"SpiceJet\", \"SpiceJet\", \"SpiceJet\", \"SpiceJet\", \"SpiceJet\", \"SpiceJet\", \"SpiceJet\", \"SpiceJet\", \"SpiceJet\", \"SpiceJet\", \"SpiceJet\", \"SpiceJet\", \"SpiceJet\", \"SpiceJet\", \"SpiceJet\", \"SpiceJet\", \"SpiceJet\", \"SpiceJet\", \"SpiceJet\", \"SpiceJet\", \"SpiceJet\", \"SpiceJet\", \"SpiceJet\", \"SpiceJet\", \"SpiceJet\", \"SpiceJet\", \"SpiceJet\", \"SpiceJet\", \"SpiceJet\", \"SpiceJet\", \"SpiceJet\", \"SpiceJet\", \"SpiceJet\", \"SpiceJet\", \"SpiceJet\", \"SpiceJet\", \"SpiceJet\", \"SpiceJet\", \"SpiceJet\", \"SpiceJet\", \"SpiceJet\", \"SpiceJet\", \"SpiceJet\", \"SpiceJet\", \"SpiceJet\", \"SpiceJet\", \"SpiceJet\", \"SpiceJet\", \"SpiceJet\", \"SpiceJet\", \"SpiceJet\", \"SpiceJet\", \"SpiceJet\", \"SpiceJet\", \"SpiceJet\", \"SpiceJet\", \"SpiceJet\", \"SpiceJet\", \"SpiceJet\", \"SpiceJet\", \"SpiceJet\", \"SpiceJet\", \"SpiceJet\", \"SpiceJet\", \"SpiceJet\", \"SpiceJet\", \"SpiceJet\", \"SpiceJet\", \"SpiceJet\", \"SpiceJet\", \"SpiceJet\", \"SpiceJet\", \"SpiceJet\", \"SpiceJet\", \"SpiceJet\", \"SpiceJet\", \"SpiceJet\", \"SpiceJet\", \"SpiceJet\", \"SpiceJet\", \"SpiceJet\", \"SpiceJet\", \"SpiceJet\", \"SpiceJet\", \"SpiceJet\", \"SpiceJet\", \"SpiceJet\", \"SpiceJet\", \"SpiceJet\", \"SpiceJet\", \"SpiceJet\", \"SpiceJet\", \"SpiceJet\", \"SpiceJet\", \"SpiceJet\", \"SpiceJet\", \"SpiceJet\", \"SpiceJet\"], \"x0\": \" \", \"xaxis\": \"x\", \"y\": [3873, 5830, 4649, 3527, 3332, 3257, 3971, 3873, 5264, 3311, 4812, 3543, 5583, 1965, 3543, 5264, 3173, 8224, 4129, 3859, 4174, 3543, 3841, 6197, 3971, 4781, 3919, 3384, 1965, 3919, 3543, 3971, 3543, 4957, 3873, 6297, 6643, 4911, 5755, 5583, 3543, 7298, 3841, 4957, 5515, 7139, 4174, 4991, 3873, 3971, 1965, 3597, 3332, 2017, 4649, 3873, 3873, 3573, 2753, 3573, 4760, 3815, 4174, 4174, 3815, 3841, 2175, 2017, 3841, 5126, 3597, 3873, 4812, 2017, 5583, 3841, 3841, 2753, 3807, 3807, 3873, 4649, 6460, 3597, 6300, 6749, 4957, 10156, 5726, 3543, 3919, 3597, 4174, 8382, 5158, 3597, 4911, 3543, 3332, 3841, 4319, 5831, 3919, 1965, 3597, 3873, 3873, 3873, 3597, 4991, 4649, 3597, 5351, 3332, 1965, 2017, 7189, 3841, 4319, 3807, 1965, 3873, 3625, 5515, 4611, 3841, 1965, 3332, 4423, 4174, 4465, 3841, 3543, 6643, 5583, 13552, 3841, 3873, 4319, 3971, 3841, 6356, 4812, 3873, 8479, 1965, 3543, 3873, 2385, 3841, 3597, 1965, 5469, 3873, 2227, 2647, 5726, 3257, 3873, 2175, 5583, 5583, 5409, 2017, 3573, 5351, 3815, 2385, 3971, 1965, 3847, 1965, 5975, 2647, 4413, 2647, 3847, 3841, 8844, 3873, 3971, 3573, 3873, 3597, 3597, 3841, 3841, 4319, 3625, 4807, 4377, 4423, 4174, 4273, 4391, 4885, 3625, 1965, 2017, 7298, 3597, 4319, 9630, 3919, 4439, 6065, 3919, 4273, 3841, 5575, 4423, 3543, 2017, 3873, 3311, 4423, 5975, 3873, 3815, 3873, 4812, 3847, 3841, 3873, 3841, 3873, 3873, 3873, 5515, 2227, 7317, 6013, 3859, 3841, 3597, 3873, 4423, 3873, 5621, 7648, 2017, 4273, 6860, 3841, 3815, 3625, 3841, 11726, 6300, 6381, 3841, 4649, 3625, 1965, 4760, 3841, 4273, 4319, 3841, 2017, 4319, 3573, 3841, 3873, 3859, 1965, 2017, 7294, 3873, 4991, 5515, 3841, 3873, 3919, 1965, 3847, 3573, 3873, 3543, 3925, 3841, 3873, 3873, 5515, 2227, 3919, 3597, 2017, 8488, 3873, 6315, 2017, 3311, 5575, 4319, 2753, 6251, 3815, 4957, 3841, 3873, 3971, 3625, 3841, 3597, 1759, 3841, 4319, 2017, 3815, 3873, 3873, 11690, 3543, 3597, 3971, 4174, 1759, 3971, 4622, 8479, 3257, 3311, 6297, 3384, 3859, 8844, 3543, 3841, 4174, 7947, 3841, 1965, 3841, 9736, 3841, 7298, 3597, 3873, 1965, 4885, 6356, 3873, 3311, 3873, 3841, 5899, 3573, 4649, 2017, 4885, 4174, 5469, 7185, 4491, 3873, 10341, 6860, 1759, 6300, 3573, 3384, 3873, 4622, 6205, 8844, 11005, 3841, 5583, 2175, 3384, 3384, 4423, 4760, 3873, 3873, 2017, 3971, 3841, 2385, 3847, 4423, 5409, 7110, 23267, 3859, 6205, 3311, 3841, 2017, 3625, 3841, 6171, 4174, 2385, 6749, 2385, 7646, 2017, 2175, 3597, 3597, 3173, 4174, 9748, 3543, 1965, 2017, 5583, 3971, 5755, 5158, 2017, 3543, 3543, 3573, 3597, 2753, 3257, 3873, 3873, 3911, 3543, 5158, 6309, 3873, 3579, 3841, 3841, 4174, 4622, 5221, 3873, 3597, 3873, 8479, 3873, 8479, 4319, 3597, 3597, 3257, 1965, 5409, 3543, 3841, 1965, 3625, 2437, 3543, 5201, 2175, 3971, 3573, 3849, 1965, 3841, 6300, 3841, 2017, 5126, 4439, 6205, 3850, 8479, 4174, 3815, 2017, 3859, 3543, 7084, 3543, 3873, 3841, 4423, 3873, 3971, 1965, 3841, 4491, 3873, 3815, 3841, 7804, 2017, 3841, 3919, 7744, 3603, 3873, 4991, 3873, 6853, 3873, 3919, 3919, 2017, 5975, 3543, 3841, 2647, 4423, 3625, 3847, 3971, 4148, 3841, 3597, 2753, 3873, 3873, 3841, 3543, 1965, 4491, 11401, 4174, 3873, 5158, 3543, 7298, 4622, 3573, 4649, 3543, 3257, 3859, 7298, 2227, 3873, 3257, 3873, 4423, 4649, 3925, 6300, 3873, 3257, 3841, 3971, 3597, 3841, 3841, 3841, 9946, 3543, 3841, 3841, 4423, 4423, 3873, 3859, 3873, 1965, 3625, 3841, 3543, 3841, 3841, 1965, 3625, 4377, 3841, 5583, 3847, 6300, 3543, 3815, 6860, 6461, 4991, 3911, 3971, 12287, 4423, 6300, 1965, 3873, 6860, 5418, 3543, 1965, 3873, 3841, 6300, 7317, 3841, 2175, 8479, 4466, 5725, 4885, 3597, 3543, 5830, 11468, 4649, 3971, 4413, 6300, 1965, 4839, 3841, 3815, 2017, 3543, 4174, 4812, 3873, 4423, 8224, 4174, 2753, 3841, 3543, 7718, 5583, 3815, 3597, 12475, 8224, 9748, 3597, 5583, 3919, 3873, 1965, 10654, 6297, 5583, 5515, 3873, 4096, 3597, 1965, 4622, 4174, 3841, 5111, 3311, 3873, 3841, 5975, 5621, 4423, 4957, 2017, 3841, 4957, 5822, 4991, 4377, 3573, 3919, 2017, 1965, 3543, 3841, 4414, 3841, 2017, 3384, 2017, 2017, 3841, 3597, 4174, 3597, 4963, 5515, 3841, 3543, 3543, 2017, 2647, 4423, 4319, 5515, 3873, 4807, 1965, 2227, 3841, 2017, 3625, 3543, 7317, 4148, 3543, 3841, 2753, 3311, 3847, 3873, 3841, 3625, 10944, 4273, 3311, 3873, 3573, 3332, 2017, 4174, 3971, 4423, 3841, 5583, 7804, 1965, 3841, 8479, 6381, 5264, 4649, 3573, 3841, 6460, 3841, 3543, 3543, 3543, 4957, 2175, 3543, 3597, 4319, 4174, 3597, 2437, 1965, 3597, 2227, 4885, 11349, 3597, 3597, 3841, 1965, 3919, 4319, 4423, 3625, 4963, 5899, 5673, 6205, 3841, 3597, 3597, 3873, 3841, 3873, 3625, 4174, 7050, 4098, 3543, 4622, 2017, 8479, 3919, 2753, 5511, 3573, 3873, 3841, 9923, 2385, 4760, 2753, 3971, 3625, 3841, 3841, 3859, 3919, 9158, 6982, 3543, 9748, 4760, 3873, 5409, 3807, 3841, 4859, 4945, 3841, 3873, 2437, 2753, 2017, 3543, 3919, 3919, 4174, 6309, 1965, 8479, 4957, 3625, 3597, 5351, 3847, 4423, 2017, 1759, 3841, 3841, 3841, 3873, 8844, 5158, 4319, 8224, 4319, 3257], \"y0\": \" \", \"yaxis\": \"y\"}, {\"alignmentgroup\": \"True\", \"hoverlabel\": {\"namelength\": 0}, \"hovertemplate\": \"Airline=%{x}<br>Price=%{y}\", \"legendgroup\": \"Airline=Multiple carriers\", \"marker\": {\"color\": \"#FFA15A\"}, \"name\": \"Airline=Multiple carriers\", \"notched\": true, \"offsetgroup\": \"Airline=Multiple carriers\", \"orientation\": \"v\", \"showlegend\": true, \"type\": \"box\", \"x\": [\"Multiple carriers\", \"Multiple carriers\", \"Multiple carriers\", \"Multiple carriers\", \"Multiple carriers\", \"Multiple carriers\", \"Multiple carriers\", \"Multiple carriers\", \"Multiple carriers\", \"Multiple carriers\", \"Multiple carriers\", \"Multiple carriers\", \"Multiple carriers\", \"Multiple carriers\", \"Multiple carriers\", \"Multiple carriers\", \"Multiple carriers\", \"Multiple carriers\", \"Multiple carriers\", \"Multiple carriers\", \"Multiple carriers\", \"Multiple carriers\", \"Multiple carriers\", \"Multiple carriers\", \"Multiple carriers\", \"Multiple carriers\", \"Multiple carriers\", \"Multiple carriers\", \"Multiple carriers\", \"Multiple carriers\", \"Multiple carriers\", \"Multiple carriers\", \"Multiple carriers\", \"Multiple carriers\", \"Multiple carriers\", \"Multiple carriers\", \"Multiple carriers\", \"Multiple carriers\", \"Multiple carriers\", \"Multiple carriers\", \"Multiple carriers\", \"Multiple carriers\", \"Multiple carriers\", \"Multiple carriers\", \"Multiple carriers\", \"Multiple carriers\", \"Multiple carriers\", \"Multiple carriers\", \"Multiple carriers\", \"Multiple carriers\", \"Multiple carriers\", \"Multiple carriers\", \"Multiple carriers\", \"Multiple carriers\", \"Multiple carriers\", \"Multiple carriers\", \"Multiple carriers\", \"Multiple carriers\", \"Multiple carriers\", \"Multiple carriers\", \"Multiple carriers\", \"Multiple carriers\", \"Multiple carriers\", \"Multiple carriers\", \"Multiple carriers\", \"Multiple carriers\", \"Multiple carriers\", \"Multiple carriers\", \"Multiple carriers\", \"Multiple carriers\", \"Multiple carriers\", \"Multiple carriers\", \"Multiple carriers\", \"Multiple carriers\", \"Multiple carriers\", \"Multiple carriers\", \"Multiple carriers\", \"Multiple carriers\", \"Multiple carriers\", \"Multiple carriers\", \"Multiple carriers\", \"Multiple carriers\", \"Multiple carriers\", \"Multiple carriers\", \"Multiple carriers\", \"Multiple carriers\", \"Multiple carriers\", \"Multiple carriers\", \"Multiple carriers\", \"Multiple carriers\", \"Multiple carriers\", \"Multiple carriers\", \"Multiple carriers\", \"Multiple carriers\", \"Multiple carriers\", \"Multiple carriers\", \"Multiple carriers\", \"Multiple carriers\", \"Multiple carriers\", \"Multiple carriers\", \"Multiple carriers\", \"Multiple carriers\", \"Multiple carriers\", \"Multiple carriers\", \"Multiple carriers\", \"Multiple carriers\", \"Multiple carriers\", \"Multiple carriers\", \"Multiple carriers\", \"Multiple carriers\", \"Multiple carriers\", \"Multiple carriers\", \"Multiple carriers\", \"Multiple carriers\", \"Multiple carriers\", \"Multiple carriers\", \"Multiple carriers\", \"Multiple carriers\", \"Multiple carriers\", \"Multiple carriers\", \"Multiple carriers\", \"Multiple carriers\", \"Multiple carriers\", \"Multiple carriers\", \"Multiple carriers\", \"Multiple carriers\", \"Multiple carriers\", \"Multiple carriers\", \"Multiple carriers\", \"Multiple carriers\", \"Multiple carriers\", \"Multiple carriers\", \"Multiple carriers\", \"Multiple carriers\", \"Multiple carriers\", \"Multiple carriers\", \"Multiple carriers\", \"Multiple carriers\", \"Multiple carriers\", \"Multiple carriers\", \"Multiple carriers\", \"Multiple carriers\", \"Multiple carriers\", \"Multiple carriers\", \"Multiple carriers\", \"Multiple carriers\", \"Multiple carriers\", \"Multiple carriers\", \"Multiple carriers\", \"Multiple carriers\", \"Multiple carriers\", \"Multiple carriers\", \"Multiple carriers\", \"Multiple carriers\", \"Multiple carriers\", \"Multiple carriers\", \"Multiple carriers\", \"Multiple carriers\", \"Multiple carriers\", \"Multiple carriers\", \"Multiple carriers\", \"Multiple carriers\", \"Multiple carriers\", \"Multiple carriers\", \"Multiple carriers\", \"Multiple carriers\", \"Multiple carriers\", \"Multiple carriers\", \"Multiple carriers\", \"Multiple carriers\", \"Multiple carriers\", \"Multiple carriers\", \"Multiple carriers\", \"Multiple carriers\", \"Multiple carriers\", \"Multiple carriers\", \"Multiple carriers\", \"Multiple carriers\", \"Multiple carriers\", \"Multiple carriers\", \"Multiple carriers\", \"Multiple carriers\", \"Multiple carriers\", \"Multiple carriers\", \"Multiple carriers\", \"Multiple carriers\", \"Multiple carriers\", \"Multiple carriers\", \"Multiple carriers\", \"Multiple carriers\", \"Multiple carriers\", \"Multiple carriers\", \"Multiple carriers\", \"Multiple carriers\", \"Multiple carriers\", \"Multiple carriers\", \"Multiple carriers\", \"Multiple carriers\", \"Multiple carriers\", \"Multiple carriers\", \"Multiple carriers\", \"Multiple carriers\", \"Multiple carriers\", \"Multiple carriers\", \"Multiple carriers\", \"Multiple carriers\", \"Multiple carriers\", \"Multiple carriers\", \"Multiple carriers\", \"Multiple carriers\", \"Multiple carriers\", \"Multiple carriers\", \"Multiple carriers\", \"Multiple carriers\", \"Multiple carriers\", \"Multiple carriers\", \"Multiple carriers\", \"Multiple carriers\", \"Multiple carriers\", \"Multiple carriers\", \"Multiple carriers\", \"Multiple carriers\", \"Multiple carriers\", \"Multiple carriers\", \"Multiple carriers\", \"Multiple carriers\", \"Multiple carriers\", \"Multiple carriers\", \"Multiple carriers\", \"Multiple carriers\", \"Multiple carriers\", \"Multiple carriers\", \"Multiple carriers\", \"Multiple carriers\", \"Multiple carriers\", \"Multiple carriers\", \"Multiple carriers\", \"Multiple carriers\", \"Multiple carriers\", \"Multiple carriers\", \"Multiple carriers\", \"Multiple carriers\", \"Multiple carriers\", \"Multiple carriers\", \"Multiple carriers\", \"Multiple carriers\", \"Multiple carriers\", \"Multiple carriers\", \"Multiple carriers\", \"Multiple carriers\", \"Multiple carriers\", \"Multiple carriers\", \"Multiple carriers\", \"Multiple carriers\", \"Multiple carriers\", \"Multiple carriers\", \"Multiple carriers\", \"Multiple carriers\", \"Multiple carriers\", \"Multiple carriers\", \"Multiple carriers\", \"Multiple carriers\", \"Multiple carriers\", \"Multiple carriers\", \"Multiple carriers\", \"Multiple carriers\", \"Multiple carriers\", \"Multiple carriers\", \"Multiple carriers\", \"Multiple carriers\", \"Multiple carriers\", \"Multiple carriers\", \"Multiple carriers\", \"Multiple carriers\", \"Multiple carriers\", \"Multiple carriers\", \"Multiple carriers\", \"Multiple carriers\", \"Multiple carriers\", \"Multiple carriers\", \"Multiple carriers\", \"Multiple carriers\", \"Multiple carriers\", \"Multiple carriers\", \"Multiple carriers\", \"Multiple carriers\", \"Multiple carriers\", \"Multiple carriers\", \"Multiple carriers\", \"Multiple carriers\", \"Multiple carriers\", \"Multiple carriers\", \"Multiple carriers\", \"Multiple carriers\", \"Multiple carriers\", \"Multiple carriers\", \"Multiple carriers\", \"Multiple carriers\", \"Multiple carriers\", \"Multiple carriers\", \"Multiple carriers\", \"Multiple carriers\", \"Multiple carriers\", \"Multiple carriers\", \"Multiple carriers\", \"Multiple carriers\", \"Multiple carriers\", \"Multiple carriers\", \"Multiple carriers\", \"Multiple carriers\", \"Multiple carriers\", \"Multiple carriers\", \"Multiple carriers\", \"Multiple carriers\", \"Multiple carriers\", \"Multiple carriers\", \"Multiple carriers\", \"Multiple carriers\", \"Multiple carriers\", \"Multiple carriers\", \"Multiple carriers\", \"Multiple carriers\", \"Multiple carriers\", \"Multiple carriers\", \"Multiple carriers\", \"Multiple carriers\", \"Multiple carriers\", \"Multiple carriers\", \"Multiple carriers\", \"Multiple carriers\", \"Multiple carriers\", \"Multiple carriers\", \"Multiple carriers\", \"Multiple carriers\", \"Multiple carriers\", \"Multiple carriers\", \"Multiple carriers\", \"Multiple carriers\", \"Multiple carriers\", \"Multiple carriers\", \"Multiple carriers\", \"Multiple carriers\", \"Multiple carriers\", \"Multiple carriers\", \"Multiple carriers\", \"Multiple carriers\", \"Multiple carriers\", \"Multiple carriers\", \"Multiple carriers\", \"Multiple carriers\", \"Multiple carriers\", \"Multiple carriers\", \"Multiple carriers\", \"Multiple carriers\", \"Multiple carriers\", \"Multiple carriers\", \"Multiple carriers\", \"Multiple carriers\", \"Multiple carriers\", \"Multiple carriers\", \"Multiple carriers\", \"Multiple carriers\", \"Multiple carriers\", \"Multiple carriers\", \"Multiple carriers\", \"Multiple carriers\", \"Multiple carriers\", \"Multiple carriers\", \"Multiple carriers\", \"Multiple carriers\", \"Multiple carriers\", \"Multiple carriers\", \"Multiple carriers\", \"Multiple carriers\", \"Multiple carriers\", \"Multiple carriers\", \"Multiple carriers\", \"Multiple carriers\", \"Multiple carriers\", \"Multiple carriers\", \"Multiple carriers\", \"Multiple carriers\", \"Multiple carriers\", \"Multiple carriers\", \"Multiple carriers\", \"Multiple carriers\", \"Multiple carriers\", \"Multiple carriers\", \"Multiple carriers\", \"Multiple carriers\", \"Multiple carriers\", \"Multiple carriers\", \"Multiple carriers\", \"Multiple carriers\", \"Multiple carriers\", \"Multiple carriers\", \"Multiple carriers\", \"Multiple carriers\", \"Multiple carriers\", \"Multiple carriers\", \"Multiple carriers\", \"Multiple carriers\", \"Multiple carriers\", \"Multiple carriers\", \"Multiple carriers\", \"Multiple carriers\", \"Multiple carriers\", \"Multiple carriers\", \"Multiple carriers\", \"Multiple carriers\", \"Multiple carriers\", \"Multiple carriers\", \"Multiple carriers\", \"Multiple carriers\", \"Multiple carriers\", \"Multiple carriers\", \"Multiple carriers\", \"Multiple carriers\", \"Multiple carriers\", \"Multiple carriers\", \"Multiple carriers\", \"Multiple carriers\", \"Multiple carriers\", \"Multiple carriers\", \"Multiple carriers\", \"Multiple carriers\", \"Multiple carriers\", \"Multiple carriers\", \"Multiple carriers\", \"Multiple carriers\", \"Multiple carriers\", \"Multiple carriers\", \"Multiple carriers\", \"Multiple carriers\", \"Multiple carriers\", \"Multiple carriers\", \"Multiple carriers\", \"Multiple carriers\", \"Multiple carriers\", \"Multiple carriers\", \"Multiple carriers\", \"Multiple carriers\", \"Multiple carriers\", \"Multiple carriers\", \"Multiple carriers\", \"Multiple carriers\", \"Multiple carriers\", \"Multiple carriers\", \"Multiple carriers\", \"Multiple carriers\", \"Multiple carriers\", \"Multiple carriers\", \"Multiple carriers\", \"Multiple carriers\", \"Multiple carriers\", \"Multiple carriers\", \"Multiple carriers\", \"Multiple carriers\", \"Multiple carriers\", \"Multiple carriers\", \"Multiple carriers\", \"Multiple carriers\", \"Multiple carriers\", \"Multiple carriers\", \"Multiple carriers\", \"Multiple carriers\", \"Multiple carriers\", \"Multiple carriers\", \"Multiple carriers\", \"Multiple carriers\", \"Multiple carriers\", \"Multiple carriers\", \"Multiple carriers\", \"Multiple carriers\", \"Multiple carriers\", \"Multiple carriers\", \"Multiple carriers\", \"Multiple carriers\", \"Multiple carriers\", \"Multiple carriers\", \"Multiple carriers\", \"Multiple carriers\", \"Multiple carriers\", \"Multiple carriers\", \"Multiple carriers\", \"Multiple carriers\", \"Multiple carriers\", \"Multiple carriers\", \"Multiple carriers\", \"Multiple carriers\", \"Multiple carriers\", \"Multiple carriers\", \"Multiple carriers\", \"Multiple carriers\", \"Multiple carriers\", \"Multiple carriers\", \"Multiple carriers\", \"Multiple carriers\", \"Multiple carriers\", \"Multiple carriers\", \"Multiple carriers\", \"Multiple carriers\", \"Multiple carriers\", \"Multiple carriers\", \"Multiple carriers\", \"Multiple carriers\", \"Multiple carriers\", \"Multiple carriers\", \"Multiple carriers\", \"Multiple carriers\", \"Multiple carriers\", \"Multiple carriers\", \"Multiple carriers\", \"Multiple carriers\", \"Multiple carriers\", \"Multiple carriers\", \"Multiple carriers\", \"Multiple carriers\", \"Multiple carriers\", \"Multiple carriers\", \"Multiple carriers\", \"Multiple carriers\", \"Multiple carriers\", \"Multiple carriers\", \"Multiple carriers\", \"Multiple carriers\", \"Multiple carriers\", \"Multiple carriers\", \"Multiple carriers\", \"Multiple carriers\", \"Multiple carriers\", \"Multiple carriers\", \"Multiple carriers\", \"Multiple carriers\", \"Multiple carriers\", \"Multiple carriers\", \"Multiple carriers\", \"Multiple carriers\", \"Multiple carriers\", \"Multiple carriers\", \"Multiple carriers\", \"Multiple carriers\", \"Multiple carriers\", \"Multiple carriers\", \"Multiple carriers\", \"Multiple carriers\", \"Multiple carriers\", \"Multiple carriers\", \"Multiple carriers\", \"Multiple carriers\", \"Multiple carriers\", \"Multiple carriers\", \"Multiple carriers\", \"Multiple carriers\", \"Multiple carriers\", \"Multiple carriers\", \"Multiple carriers\", \"Multiple carriers\", \"Multiple carriers\", \"Multiple carriers\", \"Multiple carriers\", \"Multiple carriers\", \"Multiple carriers\", \"Multiple carriers\", \"Multiple carriers\", \"Multiple carriers\", \"Multiple carriers\", \"Multiple carriers\", \"Multiple carriers\", \"Multiple carriers\", \"Multiple carriers\", \"Multiple carriers\", \"Multiple carriers\", \"Multiple carriers\", \"Multiple carriers\", \"Multiple carriers\", \"Multiple carriers\", \"Multiple carriers\", \"Multiple carriers\", \"Multiple carriers\", \"Multiple carriers\", \"Multiple carriers\", \"Multiple carriers\", \"Multiple carriers\", \"Multiple carriers\", \"Multiple carriers\", \"Multiple carriers\", \"Multiple carriers\", \"Multiple carriers\", \"Multiple carriers\", \"Multiple carriers\", \"Multiple carriers\", \"Multiple carriers\", \"Multiple carriers\", \"Multiple carriers\", \"Multiple carriers\", \"Multiple carriers\", \"Multiple carriers\", \"Multiple carriers\", \"Multiple carriers\", \"Multiple carriers\", \"Multiple carriers\", \"Multiple carriers\", \"Multiple carriers\", \"Multiple carriers\", \"Multiple carriers\", \"Multiple carriers\", \"Multiple carriers\", \"Multiple carriers\", \"Multiple carriers\", \"Multiple carriers\", \"Multiple carriers\", \"Multiple carriers\", \"Multiple carriers\", \"Multiple carriers\", \"Multiple carriers\", \"Multiple carriers\", \"Multiple carriers\", \"Multiple carriers\", \"Multiple carriers\", \"Multiple carriers\", \"Multiple carriers\", \"Multiple carriers\", \"Multiple carriers\", \"Multiple carriers\", \"Multiple carriers\", \"Multiple carriers\", \"Multiple carriers\", \"Multiple carriers\", \"Multiple carriers\", \"Multiple carriers\", \"Multiple carriers\", \"Multiple carriers\", \"Multiple carriers\", \"Multiple carriers\", \"Multiple carriers\", \"Multiple carriers\", \"Multiple carriers\", \"Multiple carriers\", \"Multiple carriers\", \"Multiple carriers\", \"Multiple carriers\", \"Multiple carriers\", \"Multiple carriers\", \"Multiple carriers\", \"Multiple carriers\", \"Multiple carriers\", \"Multiple carriers\", \"Multiple carriers\", \"Multiple carriers\", \"Multiple carriers\", \"Multiple carriers\", \"Multiple carriers\", \"Multiple carriers\", \"Multiple carriers\", \"Multiple carriers\", \"Multiple carriers\", \"Multiple carriers\", \"Multiple carriers\", \"Multiple carriers\", \"Multiple carriers\", \"Multiple carriers\", \"Multiple carriers\", \"Multiple carriers\", \"Multiple carriers\", \"Multiple carriers\", \"Multiple carriers\", \"Multiple carriers\", \"Multiple carriers\", \"Multiple carriers\", \"Multiple carriers\", \"Multiple carriers\", \"Multiple carriers\", \"Multiple carriers\", \"Multiple carriers\", \"Multiple carriers\", \"Multiple carriers\", \"Multiple carriers\", \"Multiple carriers\", \"Multiple carriers\", \"Multiple carriers\", \"Multiple carriers\", \"Multiple carriers\", \"Multiple carriers\", \"Multiple carriers\", \"Multiple carriers\", \"Multiple carriers\", \"Multiple carriers\", \"Multiple carriers\", \"Multiple carriers\", \"Multiple carriers\", \"Multiple carriers\", \"Multiple carriers\", \"Multiple carriers\", \"Multiple carriers\", \"Multiple carriers\", \"Multiple carriers\", \"Multiple carriers\", \"Multiple carriers\", \"Multiple carriers\", \"Multiple carriers\", \"Multiple carriers\", \"Multiple carriers\", \"Multiple carriers\", \"Multiple carriers\", \"Multiple carriers\", \"Multiple carriers\", \"Multiple carriers\", \"Multiple carriers\", \"Multiple carriers\", \"Multiple carriers\", \"Multiple carriers\", \"Multiple carriers\", \"Multiple carriers\", \"Multiple carriers\", \"Multiple carriers\", \"Multiple carriers\", \"Multiple carriers\", \"Multiple carriers\", \"Multiple carriers\", \"Multiple carriers\", \"Multiple carriers\", \"Multiple carriers\", \"Multiple carriers\", \"Multiple carriers\", \"Multiple carriers\", \"Multiple carriers\", \"Multiple carriers\", \"Multiple carriers\", \"Multiple carriers\", \"Multiple carriers\", \"Multiple carriers\", \"Multiple carriers\", \"Multiple carriers\", \"Multiple carriers\", \"Multiple carriers\", \"Multiple carriers\", \"Multiple carriers\", \"Multiple carriers\", \"Multiple carriers\", \"Multiple carriers\", \"Multiple carriers\", \"Multiple carriers\", \"Multiple carriers\", \"Multiple carriers\", \"Multiple carriers\", \"Multiple carriers\", \"Multiple carriers\", \"Multiple carriers\", \"Multiple carriers\", \"Multiple carriers\", \"Multiple carriers\", \"Multiple carriers\", \"Multiple carriers\", \"Multiple carriers\", \"Multiple carriers\", \"Multiple carriers\", \"Multiple carriers\", \"Multiple carriers\", \"Multiple carriers\", \"Multiple carriers\", \"Multiple carriers\", \"Multiple carriers\", \"Multiple carriers\", \"Multiple carriers\", \"Multiple carriers\", \"Multiple carriers\", \"Multiple carriers\", \"Multiple carriers\", \"Multiple carriers\", \"Multiple carriers\", \"Multiple carriers\", \"Multiple carriers\", \"Multiple carriers\", \"Multiple carriers\", \"Multiple carriers\", \"Multiple carriers\", \"Multiple carriers\", \"Multiple carriers\", \"Multiple carriers\", \"Multiple carriers\", \"Multiple carriers\", \"Multiple carriers\", \"Multiple carriers\", \"Multiple carriers\", \"Multiple carriers\", \"Multiple carriers\", \"Multiple carriers\", \"Multiple carriers\", \"Multiple carriers\", \"Multiple carriers\", \"Multiple carriers\", \"Multiple carriers\", \"Multiple carriers\", \"Multiple carriers\", \"Multiple carriers\", \"Multiple carriers\", \"Multiple carriers\", \"Multiple carriers\", \"Multiple carriers\", \"Multiple carriers\", \"Multiple carriers\", \"Multiple carriers\", \"Multiple carriers\", \"Multiple carriers\", \"Multiple carriers\", \"Multiple carriers\", \"Multiple carriers\", \"Multiple carriers\", \"Multiple carriers\", \"Multiple carriers\", \"Multiple carriers\", \"Multiple carriers\", \"Multiple carriers\", \"Multiple carriers\", \"Multiple carriers\", \"Multiple carriers\", \"Multiple carriers\", \"Multiple carriers\", \"Multiple carriers\", \"Multiple carriers\", \"Multiple carriers\", \"Multiple carriers\", \"Multiple carriers\", \"Multiple carriers\", \"Multiple carriers\", \"Multiple carriers\", \"Multiple carriers\", \"Multiple carriers\", \"Multiple carriers\", \"Multiple carriers\", \"Multiple carriers\", \"Multiple carriers\", \"Multiple carriers\", \"Multiple carriers\", \"Multiple carriers\", \"Multiple carriers\", \"Multiple carriers\", \"Multiple carriers\", \"Multiple carriers\", \"Multiple carriers\", \"Multiple carriers\", \"Multiple carriers\", \"Multiple carriers\", \"Multiple carriers\", \"Multiple carriers\", \"Multiple carriers\", \"Multiple carriers\", \"Multiple carriers\", \"Multiple carriers\", \"Multiple carriers\", \"Multiple carriers\", \"Multiple carriers\", \"Multiple carriers\", \"Multiple carriers\", \"Multiple carriers\", \"Multiple carriers\", \"Multiple carriers\", \"Multiple carriers\", \"Multiple carriers\", \"Multiple carriers\", \"Multiple carriers\", \"Multiple carriers\", \"Multiple carriers\", \"Multiple carriers\", \"Multiple carriers\", \"Multiple carriers\", \"Multiple carriers\", \"Multiple carriers\", \"Multiple carriers\", \"Multiple carriers\", \"Multiple carriers\", \"Multiple carriers\", \"Multiple carriers\", \"Multiple carriers\", \"Multiple carriers\", \"Multiple carriers\", \"Multiple carriers\", \"Multiple carriers\", \"Multiple carriers\", \"Multiple carriers\", \"Multiple carriers\", \"Multiple carriers\", \"Multiple carriers\", \"Multiple carriers\", \"Multiple carriers\", \"Multiple carriers\", \"Multiple carriers\", \"Multiple carriers\", \"Multiple carriers\", \"Multiple carriers\", \"Multiple carriers\", \"Multiple carriers\", \"Multiple carriers\", \"Multiple carriers\", \"Multiple carriers\", \"Multiple carriers\", \"Multiple carriers\", \"Multiple carriers\", \"Multiple carriers\", \"Multiple carriers\", \"Multiple carriers\", \"Multiple carriers\", \"Multiple carriers\", \"Multiple carriers\", \"Multiple carriers\", \"Multiple carriers\", \"Multiple carriers\", \"Multiple carriers\", \"Multiple carriers\", \"Multiple carriers\", \"Multiple carriers\", \"Multiple carriers\", \"Multiple carriers\", \"Multiple carriers\", \"Multiple carriers\", \"Multiple carriers\", \"Multiple carriers\", \"Multiple carriers\", \"Multiple carriers\", \"Multiple carriers\", \"Multiple carriers\", \"Multiple carriers\", \"Multiple carriers\", \"Multiple carriers\", \"Multiple carriers\", \"Multiple carriers\", \"Multiple carriers\", \"Multiple carriers\", \"Multiple carriers\", \"Multiple carriers\", \"Multiple carriers\", \"Multiple carriers\", \"Multiple carriers\", \"Multiple carriers\", \"Multiple carriers\", \"Multiple carriers\", \"Multiple carriers\", \"Multiple carriers\", \"Multiple carriers\", \"Multiple carriers\", \"Multiple carriers\", \"Multiple carriers\", \"Multiple carriers\", \"Multiple carriers\", \"Multiple carriers\", \"Multiple carriers\", \"Multiple carriers\", \"Multiple carriers\", \"Multiple carriers\", \"Multiple carriers\", \"Multiple carriers\", \"Multiple carriers\", \"Multiple carriers\", \"Multiple carriers\", \"Multiple carriers\", \"Multiple carriers\", \"Multiple carriers\", \"Multiple carriers\", \"Multiple carriers\", \"Multiple carriers\", \"Multiple carriers\", \"Multiple carriers\", \"Multiple carriers\", \"Multiple carriers\", \"Multiple carriers\", \"Multiple carriers\", \"Multiple carriers\", \"Multiple carriers\", \"Multiple carriers\", \"Multiple carriers\", \"Multiple carriers\", \"Multiple carriers\", \"Multiple carriers\", \"Multiple carriers\", \"Multiple carriers\", \"Multiple carriers\", \"Multiple carriers\", \"Multiple carriers\", \"Multiple carriers\", \"Multiple carriers\", \"Multiple carriers\", \"Multiple carriers\", \"Multiple carriers\", \"Multiple carriers\", \"Multiple carriers\", \"Multiple carriers\", \"Multiple carriers\", \"Multiple carriers\", \"Multiple carriers\", \"Multiple carriers\", \"Multiple carriers\", \"Multiple carriers\", \"Multiple carriers\", \"Multiple carriers\", \"Multiple carriers\", \"Multiple carriers\", \"Multiple carriers\", \"Multiple carriers\", \"Multiple carriers\", \"Multiple carriers\", \"Multiple carriers\", \"Multiple carriers\", \"Multiple carriers\", \"Multiple carriers\", \"Multiple carriers\", \"Multiple carriers\", \"Multiple carriers\", \"Multiple carriers\", \"Multiple carriers\", \"Multiple carriers\", \"Multiple carriers\", \"Multiple carriers\", \"Multiple carriers\", \"Multiple carriers\", \"Multiple carriers\", \"Multiple carriers\", \"Multiple carriers\", \"Multiple carriers\", \"Multiple carriers\", \"Multiple carriers\", \"Multiple carriers\", \"Multiple carriers\", \"Multiple carriers\", \"Multiple carriers\", \"Multiple carriers\", \"Multiple carriers\", \"Multiple carriers\", \"Multiple carriers\", \"Multiple carriers\", \"Multiple carriers\", \"Multiple carriers\", \"Multiple carriers\", \"Multiple carriers\", \"Multiple carriers\", \"Multiple carriers\", \"Multiple carriers\", \"Multiple carriers\", \"Multiple carriers\", \"Multiple carriers\", \"Multiple carriers\", \"Multiple carriers\", \"Multiple carriers\", \"Multiple carriers\", \"Multiple carriers\", \"Multiple carriers\", \"Multiple carriers\", \"Multiple carriers\", \"Multiple carriers\", \"Multiple carriers\", \"Multiple carriers\", \"Multiple carriers\", \"Multiple carriers\", \"Multiple carriers\", \"Multiple carriers\", \"Multiple carriers\", \"Multiple carriers\", \"Multiple carriers\", \"Multiple carriers\", \"Multiple carriers\", \"Multiple carriers\", \"Multiple carriers\", \"Multiple carriers\", \"Multiple carriers\", \"Multiple carriers\", \"Multiple carriers\", \"Multiple carriers\", \"Multiple carriers\", \"Multiple carriers\", \"Multiple carriers\", \"Multiple carriers\", \"Multiple carriers\", \"Multiple carriers\", \"Multiple carriers\", \"Multiple carriers\", \"Multiple carriers\", \"Multiple carriers\", \"Multiple carriers\", \"Multiple carriers\", \"Multiple carriers\", \"Multiple carriers\", \"Multiple carriers\", \"Multiple carriers\", \"Multiple carriers\", \"Multiple carriers\", \"Multiple carriers\", \"Multiple carriers\", \"Multiple carriers\", \"Multiple carriers\", \"Multiple carriers\", \"Multiple carriers\", \"Multiple carriers\", \"Multiple carriers\", \"Multiple carriers\", \"Multiple carriers\", \"Multiple carriers\", \"Multiple carriers\", \"Multiple carriers\", \"Multiple carriers\", \"Multiple carriers\", \"Multiple carriers\", \"Multiple carriers\", \"Multiple carriers\", \"Multiple carriers\", \"Multiple carriers\", \"Multiple carriers\", \"Multiple carriers\", \"Multiple carriers\", \"Multiple carriers\", \"Multiple carriers\", \"Multiple carriers\", \"Multiple carriers\", \"Multiple carriers\", \"Multiple carriers\", \"Multiple carriers\", \"Multiple carriers\", \"Multiple carriers\", \"Multiple carriers\", \"Multiple carriers\", \"Multiple carriers\", \"Multiple carriers\", \"Multiple carriers\", \"Multiple carriers\", \"Multiple carriers\", \"Multiple carriers\", \"Multiple carriers\", \"Multiple carriers\", \"Multiple carriers\", \"Multiple carriers\", \"Multiple carriers\", \"Multiple carriers\", \"Multiple carriers\", \"Multiple carriers\", \"Multiple carriers\", \"Multiple carriers\", \"Multiple carriers\", \"Multiple carriers\", \"Multiple carriers\", \"Multiple carriers\", \"Multiple carriers\", \"Multiple carriers\", \"Multiple carriers\", \"Multiple carriers\", \"Multiple carriers\", \"Multiple carriers\", \"Multiple carriers\", \"Multiple carriers\", \"Multiple carriers\", \"Multiple carriers\", \"Multiple carriers\", \"Multiple carriers\", \"Multiple carriers\", \"Multiple carriers\", \"Multiple carriers\", \"Multiple carriers\", \"Multiple carriers\", \"Multiple carriers\", \"Multiple carriers\", \"Multiple carriers\", \"Multiple carriers\", \"Multiple carriers\", \"Multiple carriers\", \"Multiple carriers\", \"Multiple carriers\", \"Multiple carriers\", \"Multiple carriers\", \"Multiple carriers\", \"Multiple carriers\", \"Multiple carriers\", \"Multiple carriers\", \"Multiple carriers\", \"Multiple carriers\", \"Multiple carriers\", \"Multiple carriers\", \"Multiple carriers\", \"Multiple carriers\", \"Multiple carriers\", \"Multiple carriers\", \"Multiple carriers\", \"Multiple carriers\", \"Multiple carriers\", \"Multiple carriers\", \"Multiple carriers\", \"Multiple carriers\", \"Multiple carriers\", \"Multiple carriers\", \"Multiple carriers\", \"Multiple carriers\", \"Multiple carriers\", \"Multiple carriers\", \"Multiple carriers\", \"Multiple carriers\", \"Multiple carriers\", \"Multiple carriers\", \"Multiple carriers\", \"Multiple carriers\"], \"x0\": \" \", \"xaxis\": \"x\", \"y\": [8625, 9646, 13062, 8073, 12524, 10791, 10197, 9646, 17057, 11421, 7574, 10348, 15147, 14067, 13017, 9486, 7005, 13587, 14277, 13727, 12537, 10877, 9646, 7677, 12192, 14323, 13727, 12524, 13587, 6601, 7695, 6513, 18275, 7308, 9001, 7198, 15353, 6795, 15965, 9646, 9315, 11667, 15603, 12524, 36983, 14848, 8266, 15411, 14323, 13727, 8552, 6481, 7354, 6795, 9736, 7408, 13727, 10197, 9627, 13542, 7408, 7723, 15411, 9794, 9211, 10786, 9424, 14533, 7888, 8937, 6093, 6838, 6795, 9100, 10877, 7485, 10791, 17073, 6795, 13069, 13568, 15353, 6943, 8937, 10759, 10197, 9275, 13542, 7268, 9627, 9103, 11142, 9646, 13378, 16108, 7155, 7618, 15147, 6270, 17057, 9794, 9646, 15147, 9871, 16775, 7198, 6305, 8620, 5797, 7485, 15965, 8291, 10407, 9315, 15078, 13677, 7408, 8018, 15136, 7155, 12192, 18485, 12327, 13838, 10877, 11200, 8099, 18275, 8475, 11789, 10529, 6358, 6197, 9100, 7723, 12717, 13542, 10444, 7787, 23583, 9646, 7005, 13377, 9779, 13377, 11622, 13542, 12192, 6795, 15898, 9718, 6795, 7005, 12192, 7575, 13587, 8266, 7670, 23533, 17057, 10678, 6148, 9149, 6128, 8073, 14067, 6795, 5797, 7408, 6916, 12927, 14502, 15077, 12192, 6076, 9021, 14533, 9646, 10877, 10678, 9001, 7670, 7530, 11789, 11789, 7888, 17057, 12537, 8266, 10678, 13378, 15353, 10877, 7530, 6943, 6953, 13377, 19332, 11789, 8266, 13977, 7575, 8625, 13377, 13587, 15078, 7563, 11200, 18275, 7485, 6723, 8307, 13587, 7740, 9794, 8266, 8510, 18275, 12853, 14533, 15147, 7408, 10197, 15135, 15136, 7038, 8266, 9646, 7038, 7408, 12192, 7408, 7155, 11098, 6673, 9718, 12717, 7845, 6883, 6883, 13587, 12192, 8266, 15147, 7198, 11999, 7354, 12537, 13377, 8099, 18286, 13941, 7155, 15147, 7178, 5797, 13727, 17267, 14067, 7485, 6513, 13504, 9646, 7740, 10877, 5797, 9736, 7408, 13587, 7198, 12717, 7005, 7845, 8099, 13377, 7354, 6795, 13587, 9103, 6723, 13587, 8073, 10197, 8535, 12537, 8476, 8098, 6883, 16108, 7408, 13542, 9103, 15342, 13377, 10407, 18485, 13377, 15147, 14848, 12537, 7670, 8099, 7575, 6916, 7878, 10529, 10877, 13727, 6883, 15078, 21829, 6007, 7198, 11299, 7933, 7408, 12524, 7530, 9794, 13587, 16840, 9646, 9646, 10197, 10877, 18492, 8565, 10197, 10197, 11789, 7670, 9627, 10678, 9595, 7575, 13677, 7530, 14848, 15342, 15965, 8835, 13587, 9646, 14848, 14848, 6106, 7354, 10276, 9508, 13377, 11622, 7198, 9646, 10877, 8371, 7038, 14067, 8476, 7408, 16294, 13727, 16259, 6637, 8401, 9103, 9794, 11200, 15603, 13875, 15136, 12192, 9646, 9646, 12616, 21829, 13587, 15135, 14343, 6795, 11098, 13727, 7215, 8143, 15078, 9646, 13377, 9646, 9646, 7408, 15147, 6795, 7408, 13587, 7153, 11667, 11789, 7005, 10197, 10667, 14973, 9205, 8266, 7740, 8405, 6943, 11622, 16294, 7038, 12507, 12192, 18260, 13961, 10877, 9316, 13062, 8888, 17267, 8073, 15147, 13377, 8837, 17057, 13377, 7888, 13587, 11446, 11622, 14533, 7215, 11999, 8073, 14086, 15603, 11573, 12192, 8614, 7740, 5797, 7888, 6673, 12927, 10197, 17057, 15078, 8925, 16108, 13377, 15136, 12327, 16497, 7354, 14153, 7695, 12717, 9486, 8099, 9794, 12615, 11125, 9021, 8266, 13377, 15078, 13377, 17703, 11264, 14973, 11622, 7198, 14848, 14486, 21226, 7354, 6673, 6673, 13727, 8614, 7363, 8018, 14848, 12524, 6916, 12327, 18228, 9646, 7155, 13727, 9838, 6513, 7038, 13587, 7618, 7740, 12402, 8073, 10877, 8266, 11789, 15135, 7887, 7888, 10197, 7997, 6795, 16863, 6093, 8085, 7485, 7198, 8614, 9021, 12524, 15147, 13727, 9001, 10546, 8601, 8888, 8323, 15288, 11667, 13587, 18275, 11264, 9315, 8266, 12537, 7354, 7563, 7740, 11200, 10678, 11789, 6673, 12327, 6513, 9316, 7198, 13587, 15135, 6093, 7888, 10678, 10786, 8310, 10877, 14067, 9627, 11264, 8073, 15135, 11200, 15629, 6128, 15147, 7531, 5797, 8938, 7354, 10196, 10261, 12192, 6305, 7670, 14486, 13587, 13377, 6717, 10877, 6637, 15078, 14848, 8283, 8405, 9794, 13377, 17057, 10197, 7618, 13377, 7268, 7198, 13587, 11200, 13587, 13727, 7408, 7084, 7575, 9385, 7363, 7198, 10791, 10197, 7933, 8098, 7005, 8882, 10197, 16108, 13797, 18192, 15147, 10678, 14533, 11622, 9001, 9794, 10486, 15058, 8309, 12717, 7787, 13377, 9856, 9794, 9508, 15603, 15077, 15135, 12042, 14067, 7670, 6007, 18260, 9646, 9424, 7198, 15058, 10197, 15342, 9385, 5999, 12192, 7198, 13377, 7741, 7740, 10478, 11789, 7888, 6007, 6076, 9794, 15603, 6653, 13587, 11667, 9001, 15965, 5999, 7485, 13727, 16108, 15077, 8371, 12192, 14323, 14848, 7408, 8266, 13587, 7740, 18916, 8266, 11188, 7408, 9100, 13377, 18275, 9794, 7408, 9794, 13377, 7878, 10051, 13377, 15419, 7618, 7695, 15078, 7408, 13377, 13542, 7695, 7268, 7888, 11789, 9794, 6795, 7575, 15867, 8099, 6795, 8073, 6093, 9526, 18485, 10529, 9042, 7563, 6513, 16655, 17057, 10877, 11622, 10197, 8266, 6480, 6513, 7858, 6007, 5935, 15135, 11421, 13587, 5999, 13727, 6653, 7005, 6717, 9627, 9646, 16863, 12192, 11667, 10348, 11142, 9424, 15136, 10791, 9646, 7845, 13587, 18286, 12192, 14848, 6795, 9646, 7564, 7005, 8266, 7787, 7670, 10276, 12192, 8266, 15898, 13727, 13377, 13587, 7005, 9526, 9315, 14486, 13587, 13587, 13727, 7670, 8930, 15603, 7198, 9103, 15419, 15135, 7670, 10678, 13377, 19360, 13587, 13587, 10529, 11249, 8307, 7670, 8371, 15147, 10782, 8266, 12327, 7198, 8073, 6513, 11789, 13377, 10090, 7731, 13378, 7005, 8266, 13377, 14973, 8475, 13399, 7740, 15135, 9646, 6795, 12192, 7354, 34273, 7485, 9646, 12537, 7005, 13587, 9646, 6732, 16108, 13377, 9526, 14848, 7531, 7845, 18275, 13727, 15058, 13587, 11560, 10529, 6093, 16108, 12402, 14086, 13377, 13377, 17057, 8055, 9794, 12192, 17057, 14067, 7198, 14848, 7485, 10407, 8073, 14408, 7268, 29528, 7933, 12192, 15078, 7363, 9646, 16287, 7670, 11200, 13587, 13587, 13377, 6145, 10407, 13797, 15237, 12524, 8309, 7354, 13377, 8266, 12192, 15136, 13587, 9103, 15373, 7155, 15200, 9646, 6795, 34503, 8266, 7740, 9646, 7670, 7408, 7564, 7198, 13727, 7038, 14848, 14817, 15603, 15629, 13377, 7878, 9794, 6093, 7005, 15353, 6795, 15411, 6878, 7005, 6883, 7670, 15342, 7575, 7740, 14486, 8601, 6653, 9315, 6795, 9103, 9359, 23170, 6795, 8283, 12192, 6427, 13727, 24528, 10406, 6427, 13587, 6733, 12192, 7878, 7888, 9001, 7740, 10197, 17057, 13377, 6953, 6637, 14323, 7677, 14067, 7005, 7005, 11098, 11265, 13587, 6007, 7670, 8073, 11667, 6723, 7198, 10261, 12192, 9103, 6795, 7575, 13377, 13377, 7933, 13727, 7354, 9646, 13727, 10197, 9315, 8837, 8073, 15078, 7198, 7308, 15136, 13377, 7408, 13587, 6093, 15237, 15898, 11098, 34608, 9794, 13377, 7155, 13377, 11200, 13587, 7787, 8018, 15077, 9646, 6795, 9526, 13378, 9103, 7618, 17057, 10711, 7198, 17267, 11622, 11789, 7408, 9103, 7530, 6805, 14848, 8371, 9254, 16023, 10678, 9450, 9794, 7038, 6645, 7354, 11622, 7154, 21483, 15058, 13587, 13377, 8055, 12524, 15078, 8266, 7005, 15136, 6601, 13377, 13797, 14086, 13727, 7354, 8073, 7038, 10696, 7198, 7154, 8266, 10877, 13587, 9646, 13727, 10877, 12192, 6943, 7354, 12192, 7485, 8073, 15135, 8055, 6093, 8073, 9646, 16840, 11761, 14848, 9103, 13135, 8283, 9646, 15135, 7408, 14067, 15136, 12402, 7530, 13062, 9794, 9930, 18286, 14067, 8386, 6795, 6795, 8476, 7268, 13714, 10197, 17493, 13587, 7005, 13377, 9140, 9646, 13062, 12537, 6093, 13727, 11789, 10197, 12615, 13937, 7242, 13587, 8266, 13377, 7845, 7408, 6795, 11200, 9856, 13377, 10197, 13727, 10877, 15077, 7005, 14086, 5883, 7618, 16108, 6795, 11789, 7408, 9646, 13259, 13727, 11966, 7618, 7670, 13062, 11622, 11789, 5797, 9526, 10877, 10529, 7886, 7198, 11622, 14323, 16863, 8937, 9627, 10486, 9627, 8099, 15965, 8475, 9149, 7005, 8018, 11264, 17493, 15058, 13377, 14848, 9526, 6883, 7198, 7564, 10197, 8937, 8601, 24318, 7038, 14323, 7408, 16108, 7408, 10696, 6513, 15411, 13542, 13069, 10406, 9646, 7268, 14067, 13377, 9424, 11789, 6838, 18191, 12327, 6630, 13259, 9001, 13082, 9856, 10406, 13377, 14762, 10877, 7933, 10678, 7618, 13377, 13797, 11200, 17267, 10877, 8614, 17057, 6795, 11789, 6148, 15147, 15147, 7905, 7308, 7670, 10877, 17057, 10678, 9794], \"y0\": \" \", \"yaxis\": \"y\"}, {\"alignmentgroup\": \"True\", \"hoverlabel\": {\"namelength\": 0}, \"hovertemplate\": \"Airline=%{x}<br>Price=%{y}\", \"legendgroup\": \"Airline=GoAir\", \"marker\": {\"color\": \"#19d3f3\"}, \"name\": \"Airline=GoAir\", \"notched\": true, \"offsetgroup\": \"Airline=GoAir\", \"orientation\": \"v\", \"showlegend\": true, \"type\": \"box\", \"x\": [\"GoAir\", \"GoAir\", \"GoAir\", \"GoAir\", \"GoAir\", \"GoAir\", \"GoAir\", \"GoAir\", \"GoAir\", \"GoAir\", \"GoAir\", \"GoAir\", \"GoAir\", \"GoAir\", \"GoAir\", \"GoAir\", \"GoAir\", \"GoAir\", \"GoAir\", \"GoAir\", \"GoAir\", \"GoAir\", \"GoAir\", \"GoAir\", \"GoAir\", \"GoAir\", \"GoAir\", \"GoAir\", \"GoAir\", \"GoAir\", \"GoAir\", \"GoAir\", \"GoAir\", \"GoAir\", \"GoAir\", \"GoAir\", \"GoAir\", \"GoAir\", \"GoAir\", \"GoAir\", \"GoAir\", \"GoAir\", \"GoAir\", \"GoAir\", \"GoAir\", \"GoAir\", \"GoAir\", \"GoAir\", \"GoAir\", \"GoAir\", \"GoAir\", \"GoAir\", \"GoAir\", \"GoAir\", \"GoAir\", \"GoAir\", \"GoAir\", \"GoAir\", \"GoAir\", \"GoAir\", \"GoAir\", \"GoAir\", \"GoAir\", \"GoAir\", \"GoAir\", \"GoAir\", \"GoAir\", \"GoAir\", \"GoAir\", \"GoAir\", \"GoAir\", \"GoAir\", \"GoAir\", \"GoAir\", \"GoAir\", \"GoAir\", \"GoAir\", \"GoAir\", \"GoAir\", \"GoAir\", \"GoAir\", \"GoAir\", \"GoAir\", \"GoAir\", \"GoAir\", \"GoAir\", \"GoAir\", \"GoAir\", \"GoAir\", \"GoAir\", \"GoAir\", \"GoAir\", \"GoAir\", \"GoAir\", \"GoAir\", \"GoAir\", \"GoAir\", \"GoAir\", \"GoAir\", \"GoAir\", \"GoAir\", \"GoAir\", \"GoAir\", \"GoAir\", \"GoAir\", \"GoAir\", \"GoAir\", \"GoAir\", \"GoAir\", \"GoAir\", \"GoAir\", \"GoAir\", \"GoAir\", \"GoAir\", \"GoAir\", \"GoAir\", \"GoAir\", \"GoAir\", \"GoAir\", \"GoAir\", \"GoAir\", \"GoAir\", \"GoAir\", \"GoAir\", \"GoAir\", \"GoAir\", \"GoAir\", \"GoAir\", \"GoAir\", \"GoAir\", \"GoAir\", \"GoAir\", \"GoAir\", \"GoAir\", \"GoAir\", \"GoAir\", \"GoAir\", \"GoAir\", \"GoAir\", \"GoAir\", \"GoAir\", \"GoAir\", \"GoAir\", \"GoAir\", \"GoAir\", \"GoAir\", \"GoAir\", \"GoAir\", \"GoAir\", \"GoAir\", \"GoAir\", \"GoAir\", \"GoAir\", \"GoAir\", \"GoAir\", \"GoAir\", \"GoAir\", \"GoAir\", \"GoAir\", \"GoAir\", \"GoAir\", \"GoAir\", \"GoAir\", \"GoAir\", \"GoAir\", \"GoAir\", \"GoAir\", \"GoAir\", \"GoAir\", \"GoAir\", \"GoAir\", \"GoAir\", \"GoAir\", \"GoAir\", \"GoAir\", \"GoAir\", \"GoAir\", \"GoAir\", \"GoAir\", \"GoAir\", \"GoAir\", \"GoAir\", \"GoAir\", \"GoAir\", \"GoAir\", \"GoAir\", \"GoAir\", \"GoAir\", \"GoAir\", \"GoAir\", \"GoAir\", \"GoAir\", \"GoAir\", \"GoAir\"], \"x0\": \" \", \"xaxis\": \"x\", \"y\": [19495, 7682, 3898, 5281, 6686, 3898, 10091, 6722, 4239, 7631, 4937, 7378, 3398, 5048, 4959, 3419, 5842, 3898, 10651, 10188, 5897, 3419, 3898, 7831, 8352, 4106, 13663, 3514, 5135, 5842, 6841, 6686, 3898, 6296, 6146, 12314, 6393, 4340, 11111, 7335, 4692, 6722, 5052, 3419, 4959, 9385, 4201, 5135, 3398, 5706, 3419, 3419, 7335, 3898, 3398, 4239, 3398, 3419, 3419, 8855, 5281, 4773, 5281, 3898, 4239, 10198, 9495, 3898, 3898, 4632, 4959, 6976, 3419, 6484, 4340, 3419, 3419, 3898, 6354, 7646, 4340, 5135, 5281, 3898, 3898, 3898, 3419, 10188, 5048, 5048, 3898, 6591, 5048, 5281, 3898, 8855, 3898, 5281, 3514, 5140, 18558, 4937, 5842, 3898, 4563, 5842, 6095, 3876, 6591, 5171, 8213, 6722, 6296, 6195, 3898, 4239, 3419, 7657, 4239, 6195, 3948, 3898, 6633, 4632, 10188, 5281, 7870, 4239, 22794, 6922, 4632, 7031, 4959, 5281, 4725, 5430, 7451, 7305, 7870, 6393, 4106, 3898, 8777, 7870, 8722, 5842, 3898, 5048, 7102, 5048, 4632, 3419, 6276, 10586, 6945, 3419, 5706, 4959, 5199, 5457, 3898, 3419, 9069, 3419, 5752, 4525, 7657, 4692, 9069, 3419, 4563, 6112, 3898, 7378, 7870, 7222, 4239, 8855, 4632, 6195, 4632, 5628, 3898, 3898, 4239, 5752, 3673, 7222, 3514, 5706, 6113, 3398, 8422, 4340], \"y0\": \" \", \"yaxis\": \"y\"}, {\"alignmentgroup\": \"True\", \"hoverlabel\": {\"namelength\": 0}, \"hovertemplate\": \"Airline=%{x}<br>Price=%{y}\", \"legendgroup\": \"Airline=Vistara\", \"marker\": {\"color\": \"#FF6692\"}, \"name\": \"Airline=Vistara\", \"notched\": true, \"offsetgroup\": \"Airline=Vistara\", \"orientation\": \"v\", \"showlegend\": true, \"type\": \"box\", \"x\": [\"Vistara\", \"Vistara\", \"Vistara\", \"Vistara\", \"Vistara\", \"Vistara\", \"Vistara\", \"Vistara\", \"Vistara\", \"Vistara\", \"Vistara\", \"Vistara\", \"Vistara\", \"Vistara\", \"Vistara\", \"Vistara\", \"Vistara\", \"Vistara\", \"Vistara\", \"Vistara\", \"Vistara\", \"Vistara\", \"Vistara\", \"Vistara\", \"Vistara\", \"Vistara\", \"Vistara\", \"Vistara\", \"Vistara\", \"Vistara\", \"Vistara\", \"Vistara\", \"Vistara\", \"Vistara\", \"Vistara\", \"Vistara\", \"Vistara\", \"Vistara\", \"Vistara\", \"Vistara\", \"Vistara\", \"Vistara\", \"Vistara\", \"Vistara\", \"Vistara\", \"Vistara\", \"Vistara\", \"Vistara\", \"Vistara\", \"Vistara\", \"Vistara\", \"Vistara\", \"Vistara\", \"Vistara\", \"Vistara\", \"Vistara\", \"Vistara\", \"Vistara\", \"Vistara\", \"Vistara\", \"Vistara\", \"Vistara\", \"Vistara\", \"Vistara\", \"Vistara\", \"Vistara\", \"Vistara\", \"Vistara\", \"Vistara\", \"Vistara\", \"Vistara\", \"Vistara\", \"Vistara\", \"Vistara\", \"Vistara\", \"Vistara\", \"Vistara\", \"Vistara\", \"Vistara\", \"Vistara\", \"Vistara\", \"Vistara\", \"Vistara\", \"Vistara\", \"Vistara\", \"Vistara\", \"Vistara\", \"Vistara\", \"Vistara\", \"Vistara\", \"Vistara\", \"Vistara\", \"Vistara\", \"Vistara\", \"Vistara\", \"Vistara\", \"Vistara\", \"Vistara\", \"Vistara\", \"Vistara\", \"Vistara\", \"Vistara\", \"Vistara\", \"Vistara\", \"Vistara\", \"Vistara\", \"Vistara\", \"Vistara\", \"Vistara\", \"Vistara\", \"Vistara\", \"Vistara\", \"Vistara\", \"Vistara\", \"Vistara\", \"Vistara\", \"Vistara\", \"Vistara\", \"Vistara\", \"Vistara\", \"Vistara\", \"Vistara\", \"Vistara\", \"Vistara\", \"Vistara\", \"Vistara\", \"Vistara\", \"Vistara\", \"Vistara\", \"Vistara\", \"Vistara\", \"Vistara\", \"Vistara\", \"Vistara\", \"Vistara\", \"Vistara\", \"Vistara\", \"Vistara\", \"Vistara\", \"Vistara\", \"Vistara\", \"Vistara\", \"Vistara\", \"Vistara\", \"Vistara\", \"Vistara\", \"Vistara\", \"Vistara\", \"Vistara\", \"Vistara\", \"Vistara\", \"Vistara\", \"Vistara\", \"Vistara\", \"Vistara\", \"Vistara\", \"Vistara\", \"Vistara\", \"Vistara\", \"Vistara\", \"Vistara\", \"Vistara\", \"Vistara\", \"Vistara\", \"Vistara\", \"Vistara\", \"Vistara\", \"Vistara\", \"Vistara\", \"Vistara\", \"Vistara\", \"Vistara\", \"Vistara\", \"Vistara\", \"Vistara\", \"Vistara\", \"Vistara\", \"Vistara\", \"Vistara\", \"Vistara\", \"Vistara\", \"Vistara\", \"Vistara\", \"Vistara\", \"Vistara\", \"Vistara\", \"Vistara\", \"Vistara\", \"Vistara\", \"Vistara\", \"Vistara\", \"Vistara\", \"Vistara\", \"Vistara\", \"Vistara\", \"Vistara\", \"Vistara\", \"Vistara\", \"Vistara\", \"Vistara\", \"Vistara\", \"Vistara\", \"Vistara\", \"Vistara\", \"Vistara\", \"Vistara\", \"Vistara\", \"Vistara\", \"Vistara\", \"Vistara\", \"Vistara\", \"Vistara\", \"Vistara\", \"Vistara\", \"Vistara\", \"Vistara\", \"Vistara\", \"Vistara\", \"Vistara\", \"Vistara\", \"Vistara\", \"Vistara\", \"Vistara\", \"Vistara\", \"Vistara\", \"Vistara\", \"Vistara\", \"Vistara\", \"Vistara\", \"Vistara\", \"Vistara\", \"Vistara\", \"Vistara\", \"Vistara\", \"Vistara\", \"Vistara\", \"Vistara\", \"Vistara\", \"Vistara\", \"Vistara\", \"Vistara\", \"Vistara\", \"Vistara\", \"Vistara\", \"Vistara\", \"Vistara\", \"Vistara\", \"Vistara\", \"Vistara\", \"Vistara\", \"Vistara\", \"Vistara\", \"Vistara\", \"Vistara\", \"Vistara\", \"Vistara\", \"Vistara\", \"Vistara\", \"Vistara\", \"Vistara\", \"Vistara\", \"Vistara\", \"Vistara\", \"Vistara\", \"Vistara\", \"Vistara\", \"Vistara\", \"Vistara\", \"Vistara\", \"Vistara\", \"Vistara\", \"Vistara\", \"Vistara\", \"Vistara\", \"Vistara\", \"Vistara\", \"Vistara\", \"Vistara\", \"Vistara\", \"Vistara\", \"Vistara\", \"Vistara\", \"Vistara\", \"Vistara\", \"Vistara\", \"Vistara\", \"Vistara\", \"Vistara\", \"Vistara\", \"Vistara\", \"Vistara\", \"Vistara\", \"Vistara\", \"Vistara\", \"Vistara\", \"Vistara\", \"Vistara\", \"Vistara\", \"Vistara\", \"Vistara\", \"Vistara\", \"Vistara\", \"Vistara\", \"Vistara\", \"Vistara\", \"Vistara\", \"Vistara\", \"Vistara\", \"Vistara\", \"Vistara\", \"Vistara\", \"Vistara\", \"Vistara\", \"Vistara\", \"Vistara\", \"Vistara\", \"Vistara\", \"Vistara\", \"Vistara\", \"Vistara\", \"Vistara\", \"Vistara\", \"Vistara\", \"Vistara\", \"Vistara\", \"Vistara\", \"Vistara\", \"Vistara\", \"Vistara\", \"Vistara\", \"Vistara\", \"Vistara\", \"Vistara\", \"Vistara\", \"Vistara\", \"Vistara\", \"Vistara\", \"Vistara\", \"Vistara\", \"Vistara\", \"Vistara\", \"Vistara\", \"Vistara\", \"Vistara\", \"Vistara\", \"Vistara\", \"Vistara\", \"Vistara\", \"Vistara\", \"Vistara\", \"Vistara\", \"Vistara\", \"Vistara\", \"Vistara\", \"Vistara\", \"Vistara\", \"Vistara\", \"Vistara\", \"Vistara\", \"Vistara\", \"Vistara\", \"Vistara\", \"Vistara\", \"Vistara\", \"Vistara\", \"Vistara\", \"Vistara\", \"Vistara\", \"Vistara\", \"Vistara\", \"Vistara\", \"Vistara\", \"Vistara\", \"Vistara\", \"Vistara\", \"Vistara\", \"Vistara\", \"Vistara\", \"Vistara\", \"Vistara\", \"Vistara\", \"Vistara\", \"Vistara\", \"Vistara\", \"Vistara\", \"Vistara\", \"Vistara\", \"Vistara\", \"Vistara\", \"Vistara\", \"Vistara\", \"Vistara\", \"Vistara\", \"Vistara\", \"Vistara\", \"Vistara\", \"Vistara\", \"Vistara\", \"Vistara\", \"Vistara\", \"Vistara\", \"Vistara\", \"Vistara\", \"Vistara\", \"Vistara\", \"Vistara\", \"Vistara\", \"Vistara\", \"Vistara\", \"Vistara\", \"Vistara\", \"Vistara\", \"Vistara\", \"Vistara\", \"Vistara\", \"Vistara\", \"Vistara\", \"Vistara\", \"Vistara\", \"Vistara\", \"Vistara\", \"Vistara\", \"Vistara\", \"Vistara\", \"Vistara\", \"Vistara\", \"Vistara\", \"Vistara\", \"Vistara\", \"Vistara\", \"Vistara\", \"Vistara\", \"Vistara\", \"Vistara\", \"Vistara\", \"Vistara\", \"Vistara\", \"Vistara\", \"Vistara\", \"Vistara\", \"Vistara\", \"Vistara\", \"Vistara\", \"Vistara\", \"Vistara\", \"Vistara\", \"Vistara\", \"Vistara\", \"Vistara\", \"Vistara\", \"Vistara\", \"Vistara\", \"Vistara\", \"Vistara\", \"Vistara\", \"Vistara\", \"Vistara\", \"Vistara\", \"Vistara\", \"Vistara\", \"Vistara\", \"Vistara\", \"Vistara\", \"Vistara\", \"Vistara\", \"Vistara\", \"Vistara\", \"Vistara\", \"Vistara\", \"Vistara\", \"Vistara\", \"Vistara\", \"Vistara\", \"Vistara\", \"Vistara\", \"Vistara\", \"Vistara\", \"Vistara\", \"Vistara\"], \"x0\": \" \", \"xaxis\": \"x\", \"y\": [4668, 3687, 3687, 7414, 12395, 3687, 5403, 7240, 9397, 4668, 6216, 9345, 4878, 9555, 4842, 11982, 8001, 4878, 4668, 4668, 6216, 8452, 11105, 8452, 5403, 4878, 6741, 4668, 7923, 4878, 8610, 9345, 3687, 16092, 3739, 8610, 6216, 4878, 5613, 5403, 9187, 4668, 5403, 11682, 4878, 12312, 11982, 9345, 8085, 5403, 6216, 7398, 13152, 7927, 8028, 4668, 8452, 4878, 12890, 5403, 3687, 6627, 9187, 9135, 9555, 5586, 3687, 9187, 4668, 8452, 6216, 4668, 8452, 4878, 3739, 8085, 8452, 4851, 8977, 12395, 9502, 6111, 8610, 6688, 9345, 6741, 12395, 6065, 12395, 5613, 5403, 4668, 5613, 9397, 4353, 7927, 6216, 8452, 11913, 5613, 6216, 11982, 5586, 9187, 5403, 12395, 9187, 8610, 4878, 4668, 5613, 3687, 8610, 5403, 9555, 8610, 8085, 4878, 4851, 7927, 5613, 5403, 11982, 8295, 8820, 8137, 4668, 4878, 8610, 3687, 8452, 4878, 7923, 8820, 8085, 6558, 9922, 7450, 8452, 8662, 8452, 8610, 12102, 4668, 9345, 6590, 8553, 8610, 8610, 9555, 5613, 8452, 9870, 7608, 3687, 8085, 4878, 8610, 8610, 6741, 8610, 9187, 9187, 4563, 6216, 9187, 8452, 9555, 12123, 4668, 12942, 12395, 11682, 9345, 4878, 7927, 4668, 5403, 8662, 8505, 4668, 4668, 6741, 9345, 8505, 4668, 7980, 4878, 7240, 4878, 6216, 6138, 8610, 8610, 7240, 5403, 8452, 9870, 9187, 4878, 8820, 9397, 8452, 5613, 7266, 4878, 5403, 5088, 11982, 6741, 4842, 16932, 12395, 4878, 3687, 8610, 12395, 4668, 12080, 5403, 9345, 9187, 6216, 8610, 9345, 5586, 9345, 8290, 8610, 4668, 9345, 8610, 5403, 8001, 8085, 5403, 8662, 7980, 3687, 4668, 4878, 4668, 6216, 21730, 11982, 4878, 4878, 9345, 11982, 4668, 9345, 9345, 12395, 7608, 4878, 5613, 5823, 5403, 5403, 11982, 14360, 12080, 8452, 5613, 6216, 9397, 3687, 8452, 12080, 12312, 8610, 8028, 12395, 8028, 4878, 18387, 7927, 9397, 8452, 4668, 8820, 12395, 9135, 5403, 5613, 3687, 12395, 4668, 5403, 9555, 6627, 8452, 9187, 9187, 6216, 11982, 6741, 4878, 5613, 21520, 9870, 5613, 4668, 4668, 8610, 8452, 7927, 8610, 5403, 8452, 11982, 8662, 5613, 7608, 4878, 11105, 5944, 4668, 4668, 5613, 9345, 4668, 10008, 5613, 6741, 6138, 9187, 5613, 6688, 12476, 4668, 8452, 10008, 9397, 4668, 4668, 4668, 5613, 12395, 12395, 4668, 9870, 12371, 6216, 11982, 6216, 10027, 8085, 8137, 5613, 12732, 5403, 4668, 7927, 9187, 6216, 9187, 11598, 9345, 12476, 12102, 5823, 5088, 9345, 8662, 12395, 4668, 7975, 12395, 5613, 11982, 4668, 11982, 11913, 8610, 8085, 4878, 7927, 6216, 5403, 11982, 8452, 4668, 4668, 3687, 6216, 8610, 11913, 4878, 9555, 4878, 11262, 9922, 4878, 12395, 12411, 4668, 8085, 8452, 9345, 5403, 9345, 4878, 13383, 9555, 12395, 4668, 3687, 5403, 5403, 4878, 11982, 7770, 9187, 8452, 9345, 21730, 8452, 4668, 4668, 9187, 4668, 6800, 6216, 6741, 5403, 9345, 9922, 8452, 12080, 10842, 6216, 9918, 4878, 9345, 9345, 8452, 6138, 8610, 7927, 6216, 8820, 9135, 12080, 9345, 6216, 6216, 11598, 11982, 5613, 5403, 8085, 8610, 12102, 6216, 13310, 3687, 9345, 9555, 3687, 4668, 5403, 11982, 5613, 13100, 11982, 4668, 5088, 8610, 6216, 5613, 8452, 4668, 5613, 8662, 5613, 4668, 4878, 12648], \"y0\": \" \", \"yaxis\": \"y\"}, {\"alignmentgroup\": \"True\", \"hoverlabel\": {\"namelength\": 0}, \"hovertemplate\": \"Airline=%{x}<br>Price=%{y}\", \"legendgroup\": \"Airline=Air Asia\", \"marker\": {\"color\": \"#B6E880\"}, \"name\": \"Airline=Air Asia\", \"notched\": true, \"offsetgroup\": \"Airline=Air Asia\", \"orientation\": \"v\", \"showlegend\": true, \"type\": \"box\", \"x\": [\"Air Asia\", \"Air Asia\", \"Air Asia\", \"Air Asia\", \"Air Asia\", \"Air Asia\", \"Air Asia\", \"Air Asia\", \"Air Asia\", \"Air Asia\", \"Air Asia\", \"Air Asia\", \"Air Asia\", \"Air Asia\", \"Air Asia\", \"Air Asia\", \"Air Asia\", \"Air Asia\", \"Air Asia\", \"Air Asia\", \"Air Asia\", \"Air Asia\", \"Air Asia\", \"Air Asia\", \"Air Asia\", \"Air Asia\", \"Air Asia\", \"Air Asia\", \"Air Asia\", \"Air Asia\", \"Air Asia\", \"Air Asia\", \"Air Asia\", \"Air Asia\", \"Air Asia\", \"Air Asia\", \"Air Asia\", \"Air Asia\", \"Air Asia\", \"Air Asia\", \"Air Asia\", \"Air Asia\", \"Air Asia\", \"Air Asia\", \"Air Asia\", \"Air Asia\", \"Air Asia\", \"Air Asia\", \"Air Asia\", \"Air Asia\", \"Air Asia\", \"Air Asia\", \"Air Asia\", \"Air Asia\", \"Air Asia\", \"Air Asia\", \"Air Asia\", \"Air Asia\", \"Air Asia\", \"Air Asia\", \"Air Asia\", \"Air Asia\", \"Air Asia\", \"Air Asia\", \"Air Asia\", \"Air Asia\", \"Air Asia\", \"Air Asia\", \"Air Asia\", \"Air Asia\", \"Air Asia\", \"Air Asia\", \"Air Asia\", \"Air Asia\", \"Air Asia\", \"Air Asia\", \"Air Asia\", \"Air Asia\", \"Air Asia\", \"Air Asia\", \"Air Asia\", \"Air Asia\", \"Air Asia\", \"Air Asia\", \"Air Asia\", \"Air Asia\", \"Air Asia\", \"Air Asia\", \"Air Asia\", \"Air Asia\", \"Air Asia\", \"Air Asia\", \"Air Asia\", \"Air Asia\", \"Air Asia\", \"Air Asia\", \"Air Asia\", \"Air Asia\", \"Air Asia\", \"Air Asia\", \"Air Asia\", \"Air Asia\", \"Air Asia\", \"Air Asia\", \"Air Asia\", \"Air Asia\", \"Air Asia\", \"Air Asia\", \"Air Asia\", \"Air Asia\", \"Air Asia\", \"Air Asia\", \"Air Asia\", \"Air Asia\", \"Air Asia\", \"Air Asia\", \"Air Asia\", \"Air Asia\", \"Air Asia\", \"Air Asia\", \"Air Asia\", \"Air Asia\", \"Air Asia\", \"Air Asia\", \"Air Asia\", \"Air Asia\", \"Air Asia\", \"Air Asia\", \"Air Asia\", \"Air Asia\", \"Air Asia\", \"Air Asia\", \"Air Asia\", \"Air Asia\", \"Air Asia\", \"Air Asia\", \"Air Asia\", \"Air Asia\", \"Air Asia\", \"Air Asia\", \"Air Asia\", \"Air Asia\", \"Air Asia\", \"Air Asia\", \"Air Asia\", \"Air Asia\", \"Air Asia\", \"Air Asia\", \"Air Asia\", \"Air Asia\", \"Air Asia\", \"Air Asia\", \"Air Asia\", \"Air Asia\", \"Air Asia\", \"Air Asia\", \"Air Asia\", \"Air Asia\", \"Air Asia\", \"Air Asia\", \"Air Asia\", \"Air Asia\", \"Air Asia\", \"Air Asia\", \"Air Asia\", \"Air Asia\", \"Air Asia\", \"Air Asia\", \"Air Asia\", \"Air Asia\", \"Air Asia\", \"Air Asia\", \"Air Asia\", \"Air Asia\", \"Air Asia\", \"Air Asia\", \"Air Asia\", \"Air Asia\", \"Air Asia\", \"Air Asia\", \"Air Asia\", \"Air Asia\", \"Air Asia\", \"Air Asia\", \"Air Asia\", \"Air Asia\", \"Air Asia\", \"Air Asia\", \"Air Asia\", \"Air Asia\", \"Air Asia\", \"Air Asia\", \"Air Asia\", \"Air Asia\", \"Air Asia\", \"Air Asia\", \"Air Asia\", \"Air Asia\", \"Air Asia\", \"Air Asia\", \"Air Asia\", \"Air Asia\", \"Air Asia\", \"Air Asia\", \"Air Asia\", \"Air Asia\", \"Air Asia\", \"Air Asia\", \"Air Asia\", \"Air Asia\", \"Air Asia\", \"Air Asia\", \"Air Asia\", \"Air Asia\", \"Air Asia\", \"Air Asia\", \"Air Asia\", \"Air Asia\", \"Air Asia\", \"Air Asia\", \"Air Asia\", \"Air Asia\", \"Air Asia\", \"Air Asia\", \"Air Asia\", \"Air Asia\", \"Air Asia\", \"Air Asia\", \"Air Asia\", \"Air Asia\", \"Air Asia\", \"Air Asia\", \"Air Asia\", \"Air Asia\", \"Air Asia\", \"Air Asia\", \"Air Asia\", \"Air Asia\", \"Air Asia\", \"Air Asia\", \"Air Asia\", \"Air Asia\", \"Air Asia\", \"Air Asia\", \"Air Asia\", \"Air Asia\", \"Air Asia\", \"Air Asia\", \"Air Asia\", \"Air Asia\", \"Air Asia\", \"Air Asia\", \"Air Asia\", \"Air Asia\", \"Air Asia\", \"Air Asia\", \"Air Asia\", \"Air Asia\", \"Air Asia\", \"Air Asia\", \"Air Asia\", \"Air Asia\", \"Air Asia\", \"Air Asia\", \"Air Asia\", \"Air Asia\", \"Air Asia\", \"Air Asia\", \"Air Asia\", \"Air Asia\", \"Air Asia\", \"Air Asia\", \"Air Asia\", \"Air Asia\", \"Air Asia\", \"Air Asia\", \"Air Asia\", \"Air Asia\", \"Air Asia\", \"Air Asia\", \"Air Asia\", \"Air Asia\", \"Air Asia\", \"Air Asia\", \"Air Asia\", \"Air Asia\", \"Air Asia\", \"Air Asia\", \"Air Asia\", \"Air Asia\", \"Air Asia\", \"Air Asia\", \"Air Asia\", \"Air Asia\", \"Air Asia\", \"Air Asia\", \"Air Asia\", \"Air Asia\", \"Air Asia\", \"Air Asia\", \"Air Asia\", \"Air Asia\", \"Air Asia\", \"Air Asia\", \"Air Asia\", \"Air Asia\", \"Air Asia\", \"Air Asia\", \"Air Asia\", \"Air Asia\", \"Air Asia\", \"Air Asia\", \"Air Asia\", \"Air Asia\", \"Air Asia\", \"Air Asia\", \"Air Asia\", \"Air Asia\", \"Air Asia\"], \"x0\": \" \", \"xaxis\": \"x\", \"y\": [3383, 4483, 3383, 4409, 5216, 5192, 6151, 5162, 5192, 6751, 13774, 6752, 4409, 3807, 6181, 6810, 3383, 4483, 8759, 4409, 4107, 6451, 5192, 5162, 4508, 5530, 5162, 4409, 4482, 7353, 4384, 3383, 5615, 8627, 4409, 4107, 6451, 5192, 3383, 9330, 5192, 3383, 11410, 4284, 5192, 3383, 7452, 4409, 6857, 4483, 3383, 4384, 7870, 4284, 13470, 4107, 6451, 11410, 6810, 3383, 11410, 4282, 4483, 5615, 11410, 7074, 4483, 6152, 4409, 5192, 4409, 5192, 7652, 4384, 3782, 5192, 6752, 3782, 6152, 3807, 4409, 8759, 6253, 8327, 6451, 3807, 5192, 11410, 6151, 4282, 4409, 5162, 6853, 4483, 4409, 9719, 5620, 11410, 3807, 4384, 6152, 3807, 4483, 3807, 4384, 3807, 4409, 4107, 6451, 7870, 6752, 3383, 5320, 4483, 3383, 4282, 8759, 4282, 4082, 4483, 6451, 6853, 6810, 3383, 6785, 7452, 3807, 5162, 4284, 4107, 6135, 3807, 5192, 4483, 6752, 6253, 5192, 6857, 6152, 5192, 7080, 6857, 11410, 5192, 8759, 3807, 4483, 5192, 4282, 6151, 4482, 3383, 6253, 6451, 6810, 3807, 4409, 3383, 3383, 10715, 4282, 3807, 8420, 8028, 5162, 4282, 6151, 4282, 13474, 5192, 4282, 6752, 6152, 5554, 8759, 4282, 3383, 4282, 11245, 6751, 8327, 3807, 5192, 3383, 3383, 10794, 4508, 4409, 4082, 4384, 5192, 4409, 3383, 8759, 5192, 8327, 4384, 4483, 6451, 4282, 4107, 3807, 4107, 4282, 6151, 7120, 7120, 6857, 7652, 3782, 4282, 5162, 4409, 4483, 11410, 4409, 4384, 5192, 4384, 3807, 5320, 8627, 8759, 6152, 10873, 6752, 3807, 5162, 7120, 6152, 6152, 4409, 3807, 5964, 7452, 4483, 4409, 6857, 3383, 4409, 6857, 3383, 4409, 4409, 3383, 4409, 5989, 4482, 7120, 4483, 4107, 3807, 8759, 6451, 4082, 5192, 4483, 6853, 5620, 5192, 5192, 6477, 3383, 4107, 5192, 3782, 4483, 4107, 6152, 5162, 5620, 5989, 3383, 4282, 11410, 4409, 4409, 3807, 4483, 3383, 4409, 4409, 4282, 5162, 5645, 7870, 5645, 6152, 3383, 6752, 3383, 3383, 5645, 4282, 6152, 6451, 6151, 5192, 7452, 5192, 5989, 5192, 6151, 5964, 3383, 4483, 6785, 6151, 11323, 4409, 5964, 8327, 3383, 7353, 4409, 6152, 4384, 3383, 4107], \"y0\": \" \", \"yaxis\": \"y\"}, {\"alignmentgroup\": \"True\", \"hoverlabel\": {\"namelength\": 0}, \"hovertemplate\": \"Airline=%{x}<br>Price=%{y}\", \"legendgroup\": \"Airline=Vistara Premium economy\", \"marker\": {\"color\": \"#FF97FF\"}, \"name\": \"Airline=Vistara Premium economy\", \"notched\": true, \"offsetgroup\": \"Airline=Vistara Premium economy\", \"orientation\": \"v\", \"showlegend\": true, \"type\": \"box\", \"x\": [\"Vistara Premium economy\", \"Vistara Premium economy\", \"Vistara Premium economy\"], \"x0\": \" \", \"xaxis\": \"x\", \"y\": [11793, 9125, 5969], \"y0\": \" \", \"yaxis\": \"y\"}, {\"alignmentgroup\": \"True\", \"hoverlabel\": {\"namelength\": 0}, \"hovertemplate\": \"Airline=%{x}<br>Price=%{y}\", \"legendgroup\": \"Airline=Jet Airways Business\", \"marker\": {\"color\": \"#FECB52\"}, \"name\": \"Airline=Jet Airways Business\", \"notched\": true, \"offsetgroup\": \"Airline=Jet Airways Business\", \"orientation\": \"v\", \"showlegend\": true, \"type\": \"box\", \"x\": [\"Jet Airways Business\", \"Jet Airways Business\", \"Jet Airways Business\", \"Jet Airways Business\", \"Jet Airways Business\", \"Jet Airways Business\"], \"x0\": \" \", \"xaxis\": \"x\", \"y\": [52229, 79512, 62427, 46490, 52285, 57209], \"y0\": \" \", \"yaxis\": \"y\"}, {\"alignmentgroup\": \"True\", \"hoverlabel\": {\"namelength\": 0}, \"hovertemplate\": \"Airline=%{x}<br>Price=%{y}\", \"legendgroup\": \"Airline=Multiple carriers Premium economy\", \"marker\": {\"color\": \"#636efa\"}, \"name\": \"Airline=Multiple carriers Premium economy\", \"notched\": true, \"offsetgroup\": \"Airline=Multiple carriers Premium economy\", \"orientation\": \"v\", \"showlegend\": true, \"type\": \"box\", \"x\": [\"Multiple carriers Premium economy\", \"Multiple carriers Premium economy\", \"Multiple carriers Premium economy\", \"Multiple carriers Premium economy\", \"Multiple carriers Premium economy\", \"Multiple carriers Premium economy\", \"Multiple carriers Premium economy\", \"Multiple carriers Premium economy\", \"Multiple carriers Premium economy\", \"Multiple carriers Premium economy\", \"Multiple carriers Premium economy\", \"Multiple carriers Premium economy\", \"Multiple carriers Premium economy\"], \"x0\": \" \", \"xaxis\": \"x\", \"y\": [10161, 9845, 10161, 9845, 11269, 11269, 14629, 14629, 9845, 11269, 13369, 10885, 11269], \"y0\": \" \", \"yaxis\": \"y\"}, {\"alignmentgroup\": \"True\", \"hoverlabel\": {\"namelength\": 0}, \"hovertemplate\": \"Airline=%{x}<br>Price=%{y}\", \"legendgroup\": \"Airline=Trujet\", \"marker\": {\"color\": \"#EF553B\"}, \"name\": \"Airline=Trujet\", \"notched\": true, \"offsetgroup\": \"Airline=Trujet\", \"orientation\": \"v\", \"showlegend\": true, \"type\": \"box\", \"x\": [\"Trujet\"], \"x0\": \" \", \"xaxis\": \"x\", \"y\": [4140], \"y0\": \" \", \"yaxis\": \"y\"}],\n",
              "                        {\"boxmode\": \"group\", \"legend\": {\"tracegroupgap\": 0}, \"margin\": {\"t\": 60}, \"template\": {\"data\": {\"bar\": [{\"error_x\": {\"color\": \"#2a3f5f\"}, \"error_y\": {\"color\": \"#2a3f5f\"}, \"marker\": {\"line\": {\"color\": \"#E5ECF6\", \"width\": 0.5}}, \"type\": \"bar\"}], \"barpolar\": [{\"marker\": {\"line\": {\"color\": \"#E5ECF6\", \"width\": 0.5}}, \"type\": \"barpolar\"}], \"carpet\": [{\"aaxis\": {\"endlinecolor\": \"#2a3f5f\", \"gridcolor\": \"white\", \"linecolor\": \"white\", \"minorgridcolor\": \"white\", \"startlinecolor\": \"#2a3f5f\"}, \"baxis\": {\"endlinecolor\": \"#2a3f5f\", \"gridcolor\": \"white\", \"linecolor\": \"white\", \"minorgridcolor\": \"white\", \"startlinecolor\": \"#2a3f5f\"}, \"type\": \"carpet\"}], \"choropleth\": [{\"colorbar\": {\"outlinewidth\": 0, \"ticks\": \"\"}, \"type\": \"choropleth\"}], \"contour\": [{\"colorbar\": {\"outlinewidth\": 0, \"ticks\": \"\"}, \"colorscale\": [[0.0, \"#0d0887\"], [0.1111111111111111, \"#46039f\"], [0.2222222222222222, \"#7201a8\"], [0.3333333333333333, \"#9c179e\"], [0.4444444444444444, \"#bd3786\"], [0.5555555555555556, \"#d8576b\"], [0.6666666666666666, \"#ed7953\"], [0.7777777777777778, \"#fb9f3a\"], [0.8888888888888888, \"#fdca26\"], [1.0, \"#f0f921\"]], \"type\": \"contour\"}], \"contourcarpet\": [{\"colorbar\": {\"outlinewidth\": 0, \"ticks\": \"\"}, \"type\": \"contourcarpet\"}], \"heatmap\": [{\"colorbar\": {\"outlinewidth\": 0, \"ticks\": \"\"}, \"colorscale\": [[0.0, \"#0d0887\"], [0.1111111111111111, \"#46039f\"], [0.2222222222222222, \"#7201a8\"], [0.3333333333333333, \"#9c179e\"], [0.4444444444444444, \"#bd3786\"], [0.5555555555555556, \"#d8576b\"], [0.6666666666666666, \"#ed7953\"], [0.7777777777777778, \"#fb9f3a\"], [0.8888888888888888, \"#fdca26\"], [1.0, \"#f0f921\"]], \"type\": \"heatmap\"}], \"heatmapgl\": [{\"colorbar\": {\"outlinewidth\": 0, \"ticks\": \"\"}, \"colorscale\": [[0.0, \"#0d0887\"], [0.1111111111111111, \"#46039f\"], [0.2222222222222222, \"#7201a8\"], [0.3333333333333333, \"#9c179e\"], [0.4444444444444444, \"#bd3786\"], [0.5555555555555556, \"#d8576b\"], [0.6666666666666666, \"#ed7953\"], [0.7777777777777778, \"#fb9f3a\"], [0.8888888888888888, \"#fdca26\"], [1.0, \"#f0f921\"]], \"type\": \"heatmapgl\"}], \"histogram\": [{\"marker\": {\"colorbar\": {\"outlinewidth\": 0, \"ticks\": \"\"}}, \"type\": \"histogram\"}], \"histogram2d\": [{\"colorbar\": {\"outlinewidth\": 0, \"ticks\": \"\"}, \"colorscale\": [[0.0, \"#0d0887\"], [0.1111111111111111, \"#46039f\"], [0.2222222222222222, \"#7201a8\"], [0.3333333333333333, \"#9c179e\"], [0.4444444444444444, \"#bd3786\"], [0.5555555555555556, \"#d8576b\"], [0.6666666666666666, \"#ed7953\"], [0.7777777777777778, \"#fb9f3a\"], [0.8888888888888888, \"#fdca26\"], [1.0, \"#f0f921\"]], \"type\": \"histogram2d\"}], \"histogram2dcontour\": [{\"colorbar\": {\"outlinewidth\": 0, \"ticks\": \"\"}, \"colorscale\": [[0.0, \"#0d0887\"], [0.1111111111111111, \"#46039f\"], [0.2222222222222222, \"#7201a8\"], [0.3333333333333333, \"#9c179e\"], [0.4444444444444444, \"#bd3786\"], [0.5555555555555556, \"#d8576b\"], [0.6666666666666666, \"#ed7953\"], [0.7777777777777778, \"#fb9f3a\"], [0.8888888888888888, \"#fdca26\"], [1.0, \"#f0f921\"]], \"type\": \"histogram2dcontour\"}], \"mesh3d\": [{\"colorbar\": {\"outlinewidth\": 0, \"ticks\": \"\"}, \"type\": \"mesh3d\"}], \"parcoords\": [{\"line\": {\"colorbar\": {\"outlinewidth\": 0, \"ticks\": \"\"}}, \"type\": \"parcoords\"}], \"pie\": [{\"automargin\": true, \"type\": \"pie\"}], \"scatter\": [{\"marker\": {\"colorbar\": {\"outlinewidth\": 0, \"ticks\": \"\"}}, \"type\": \"scatter\"}], \"scatter3d\": [{\"line\": {\"colorbar\": {\"outlinewidth\": 0, \"ticks\": \"\"}}, \"marker\": {\"colorbar\": {\"outlinewidth\": 0, \"ticks\": \"\"}}, \"type\": \"scatter3d\"}], \"scattercarpet\": [{\"marker\": {\"colorbar\": {\"outlinewidth\": 0, \"ticks\": \"\"}}, \"type\": \"scattercarpet\"}], \"scattergeo\": [{\"marker\": {\"colorbar\": {\"outlinewidth\": 0, \"ticks\": \"\"}}, \"type\": \"scattergeo\"}], \"scattergl\": [{\"marker\": {\"colorbar\": {\"outlinewidth\": 0, \"ticks\": \"\"}}, \"type\": \"scattergl\"}], \"scattermapbox\": [{\"marker\": {\"colorbar\": {\"outlinewidth\": 0, \"ticks\": \"\"}}, \"type\": \"scattermapbox\"}], \"scatterpolar\": [{\"marker\": {\"colorbar\": {\"outlinewidth\": 0, \"ticks\": \"\"}}, \"type\": \"scatterpolar\"}], \"scatterpolargl\": [{\"marker\": {\"colorbar\": {\"outlinewidth\": 0, \"ticks\": \"\"}}, \"type\": \"scatterpolargl\"}], \"scatterternary\": [{\"marker\": {\"colorbar\": {\"outlinewidth\": 0, \"ticks\": \"\"}}, \"type\": \"scatterternary\"}], \"surface\": [{\"colorbar\": {\"outlinewidth\": 0, \"ticks\": \"\"}, \"colorscale\": [[0.0, \"#0d0887\"], [0.1111111111111111, \"#46039f\"], [0.2222222222222222, \"#7201a8\"], [0.3333333333333333, \"#9c179e\"], [0.4444444444444444, \"#bd3786\"], [0.5555555555555556, \"#d8576b\"], [0.6666666666666666, \"#ed7953\"], [0.7777777777777778, \"#fb9f3a\"], [0.8888888888888888, \"#fdca26\"], [1.0, \"#f0f921\"]], \"type\": \"surface\"}], \"table\": [{\"cells\": {\"fill\": {\"color\": \"#EBF0F8\"}, \"line\": {\"color\": \"white\"}}, \"header\": {\"fill\": {\"color\": \"#C8D4E3\"}, \"line\": {\"color\": \"white\"}}, \"type\": \"table\"}]}, \"layout\": {\"annotationdefaults\": {\"arrowcolor\": \"#2a3f5f\", \"arrowhead\": 0, \"arrowwidth\": 1}, \"coloraxis\": {\"colorbar\": {\"outlinewidth\": 0, \"ticks\": \"\"}}, \"colorscale\": {\"diverging\": [[0, \"#8e0152\"], [0.1, \"#c51b7d\"], [0.2, \"#de77ae\"], [0.3, \"#f1b6da\"], [0.4, \"#fde0ef\"], [0.5, \"#f7f7f7\"], [0.6, \"#e6f5d0\"], [0.7, \"#b8e186\"], [0.8, \"#7fbc41\"], [0.9, \"#4d9221\"], [1, \"#276419\"]], \"sequential\": [[0.0, \"#0d0887\"], [0.1111111111111111, \"#46039f\"], [0.2222222222222222, \"#7201a8\"], [0.3333333333333333, \"#9c179e\"], [0.4444444444444444, \"#bd3786\"], [0.5555555555555556, \"#d8576b\"], [0.6666666666666666, \"#ed7953\"], [0.7777777777777778, \"#fb9f3a\"], [0.8888888888888888, \"#fdca26\"], [1.0, \"#f0f921\"]], \"sequentialminus\": [[0.0, \"#0d0887\"], [0.1111111111111111, \"#46039f\"], [0.2222222222222222, \"#7201a8\"], [0.3333333333333333, \"#9c179e\"], [0.4444444444444444, \"#bd3786\"], [0.5555555555555556, \"#d8576b\"], [0.6666666666666666, \"#ed7953\"], [0.7777777777777778, \"#fb9f3a\"], [0.8888888888888888, \"#fdca26\"], [1.0, \"#f0f921\"]]}, \"colorway\": [\"#636efa\", \"#EF553B\", \"#00cc96\", \"#ab63fa\", \"#FFA15A\", \"#19d3f3\", \"#FF6692\", \"#B6E880\", \"#FF97FF\", \"#FECB52\"], \"font\": {\"color\": \"#2a3f5f\"}, \"geo\": {\"bgcolor\": \"white\", \"lakecolor\": \"white\", \"landcolor\": \"#E5ECF6\", \"showlakes\": true, \"showland\": true, \"subunitcolor\": \"white\"}, \"hoverlabel\": {\"align\": \"left\"}, \"hovermode\": \"closest\", \"mapbox\": {\"style\": \"light\"}, \"paper_bgcolor\": \"white\", \"plot_bgcolor\": \"#E5ECF6\", \"polar\": {\"angularaxis\": {\"gridcolor\": \"white\", \"linecolor\": \"white\", \"ticks\": \"\"}, \"bgcolor\": \"#E5ECF6\", \"radialaxis\": {\"gridcolor\": \"white\", \"linecolor\": \"white\", \"ticks\": \"\"}}, \"scene\": {\"xaxis\": {\"backgroundcolor\": \"#E5ECF6\", \"gridcolor\": \"white\", \"gridwidth\": 2, \"linecolor\": \"white\", \"showbackground\": true, \"ticks\": \"\", \"zerolinecolor\": \"white\"}, \"yaxis\": {\"backgroundcolor\": \"#E5ECF6\", \"gridcolor\": \"white\", \"gridwidth\": 2, \"linecolor\": \"white\", \"showbackground\": true, \"ticks\": \"\", \"zerolinecolor\": \"white\"}, \"zaxis\": {\"backgroundcolor\": \"#E5ECF6\", \"gridcolor\": \"white\", \"gridwidth\": 2, \"linecolor\": \"white\", \"showbackground\": true, \"ticks\": \"\", \"zerolinecolor\": \"white\"}}, \"shapedefaults\": {\"line\": {\"color\": \"#2a3f5f\"}}, \"ternary\": {\"aaxis\": {\"gridcolor\": \"white\", \"linecolor\": \"white\", \"ticks\": \"\"}, \"baxis\": {\"gridcolor\": \"white\", \"linecolor\": \"white\", \"ticks\": \"\"}, \"bgcolor\": \"#E5ECF6\", \"caxis\": {\"gridcolor\": \"white\", \"linecolor\": \"white\", \"ticks\": \"\"}}, \"title\": {\"x\": 0.05}, \"xaxis\": {\"automargin\": true, \"gridcolor\": \"white\", \"linecolor\": \"white\", \"ticks\": \"\", \"title\": {\"standoff\": 15}, \"zerolinecolor\": \"white\", \"zerolinewidth\": 2}, \"yaxis\": {\"automargin\": true, \"gridcolor\": \"white\", \"linecolor\": \"white\", \"ticks\": \"\", \"title\": {\"standoff\": 15}, \"zerolinecolor\": \"white\", \"zerolinewidth\": 2}}}, \"xaxis\": {\"anchor\": \"y\", \"categoryarray\": [\"IndiGo\", \"Air India\", \"Jet Airways\", \"SpiceJet\", \"Multiple carriers\", \"GoAir\", \"Vistara\", \"Air Asia\", \"Vistara Premium economy\", \"Jet Airways Business\", \"Multiple carriers Premium economy\", \"Trujet\"], \"categoryorder\": \"array\", \"domain\": [0.0, 1.0], \"title\": {\"text\": \"Airline\"}}, \"yaxis\": {\"anchor\": \"x\", \"domain\": [0.0, 1.0], \"title\": {\"text\": \"Price\"}}},\n",
              "                        {\"responsive\": true}\n",
              "                    ).then(function(){\n",
              "                            \n",
              "var gd = document.getElementById('ef45c835-a612-4586-8ca6-13de935672de');\n",
              "var x = new MutationObserver(function (mutations, observer) {{\n",
              "        var display = window.getComputedStyle(gd).display;\n",
              "        if (!display || display === 'none') {{\n",
              "            console.log([gd, 'removed!']);\n",
              "            Plotly.purge(gd);\n",
              "            observer.disconnect();\n",
              "        }}\n",
              "}});\n",
              "\n",
              "// Listen for the removal of the full notebook cells\n",
              "var notebookContainer = gd.closest('#notebook-container');\n",
              "if (notebookContainer) {{\n",
              "    x.observe(notebookContainer, {childList: true});\n",
              "}}\n",
              "\n",
              "// Listen for the clearing of the current output cell\n",
              "var outputEl = gd.closest('.output');\n",
              "if (outputEl) {{\n",
              "    x.observe(outputEl, {childList: true});\n",
              "}}\n",
              "\n",
              "                        })\n",
              "                };\n",
              "                \n",
              "            </script>\n",
              "        </div>\n",
              "</body>\n",
              "</html>"
            ]
          },
          "metadata": {
            "tags": []
          }
        }
      ]
    },
    {
      "cell_type": "code",
      "metadata": {
        "id": "6jUZyKYAitX1",
        "outputId": "752b34fa-b615-4b3f-e497-b05c9d66c69a",
        "colab": {
          "base_uri": "https://localhost:8080/",
          "height": 229
        }
      },
      "source": [
        "# As Airline is Nominal Categorical data we will perform OneHotEncoding\n",
        "\n",
        "Airline = train_data[[\"Airline\"]]\n",
        "\n",
        "Airline = pd.get_dummies(Airline, drop_first= True)\n",
        "\n",
        "Airline.head()"
      ],
      "execution_count": null,
      "outputs": [
        {
          "output_type": "execute_result",
          "data": {
            "text/html": [
              "<div>\n",
              "<style scoped>\n",
              "    .dataframe tbody tr th:only-of-type {\n",
              "        vertical-align: middle;\n",
              "    }\n",
              "\n",
              "    .dataframe tbody tr th {\n",
              "        vertical-align: top;\n",
              "    }\n",
              "\n",
              "    .dataframe thead th {\n",
              "        text-align: right;\n",
              "    }\n",
              "</style>\n",
              "<table border=\"1\" class=\"dataframe\">\n",
              "  <thead>\n",
              "    <tr style=\"text-align: right;\">\n",
              "      <th></th>\n",
              "      <th>Airline_Air India</th>\n",
              "      <th>Airline_GoAir</th>\n",
              "      <th>Airline_IndiGo</th>\n",
              "      <th>Airline_Jet Airways</th>\n",
              "      <th>Airline_Jet Airways Business</th>\n",
              "      <th>Airline_Multiple carriers</th>\n",
              "      <th>Airline_Multiple carriers Premium economy</th>\n",
              "      <th>Airline_SpiceJet</th>\n",
              "      <th>Airline_Trujet</th>\n",
              "      <th>Airline_Vistara</th>\n",
              "      <th>Airline_Vistara Premium economy</th>\n",
              "    </tr>\n",
              "  </thead>\n",
              "  <tbody>\n",
              "    <tr>\n",
              "      <th>0</th>\n",
              "      <td>0</td>\n",
              "      <td>0</td>\n",
              "      <td>1</td>\n",
              "      <td>0</td>\n",
              "      <td>0</td>\n",
              "      <td>0</td>\n",
              "      <td>0</td>\n",
              "      <td>0</td>\n",
              "      <td>0</td>\n",
              "      <td>0</td>\n",
              "      <td>0</td>\n",
              "    </tr>\n",
              "    <tr>\n",
              "      <th>1</th>\n",
              "      <td>1</td>\n",
              "      <td>0</td>\n",
              "      <td>0</td>\n",
              "      <td>0</td>\n",
              "      <td>0</td>\n",
              "      <td>0</td>\n",
              "      <td>0</td>\n",
              "      <td>0</td>\n",
              "      <td>0</td>\n",
              "      <td>0</td>\n",
              "      <td>0</td>\n",
              "    </tr>\n",
              "    <tr>\n",
              "      <th>2</th>\n",
              "      <td>0</td>\n",
              "      <td>0</td>\n",
              "      <td>0</td>\n",
              "      <td>1</td>\n",
              "      <td>0</td>\n",
              "      <td>0</td>\n",
              "      <td>0</td>\n",
              "      <td>0</td>\n",
              "      <td>0</td>\n",
              "      <td>0</td>\n",
              "      <td>0</td>\n",
              "    </tr>\n",
              "    <tr>\n",
              "      <th>3</th>\n",
              "      <td>0</td>\n",
              "      <td>0</td>\n",
              "      <td>1</td>\n",
              "      <td>0</td>\n",
              "      <td>0</td>\n",
              "      <td>0</td>\n",
              "      <td>0</td>\n",
              "      <td>0</td>\n",
              "      <td>0</td>\n",
              "      <td>0</td>\n",
              "      <td>0</td>\n",
              "    </tr>\n",
              "    <tr>\n",
              "      <th>4</th>\n",
              "      <td>0</td>\n",
              "      <td>0</td>\n",
              "      <td>1</td>\n",
              "      <td>0</td>\n",
              "      <td>0</td>\n",
              "      <td>0</td>\n",
              "      <td>0</td>\n",
              "      <td>0</td>\n",
              "      <td>0</td>\n",
              "      <td>0</td>\n",
              "      <td>0</td>\n",
              "    </tr>\n",
              "  </tbody>\n",
              "</table>\n",
              "</div>"
            ],
            "text/plain": [
              "   Airline_Air India  Airline_GoAir  Airline_IndiGo  Airline_Jet Airways  \\\n",
              "0                  0              0               1                    0   \n",
              "1                  1              0               0                    0   \n",
              "2                  0              0               0                    1   \n",
              "3                  0              0               1                    0   \n",
              "4                  0              0               1                    0   \n",
              "\n",
              "   Airline_Jet Airways Business  Airline_Multiple carriers  \\\n",
              "0                             0                          0   \n",
              "1                             0                          0   \n",
              "2                             0                          0   \n",
              "3                             0                          0   \n",
              "4                             0                          0   \n",
              "\n",
              "   Airline_Multiple carriers Premium economy  Airline_SpiceJet  \\\n",
              "0                                          0                 0   \n",
              "1                                          0                 0   \n",
              "2                                          0                 0   \n",
              "3                                          0                 0   \n",
              "4                                          0                 0   \n",
              "\n",
              "   Airline_Trujet  Airline_Vistara  Airline_Vistara Premium economy  \n",
              "0               0                0                                0  \n",
              "1               0                0                                0  \n",
              "2               0                0                                0  \n",
              "3               0                0                                0  \n",
              "4               0                0                                0  "
            ]
          },
          "metadata": {
            "tags": []
          },
          "execution_count": 29
        }
      ]
    },
    {
      "cell_type": "code",
      "metadata": {
        "id": "nLgAIxCwitX3",
        "outputId": "9769aca3-db48-4d92-8de6-73124f4e715e",
        "colab": {
          "base_uri": "https://localhost:8080/",
          "height": 118
        }
      },
      "source": [
        "train_data[\"Source\"].value_counts()"
      ],
      "execution_count": null,
      "outputs": [
        {
          "output_type": "execute_result",
          "data": {
            "text/plain": [
              "Delhi       4536\n",
              "Kolkata     2871\n",
              "Banglore    2197\n",
              "Mumbai       697\n",
              "Chennai      381\n",
              "Name: Source, dtype: int64"
            ]
          },
          "metadata": {
            "tags": []
          },
          "execution_count": 30
        }
      ]
    },
    {
      "cell_type": "code",
      "metadata": {
        "id": "yRHkJjwFitX6",
        "outputId": "ebf4cf14-f4d2-42ec-b123-f579e5d28894",
        "colab": {
          "base_uri": "https://localhost:8080/",
          "height": 310
        }
      },
      "source": [
        "# Source vs Price\n",
        "\n",
        "sns.catplot(y = \"Price\", x = \"Source\", data = train_data.sort_values(\"Price\", ascending = False), kind=\"boxen\", height = 4, aspect = 3)\n",
        "plt.show()"
      ],
      "execution_count": null,
      "outputs": [
        {
          "output_type": "display_data",
          "data": {
            "image/png": "[encoded data removed]",
            "text/plain": [
              "<Figure size 864x288 with 1 Axes>"
            ]
          },
          "metadata": {
            "tags": []
          }
        }
      ]
    },
    {
      "cell_type": "code",
      "metadata": {
        "id": "rl40svaDitX8",
        "outputId": "c95e2c8c-661b-4c2d-8a24-aa1f053bdb0e",
        "colab": {
          "base_uri": "https://localhost:8080/",
          "height": 195
        }
      },
      "source": [
        "# As Source is Nominal Categorical data we will perform OneHotEncoding\n",
        "\n",
        "Source = train_data[[\"Source\"]]\n",
        "\n",
        "Source = pd.get_dummies(Source, drop_first= True)\n",
        "\n",
        "Source.head()"
      ],
      "execution_count": null,
      "outputs": [
        {
          "output_type": "execute_result",
          "data": {
            "text/html": [
              "<div>\n",
              "<style scoped>\n",
              "    .dataframe tbody tr th:only-of-type {\n",
              "        vertical-align: middle;\n",
              "    }\n",
              "\n",
              "    .dataframe tbody tr th {\n",
              "        vertical-align: top;\n",
              "    }\n",
              "\n",
              "    .dataframe thead th {\n",
              "        text-align: right;\n",
              "    }\n",
              "</style>\n",
              "<table border=\"1\" class=\"dataframe\">\n",
              "  <thead>\n",
              "    <tr style=\"text-align: right;\">\n",
              "      <th></th>\n",
              "      <th>Source_Chennai</th>\n",
              "      <th>Source_Delhi</th>\n",
              "      <th>Source_Kolkata</th>\n",
              "      <th>Source_Mumbai</th>\n",
              "    </tr>\n",
              "  </thead>\n",
              "  <tbody>\n",
              "    <tr>\n",
              "      <th>0</th>\n",
              "      <td>0</td>\n",
              "      <td>0</td>\n",
              "      <td>0</td>\n",
              "      <td>0</td>\n",
              "    </tr>\n",
              "    <tr>\n",
              "      <th>1</th>\n",
              "      <td>0</td>\n",
              "      <td>0</td>\n",
              "      <td>1</td>\n",
              "      <td>0</td>\n",
              "    </tr>\n",
              "    <tr>\n",
              "      <th>2</th>\n",
              "      <td>0</td>\n",
              "      <td>1</td>\n",
              "      <td>0</td>\n",
              "      <td>0</td>\n",
              "    </tr>\n",
              "    <tr>\n",
              "      <th>3</th>\n",
              "      <td>0</td>\n",
              "      <td>0</td>\n",
              "      <td>1</td>\n",
              "      <td>0</td>\n",
              "    </tr>\n",
              "    <tr>\n",
              "      <th>4</th>\n",
              "      <td>0</td>\n",
              "      <td>0</td>\n",
              "      <td>0</td>\n",
              "      <td>0</td>\n",
              "    </tr>\n",
              "  </tbody>\n",
              "</table>\n",
              "</div>"
            ],
            "text/plain": [
              "   Source_Chennai  Source_Delhi  Source_Kolkata  Source_Mumbai\n",
              "0               0             0               0              0\n",
              "1               0             0               1              0\n",
              "2               0             1               0              0\n",
              "3               0             0               1              0\n",
              "4               0             0               0              0"
            ]
          },
          "metadata": {
            "tags": []
          },
          "execution_count": 32
        }
      ]
    },
    {
      "cell_type": "code",
      "metadata": {
        "id": "MAK7n6NoitX_",
        "outputId": "f3c9e926-a243-4281-c265-242d93ffcd7d",
        "colab": {
          "base_uri": "https://localhost:8080/",
          "height": 134
        }
      },
      "source": [
        "train_data[\"Destination\"].value_counts()"
      ],
      "execution_count": null,
      "outputs": [
        {
          "output_type": "execute_result",
          "data": {
            "text/plain": [
              "Cochin       4536\n",
              "Banglore     2871\n",
              "Delhi        1265\n",
              "New Delhi     932\n",
              "Hyderabad     697\n",
              "Kolkata       381\n",
              "Name: Destination, dtype: int64"
            ]
          },
          "metadata": {
            "tags": []
          },
          "execution_count": 33
        }
      ]
    },
    {
      "cell_type": "code",
      "metadata": {
        "id": "hr0W8iMyitYB",
        "outputId": "8f29c475-8eb3-4a08-e20f-6c0aa045945f",
        "colab": {
          "base_uri": "https://localhost:8080/",
          "height": 195
        }
      },
      "source": [
        "# As Destination is Nominal Categorical data we will perform OneHotEncoding\n",
        "\n",
        "Destination = train_data[[\"Destination\"]]\n",
        "\n",
        "Destination = pd.get_dummies(Destination, drop_first = True)\n",
        "\n",
        "Destination.head()"
      ],
      "execution_count": null,
      "outputs": [
        {
          "output_type": "execute_result",
          "data": {
            "text/html": [
              "<div>\n",
              "<style scoped>\n",
              "    .dataframe tbody tr th:only-of-type {\n",
              "        vertical-align: middle;\n",
              "    }\n",
              "\n",
              "    .dataframe tbody tr th {\n",
              "        vertical-align: top;\n",
              "    }\n",
              "\n",
              "    .dataframe thead th {\n",
              "        text-align: right;\n",
              "    }\n",
              "</style>\n",
              "<table border=\"1\" class=\"dataframe\">\n",
              "  <thead>\n",
              "    <tr style=\"text-align: right;\">\n",
              "      <th></th>\n",
              "      <th>Destination_Cochin</th>\n",
              "      <th>Destination_Delhi</th>\n",
              "      <th>Destination_Hyderabad</th>\n",
              "      <th>Destination_Kolkata</th>\n",
              "      <th>Destination_New Delhi</th>\n",
              "    </tr>\n",
              "  </thead>\n",
              "  <tbody>\n",
              "    <tr>\n",
              "      <th>0</th>\n",
              "      <td>0</td>\n",
              "      <td>0</td>\n",
              "      <td>0</td>\n",
              "      <td>0</td>\n",
              "      <td>1</td>\n",
              "    </tr>\n",
              "    <tr>\n",
              "      <th>1</th>\n",
              "      <td>0</td>\n",
              "      <td>0</td>\n",
              "      <td>0</td>\n",
              "      <td>0</td>\n",
              "      <td>0</td>\n",
              "    </tr>\n",
              "    <tr>\n",
              "      <th>2</th>\n",
              "      <td>1</td>\n",
              "      <td>0</td>\n",
              "      <td>0</td>\n",
              "      <td>0</td>\n",
              "      <td>0</td>\n",
              "    </tr>\n",
              "    <tr>\n",
              "      <th>3</th>\n",
              "      <td>0</td>\n",
              "      <td>0</td>\n",
              "      <td>0</td>\n",
              "      <td>0</td>\n",
              "      <td>0</td>\n",
              "    </tr>\n",
              "    <tr>\n",
              "      <th>4</th>\n",
              "      <td>0</td>\n",
              "      <td>0</td>\n",
              "      <td>0</td>\n",
              "      <td>0</td>\n",
              "      <td>1</td>\n",
              "    </tr>\n",
              "  </tbody>\n",
              "</table>\n",
              "</div>"
            ],
            "text/plain": [
              "   Destination_Cochin  Destination_Delhi  Destination_Hyderabad  \\\n",
              "0                   0                  0                      0   \n",
              "1                   0                  0                      0   \n",
              "2                   1                  0                      0   \n",
              "3                   0                  0                      0   \n",
              "4                   0                  0                      0   \n",
              "\n",
              "   Destination_Kolkata  Destination_New Delhi  \n",
              "0                    0                      1  \n",
              "1                    0                      0  \n",
              "2                    0                      0  \n",
              "3                    0                      0  \n",
              "4                    0                      1  "
            ]
          },
          "metadata": {
            "tags": []
          },
          "execution_count": 34
        }
      ]
    },
    {
      "cell_type": "code",
      "metadata": {
        "id": "SJc6Q0bLitYF",
        "outputId": "57d26f00-cefa-4cee-fc3f-c928e8b4595a",
        "colab": {
          "base_uri": "https://localhost:8080/",
          "height": 218
        }
      },
      "source": [
        "train_data[\"Route\"]"
      ],
      "execution_count": null,
      "outputs": [
        {
          "output_type": "execute_result",
          "data": {
            "text/plain": [
              "0                    BLR → DEL\n",
              "1        CCU → IXR → BBI → BLR\n",
              "2        DEL → LKO → BOM → COK\n",
              "3              CCU → NAG → BLR\n",
              "4              BLR → NAG → DEL\n",
              "                 ...          \n",
              "10678                CCU → BLR\n",
              "10679                CCU → BLR\n",
              "10680                BLR → DEL\n",
              "10681                BLR → DEL\n",
              "10682    DEL → GOI → BOM → COK\n",
              "Name: Route, Length: 10682, dtype: object"
            ]
          },
          "metadata": {
            "tags": []
          },
          "execution_count": 35
        }
      ]
    },
    {
      "cell_type": "code",
      "metadata": {
        "id": "fB0NUXpWitYH"
      },
      "source": [
        "# Additional_Info contains almost 80% no_info\n",
        "# Route and Total_Stops are related to each other\n",
        "\n",
        "train_data.drop([\"Route\", \"Additional_Info\"], axis = 1, inplace = True)"
      ],
      "execution_count": null,
      "outputs": []
    },
    {
      "cell_type": "code",
      "metadata": {
        "id": "NV5LUIfUitYK",
        "outputId": "4b3d1977-4727-45a2-b2cd-f84982262fdb",
        "colab": {
          "base_uri": "https://localhost:8080/",
          "height": 118
        }
      },
      "source": [
        "train_data[\"Total_Stops\"].value_counts()"
      ],
      "execution_count": null,
      "outputs": [
        {
          "output_type": "execute_result",
          "data": {
            "text/plain": [
              "1 stop      5625\n",
              "non-stop    3491\n",
              "2 stops     1520\n",
              "3 stops       45\n",
              "4 stops        1\n",
              "Name: Total_Stops, dtype: int64"
            ]
          },
          "metadata": {
            "tags": []
          },
          "execution_count": 37
        }
      ]
    },
    {
      "cell_type": "code",
      "metadata": {
        "id": "tT-K8S1gitYM"
      },
      "source": [
        "# As this is case of Ordinal Categorical type we perform LabelEncoder\n",
        "# Here Values are assigned with corresponding keys\n",
        "\n",
        "train_data.replace({\"non-stop\": 0, \"1 stop\": 1, \"2 stops\": 2, \"3 stops\": 3, \"4 stops\": 4}, inplace = True)"
      ],
      "execution_count": null,
      "outputs": []
    },
    {
      "cell_type": "code",
      "metadata": {
        "id": "EzLuWMDUitYO",
        "outputId": "d9fec173-3453-471d-cbe5-f6d459d3b917",
        "colab": {
          "base_uri": "https://localhost:8080/",
          "height": 195
        }
      },
      "source": [
        "train_data.head()"
      ],
      "execution_count": null,
      "outputs": [
        {
          "output_type": "execute_result",
          "data": {
            "text/html": [
              "<div>\n",
              "<style scoped>\n",
              "    .dataframe tbody tr th:only-of-type {\n",
              "        vertical-align: middle;\n",
              "    }\n",
              "\n",
              "    .dataframe tbody tr th {\n",
              "        vertical-align: top;\n",
              "    }\n",
              "\n",
              "    .dataframe thead th {\n",
              "        text-align: right;\n",
              "    }\n",
              "</style>\n",
              "<table border=\"1\" class=\"dataframe\">\n",
              "  <thead>\n",
              "    <tr style=\"text-align: right;\">\n",
              "      <th></th>\n",
              "      <th>Airline</th>\n",
              "      <th>Source</th>\n",
              "      <th>Destination</th>\n",
              "      <th>Total_Stops</th>\n",
              "      <th>Price</th>\n",
              "      <th>Journey_day</th>\n",
              "      <th>Journey_month</th>\n",
              "      <th>Dep_hour</th>\n",
              "      <th>Dep_min</th>\n",
              "      <th>Arrival_hour</th>\n",
              "      <th>Arrival_min</th>\n",
              "      <th>Duration_hours</th>\n",
              "      <th>Duration_mins</th>\n",
              "    </tr>\n",
              "  </thead>\n",
              "  <tbody>\n",
              "    <tr>\n",
              "      <th>0</th>\n",
              "      <td>IndiGo</td>\n",
              "      <td>Banglore</td>\n",
              "      <td>New Delhi</td>\n",
              "      <td>0</td>\n",
              "      <td>3897</td>\n",
              "      <td>24</td>\n",
              "      <td>3</td>\n",
              "      <td>22</td>\n",
              "      <td>20</td>\n",
              "      <td>1</td>\n",
              "      <td>10</td>\n",
              "      <td>2</td>\n",
              "      <td>50</td>\n",
              "    </tr>\n",
              "    <tr>\n",
              "      <th>1</th>\n",
              "      <td>Air India</td>\n",
              "      <td>Kolkata</td>\n",
              "      <td>Banglore</td>\n",
              "      <td>2</td>\n",
              "      <td>7662</td>\n",
              "      <td>1</td>\n",
              "      <td>5</td>\n",
              "      <td>5</td>\n",
              "      <td>50</td>\n",
              "      <td>13</td>\n",
              "      <td>15</td>\n",
              "      <td>7</td>\n",
              "      <td>25</td>\n",
              "    </tr>\n",
              "    <tr>\n",
              "      <th>2</th>\n",
              "      <td>Jet Airways</td>\n",
              "      <td>Delhi</td>\n",
              "      <td>Cochin</td>\n",
              "      <td>2</td>\n",
              "      <td>13882</td>\n",
              "      <td>9</td>\n",
              "      <td>6</td>\n",
              "      <td>9</td>\n",
              "      <td>25</td>\n",
              "      <td>4</td>\n",
              "      <td>25</td>\n",
              "      <td>19</td>\n",
              "      <td>0</td>\n",
              "    </tr>\n",
              "    <tr>\n",
              "      <th>3</th>\n",
              "      <td>IndiGo</td>\n",
              "      <td>Kolkata</td>\n",
              "      <td>Banglore</td>\n",
              "      <td>1</td>\n",
              "      <td>6218</td>\n",
              "      <td>12</td>\n",
              "      <td>5</td>\n",
              "      <td>18</td>\n",
              "      <td>5</td>\n",
              "      <td>23</td>\n",
              "      <td>30</td>\n",
              "      <td>5</td>\n",
              "      <td>25</td>\n",
              "    </tr>\n",
              "    <tr>\n",
              "      <th>4</th>\n",
              "      <td>IndiGo</td>\n",
              "      <td>Banglore</td>\n",
              "      <td>New Delhi</td>\n",
              "      <td>1</td>\n",
              "      <td>13302</td>\n",
              "      <td>1</td>\n",
              "      <td>3</td>\n",
              "      <td>16</td>\n",
              "      <td>50</td>\n",
              "      <td>21</td>\n",
              "      <td>35</td>\n",
              "      <td>4</td>\n",
              "      <td>45</td>\n",
              "    </tr>\n",
              "  </tbody>\n",
              "</table>\n",
              "</div>"
            ],
            "text/plain": [
              "       Airline    Source Destination  Total_Stops  Price  Journey_day  \\\n",
              "0       IndiGo  Banglore   New Delhi            0   3897           24   \n",
              "1    Air India   Kolkata    Banglore            2   7662            1   \n",
              "2  Jet Airways     Delhi      Cochin            2  13882            9   \n",
              "3       IndiGo   Kolkata    Banglore            1   6218           12   \n",
              "4       IndiGo  Banglore   New Delhi            1  13302            1   \n",
              "\n",
              "   Journey_month  Dep_hour  Dep_min  Arrival_hour  Arrival_min  \\\n",
              "0              3        22       20             1           10   \n",
              "1              5         5       50            13           15   \n",
              "2              6         9       25             4           25   \n",
              "3              5        18        5            23           30   \n",
              "4              3        16       50            21           35   \n",
              "\n",
              "   Duration_hours  Duration_mins  \n",
              "0               2             50  \n",
              "1               7             25  \n",
              "2              19              0  \n",
              "3               5             25  \n",
              "4               4             45  "
            ]
          },
          "metadata": {
            "tags": []
          },
          "execution_count": 39
        }
      ]
    },
    {
      "cell_type": "code",
      "metadata": {
        "id": "Psmxul9FitYQ"
      },
      "source": [
        "# Concatenate dataframe --> train_data + Airline + Source + Destination\n",
        "\n",
        "data_train = pd.concat([train_data, Airline, Source, Destination], axis = 1)"
      ],
      "execution_count": null,
      "outputs": []
    },
    {
      "cell_type": "code",
      "metadata": {
        "id": "22W2vRLMitYS",
        "outputId": "09d6141f-2522-43a8-c261-2f8d43a268c7",
        "colab": {
          "base_uri": "https://localhost:8080/",
          "height": 266
        }
      },
      "source": [
        "data_train.head()"
      ],
      "execution_count": null,
      "outputs": [
        {
          "output_type": "execute_result",
          "data": {
            "text/html": [
              "<div>\n",
              "<style scoped>\n",
              "    .dataframe tbody tr th:only-of-type {\n",
              "        vertical-align: middle;\n",
              "    }\n",
              "\n",
              "    .dataframe tbody tr th {\n",
              "        vertical-align: top;\n",
              "    }\n",
              "\n",
              "    .dataframe thead th {\n",
              "        text-align: right;\n",
              "    }\n",
              "</style>\n",
              "<table border=\"1\" class=\"dataframe\">\n",
              "  <thead>\n",
              "    <tr style=\"text-align: right;\">\n",
              "      <th></th>\n",
              "      <th>Airline</th>\n",
              "      <th>Source</th>\n",
              "      <th>Destination</th>\n",
              "      <th>Total_Stops</th>\n",
              "      <th>Price</th>\n",
              "      <th>Journey_day</th>\n",
              "      <th>Journey_month</th>\n",
              "      <th>Dep_hour</th>\n",
              "      <th>Dep_min</th>\n",
              "      <th>Arrival_hour</th>\n",
              "      <th>Arrival_min</th>\n",
              "      <th>Duration_hours</th>\n",
              "      <th>Duration_mins</th>\n",
              "      <th>Airline_Air India</th>\n",
              "      <th>Airline_GoAir</th>\n",
              "      <th>Airline_IndiGo</th>\n",
              "      <th>Airline_Jet Airways</th>\n",
              "      <th>Airline_Jet Airways Business</th>\n",
              "      <th>Airline_Multiple carriers</th>\n",
              "      <th>Airline_Multiple carriers Premium economy</th>\n",
              "      <th>Airline_SpiceJet</th>\n",
              "      <th>Airline_Trujet</th>\n",
              "      <th>Airline_Vistara</th>\n",
              "      <th>Airline_Vistara Premium economy</th>\n",
              "      <th>Source_Chennai</th>\n",
              "      <th>Source_Delhi</th>\n",
              "      <th>Source_Kolkata</th>\n",
              "      <th>Source_Mumbai</th>\n",
              "      <th>Destination_Cochin</th>\n",
              "      <th>Destination_Delhi</th>\n",
              "      <th>Destination_Hyderabad</th>\n",
              "      <th>Destination_Kolkata</th>\n",
              "      <th>Destination_New Delhi</th>\n",
              "    </tr>\n",
              "  </thead>\n",
              "  <tbody>\n",
              "    <tr>\n",
              "      <th>0</th>\n",
              "      <td>IndiGo</td>\n",
              "      <td>Banglore</td>\n",
              "      <td>New Delhi</td>\n",
              "      <td>0</td>\n",
              "      <td>3897</td>\n",
              "      <td>24</td>\n",
              "      <td>3</td>\n",
              "      <td>22</td>\n",
              "      <td>20</td>\n",
              "      <td>1</td>\n",
              "      <td>10</td>\n",
              "      <td>2</td>\n",
              "      <td>50</td>\n",
              "      <td>0</td>\n",
              "      <td>0</td>\n",
              "      <td>1</td>\n",
              "      <td>0</td>\n",
              "      <td>0</td>\n",
              "      <td>0</td>\n",
              "      <td>0</td>\n",
              "      <td>0</td>\n",
              "      <td>0</td>\n",
              "      <td>0</td>\n",
              "      <td>0</td>\n",
              "      <td>0</td>\n",
              "      <td>0</td>\n",
              "      <td>0</td>\n",
              "      <td>0</td>\n",
              "      <td>0</td>\n",
              "      <td>0</td>\n",
              "      <td>0</td>\n",
              "      <td>0</td>\n",
              "      <td>1</td>\n",
              "    </tr>\n",
              "    <tr>\n",
              "      <th>1</th>\n",
              "      <td>Air India</td>\n",
              "      <td>Kolkata</td>\n",
              "      <td>Banglore</td>\n",
              "      <td>2</td>\n",
              "      <td>7662</td>\n",
              "      <td>1</td>\n",
              "      <td>5</td>\n",
              "      <td>5</td>\n",
              "      <td>50</td>\n",
              "      <td>13</td>\n",
              "      <td>15</td>\n",
              "      <td>7</td>\n",
              "      <td>25</td>\n",
              "      <td>1</td>\n",
              "      <td>0</td>\n",
              "      <td>0</td>\n",
              "      <td>0</td>\n",
              "      <td>0</td>\n",
              "      <td>0</td>\n",
              "      <td>0</td>\n",
              "      <td>0</td>\n",
              "      <td>0</td>\n",
              "      <td>0</td>\n",
              "      <td>0</td>\n",
              "      <td>0</td>\n",
              "      <td>0</td>\n",
              "      <td>1</td>\n",
              "      <td>0</td>\n",
              "      <td>0</td>\n",
              "      <td>0</td>\n",
              "      <td>0</td>\n",
              "      <td>0</td>\n",
              "      <td>0</td>\n",
              "    </tr>\n",
              "    <tr>\n",
              "      <th>2</th>\n",
              "      <td>Jet Airways</td>\n",
              "      <td>Delhi</td>\n",
              "      <td>Cochin</td>\n",
              "      <td>2</td>\n",
              "      <td>13882</td>\n",
              "      <td>9</td>\n",
              "      <td>6</td>\n",
              "      <td>9</td>\n",
              "      <td>25</td>\n",
              "      <td>4</td>\n",
              "      <td>25</td>\n",
              "      <td>19</td>\n",
              "      <td>0</td>\n",
              "      <td>0</td>\n",
              "      <td>0</td>\n",
              "      <td>0</td>\n",
              "      <td>1</td>\n",
              "      <td>0</td>\n",
              "      <td>0</td>\n",
              "      <td>0</td>\n",
              "      <td>0</td>\n",
              "      <td>0</td>\n",
              "      <td>0</td>\n",
              "      <td>0</td>\n",
              "      <td>0</td>\n",
              "      <td>1</td>\n",
              "      <td>0</td>\n",
              "      <td>0</td>\n",
              "      <td>1</td>\n",
              "      <td>0</td>\n",
              "      <td>0</td>\n",
              "      <td>0</td>\n",
              "      <td>0</td>\n",
              "    </tr>\n",
              "    <tr>\n",
              "      <th>3</th>\n",
              "      <td>IndiGo</td>\n",
              "      <td>Kolkata</td>\n",
              "      <td>Banglore</td>\n",
              "      <td>1</td>\n",
              "      <td>6218</td>\n",
              "      <td>12</td>\n",
              "      <td>5</td>\n",
              "      <td>18</td>\n",
              "      <td>5</td>\n",
              "      <td>23</td>\n",
              "      <td>30</td>\n",
              "      <td>5</td>\n",
              "      <td>25</td>\n",
              "      <td>0</td>\n",
              "      <td>0</td>\n",
              "      <td>1</td>\n",
              "      <td>0</td>\n",
              "      <td>0</td>\n",
              "      <td>0</td>\n",
              "      <td>0</td>\n",
              "      <td>0</td>\n",
              "      <td>0</td>\n",
              "      <td>0</td>\n",
              "      <td>0</td>\n",
              "      <td>0</td>\n",
              "      <td>0</td>\n",
              "      <td>1</td>\n",
              "      <td>0</td>\n",
              "      <td>0</td>\n",
              "      <td>0</td>\n",
              "      <td>0</td>\n",
              "      <td>0</td>\n",
              "      <td>0</td>\n",
              "    </tr>\n",
              "    <tr>\n",
              "      <th>4</th>\n",
              "      <td>IndiGo</td>\n",
              "      <td>Banglore</td>\n",
              "      <td>New Delhi</td>\n",
              "      <td>1</td>\n",
              "      <td>13302</td>\n",
              "      <td>1</td>\n",
              "      <td>3</td>\n",
              "      <td>16</td>\n",
              "      <td>50</td>\n",
              "      <td>21</td>\n",
              "      <td>35</td>\n",
              "      <td>4</td>\n",
              "      <td>45</td>\n",
              "      <td>0</td>\n",
              "      <td>0</td>\n",
              "      <td>1</td>\n",
              "      <td>0</td>\n",
              "      <td>0</td>\n",
              "      <td>0</td>\n",
              "      <td>0</td>\n",
              "      <td>0</td>\n",
              "      <td>0</td>\n",
              "      <td>0</td>\n",
              "      <td>0</td>\n",
              "      <td>0</td>\n",
              "      <td>0</td>\n",
              "      <td>0</td>\n",
              "      <td>0</td>\n",
              "      <td>0</td>\n",
              "      <td>0</td>\n",
              "      <td>0</td>\n",
              "      <td>0</td>\n",
              "      <td>1</td>\n",
              "    </tr>\n",
              "  </tbody>\n",
              "</table>\n",
              "</div>"
            ],
            "text/plain": [
              "       Airline    Source Destination  Total_Stops  Price  Journey_day  \\\n",
              "0       IndiGo  Banglore   New Delhi            0   3897           24   \n",
              "1    Air India   Kolkata    Banglore            2   7662            1   \n",
              "2  Jet Airways     Delhi      Cochin            2  13882            9   \n",
              "3       IndiGo   Kolkata    Banglore            1   6218           12   \n",
              "4       IndiGo  Banglore   New Delhi            1  13302            1   \n",
              "\n",
              "   Journey_month  Dep_hour  Dep_min  Arrival_hour  Arrival_min  \\\n",
              "0              3        22       20             1           10   \n",
              "1              5         5       50            13           15   \n",
              "2              6         9       25             4           25   \n",
              "3              5        18        5            23           30   \n",
              "4              3        16       50            21           35   \n",
              "\n",
              "   Duration_hours  Duration_mins  Airline_Air India  Airline_GoAir  \\\n",
              "0               2             50                  0              0   \n",
              "1               7             25                  1              0   \n",
              "2              19              0                  0              0   \n",
              "3               5             25                  0              0   \n",
              "4               4             45                  0              0   \n",
              "\n",
              "   Airline_IndiGo  Airline_Jet Airways  Airline_Jet Airways Business  \\\n",
              "0               1                    0                             0   \n",
              "1               0                    0                             0   \n",
              "2               0                    1                             0   \n",
              "3               1                    0                             0   \n",
              "4               1                    0                             0   \n",
              "\n",
              "   Airline_Multiple carriers  Airline_Multiple carriers Premium economy  \\\n",
              "0                          0                                          0   \n",
              "1                          0                                          0   \n",
              "2                          0                                          0   \n",
              "3                          0                                          0   \n",
              "4                          0                                          0   \n",
              "\n",
              "   Airline_SpiceJet  Airline_Trujet  Airline_Vistara  \\\n",
              "0                 0               0                0   \n",
              "1                 0               0                0   \n",
              "2                 0               0                0   \n",
              "3                 0               0                0   \n",
              "4                 0               0                0   \n",
              "\n",
              "   Airline_Vistara Premium economy  Source_Chennai  Source_Delhi  \\\n",
              "0                                0               0             0   \n",
              "1                                0               0             0   \n",
              "2                                0               0             1   \n",
              "3                                0               0             0   \n",
              "4                                0               0             0   \n",
              "\n",
              "   Source_Kolkata  Source_Mumbai  Destination_Cochin  Destination_Delhi  \\\n",
              "0               0              0                   0                  0   \n",
              "1               1              0                   0                  0   \n",
              "2               0              0                   1                  0   \n",
              "3               1              0                   0                  0   \n",
              "4               0              0                   0                  0   \n",
              "\n",
              "   Destination_Hyderabad  Destination_Kolkata  Destination_New Delhi  \n",
              "0                      0                    0                      1  \n",
              "1                      0                    0                      0  \n",
              "2                      0                    0                      0  \n",
              "3                      0                    0                      0  \n",
              "4                      0                    0                      1  "
            ]
          },
          "metadata": {
            "tags": []
          },
          "execution_count": 41
        }
      ]
    },
    {
      "cell_type": "code",
      "metadata": {
        "id": "6o2tmMELitYU"
      },
      "source": [
        "data_train.drop([\"Airline\", \"Source\", \"Destination\"], axis = 1, inplace = True)"
      ],
      "execution_count": null,
      "outputs": []
    },
    {
      "cell_type": "code",
      "metadata": {
        "id": "rLwprjWfitYX",
        "outputId": "47ffc1cf-2a4a-4ccc-ba1c-ef9a0d8a702c",
        "colab": {
          "base_uri": "https://localhost:8080/",
          "height": 249
        }
      },
      "source": [
        "data_train.head()"
      ],
      "execution_count": null,
      "outputs": [
        {
          "output_type": "execute_result",
          "data": {
            "text/html": [
              "<div>\n",
              "<style scoped>\n",
              "    .dataframe tbody tr th:only-of-type {\n",
              "        vertical-align: middle;\n",
              "    }\n",
              "\n",
              "    .dataframe tbody tr th {\n",
              "        vertical-align: top;\n",
              "    }\n",
              "\n",
              "    .dataframe thead th {\n",
              "        text-align: right;\n",
              "    }\n",
              "</style>\n",
              "<table border=\"1\" class=\"dataframe\">\n",
              "  <thead>\n",
              "    <tr style=\"text-align: right;\">\n",
              "      <th></th>\n",
              "      <th>Total_Stops</th>\n",
              "      <th>Price</th>\n",
              "      <th>Journey_day</th>\n",
              "      <th>Journey_month</th>\n",
              "      <th>Dep_hour</th>\n",
              "      <th>Dep_min</th>\n",
              "      <th>Arrival_hour</th>\n",
              "      <th>Arrival_min</th>\n",
              "      <th>Duration_hours</th>\n",
              "      <th>Duration_mins</th>\n",
              "      <th>Airline_Air India</th>\n",
              "      <th>Airline_GoAir</th>\n",
              "      <th>Airline_IndiGo</th>\n",
              "      <th>Airline_Jet Airways</th>\n",
              "      <th>Airline_Jet Airways Business</th>\n",
              "      <th>Airline_Multiple carriers</th>\n",
              "      <th>Airline_Multiple carriers Premium economy</th>\n",
              "      <th>Airline_SpiceJet</th>\n",
              "      <th>Airline_Trujet</th>\n",
              "      <th>Airline_Vistara</th>\n",
              "      <th>Airline_Vistara Premium economy</th>\n",
              "      <th>Source_Chennai</th>\n",
              "      <th>Source_Delhi</th>\n",
              "      <th>Source_Kolkata</th>\n",
              "      <th>Source_Mumbai</th>\n",
              "      <th>Destination_Cochin</th>\n",
              "      <th>Destination_Delhi</th>\n",
              "      <th>Destination_Hyderabad</th>\n",
              "      <th>Destination_Kolkata</th>\n",
              "      <th>Destination_New Delhi</th>\n",
              "    </tr>\n",
              "  </thead>\n",
              "  <tbody>\n",
              "    <tr>\n",
              "      <th>0</th>\n",
              "      <td>0</td>\n",
              "      <td>3897</td>\n",
              "      <td>24</td>\n",
              "      <td>3</td>\n",
              "      <td>22</td>\n",
              "      <td>20</td>\n",
              "      <td>1</td>\n",
              "      <td>10</td>\n",
              "      <td>2</td>\n",
              "      <td>50</td>\n",
              "      <td>0</td>\n",
              "      <td>0</td>\n",
              "      <td>1</td>\n",
              "      <td>0</td>\n",
              "      <td>0</td>\n",
              "      <td>0</td>\n",
              "      <td>0</td>\n",
              "      <td>0</td>\n",
              "      <td>0</td>\n",
              "      <td>0</td>\n",
              "      <td>0</td>\n",
              "      <td>0</td>\n",
              "      <td>0</td>\n",
              "      <td>0</td>\n",
              "      <td>0</td>\n",
              "      <td>0</td>\n",
              "      <td>0</td>\n",
              "      <td>0</td>\n",
              "      <td>0</td>\n",
              "      <td>1</td>\n",
              "    </tr>\n",
              "    <tr>\n",
              "      <th>1</th>\n",
              "      <td>2</td>\n",
              "      <td>7662</td>\n",
              "      <td>1</td>\n",
              "      <td>5</td>\n",
              "      <td>5</td>\n",
              "      <td>50</td>\n",
              "      <td>13</td>\n",
              "      <td>15</td>\n",
              "      <td>7</td>\n",
              "      <td>25</td>\n",
              "      <td>1</td>\n",
              "      <td>0</td>\n",
              "      <td>0</td>\n",
              "      <td>0</td>\n",
              "      <td>0</td>\n",
              "      <td>0</td>\n",
              "      <td>0</td>\n",
              "      <td>0</td>\n",
              "      <td>0</td>\n",
              "      <td>0</td>\n",
              "      <td>0</td>\n",
              "      <td>0</td>\n",
              "      <td>0</td>\n",
              "      <td>1</td>\n",
              "      <td>0</td>\n",
              "      <td>0</td>\n",
              "      <td>0</td>\n",
              "      <td>0</td>\n",
              "      <td>0</td>\n",
              "      <td>0</td>\n",
              "    </tr>\n",
              "    <tr>\n",
              "      <th>2</th>\n",
              "      <td>2</td>\n",
              "      <td>13882</td>\n",
              "      <td>9</td>\n",
              "      <td>6</td>\n",
              "      <td>9</td>\n",
              "      <td>25</td>\n",
              "      <td>4</td>\n",
              "      <td>25</td>\n",
              "      <td>19</td>\n",
              "      <td>0</td>\n",
              "      <td>0</td>\n",
              "      <td>0</td>\n",
              "      <td>0</td>\n",
              "      <td>1</td>\n",
              "      <td>0</td>\n",
              "      <td>0</td>\n",
              "      <td>0</td>\n",
              "      <td>0</td>\n",
              "      <td>0</td>\n",
              "      <td>0</td>\n",
              "      <td>0</td>\n",
              "      <td>0</td>\n",
              "      <td>1</td>\n",
              "      <td>0</td>\n",
              "      <td>0</td>\n",
              "      <td>1</td>\n",
              "      <td>0</td>\n",
              "      <td>0</td>\n",
              "      <td>0</td>\n",
              "      <td>0</td>\n",
              "    </tr>\n",
              "    <tr>\n",
              "      <th>3</th>\n",
              "      <td>1</td>\n",
              "      <td>6218</td>\n",
              "      <td>12</td>\n",
              "      <td>5</td>\n",
              "      <td>18</td>\n",
              "      <td>5</td>\n",
              "      <td>23</td>\n",
              "      <td>30</td>\n",
              "      <td>5</td>\n",
              "      <td>25</td>\n",
              "      <td>0</td>\n",
              "      <td>0</td>\n",
              "      <td>1</td>\n",
              "      <td>0</td>\n",
              "      <td>0</td>\n",
              "      <td>0</td>\n",
              "      <td>0</td>\n",
              "      <td>0</td>\n",
              "      <td>0</td>\n",
              "      <td>0</td>\n",
              "      <td>0</td>\n",
              "      <td>0</td>\n",
              "      <td>0</td>\n",
              "      <td>1</td>\n",
              "      <td>0</td>\n",
              "      <td>0</td>\n",
              "      <td>0</td>\n",
              "      <td>0</td>\n",
              "      <td>0</td>\n",
              "      <td>0</td>\n",
              "    </tr>\n",
              "    <tr>\n",
              "      <th>4</th>\n",
              "      <td>1</td>\n",
              "      <td>13302</td>\n",
              "      <td>1</td>\n",
              "      <td>3</td>\n",
              "      <td>16</td>\n",
              "      <td>50</td>\n",
              "      <td>21</td>\n",
              "      <td>35</td>\n",
              "      <td>4</td>\n",
              "      <td>45</td>\n",
              "      <td>0</td>\n",
              "      <td>0</td>\n",
              "      <td>1</td>\n",
              "      <td>0</td>\n",
              "      <td>0</td>\n",
              "      <td>0</td>\n",
              "      <td>0</td>\n",
              "      <td>0</td>\n",
              "      <td>0</td>\n",
              "      <td>0</td>\n",
              "      <td>0</td>\n",
              "      <td>0</td>\n",
              "      <td>0</td>\n",
              "      <td>0</td>\n",
              "      <td>0</td>\n",
              "      <td>0</td>\n",
              "      <td>0</td>\n",
              "      <td>0</td>\n",
              "      <td>0</td>\n",
              "      <td>1</td>\n",
              "    </tr>\n",
              "  </tbody>\n",
              "</table>\n",
              "</div>"
            ],
            "text/plain": [
              "   Total_Stops  Price  Journey_day  Journey_month  Dep_hour  Dep_min  \\\n",
              "0            0   3897           24              3        22       20   \n",
              "1            2   7662            1              5         5       50   \n",
              "2            2  13882            9              6         9       25   \n",
              "3            1   6218           12              5        18        5   \n",
              "4            1  13302            1              3        16       50   \n",
              "\n",
              "   Arrival_hour  Arrival_min  Duration_hours  Duration_mins  \\\n",
              "0             1           10               2             50   \n",
              "1            13           15               7             25   \n",
              "2             4           25              19              0   \n",
              "3            23           30               5             25   \n",
              "4            21           35               4             45   \n",
              "\n",
              "   Airline_Air India  Airline_GoAir  Airline_IndiGo  Airline_Jet Airways  \\\n",
              "0                  0              0               1                    0   \n",
              "1                  1              0               0                    0   \n",
              "2                  0              0               0                    1   \n",
              "3                  0              0               1                    0   \n",
              "4                  0              0               1                    0   \n",
              "\n",
              "   Airline_Jet Airways Business  Airline_Multiple carriers  \\\n",
              "0                             0                          0   \n",
              "1                             0                          0   \n",
              "2                             0                          0   \n",
              "3                             0                          0   \n",
              "4                             0                          0   \n",
              "\n",
              "   Airline_Multiple carriers Premium economy  Airline_SpiceJet  \\\n",
              "0                                          0                 0   \n",
              "1                                          0                 0   \n",
              "2                                          0                 0   \n",
              "3                                          0                 0   \n",
              "4                                          0                 0   \n",
              "\n",
              "   Airline_Trujet  Airline_Vistara  Airline_Vistara Premium economy  \\\n",
              "0               0                0                                0   \n",
              "1               0                0                                0   \n",
              "2               0                0                                0   \n",
              "3               0                0                                0   \n",
              "4               0                0                                0   \n",
              "\n",
              "   Source_Chennai  Source_Delhi  Source_Kolkata  Source_Mumbai  \\\n",
              "0               0             0               0              0   \n",
              "1               0             0               1              0   \n",
              "2               0             1               0              0   \n",
              "3               0             0               1              0   \n",
              "4               0             0               0              0   \n",
              "\n",
              "   Destination_Cochin  Destination_Delhi  Destination_Hyderabad  \\\n",
              "0                   0                  0                      0   \n",
              "1                   0                  0                      0   \n",
              "2                   1                  0                      0   \n",
              "3                   0                  0                      0   \n",
              "4                   0                  0                      0   \n",
              "\n",
              "   Destination_Kolkata  Destination_New Delhi  \n",
              "0                    0                      1  \n",
              "1                    0                      0  \n",
              "2                    0                      0  \n",
              "3                    0                      0  \n",
              "4                    0                      1  "
            ]
          },
          "metadata": {
            "tags": []
          },
          "execution_count": 43
        }
      ]
    },
    {
      "cell_type": "code",
      "metadata": {
        "id": "aYX63xnlitYZ",
        "outputId": "d896aa5b-4128-431b-f5bb-0cd10ea6556e",
        "colab": {
          "base_uri": "https://localhost:8080/",
          "height": 34
        }
      },
      "source": [
        "data_train.shape"
      ],
      "execution_count": null,
      "outputs": [
        {
          "output_type": "execute_result",
          "data": {
            "text/plain": [
              "(10682, 30)"
            ]
          },
          "metadata": {
            "tags": []
          },
          "execution_count": 44
        }
      ]
    },
    {
      "cell_type": "markdown",
      "metadata": {
        "id": "XBngB4SJitYb"
      },
      "source": [
        "---"
      ]
    },
    {
      "cell_type": "markdown",
      "metadata": {
        "id": "y7uH0xCAitYc"
      },
      "source": [
        "## Test set"
      ]
    },
    {
      "cell_type": "code",
      "metadata": {
        "id": "EfOD6kr3itYc"
      },
      "source": [
        "test_data = pd.read_excel(r\"/content/drive/My Drive/ML Project/Test_set.xlsx\")"
      ],
      "execution_count": null,
      "outputs": []
    },
    {
      "cell_type": "code",
      "metadata": {
        "id": "oDS0G3CgitYe",
        "outputId": "4dd312ef-f027-44c9-a2fc-7237a6d676a7",
        "colab": {
          "base_uri": "https://localhost:8080/",
          "height": 195
        }
      },
      "source": [
        "test_data.head()"
      ],
      "execution_count": null,
      "outputs": [
        {
          "output_type": "execute_result",
          "data": {
            "text/html": [
              "<div>\n",
              "<style scoped>\n",
              "    .dataframe tbody tr th:only-of-type {\n",
              "        vertical-align: middle;\n",
              "    }\n",
              "\n",
              "    .dataframe tbody tr th {\n",
              "        vertical-align: top;\n",
              "    }\n",
              "\n",
              "    .dataframe thead th {\n",
              "        text-align: right;\n",
              "    }\n",
              "</style>\n",
              "<table border=\"1\" class=\"dataframe\">\n",
              "  <thead>\n",
              "    <tr style=\"text-align: right;\">\n",
              "      <th></th>\n",
              "      <th>Airline</th>\n",
              "      <th>Date_of_Journey</th>\n",
              "      <th>Source</th>\n",
              "      <th>Destination</th>\n",
              "      <th>Route</th>\n",
              "      <th>Dep_Time</th>\n",
              "      <th>Arrival_Time</th>\n",
              "      <th>Duration</th>\n",
              "      <th>Total_Stops</th>\n",
              "      <th>Additional_Info</th>\n",
              "    </tr>\n",
              "  </thead>\n",
              "  <tbody>\n",
              "    <tr>\n",
              "      <th>0</th>\n",
              "      <td>Jet Airways</td>\n",
              "      <td>6/06/2019</td>\n",
              "      <td>Delhi</td>\n",
              "      <td>Cochin</td>\n",
              "      <td>DEL → BOM → COK</td>\n",
              "      <td>17:30</td>\n",
              "      <td>04:25 07 Jun</td>\n",
              "      <td>10h 55m</td>\n",
              "      <td>1 stop</td>\n",
              "      <td>No info</td>\n",
              "    </tr>\n",
              "    <tr>\n",
              "      <th>1</th>\n",
              "      <td>IndiGo</td>\n",
              "      <td>12/05/2019</td>\n",
              "      <td>Kolkata</td>\n",
              "      <td>Banglore</td>\n",
              "      <td>CCU → MAA → BLR</td>\n",
              "      <td>06:20</td>\n",
              "      <td>10:20</td>\n",
              "      <td>4h</td>\n",
              "      <td>1 stop</td>\n",
              "      <td>No info</td>\n",
              "    </tr>\n",
              "    <tr>\n",
              "      <th>2</th>\n",
              "      <td>Jet Airways</td>\n",
              "      <td>21/05/2019</td>\n",
              "      <td>Delhi</td>\n",
              "      <td>Cochin</td>\n",
              "      <td>DEL → BOM → COK</td>\n",
              "      <td>19:15</td>\n",
              "      <td>19:00 22 May</td>\n",
              "      <td>23h 45m</td>\n",
              "      <td>1 stop</td>\n",
              "      <td>In-flight meal not included</td>\n",
              "    </tr>\n",
              "    <tr>\n",
              "      <th>3</th>\n",
              "      <td>Multiple carriers</td>\n",
              "      <td>21/05/2019</td>\n",
              "      <td>Delhi</td>\n",
              "      <td>Cochin</td>\n",
              "      <td>DEL → BOM → COK</td>\n",
              "      <td>08:00</td>\n",
              "      <td>21:00</td>\n",
              "      <td>13h</td>\n",
              "      <td>1 stop</td>\n",
              "      <td>No info</td>\n",
              "    </tr>\n",
              "    <tr>\n",
              "      <th>4</th>\n",
              "      <td>Air Asia</td>\n",
              "      <td>24/06/2019</td>\n",
              "      <td>Banglore</td>\n",
              "      <td>Delhi</td>\n",
              "      <td>BLR → DEL</td>\n",
              "      <td>23:55</td>\n",
              "      <td>02:45 25 Jun</td>\n",
              "      <td>2h 50m</td>\n",
              "      <td>non-stop</td>\n",
              "      <td>No info</td>\n",
              "    </tr>\n",
              "  </tbody>\n",
              "</table>\n",
              "</div>"
            ],
            "text/plain": [
              "             Airline Date_of_Journey    Source Destination            Route  \\\n",
              "0        Jet Airways       6/06/2019     Delhi      Cochin  DEL → BOM → COK   \n",
              "1             IndiGo      12/05/2019   Kolkata    Banglore  CCU → MAA → BLR   \n",
              "2        Jet Airways      21/05/2019     Delhi      Cochin  DEL → BOM → COK   \n",
              "3  Multiple carriers      21/05/2019     Delhi      Cochin  DEL → BOM → COK   \n",
              "4           Air Asia      24/06/2019  Banglore       Delhi        BLR → DEL   \n",
              "\n",
              "  Dep_Time  Arrival_Time Duration Total_Stops              Additional_Info  \n",
              "0    17:30  04:25 07 Jun  10h 55m      1 stop                      No info  \n",
              "1    06:20         10:20       4h      1 stop                      No info  \n",
              "2    19:15  19:00 22 May  23h 45m      1 stop  In-flight meal not included  \n",
              "3    08:00         21:00      13h      1 stop                      No info  \n",
              "4    23:55  02:45 25 Jun   2h 50m    non-stop                      No info  "
            ]
          },
          "metadata": {
            "tags": []
          },
          "execution_count": 46
        }
      ]
    },
    {
      "cell_type": "code",
      "metadata": {
        "id": "YU7fq4UditYj",
        "outputId": "cf14ef11-a333-4588-f6c8-eae3757c24dc",
        "colab": {
          "base_uri": "https://localhost:8080/",
          "height": 1000
        }
      },
      "source": [
        "# Preprocessing\n",
        "\n",
        "print(\"Test data Info\")\n",
        "print(\"-\"*75)\n",
        "print(test_data.info())\n",
        "\n",
        "print()\n",
        "print()\n",
        "\n",
        "print(\"Null values :\")\n",
        "print(\"-\"*75)\n",
        "test_data.dropna(inplace = True)\n",
        "print(test_data.isnull().sum())\n",
        "\n",
        "# EDA\n",
        "\n",
        "# Date_of_Journey\n",
        "test_data[\"Journey_day\"] = pd.to_datetime(test_data.Date_of_Journey, format=\"%d/%m/%Y\").dt.day\n",
        "test_data[\"Journey_month\"] = pd.to_datetime(test_data[\"Date_of_Journey\"], format = \"%d/%m/%Y\").dt.month\n",
        "test_data.drop([\"Date_of_Journey\"], axis = 1, inplace = True)\n",
        "\n",
        "# Dep_Time\n",
        "test_data[\"Dep_hour\"] = pd.to_datetime(test_data[\"Dep_Time\"]).dt.hour\n",
        "test_data[\"Dep_min\"] = pd.to_datetime(test_data[\"Dep_Time\"]).dt.minute\n",
        "test_data.drop([\"Dep_Time\"], axis = 1, inplace = True)\n",
        "\n",
        "# Arrival_Time\n",
        "test_data[\"Arrival_hour\"] = pd.to_datetime(test_data.Arrival_Time).dt.hour\n",
        "test_data[\"Arrival_min\"] = pd.to_datetime(test_data.Arrival_Time).dt.minute\n",
        "test_data.drop([\"Arrival_Time\"], axis = 1, inplace = True)\n",
        "\n",
        "# Duration\n",
        "duration = list(test_data[\"Duration\"])\n",
        "\n",
        "for i in range(len(duration)):\n",
        "    if len(duration[i].split()) != 2:    # Check if duration contains only hour or mins\n",
        "        if \"h\" in duration[i]:\n",
        "            duration[i] = duration[i].strip() + \" 0m\"   # Adds 0 minute\n",
        "        else:\n",
        "            duration[i] = \"0h \" + duration[i]           # Adds 0 hour\n",
        "\n",
        "duration_hours = []\n",
        "duration_mins = []\n",
        "for i in range(len(duration)):\n",
        "    duration_hours.append(int(duration[i].split(sep = \"h\")[0]))    # Extract hours from duration\n",
        "    duration_mins.append(int(duration[i].split(sep = \"m\")[0].split()[-1]))   # Extracts only minutes from duration\n",
        "\n",
        "# Adding Duration column to test set\n",
        "test_data[\"Duration_hours\"] = duration_hours\n",
        "test_data[\"Duration_mins\"] = duration_mins\n",
        "test_data.drop([\"Duration\"], axis = 1, inplace = True)\n",
        "\n",
        "\n",
        "# Categorical data\n",
        "\n",
        "print(\"Airline\")\n",
        "print(\"-\"*75)\n",
        "print(test_data[\"Airline\"].value_counts())\n",
        "Airline = pd.get_dummies(test_data[\"Airline\"], drop_first= True)\n",
        "\n",
        "print()\n",
        "\n",
        "print(\"Source\")\n",
        "print(\"-\"*75)\n",
        "print(test_data[\"Source\"].value_counts())\n",
        "Source = pd.get_dummies(test_data[\"Source\"], drop_first= True)\n",
        "\n",
        "print()\n",
        "\n",
        "print(\"Destination\")\n",
        "print(\"-\"*75)\n",
        "print(test_data[\"Destination\"].value_counts())\n",
        "Destination = pd.get_dummies(test_data[\"Destination\"], drop_first = True)\n",
        "\n",
        "# Additional_Info contains almost 80% no_info\n",
        "# Route and Total_Stops are related to each other\n",
        "test_data.drop([\"Route\", \"Additional_Info\"], axis = 1, inplace = True)\n",
        "\n",
        "# Replacing Total_Stops\n",
        "test_data.replace({\"non-stop\": 0, \"1 stop\": 1, \"2 stops\": 2, \"3 stops\": 3, \"4 stops\": 4}, inplace = True)\n",
        "\n",
        "# Concatenate dataframe --> test_data + Airline + Source + Destination\n",
        "data_test = pd.concat([test_data, Airline, Source, Destination], axis = 1)\n",
        "\n",
        "data_test.drop([\"Airline\", \"Source\", \"Destination\"], axis = 1, inplace = True)\n",
        "\n",
        "print()\n",
        "print()\n",
        "\n",
        "print(\"Shape of test data : \", data_test.shape)\n",
        "\n"
      ],
      "execution_count": null,
      "outputs": [
        {
          "output_type": "stream",
          "text": [
            "Test data Info\n",
            "---------------------------------------------------------------------------\n",
            "<class 'pandas.core.frame.DataFrame'>\n",
            "RangeIndex: 2671 entries, 0 to 2670\n",
            "Data columns (total 10 columns):\n",
            " #   Column           Non-Null Count  Dtype \n",
            "---  ------           --------------  ----- \n",
            " 0   Airline          2671 non-null   object\n",
            " 1   Date_of_Journey  2671 non-null   object\n",
            " 2   Source           2671 non-null   object\n",
            " 3   Destination      2671 non-null   object\n",
            " 4   Route            2671 non-null   object\n",
            " 5   Dep_Time         2671 non-null   object\n",
            " 6   Arrival_Time     2671 non-null   object\n",
            " 7   Duration         2671 non-null   object\n",
            " 8   Total_Stops      2671 non-null   object\n",
            " 9   Additional_Info  2671 non-null   object\n",
            "dtypes: object(10)\n",
            "memory usage: 208.8+ KB\n",
            "None\n",
            "\n",
            "\n",
            "Null values :\n",
            "---------------------------------------------------------------------------\n",
            "Airline            0\n",
            "Date_of_Journey    0\n",
            "Source             0\n",
            "Destination        0\n",
            "Route              0\n",
            "Dep_Time           0\n",
            "Arrival_Time       0\n",
            "Duration           0\n",
            "Total_Stops        0\n",
            "Additional_Info    0\n",
            "dtype: int64\n",
            "Airline\n",
            "---------------------------------------------------------------------------\n",
            "Jet Airways                          897\n",
            "IndiGo                               511\n",
            "Air India                            440\n",
            "Multiple carriers                    347\n",
            "SpiceJet                             208\n",
            "Vistara                              129\n",
            "Air Asia                              86\n",
            "GoAir                                 46\n",
            "Multiple carriers Premium economy      3\n",
            "Jet Airways Business                   2\n",
            "Vistara Premium economy                2\n",
            "Name: Airline, dtype: int64\n",
            "\n",
            "Source\n",
            "---------------------------------------------------------------------------\n",
            "Delhi       1145\n",
            "Kolkata      710\n",
            "Banglore     555\n",
            "Mumbai       186\n",
            "Chennai       75\n",
            "Name: Source, dtype: int64\n",
            "\n",
            "Destination\n",
            "---------------------------------------------------------------------------\n",
            "Cochin       1145\n",
            "Banglore      710\n",
            "Delhi         317\n",
            "New Delhi     238\n",
            "Hyderabad     186\n",
            "Kolkata        75\n",
            "Name: Destination, dtype: int64\n",
            "\n",
            "\n",
            "Shape of test data :  (2671, 28)\n"
          ],
          "name": "stdout"
        }
      ]
    },
    {
      "cell_type": "code",
      "metadata": {
        "id": "obpLbMFJitYl",
        "outputId": "2af51e26-886b-4a79-bf7e-1e3af8e81a15",
        "colab": {
          "base_uri": "https://localhost:8080/",
          "height": 266
        }
      },
      "source": [
        "data_test.head()"
      ],
      "execution_count": null,
      "outputs": [
        {
          "output_type": "execute_result",
          "data": {
            "text/html": [
              "<div>\n",
              "<style scoped>\n",
              "    .dataframe tbody tr th:only-of-type {\n",
              "        vertical-align: middle;\n",
              "    }\n",
              "\n",
              "    .dataframe tbody tr th {\n",
              "        vertical-align: top;\n",
              "    }\n",
              "\n",
              "    .dataframe thead th {\n",
              "        text-align: right;\n",
              "    }\n",
              "</style>\n",
              "<table border=\"1\" class=\"dataframe\">\n",
              "  <thead>\n",
              "    <tr style=\"text-align: right;\">\n",
              "      <th></th>\n",
              "      <th>Total_Stops</th>\n",
              "      <th>Journey_day</th>\n",
              "      <th>Journey_month</th>\n",
              "      <th>Dep_hour</th>\n",
              "      <th>Dep_min</th>\n",
              "      <th>Arrival_hour</th>\n",
              "      <th>Arrival_min</th>\n",
              "      <th>Duration_hours</th>\n",
              "      <th>Duration_mins</th>\n",
              "      <th>Air India</th>\n",
              "      <th>GoAir</th>\n",
              "      <th>IndiGo</th>\n",
              "      <th>Jet Airways</th>\n",
              "      <th>Jet Airways Business</th>\n",
              "      <th>Multiple carriers</th>\n",
              "      <th>Multiple carriers Premium economy</th>\n",
              "      <th>SpiceJet</th>\n",
              "      <th>Vistara</th>\n",
              "      <th>Vistara Premium economy</th>\n",
              "      <th>Chennai</th>\n",
              "      <th>Delhi</th>\n",
              "      <th>Kolkata</th>\n",
              "      <th>Mumbai</th>\n",
              "      <th>Cochin</th>\n",
              "      <th>Delhi</th>\n",
              "      <th>Hyderabad</th>\n",
              "      <th>Kolkata</th>\n",
              "      <th>New Delhi</th>\n",
              "    </tr>\n",
              "  </thead>\n",
              "  <tbody>\n",
              "    <tr>\n",
              "      <th>0</th>\n",
              "      <td>1</td>\n",
              "      <td>6</td>\n",
              "      <td>6</td>\n",
              "      <td>17</td>\n",
              "      <td>30</td>\n",
              "      <td>4</td>\n",
              "      <td>25</td>\n",
              "      <td>10</td>\n",
              "      <td>55</td>\n",
              "      <td>0</td>\n",
              "      <td>0</td>\n",
              "      <td>0</td>\n",
              "      <td>1</td>\n",
              "      <td>0</td>\n",
              "      <td>0</td>\n",
              "      <td>0</td>\n",
              "      <td>0</td>\n",
              "      <td>0</td>\n",
              "      <td>0</td>\n",
              "      <td>0</td>\n",
              "      <td>1</td>\n",
              "      <td>0</td>\n",
              "      <td>0</td>\n",
              "      <td>1</td>\n",
              "      <td>0</td>\n",
              "      <td>0</td>\n",
              "      <td>0</td>\n",
              "      <td>0</td>\n",
              "    </tr>\n",
              "    <tr>\n",
              "      <th>1</th>\n",
              "      <td>1</td>\n",
              "      <td>12</td>\n",
              "      <td>5</td>\n",
              "      <td>6</td>\n",
              "      <td>20</td>\n",
              "      <td>10</td>\n",
              "      <td>20</td>\n",
              "      <td>4</td>\n",
              "      <td>0</td>\n",
              "      <td>0</td>\n",
              "      <td>0</td>\n",
              "      <td>1</td>\n",
              "      <td>0</td>\n",
              "      <td>0</td>\n",
              "      <td>0</td>\n",
              "      <td>0</td>\n",
              "      <td>0</td>\n",
              "      <td>0</td>\n",
              "      <td>0</td>\n",
              "      <td>0</td>\n",
              "      <td>0</td>\n",
              "      <td>1</td>\n",
              "      <td>0</td>\n",
              "      <td>0</td>\n",
              "      <td>0</td>\n",
              "      <td>0</td>\n",
              "      <td>0</td>\n",
              "      <td>0</td>\n",
              "    </tr>\n",
              "    <tr>\n",
              "      <th>2</th>\n",
              "      <td>1</td>\n",
              "      <td>21</td>\n",
              "      <td>5</td>\n",
              "      <td>19</td>\n",
              "      <td>15</td>\n",
              "      <td>19</td>\n",
              "      <td>0</td>\n",
              "      <td>23</td>\n",
              "      <td>45</td>\n",
              "      <td>0</td>\n",
              "      <td>0</td>\n",
              "      <td>0</td>\n",
              "      <td>1</td>\n",
              "      <td>0</td>\n",
              "      <td>0</td>\n",
              "      <td>0</td>\n",
              "      <td>0</td>\n",
              "      <td>0</td>\n",
              "      <td>0</td>\n",
              "      <td>0</td>\n",
              "      <td>1</td>\n",
              "      <td>0</td>\n",
              "      <td>0</td>\n",
              "      <td>1</td>\n",
              "      <td>0</td>\n",
              "      <td>0</td>\n",
              "      <td>0</td>\n",
              "      <td>0</td>\n",
              "    </tr>\n",
              "    <tr>\n",
              "      <th>3</th>\n",
              "      <td>1</td>\n",
              "      <td>21</td>\n",
              "      <td>5</td>\n",
              "      <td>8</td>\n",
              "      <td>0</td>\n",
              "      <td>21</td>\n",
              "      <td>0</td>\n",
              "      <td>13</td>\n",
              "      <td>0</td>\n",
              "      <td>0</td>\n",
              "      <td>0</td>\n",
              "      <td>0</td>\n",
              "      <td>0</td>\n",
              "      <td>0</td>\n",
              "      <td>1</td>\n",
              "      <td>0</td>\n",
              "      <td>0</td>\n",
              "      <td>0</td>\n",
              "      <td>0</td>\n",
              "      <td>0</td>\n",
              "      <td>1</td>\n",
              "      <td>0</td>\n",
              "      <td>0</td>\n",
              "      <td>1</td>\n",
              "      <td>0</td>\n",
              "      <td>0</td>\n",
              "      <td>0</td>\n",
              "      <td>0</td>\n",
              "    </tr>\n",
              "    <tr>\n",
              "      <th>4</th>\n",
              "      <td>0</td>\n",
              "      <td>24</td>\n",
              "      <td>6</td>\n",
              "      <td>23</td>\n",
              "      <td>55</td>\n",
              "      <td>2</td>\n",
              "      <td>45</td>\n",
              "      <td>2</td>\n",
              "      <td>50</td>\n",
              "      <td>0</td>\n",
              "      <td>0</td>\n",
              "      <td>0</td>\n",
              "      <td>0</td>\n",
              "      <td>0</td>\n",
              "      <td>0</td>\n",
              "      <td>0</td>\n",
              "      <td>0</td>\n",
              "      <td>0</td>\n",
              "      <td>0</td>\n",
              "      <td>0</td>\n",
              "      <td>0</td>\n",
              "      <td>0</td>\n",
              "      <td>0</td>\n",
              "      <td>0</td>\n",
              "      <td>1</td>\n",
              "      <td>0</td>\n",
              "      <td>0</td>\n",
              "      <td>0</td>\n",
              "    </tr>\n",
              "  </tbody>\n",
              "</table>\n",
              "</div>"
            ],
            "text/plain": [
              "   Total_Stops  Journey_day  Journey_month  Dep_hour  Dep_min  Arrival_hour  \\\n",
              "0            1            6              6        17       30             4   \n",
              "1            1           12              5         6       20            10   \n",
              "2            1           21              5        19       15            19   \n",
              "3            1           21              5         8        0            21   \n",
              "4            0           24              6        23       55             2   \n",
              "\n",
              "   Arrival_min  Duration_hours  Duration_mins  Air India  GoAir  IndiGo  \\\n",
              "0           25              10             55          0      0       0   \n",
              "1           20               4              0          0      0       1   \n",
              "2            0              23             45          0      0       0   \n",
              "3            0              13              0          0      0       0   \n",
              "4           45               2             50          0      0       0   \n",
              "\n",
              "   Jet Airways  Jet Airways Business  Multiple carriers  \\\n",
              "0            1                     0                  0   \n",
              "1            0                     0                  0   \n",
              "2            1                     0                  0   \n",
              "3            0                     0                  1   \n",
              "4            0                     0                  0   \n",
              "\n",
              "   Multiple carriers Premium economy  SpiceJet  Vistara  \\\n",
              "0                                  0         0        0   \n",
              "1                                  0         0        0   \n",
              "2                                  0         0        0   \n",
              "3                                  0         0        0   \n",
              "4                                  0         0        0   \n",
              "\n",
              "   Vistara Premium economy  Chennai  Delhi  Kolkata  Mumbai  Cochin  Delhi  \\\n",
              "0                        0        0      1        0       0       1      0   \n",
              "1                        0        0      0        1       0       0      0   \n",
              "2                        0        0      1        0       0       1      0   \n",
              "3                        0        0      1        0       0       1      0   \n",
              "4                        0        0      0        0       0       0      1   \n",
              "\n",
              "   Hyderabad  Kolkata  New Delhi  \n",
              "0          0        0          0  \n",
              "1          0        0          0  \n",
              "2          0        0          0  \n",
              "3          0        0          0  \n",
              "4          0        0          0  "
            ]
          },
          "metadata": {
            "tags": []
          },
          "execution_count": 48
        }
      ]
    },
    {
      "cell_type": "markdown",
      "metadata": {
        "id": "EYProOqSitYo"
      },
      "source": [
        "---"
      ]
    },
    {
      "cell_type": "markdown",
      "metadata": {
        "id": "tnFgWg90oR29"
      },
      "source": [
        "#Feature Selection"
      ]
    },
    {
      "cell_type": "code",
      "metadata": {
        "id": "QsA0Oo2IitYp",
        "outputId": "151a5964-cd15-4d5d-ad3c-1ae771edb567",
        "colab": {
          "base_uri": "https://localhost:8080/",
          "height": 34
        }
      },
      "source": [
        "data_train.shape"
      ],
      "execution_count": null,
      "outputs": [
        {
          "output_type": "execute_result",
          "data": {
            "text/plain": [
              "(10682, 30)"
            ]
          },
          "metadata": {
            "tags": []
          },
          "execution_count": 49
        }
      ]
    },
    {
      "cell_type": "code",
      "metadata": {
        "id": "Ptb6sn4kitYs",
        "outputId": "b985935f-4855-4f55-aa3d-77e20ce77ebb",
        "colab": {
          "base_uri": "https://localhost:8080/",
          "height": 202
        }
      },
      "source": [
        "data_train.columns"
      ],
      "execution_count": null,
      "outputs": [
        {
          "output_type": "execute_result",
          "data": {
            "text/plain": [
              "Index(['Total_Stops', 'Price', 'Journey_day', 'Journey_month', 'Dep_hour',\n",
              "       'Dep_min', 'Arrival_hour', 'Arrival_min', 'Duration_hours',\n",
              "       'Duration_mins', 'Airline_Air India', 'Airline_GoAir', 'Airline_IndiGo',\n",
              "       'Airline_Jet Airways', 'Airline_Jet Airways Business',\n",
              "       'Airline_Multiple carriers',\n",
              "       'Airline_Multiple carriers Premium economy', 'Airline_SpiceJet',\n",
              "       'Airline_Trujet', 'Airline_Vistara', 'Airline_Vistara Premium economy',\n",
              "       'Source_Chennai', 'Source_Delhi', 'Source_Kolkata', 'Source_Mumbai',\n",
              "       'Destination_Cochin', 'Destination_Delhi', 'Destination_Hyderabad',\n",
              "       'Destination_Kolkata', 'Destination_New Delhi'],\n",
              "      dtype='object')"
            ]
          },
          "metadata": {
            "tags": []
          },
          "execution_count": 50
        }
      ]
    },
    {
      "cell_type": "code",
      "metadata": {
        "id": "tzH_KDkqitYu",
        "outputId": "667fbb62-9f19-4e89-b6d2-482057941cbc",
        "colab": {
          "base_uri": "https://localhost:8080/",
          "height": 249
        }
      },
      "source": [
        "X = data_train.loc[:, ['Total_Stops', 'Journey_day', 'Journey_month', 'Dep_hour',\n",
        "       'Dep_min', 'Arrival_hour', 'Arrival_min', 'Duration_hours',\n",
        "       'Duration_mins', 'Airline_Air India', 'Airline_GoAir', 'Airline_IndiGo',\n",
        "       'Airline_Jet Airways', 'Airline_Jet Airways Business',\n",
        "       'Airline_Multiple carriers',\n",
        "       'Airline_Multiple carriers Premium economy', 'Airline_SpiceJet',\n",
        "       'Airline_Trujet', 'Airline_Vistara', 'Airline_Vistara Premium economy',\n",
        "       'Source_Chennai', 'Source_Delhi', 'Source_Kolkata', 'Source_Mumbai',\n",
        "       'Destination_Cochin', 'Destination_Delhi', 'Destination_Hyderabad',\n",
        "       'Destination_Kolkata', 'Destination_New Delhi']]\n",
        "X.head()"
      ],
      "execution_count": null,
      "outputs": [
        {
          "output_type": "execute_result",
          "data": {
            "text/html": [
              "<div>\n",
              "<style scoped>\n",
              "    .dataframe tbody tr th:only-of-type {\n",
              "        vertical-align: middle;\n",
              "    }\n",
              "\n",
              "    .dataframe tbody tr th {\n",
              "        vertical-align: top;\n",
              "    }\n",
              "\n",
              "    .dataframe thead th {\n",
              "        text-align: right;\n",
              "    }\n",
              "</style>\n",
              "<table border=\"1\" class=\"dataframe\">\n",
              "  <thead>\n",
              "    <tr style=\"text-align: right;\">\n",
              "      <th></th>\n",
              "      <th>Total_Stops</th>\n",
              "      <th>Journey_day</th>\n",
              "      <th>Journey_month</th>\n",
              "      <th>Dep_hour</th>\n",
              "      <th>Dep_min</th>\n",
              "      <th>Arrival_hour</th>\n",
              "      <th>Arrival_min</th>\n",
              "      <th>Duration_hours</th>\n",
              "      <th>Duration_mins</th>\n",
              "      <th>Airline_Air India</th>\n",
              "      <th>Airline_GoAir</th>\n",
              "      <th>Airline_IndiGo</th>\n",
              "      <th>Airline_Jet Airways</th>\n",
              "      <th>Airline_Jet Airways Business</th>\n",
              "      <th>Airline_Multiple carriers</th>\n",
              "      <th>Airline_Multiple carriers Premium economy</th>\n",
              "      <th>Airline_SpiceJet</th>\n",
              "      <th>Airline_Trujet</th>\n",
              "      <th>Airline_Vistara</th>\n",
              "      <th>Airline_Vistara Premium economy</th>\n",
              "      <th>Source_Chennai</th>\n",
              "      <th>Source_Delhi</th>\n",
              "      <th>Source_Kolkata</th>\n",
              "      <th>Source_Mumbai</th>\n",
              "      <th>Destination_Cochin</th>\n",
              "      <th>Destination_Delhi</th>\n",
              "      <th>Destination_Hyderabad</th>\n",
              "      <th>Destination_Kolkata</th>\n",
              "      <th>Destination_New Delhi</th>\n",
              "    </tr>\n",
              "  </thead>\n",
              "  <tbody>\n",
              "    <tr>\n",
              "      <th>0</th>\n",
              "      <td>0</td>\n",
              "      <td>24</td>\n",
              "      <td>3</td>\n",
              "      <td>22</td>\n",
              "      <td>20</td>\n",
              "      <td>1</td>\n",
              "      <td>10</td>\n",
              "      <td>2</td>\n",
              "      <td>50</td>\n",
              "      <td>0</td>\n",
              "      <td>0</td>\n",
              "      <td>1</td>\n",
              "      <td>0</td>\n",
              "      <td>0</td>\n",
              "      <td>0</td>\n",
              "      <td>0</td>\n",
              "      <td>0</td>\n",
              "      <td>0</td>\n",
              "      <td>0</td>\n",
              "      <td>0</td>\n",
              "      <td>0</td>\n",
              "      <td>0</td>\n",
              "      <td>0</td>\n",
              "      <td>0</td>\n",
              "      <td>0</td>\n",
              "      <td>0</td>\n",
              "      <td>0</td>\n",
              "      <td>0</td>\n",
              "      <td>1</td>\n",
              "    </tr>\n",
              "    <tr>\n",
              "      <th>1</th>\n",
              "      <td>2</td>\n",
              "      <td>1</td>\n",
              "      <td>5</td>\n",
              "      <td>5</td>\n",
              "      <td>50</td>\n",
              "      <td>13</td>\n",
              "      <td>15</td>\n",
              "      <td>7</td>\n",
              "      <td>25</td>\n",
              "      <td>1</td>\n",
              "      <td>0</td>\n",
              "      <td>0</td>\n",
              "      <td>0</td>\n",
              "      <td>0</td>\n",
              "      <td>0</td>\n",
              "      <td>0</td>\n",
              "      <td>0</td>\n",
              "      <td>0</td>\n",
              "      <td>0</td>\n",
              "      <td>0</td>\n",
              "      <td>0</td>\n",
              "      <td>0</td>\n",
              "      <td>1</td>\n",
              "      <td>0</td>\n",
              "      <td>0</td>\n",
              "      <td>0</td>\n",
              "      <td>0</td>\n",
              "      <td>0</td>\n",
              "      <td>0</td>\n",
              "    </tr>\n",
              "    <tr>\n",
              "      <th>2</th>\n",
              "      <td>2</td>\n",
              "      <td>9</td>\n",
              "      <td>6</td>\n",
              "      <td>9</td>\n",
              "      <td>25</td>\n",
              "      <td>4</td>\n",
              "      <td>25</td>\n",
              "      <td>19</td>\n",
              "      <td>0</td>\n",
              "      <td>0</td>\n",
              "      <td>0</td>\n",
              "      <td>0</td>\n",
              "      <td>1</td>\n",
              "      <td>0</td>\n",
              "      <td>0</td>\n",
              "      <td>0</td>\n",
              "      <td>0</td>\n",
              "      <td>0</td>\n",
              "      <td>0</td>\n",
              "      <td>0</td>\n",
              "      <td>0</td>\n",
              "      <td>1</td>\n",
              "      <td>0</td>\n",
              "      <td>0</td>\n",
              "      <td>1</td>\n",
              "      <td>0</td>\n",
              "      <td>0</td>\n",
              "      <td>0</td>\n",
              "      <td>0</td>\n",
              "    </tr>\n",
              "    <tr>\n",
              "      <th>3</th>\n",
              "      <td>1</td>\n",
              "      <td>12</td>\n",
              "      <td>5</td>\n",
              "      <td>18</td>\n",
              "      <td>5</td>\n",
              "      <td>23</td>\n",
              "      <td>30</td>\n",
              "      <td>5</td>\n",
              "      <td>25</td>\n",
              "      <td>0</td>\n",
              "      <td>0</td>\n",
              "      <td>1</td>\n",
              "      <td>0</td>\n",
              "      <td>0</td>\n",
              "      <td>0</td>\n",
              "      <td>0</td>\n",
              "      <td>0</td>\n",
              "      <td>0</td>\n",
              "      <td>0</td>\n",
              "      <td>0</td>\n",
              "      <td>0</td>\n",
              "      <td>0</td>\n",
              "      <td>1</td>\n",
              "      <td>0</td>\n",
              "      <td>0</td>\n",
              "      <td>0</td>\n",
              "      <td>0</td>\n",
              "      <td>0</td>\n",
              "      <td>0</td>\n",
              "    </tr>\n",
              "    <tr>\n",
              "      <th>4</th>\n",
              "      <td>1</td>\n",
              "      <td>1</td>\n",
              "      <td>3</td>\n",
              "      <td>16</td>\n",
              "      <td>50</td>\n",
              "      <td>21</td>\n",
              "      <td>35</td>\n",
              "      <td>4</td>\n",
              "      <td>45</td>\n",
              "      <td>0</td>\n",
              "      <td>0</td>\n",
              "      <td>1</td>\n",
              "      <td>0</td>\n",
              "      <td>0</td>\n",
              "      <td>0</td>\n",
              "      <td>0</td>\n",
              "      <td>0</td>\n",
              "      <td>0</td>\n",
              "      <td>0</td>\n",
              "      <td>0</td>\n",
              "      <td>0</td>\n",
              "      <td>0</td>\n",
              "      <td>0</td>\n",
              "      <td>0</td>\n",
              "      <td>0</td>\n",
              "      <td>0</td>\n",
              "      <td>0</td>\n",
              "      <td>0</td>\n",
              "      <td>1</td>\n",
              "    </tr>\n",
              "  </tbody>\n",
              "</table>\n",
              "</div>"
            ],
            "text/plain": [
              "   Total_Stops  Journey_day  Journey_month  Dep_hour  Dep_min  Arrival_hour  \\\n",
              "0            0           24              3        22       20             1   \n",
              "1            2            1              5         5       50            13   \n",
              "2            2            9              6         9       25             4   \n",
              "3            1           12              5        18        5            23   \n",
              "4            1            1              3        16       50            21   \n",
              "\n",
              "   Arrival_min  Duration_hours  Duration_mins  Airline_Air India  \\\n",
              "0           10               2             50                  0   \n",
              "1           15               7             25                  1   \n",
              "2           25              19              0                  0   \n",
              "3           30               5             25                  0   \n",
              "4           35               4             45                  0   \n",
              "\n",
              "   Airline_GoAir  Airline_IndiGo  Airline_Jet Airways  \\\n",
              "0              0               1                    0   \n",
              "1              0               0                    0   \n",
              "2              0               0                    1   \n",
              "3              0               1                    0   \n",
              "4              0               1                    0   \n",
              "\n",
              "   Airline_Jet Airways Business  Airline_Multiple carriers  \\\n",
              "0                             0                          0   \n",
              "1                             0                          0   \n",
              "2                             0                          0   \n",
              "3                             0                          0   \n",
              "4                             0                          0   \n",
              "\n",
              "   Airline_Multiple carriers Premium economy  Airline_SpiceJet  \\\n",
              "0                                          0                 0   \n",
              "1                                          0                 0   \n",
              "2                                          0                 0   \n",
              "3                                          0                 0   \n",
              "4                                          0                 0   \n",
              "\n",
              "   Airline_Trujet  Airline_Vistara  Airline_Vistara Premium economy  \\\n",
              "0               0                0                                0   \n",
              "1               0                0                                0   \n",
              "2               0                0                                0   \n",
              "3               0                0                                0   \n",
              "4               0                0                                0   \n",
              "\n",
              "   Source_Chennai  Source_Delhi  Source_Kolkata  Source_Mumbai  \\\n",
              "0               0             0               0              0   \n",
              "1               0             0               1              0   \n",
              "2               0             1               0              0   \n",
              "3               0             0               1              0   \n",
              "4               0             0               0              0   \n",
              "\n",
              "   Destination_Cochin  Destination_Delhi  Destination_Hyderabad  \\\n",
              "0                   0                  0                      0   \n",
              "1                   0                  0                      0   \n",
              "2                   1                  0                      0   \n",
              "3                   0                  0                      0   \n",
              "4                   0                  0                      0   \n",
              "\n",
              "   Destination_Kolkata  Destination_New Delhi  \n",
              "0                    0                      1  \n",
              "1                    0                      0  \n",
              "2                    0                      0  \n",
              "3                    0                      0  \n",
              "4                    0                      1  "
            ]
          },
          "metadata": {
            "tags": []
          },
          "execution_count": 51
        }
      ]
    },
    {
      "cell_type": "code",
      "metadata": {
        "id": "8FSdlUlOitYx",
        "outputId": "6d37db5d-6c08-4d9a-891e-3acbe459a4ba",
        "colab": {
          "base_uri": "https://localhost:8080/",
          "height": 118
        }
      },
      "source": [
        "y = data_train.iloc[:, 1]\n",
        "y.head()"
      ],
      "execution_count": null,
      "outputs": [
        {
          "output_type": "execute_result",
          "data": {
            "text/plain": [
              "0     3897\n",
              "1     7662\n",
              "2    13882\n",
              "3     6218\n",
              "4    13302\n",
              "Name: Price, dtype: int64"
            ]
          },
          "metadata": {
            "tags": []
          },
          "execution_count": 52
        }
      ]
    },
    {
      "cell_type": "code",
      "metadata": {
        "id": "u4ExViJHitYy",
        "outputId": "8c628b5c-be38-4a5f-8dec-bde5e6e1969f",
        "colab": {
          "base_uri": "https://localhost:8080/",
          "height": 1000
        }
      },
      "source": [
        "# Finds correlation between Independent and dependent attributes\n",
        "\n",
        "plt.figure(figsize = (18,18))\n",
        "sns.heatmap(train_data.corr(), annot = True, cmap = \"PiYG\")\n",
        "\n",
        "plt.show()"
      ],
      "execution_count": null,
      "outputs": [
        {
          "output_type": "display_data",
          "data": {
            "image/png": "[encoded data removed]",
            "text/plain": [
              "<Figure size 1296x1296 with 2 Axes>"
            ]
          },
          "metadata": {
            "tags": []
          }
        }
      ]
    },
    {
      "cell_type": "code",
      "metadata": {
        "id": "KIVJAU0HitY0",
        "outputId": "9b94dc99-abcf-49c7-c7e9-bd68e95aeca8",
        "colab": {
          "base_uri": "https://localhost:8080/",
          "height": 134
        }
      },
      "source": [
        "# Important feature using ExtraTreesRegressor\n",
        "\n",
        "from sklearn.ensemble import ExtraTreesRegressor\n",
        "selection = ExtraTreesRegressor()\n",
        "selection.fit(X, y)"
      ],
      "execution_count": null,
      "outputs": [
        {
          "output_type": "execute_result",
          "data": {
            "text/plain": [
              "ExtraTreesRegressor(bootstrap=False, ccp_alpha=0.0, criterion='mse',\n",
              "                    max_depth=None, max_features='auto', max_leaf_nodes=None,\n",
              "                    max_samples=None, min_impurity_decrease=0.0,\n",
              "                    min_impurity_split=None, min_samples_leaf=1,\n",
              "                    min_samples_split=2, min_weight_fraction_leaf=0.0,\n",
              "                    n_estimators=100, n_jobs=None, oob_score=False,\n",
              "                    random_state=None, verbose=0, warm_start=False)"
            ]
          },
          "metadata": {
            "tags": []
          },
          "execution_count": 54
        }
      ]
    },
    {
      "cell_type": "code",
      "metadata": {
        "id": "EOx08tBQitY4",
        "outputId": "b21053f6-cf25-4941-bfe1-36fbf3fd78ce",
        "colab": {
          "base_uri": "https://localhost:8080/",
          "height": 151
        }
      },
      "source": [
        "print(selection.feature_importances_)"
      ],
      "execution_count": null,
      "outputs": [
        {
          "output_type": "stream",
          "text": [
            "[2.27952964e-01 1.44686042e-01 5.26663275e-02 2.50272895e-02\n",
            " 2.11116822e-02 2.86356961e-02 1.85290736e-02 1.09504784e-01\n",
            " 1.72960100e-02 1.00368435e-02 2.04256443e-03 2.13152766e-02\n",
            " 1.40328924e-01 6.79150097e-02 1.80241141e-02 8.50265613e-04\n",
            " 3.71404030e-03 1.10867961e-04 4.90358997e-03 8.25060977e-05\n",
            " 5.81083059e-04 1.33593246e-02 2.89025540e-03 6.86290086e-03\n",
            " 1.17045426e-02 1.84157280e-02 5.89259783e-03 5.66848328e-04\n",
            " 2.49928480e-02]\n"
          ],
          "name": "stdout"
        }
      ]
    },
    {
      "cell_type": "code",
      "metadata": {
        "id": "rPIWFUlSitY6",
        "outputId": "b79d1219-ce66-4066-e7b1-2450ac0d4f4a",
        "colab": {
          "base_uri": "https://localhost:8080/",
          "height": 485
        }
      },
      "source": [
        "#plot graph of feature importances for better visualization\n",
        "\n",
        "plt.figure(figsize = (12,8))\n",
        "feat_importances = pd.Series(selection.feature_importances_, index=X.columns)\n",
        "feat_importances.nlargest(20).plot(kind='barh')\n",
        "plt.show()\n"
      ],
      "execution_count": null,
      "outputs": [
        {
          "output_type": "display_data",
          "data": {
            "image/png": "[encoded data removed]",
            "text/plain": [
              "<Figure size 864x576 with 1 Axes>"
            ]
          },
          "metadata": {
            "tags": []
          }
        }
      ]
    },
    {
      "cell_type": "markdown",
      "metadata": {
        "id": "Y1figOfsitZA"
      },
      "source": [
        "---"
      ]
    },
    {
      "cell_type": "markdown",
      "metadata": {
        "id": "sHOBFr49pul5"
      },
      "source": [
        "##Applying XGBRegressor to the data"
      ]
    },
    {
      "cell_type": "code",
      "metadata": {
        "id": "Ae16ki2ppYik"
      },
      "source": [
        "from math import sqrt \n",
        "from sklearn.metrics import mean_squared_log_error\n",
        "from sklearn.metrics import mean_squared_error, r2_score"
      ],
      "execution_count": null,
      "outputs": []
    },
    {
      "cell_type": "code",
      "metadata": {
        "id": "COmb-fjVkLkD",
        "outputId": "ba79529f-4f6c-4bb5-bdbe-902dff875779",
        "colab": {
          "base_uri": "https://localhost:8080/",
          "height": 34
        }
      },
      "source": [
        "from xgboost import XGBRegressor\n",
        "xgb = XGBRegressor(max_depth=9, \n",
        "                   learning_rate=0.5, \n",
        "                   n_estimators=112, \n",
        "                   silent=False, \n",
        "                   objective='reg:linear', \n",
        "                   booster='gbtree', \n",
        "                   n_jobs=1, \n",
        "                   nthread=None, \n",
        "                   gamma=0, \n",
        "                   min_child_weight=1, \n",
        "                   max_delta_step=0, \n",
        "                   subsample=1, \n",
        "                   colsample_bytree=1, \n",
        "                   colsample_bylevel=1, \n",
        "                   reg_alpha=1, \n",
        "                   reg_lambda=1, \n",
        "                   scale_pos_weight=1, \n",
        "                   base_score=0.5, \n",
        "                   random_state=0, \n",
        "                   seed=None)\n",
        "xgb.fit(X_train, y_train)\n",
        "y_pred1 = xgb.predict(X_test)"
      ],
      "execution_count": null,
      "outputs": [
        {
          "output_type": "stream",
          "text": [
            "[10:11:17] WARNING: /workspace/src/objective/regression_obj.cu:152: reg:linear is now deprecated in favor of reg:squarederror.\n"
          ],
          "name": "stdout"
        }
      ]
    },
    {
      "cell_type": "code",
      "metadata": {
        "id": "icsb3yzooiwO",
        "outputId": "a1d6ea5c-b524-4172-f6f0-12d931932b54",
        "colab": {
          "base_uri": "https://localhost:8080/",
          "height": 84
        }
      },
      "source": [
        "print(\"RMSE:\",sqrt(mean_squared_error(y_test, y_pred1)))\n",
        "print('RMSLE:', sqrt(mean_squared_log_error((y_test),(y_pred1))))\n",
        "print(\"Score:\",1-(sqrt(mean_squared_log_error((y_test),(y_pred1)))))\n",
        "r_squared_train_xgb= xgb.score(X_train, y_train)\n",
        "print(\"R squared test:\",r_squared_train_xgb)"
      ],
      "execution_count": null,
      "outputs": [
        {
          "output_type": "stream",
          "text": [
            "RMSE: 2204.225345469127\n",
            "RMSLE: 0.20606432319138682\n",
            "Score: 0.7939356768086132\n",
            "R squared test: 0.9688845430957975\n"
          ],
          "name": "stdout"
        }
      ]
    },
    {
      "cell_type": "markdown",
      "metadata": {
        "id": "NslOL04mitZA"
      },
      "source": [
        "## Fitting model using Random Forest\n"
      ]
    },
    {
      "cell_type": "code",
      "metadata": {
        "id": "voFmEJQGitZB"
      },
      "source": [
        "from sklearn.model_selection import train_test_split\n",
        "X_train, X_test, y_train, y_test = train_test_split(X, y, test_size = 0.2, random_state = 42)"
      ],
      "execution_count": null,
      "outputs": []
    },
    {
      "cell_type": "code",
      "metadata": {
        "id": "OzBA9DZ8itZE",
        "outputId": "c84b0856-b795-4412-da05-b4b8d58302cf",
        "colab": {
          "base_uri": "https://localhost:8080/",
          "height": 134
        }
      },
      "source": [
        "from sklearn.ensemble import RandomForestRegressor\n",
        "reg_rf = RandomForestRegressor()\n",
        "reg_rf.fit(X_train, y_train)"
      ],
      "execution_count": null,
      "outputs": [
        {
          "output_type": "execute_result",
          "data": {
            "text/plain": [
              "RandomForestRegressor(bootstrap=True, ccp_alpha=0.0, criterion='mse',\n",
              "                      max_depth=None, max_features='auto', max_leaf_nodes=None,\n",
              "                      max_samples=None, min_impurity_decrease=0.0,\n",
              "                      min_impurity_split=None, min_samples_leaf=1,\n",
              "                      min_samples_split=2, min_weight_fraction_leaf=0.0,\n",
              "                      n_estimators=100, n_jobs=None, oob_score=False,\n",
              "                      random_state=None, verbose=0, warm_start=False)"
            ]
          },
          "metadata": {
            "tags": []
          },
          "execution_count": 58
        }
      ]
    },
    {
      "cell_type": "code",
      "metadata": {
        "id": "0DxWp40FitZH"
      },
      "source": [
        "y_pred = reg_rf.predict(X_test)"
      ],
      "execution_count": null,
      "outputs": []
    },
    {
      "cell_type": "code",
      "metadata": {
        "id": "rs4TGqVHitZK",
        "outputId": "1811fd77-7277-4382-e709-c81daaf5e104",
        "colab": {
          "base_uri": "https://localhost:8080/",
          "height": 34
        }
      },
      "source": [
        "reg_rf.score(X_train, y_train)"
      ],
      "execution_count": null,
      "outputs": [
        {
          "output_type": "execute_result",
          "data": {
            "text/plain": [
              "0.953987978597344"
            ]
          },
          "metadata": {
            "tags": []
          },
          "execution_count": 60
        }
      ]
    },
    {
      "cell_type": "code",
      "metadata": {
        "id": "u_6C_ZU7itZM",
        "outputId": "da014380-e72f-4068-b205-678a6f30fbc0",
        "colab": {
          "base_uri": "https://localhost:8080/",
          "height": 34
        }
      },
      "source": [
        "reg_rf.score(X_test, y_test)"
      ],
      "execution_count": null,
      "outputs": [
        {
          "output_type": "execute_result",
          "data": {
            "text/plain": [
              "0.7977655544936717"
            ]
          },
          "metadata": {
            "tags": []
          },
          "execution_count": 61
        }
      ]
    },
    {
      "cell_type": "code",
      "metadata": {
        "id": "X9qANgfDitZO",
        "outputId": "0af650d4-cc2d-47d4-bcfd-bf18982b437b",
        "colab": {
          "base_uri": "https://localhost:8080/",
          "height": 338
        }
      },
      "source": [
        "sns.distplot(y_test-y_pred)\n",
        "plt.show()"
      ],
      "execution_count": null,
      "outputs": [
        {
          "output_type": "stream",
          "text": [
            "/usr/local/lib/python3.6/dist-packages/seaborn/distributions.py:2551: FutureWarning: `distplot` is a deprecated function and will be removed in a future version. Please adapt your code to use either `displot` (a figure-level function with similar flexibility) or `histplot` (an axes-level function for histograms).\n",
            "  warnings.warn(msg, FutureWarning)\n"
          ],
          "name": "stderr"
        },
        {
          "output_type": "display_data",
          "data": {
            "image/png": "[encoded data removed]",
            "text/plain": [
              "<Figure size 432x288 with 1 Axes>"
            ]
          },
          "metadata": {
            "tags": []
          }
        }
      ]
    },
    {
      "cell_type": "code",
      "metadata": {
        "id": "HumgNWQwitZQ",
        "outputId": "e1977711-e54a-4bb8-f1cd-b3f115f5c912",
        "colab": {
          "base_uri": "https://localhost:8080/",
          "height": 285
        }
      },
      "source": [
        "\n",
        "plt.scatter(y_test, y_pred, alpha = 0.5)\n",
        "plt.xlabel(\"y_test\")\n",
        "plt.ylabel(\"y_pred\")\n",
        "plt.show()"
      ],
      "execution_count": null,
      "outputs": [
        {
          "output_type": "display_data",
          "data": {
            "image/png": "[encoded data removed]",
            "text/plain": [
              "<Figure size 432x288 with 1 Axes>"
            ]
          },
          "metadata": {
            "tags": []
          }
        }
      ]
    },
    {
      "cell_type": "code",
      "metadata": {
        "id": "jmK7hu1kitZS"
      },
      "source": [
        "from sklearn import metrics"
      ],
      "execution_count": null,
      "outputs": []
    },
    {
      "cell_type": "code",
      "metadata": {
        "id": "aLpu5TTYitZV",
        "outputId": "964df0c5-07cb-4043-e25c-38551f62f48a",
        "colab": {
          "base_uri": "https://localhost:8080/",
          "height": 67
        }
      },
      "source": [
        "print('MAE:', metrics.mean_absolute_error(y_test, y_pred))\n",
        "print('MSE:', metrics.mean_squared_error(y_test, y_pred))\n",
        "print('RMSLE:', np.sqrt(metrics.mean_squared_log_error(y_test, y_pred)))"
      ],
      "execution_count": null,
      "outputs": [
        {
          "output_type": "stream",
          "text": [
            "MAE: 1176.8809684393752\n",
            "MSE: 4360590.504693078\n",
            "RMSLE: 0.18636879083349353\n"
          ],
          "name": "stdout"
        }
      ]
    },
    {
      "cell_type": "code",
      "metadata": {
        "id": "STiYLGcbitZX",
        "outputId": "6f6a030e-028c-4598-fb80-307838cb3985",
        "colab": {
          "base_uri": "https://localhost:8080/",
          "height": 34
        }
      },
      "source": [
        "# RMSE/(max(DV)-min(DV))\n",
        "\n",
        "2090.5509/(max(y)-min(y))"
      ],
      "execution_count": null,
      "outputs": [
        {
          "output_type": "execute_result",
          "data": {
            "text/plain": [
              "0.026887077025966846"
            ]
          },
          "metadata": {
            "tags": []
          },
          "execution_count": 66
        }
      ]
    },
    {
      "cell_type": "code",
      "metadata": {
        "id": "bWLWUvRQitZZ",
        "outputId": "93d088c8-37ff-4956-8c9f-1ccd17b1c5a7",
        "colab": {
          "base_uri": "https://localhost:8080/",
          "height": 34
        }
      },
      "source": [
        "metrics.r2_score(y_test, y_pred)"
      ],
      "execution_count": null,
      "outputs": [
        {
          "output_type": "execute_result",
          "data": {
            "text/plain": [
              "0.7977655544936717"
            ]
          },
          "metadata": {
            "tags": []
          },
          "execution_count": 67
        }
      ]
    },
    {
      "cell_type": "markdown",
      "metadata": {
        "id": "fsHMnSFYitZc"
      },
      "source": [
        "## Hyperparameter Tuning\n"
      ]
    },
    {
      "cell_type": "code",
      "metadata": {
        "id": "ZZR-wc6JitZd"
      },
      "source": [
        "from sklearn.model_selection import RandomizedSearchCV"
      ],
      "execution_count": null,
      "outputs": []
    },
    {
      "cell_type": "code",
      "metadata": {
        "id": "dXpKadeIitZf"
      },
      "source": [
        "#Randomized Search CV\n",
        "\n",
        "# Number of trees in random forest\n",
        "n_estimators = [int(x) for x in np.linspace(start = 100, stop = 1200, num = 12)]\n",
        "# Number of features to consider at every split\n",
        "max_features = ['auto', 'sqrt']\n",
        "# Maximum number of levels in tree\n",
        "max_depth = [int(x) for x in np.linspace(5, 30, num = 6)]\n",
        "# Minimum number of samples required to split a node\n",
        "min_samples_split = [2, 5, 10, 15, 100]\n",
        "# Minimum number of samples required at each leaf node\n",
        "min_samples_leaf = [1, 2, 5, 10]"
      ],
      "execution_count": null,
      "outputs": []
    },
    {
      "cell_type": "code",
      "metadata": {
        "id": "TQM1U-owitZh"
      },
      "source": [
        "# Create the random grid\n",
        "\n",
        "random_grid = {'n_estimators': n_estimators,\n",
        "               'max_features': max_features,\n",
        "               'max_depth': max_depth,\n",
        "               'min_samples_split': min_samples_split,\n",
        "               'min_samples_leaf': min_samples_leaf}"
      ],
      "execution_count": null,
      "outputs": []
    },
    {
      "cell_type": "code",
      "metadata": {
        "id": "9MJuilWzitZi"
      },
      "source": [
        "# Random search of parameters, using 5 fold cross validation, \n",
        "# search across 100 different combinations\n",
        "rf_random = RandomizedSearchCV(estimator = reg_rf, param_distributions = random_grid,scoring='neg_mean_squared_error', n_iter = 10, cv = 5, verbose=2, random_state=42, n_jobs = 1)"
      ],
      "execution_count": null,
      "outputs": []
    },
    {
      "cell_type": "code",
      "metadata": {
        "id": "ZTJfpGdlitZk",
        "outputId": "6d8da5c6-def1-482e-8687-3b1302dd7860",
        "colab": {
          "base_uri": "https://localhost:8080/",
          "height": 1000
        }
      },
      "source": [
        "rf_random.fit(X_train,y_train)"
      ],
      "execution_count": null,
      "outputs": [
        {
          "output_type": "stream",
          "text": [
            "Fitting 5 folds for each of 10 candidates, totalling 50 fits\n",
            "[CV] n_estimators=900, min_samples_split=5, min_samples_leaf=5, max_features=sqrt, max_depth=10 \n"
          ],
          "name": "stdout"
        },
        {
          "output_type": "stream",
          "text": [
            "[Parallel(n_jobs=1)]: Using backend SequentialBackend with 1 concurrent workers.\n"
          ],
          "name": "stderr"
        },
        {
          "output_type": "stream",
          "text": [
            "[CV]  n_estimators=900, min_samples_split=5, min_samples_leaf=5, max_features=sqrt, max_depth=10, total=   4.4s\n",
            "[CV] n_estimators=900, min_samples_split=5, min_samples_leaf=5, max_features=sqrt, max_depth=10 \n"
          ],
          "name": "stdout"
        },
        {
          "output_type": "stream",
          "text": [
            "[Parallel(n_jobs=1)]: Done   1 out of   1 | elapsed:    4.4s remaining:    0.0s\n"
          ],
          "name": "stderr"
        },
        {
          "output_type": "stream",
          "text": [
            "[CV]  n_estimators=900, min_samples_split=5, min_samples_leaf=5, max_features=sqrt, max_depth=10, total=   4.3s\n",
            "[CV] n_estimators=900, min_samples_split=5, min_samples_leaf=5, max_features=sqrt, max_depth=10 \n",
            "[CV]  n_estimators=900, min_samples_split=5, min_samples_leaf=5, max_features=sqrt, max_depth=10, total=   4.3s\n",
            "[CV] n_estimators=900, min_samples_split=5, min_samples_leaf=5, max_features=sqrt, max_depth=10 \n",
            "[CV]  n_estimators=900, min_samples_split=5, min_samples_leaf=5, max_features=sqrt, max_depth=10, total=   4.3s\n",
            "[CV] n_estimators=900, min_samples_split=5, min_samples_leaf=5, max_features=sqrt, max_depth=10 \n",
            "[CV]  n_estimators=900, min_samples_split=5, min_samples_leaf=5, max_features=sqrt, max_depth=10, total=   4.2s\n",
            "[CV] n_estimators=1100, min_samples_split=10, min_samples_leaf=2, max_features=sqrt, max_depth=15 \n",
            "[CV]  n_estimators=1100, min_samples_split=10, min_samples_leaf=2, max_features=sqrt, max_depth=15, total=   6.7s\n",
            "[CV] n_estimators=1100, min_samples_split=10, min_samples_leaf=2, max_features=sqrt, max_depth=15 \n",
            "[CV]  n_estimators=1100, min_samples_split=10, min_samples_leaf=2, max_features=sqrt, max_depth=15, total=   6.6s\n",
            "[CV] n_estimators=1100, min_samples_split=10, min_samples_leaf=2, max_features=sqrt, max_depth=15 \n",
            "[CV]  n_estimators=1100, min_samples_split=10, min_samples_leaf=2, max_features=sqrt, max_depth=15, total=   6.6s\n",
            "[CV] n_estimators=1100, min_samples_split=10, min_samples_leaf=2, max_features=sqrt, max_depth=15 \n",
            "[CV]  n_estimators=1100, min_samples_split=10, min_samples_leaf=2, max_features=sqrt, max_depth=15, total=   6.6s\n",
            "[CV] n_estimators=1100, min_samples_split=10, min_samples_leaf=2, max_features=sqrt, max_depth=15 \n",
            "[CV]  n_estimators=1100, min_samples_split=10, min_samples_leaf=2, max_features=sqrt, max_depth=15, total=   6.7s\n",
            "[CV] n_estimators=300, min_samples_split=100, min_samples_leaf=5, max_features=auto, max_depth=15 \n",
            "[CV]  n_estimators=300, min_samples_split=100, min_samples_leaf=5, max_features=auto, max_depth=15, total=   4.1s\n",
            "[CV] n_estimators=300, min_samples_split=100, min_samples_leaf=5, max_features=auto, max_depth=15 \n",
            "[CV]  n_estimators=300, min_samples_split=100, min_samples_leaf=5, max_features=auto, max_depth=15, total=   4.0s\n",
            "[CV] n_estimators=300, min_samples_split=100, min_samples_leaf=5, max_features=auto, max_depth=15 \n",
            "[CV]  n_estimators=300, min_samples_split=100, min_samples_leaf=5, max_features=auto, max_depth=15, total=   4.0s\n",
            "[CV] n_estimators=300, min_samples_split=100, min_samples_leaf=5, max_features=auto, max_depth=15 \n",
            "[CV]  n_estimators=300, min_samples_split=100, min_samples_leaf=5, max_features=auto, max_depth=15, total=   4.0s\n",
            "[CV] n_estimators=300, min_samples_split=100, min_samples_leaf=5, max_features=auto, max_depth=15 \n",
            "[CV]  n_estimators=300, min_samples_split=100, min_samples_leaf=5, max_features=auto, max_depth=15, total=   4.1s\n",
            "[CV] n_estimators=400, min_samples_split=5, min_samples_leaf=5, max_features=auto, max_depth=15 \n",
            "[CV]  n_estimators=400, min_samples_split=5, min_samples_leaf=5, max_features=auto, max_depth=15, total=   7.4s\n",
            "[CV] n_estimators=400, min_samples_split=5, min_samples_leaf=5, max_features=auto, max_depth=15 \n",
            "[CV]  n_estimators=400, min_samples_split=5, min_samples_leaf=5, max_features=auto, max_depth=15, total=   7.3s\n",
            "[CV] n_estimators=400, min_samples_split=5, min_samples_leaf=5, max_features=auto, max_depth=15 \n",
            "[CV]  n_estimators=400, min_samples_split=5, min_samples_leaf=5, max_features=auto, max_depth=15, total=   7.3s\n",
            "[CV] n_estimators=400, min_samples_split=5, min_samples_leaf=5, max_features=auto, max_depth=15 \n",
            "[CV]  n_estimators=400, min_samples_split=5, min_samples_leaf=5, max_features=auto, max_depth=15, total=   7.3s\n",
            "[CV] n_estimators=400, min_samples_split=5, min_samples_leaf=5, max_features=auto, max_depth=15 \n",
            "[CV]  n_estimators=400, min_samples_split=5, min_samples_leaf=5, max_features=auto, max_depth=15, total=   7.3s\n",
            "[CV] n_estimators=700, min_samples_split=5, min_samples_leaf=10, max_features=auto, max_depth=20 \n",
            "[CV]  n_estimators=700, min_samples_split=5, min_samples_leaf=10, max_features=auto, max_depth=20, total=  11.3s\n",
            "[CV] n_estimators=700, min_samples_split=5, min_samples_leaf=10, max_features=auto, max_depth=20 \n",
            "[CV]  n_estimators=700, min_samples_split=5, min_samples_leaf=10, max_features=auto, max_depth=20, total=  11.2s\n",
            "[CV] n_estimators=700, min_samples_split=5, min_samples_leaf=10, max_features=auto, max_depth=20 \n",
            "[CV]  n_estimators=700, min_samples_split=5, min_samples_leaf=10, max_features=auto, max_depth=20, total=  11.3s\n",
            "[CV] n_estimators=700, min_samples_split=5, min_samples_leaf=10, max_features=auto, max_depth=20 \n",
            "[CV]  n_estimators=700, min_samples_split=5, min_samples_leaf=10, max_features=auto, max_depth=20, total=  11.3s\n",
            "[CV] n_estimators=700, min_samples_split=5, min_samples_leaf=10, max_features=auto, max_depth=20 \n",
            "[CV]  n_estimators=700, min_samples_split=5, min_samples_leaf=10, max_features=auto, max_depth=20, total=  11.4s\n",
            "[CV] n_estimators=1000, min_samples_split=2, min_samples_leaf=1, max_features=sqrt, max_depth=25 \n",
            "[CV]  n_estimators=1000, min_samples_split=2, min_samples_leaf=1, max_features=sqrt, max_depth=25, total=  10.3s\n",
            "[CV] n_estimators=1000, min_samples_split=2, min_samples_leaf=1, max_features=sqrt, max_depth=25 \n",
            "[CV]  n_estimators=1000, min_samples_split=2, min_samples_leaf=1, max_features=sqrt, max_depth=25, total=  10.0s\n",
            "[CV] n_estimators=1000, min_samples_split=2, min_samples_leaf=1, max_features=sqrt, max_depth=25 \n",
            "[CV]  n_estimators=1000, min_samples_split=2, min_samples_leaf=1, max_features=sqrt, max_depth=25, total=  10.0s\n",
            "[CV] n_estimators=1000, min_samples_split=2, min_samples_leaf=1, max_features=sqrt, max_depth=25 \n",
            "[CV]  n_estimators=1000, min_samples_split=2, min_samples_leaf=1, max_features=sqrt, max_depth=25, total=   9.9s\n",
            "[CV] n_estimators=1000, min_samples_split=2, min_samples_leaf=1, max_features=sqrt, max_depth=25 \n",
            "[CV]  n_estimators=1000, min_samples_split=2, min_samples_leaf=1, max_features=sqrt, max_depth=25, total=   9.9s\n",
            "[CV] n_estimators=1100, min_samples_split=15, min_samples_leaf=10, max_features=sqrt, max_depth=5 \n",
            "[CV]  n_estimators=1100, min_samples_split=15, min_samples_leaf=10, max_features=sqrt, max_depth=5, total=   3.3s\n",
            "[CV] n_estimators=1100, min_samples_split=15, min_samples_leaf=10, max_features=sqrt, max_depth=5 \n",
            "[CV]  n_estimators=1100, min_samples_split=15, min_samples_leaf=10, max_features=sqrt, max_depth=5, total=   3.3s\n",
            "[CV] n_estimators=1100, min_samples_split=15, min_samples_leaf=10, max_features=sqrt, max_depth=5 \n",
            "[CV]  n_estimators=1100, min_samples_split=15, min_samples_leaf=10, max_features=sqrt, max_depth=5, total=   3.3s\n",
            "[CV] n_estimators=1100, min_samples_split=15, min_samples_leaf=10, max_features=sqrt, max_depth=5 \n",
            "[CV]  n_estimators=1100, min_samples_split=15, min_samples_leaf=10, max_features=sqrt, max_depth=5, total=   3.3s\n",
            "[CV] n_estimators=1100, min_samples_split=15, min_samples_leaf=10, max_features=sqrt, max_depth=5 \n",
            "[CV]  n_estimators=1100, min_samples_split=15, min_samples_leaf=10, max_features=sqrt, max_depth=5, total=   3.4s\n",
            "[CV] n_estimators=300, min_samples_split=15, min_samples_leaf=1, max_features=sqrt, max_depth=15 \n",
            "[CV]  n_estimators=300, min_samples_split=15, min_samples_leaf=1, max_features=sqrt, max_depth=15, total=   1.8s\n",
            "[CV] n_estimators=300, min_samples_split=15, min_samples_leaf=1, max_features=sqrt, max_depth=15 \n",
            "[CV]  n_estimators=300, min_samples_split=15, min_samples_leaf=1, max_features=sqrt, max_depth=15, total=   1.8s\n",
            "[CV] n_estimators=300, min_samples_split=15, min_samples_leaf=1, max_features=sqrt, max_depth=15 \n",
            "[CV]  n_estimators=300, min_samples_split=15, min_samples_leaf=1, max_features=sqrt, max_depth=15, total=   1.8s\n",
            "[CV] n_estimators=300, min_samples_split=15, min_samples_leaf=1, max_features=sqrt, max_depth=15 \n",
            "[CV]  n_estimators=300, min_samples_split=15, min_samples_leaf=1, max_features=sqrt, max_depth=15, total=   1.8s\n",
            "[CV] n_estimators=300, min_samples_split=15, min_samples_leaf=1, max_features=sqrt, max_depth=15 \n",
            "[CV]  n_estimators=300, min_samples_split=15, min_samples_leaf=1, max_features=sqrt, max_depth=15, total=   1.7s\n",
            "[CV] n_estimators=700, min_samples_split=10, min_samples_leaf=2, max_features=sqrt, max_depth=5 \n",
            "[CV]  n_estimators=700, min_samples_split=10, min_samples_leaf=2, max_features=sqrt, max_depth=5, total=   2.2s\n",
            "[CV] n_estimators=700, min_samples_split=10, min_samples_leaf=2, max_features=sqrt, max_depth=5 \n",
            "[CV]  n_estimators=700, min_samples_split=10, min_samples_leaf=2, max_features=sqrt, max_depth=5, total=   2.2s\n",
            "[CV] n_estimators=700, min_samples_split=10, min_samples_leaf=2, max_features=sqrt, max_depth=5 \n",
            "[CV]  n_estimators=700, min_samples_split=10, min_samples_leaf=2, max_features=sqrt, max_depth=5, total=   2.2s\n",
            "[CV] n_estimators=700, min_samples_split=10, min_samples_leaf=2, max_features=sqrt, max_depth=5 \n",
            "[CV]  n_estimators=700, min_samples_split=10, min_samples_leaf=2, max_features=sqrt, max_depth=5, total=   2.2s\n",
            "[CV] n_estimators=700, min_samples_split=10, min_samples_leaf=2, max_features=sqrt, max_depth=5 \n",
            "[CV]  n_estimators=700, min_samples_split=10, min_samples_leaf=2, max_features=sqrt, max_depth=5, total=   2.2s\n",
            "[CV] n_estimators=700, min_samples_split=15, min_samples_leaf=1, max_features=auto, max_depth=20 \n",
            "[CV]  n_estimators=700, min_samples_split=15, min_samples_leaf=1, max_features=auto, max_depth=20, total=  13.7s\n",
            "[CV] n_estimators=700, min_samples_split=15, min_samples_leaf=1, max_features=auto, max_depth=20 \n",
            "[CV]  n_estimators=700, min_samples_split=15, min_samples_leaf=1, max_features=auto, max_depth=20, total=  13.7s\n",
            "[CV] n_estimators=700, min_samples_split=15, min_samples_leaf=1, max_features=auto, max_depth=20 \n",
            "[CV]  n_estimators=700, min_samples_split=15, min_samples_leaf=1, max_features=auto, max_depth=20, total=  13.3s\n",
            "[CV] n_estimators=700, min_samples_split=15, min_samples_leaf=1, max_features=auto, max_depth=20 \n",
            "[CV]  n_estimators=700, min_samples_split=15, min_samples_leaf=1, max_features=auto, max_depth=20, total=  13.5s\n",
            "[CV] n_estimators=700, min_samples_split=15, min_samples_leaf=1, max_features=auto, max_depth=20 \n",
            "[CV]  n_estimators=700, min_samples_split=15, min_samples_leaf=1, max_features=auto, max_depth=20, total=  13.6s\n"
          ],
          "name": "stdout"
        },
        {
          "output_type": "stream",
          "text": [
            "[Parallel(n_jobs=1)]: Done  50 out of  50 | elapsed:  5.4min finished\n"
          ],
          "name": "stderr"
        },
        {
          "output_type": "execute_result",
          "data": {
            "text/plain": [
              "RandomizedSearchCV(cv=5, error_score=nan,\n",
              "                   estimator=RandomForestRegressor(bootstrap=True,\n",
              "                                                   ccp_alpha=0.0,\n",
              "                                                   criterion='mse',\n",
              "                                                   max_depth=None,\n",
              "                                                   max_features='auto',\n",
              "                                                   max_leaf_nodes=None,\n",
              "                                                   max_samples=None,\n",
              "                                                   min_impurity_decrease=0.0,\n",
              "                                                   min_impurity_split=None,\n",
              "                                                   min_samples_leaf=1,\n",
              "                                                   min_samples_split=2,\n",
              "                                                   min_weight_fraction_leaf=0.0,\n",
              "                                                   n_estimators=100,\n",
              "                                                   n_jobs=None, oob_score=Fals...\n",
              "                   iid='deprecated', n_iter=10, n_jobs=1,\n",
              "                   param_distributions={'max_depth': [5, 10, 15, 20, 25, 30],\n",
              "                                        'max_features': ['auto', 'sqrt'],\n",
              "                                        'min_samples_leaf': [1, 2, 5, 10],\n",
              "                                        'min_samples_split': [2, 5, 10, 15,\n",
              "                                                              100],\n",
              "                                        'n_estimators': [100, 200, 300, 400,\n",
              "                                                         500, 600, 700, 800,\n",
              "                                                         900, 1000, 1100,\n",
              "                                                         1200]},\n",
              "                   pre_dispatch='2*n_jobs', random_state=42, refit=True,\n",
              "                   return_train_score=False, scoring='neg_mean_squared_error',\n",
              "                   verbose=2)"
            ]
          },
          "metadata": {
            "tags": []
          },
          "execution_count": 72
        }
      ]
    },
    {
      "cell_type": "code",
      "metadata": {
        "id": "RAxka3hiitZl",
        "outputId": "3d7e9b72-60a3-4447-bf9c-89f86766cd5b",
        "colab": {
          "base_uri": "https://localhost:8080/",
          "height": 101
        }
      },
      "source": [
        "rf_random.best_params_"
      ],
      "execution_count": null,
      "outputs": [
        {
          "output_type": "execute_result",
          "data": {
            "text/plain": [
              "{'max_depth': 20,\n",
              " 'max_features': 'auto',\n",
              " 'min_samples_leaf': 1,\n",
              " 'min_samples_split': 15,\n",
              " 'n_estimators': 700}"
            ]
          },
          "metadata": {
            "tags": []
          },
          "execution_count": 73
        }
      ]
    },
    {
      "cell_type": "code",
      "metadata": {
        "id": "nevnPbxhitZp"
      },
      "source": [
        "prediction = rf_random.predict(X_test)"
      ],
      "execution_count": null,
      "outputs": []
    },
    {
      "cell_type": "code",
      "metadata": {
        "id": "kcin1pIJitZq",
        "outputId": "ec074bb3-1f69-439a-c940-6db5ee80a91a",
        "colab": {
          "base_uri": "https://localhost:8080/",
          "height": 556
        }
      },
      "source": [
        "plt.figure(figsize = (8,8))\n",
        "sns.distplot(y_test-prediction)\n",
        "plt.show()"
      ],
      "execution_count": null,
      "outputs": [
        {
          "output_type": "stream",
          "text": [
            "/usr/local/lib/python3.6/dist-packages/seaborn/distributions.py:2551: FutureWarning: `distplot` is a deprecated function and will be removed in a future version. Please adapt your code to use either `displot` (a figure-level function with similar flexibility) or `histplot` (an axes-level function for histograms).\n",
            "  warnings.warn(msg, FutureWarning)\n"
          ],
          "name": "stderr"
        },
        {
          "output_type": "display_data",
          "data": {
            "image/png": "[encoded data removed]",
            "text/plain": [
              "<Figure size 576x576 with 1 Axes>"
            ]
          },
          "metadata": {
            "tags": []
          }
        }
      ]
    },
    {
      "cell_type": "code",
      "metadata": {
        "id": "X60-n7X5itZs",
        "outputId": "a1401f89-1ae0-4b5a-e644-352f819ff11b",
        "colab": {
          "base_uri": "https://localhost:8080/",
          "height": 502
        }
      },
      "source": [
        "plt.figure(figsize = (8,8))\n",
        "plt.scatter(y_test, prediction, alpha = 0.5)\n",
        "plt.xlabel(\"y_test\")\n",
        "plt.ylabel(\"y_pred\")\n",
        "plt.show()"
      ],
      "execution_count": null,
      "outputs": [
        {
          "output_type": "display_data",
          "data": {
            "image/png": "[encoded data removed]",
            "text/plain": [
              "<Figure size 576x576 with 1 Axes>"
            ]
          },
          "metadata": {
            "tags": []
          }
        }
      ]
    },
    {
      "cell_type": "code",
      "metadata": {
        "id": "9_Jbjo26itZt",
        "outputId": "bf74b309-3720-49bf-c74d-0dd6d1024949",
        "colab": {
          "base_uri": "https://localhost:8080/",
          "height": 67
        }
      },
      "source": [
        "print('MAE:', metrics.mean_absolute_error(y_test, prediction))\n",
        "print('MSE:', metrics.mean_squared_error(y_test, prediction))\n",
        "print('RMSLE:', np.sqrt(metrics.mean_squared_log_error(y_test, prediction)))"
      ],
      "execution_count": null,
      "outputs": [
        {
          "output_type": "stream",
          "text": [
            "MAE: 1167.8991088203836\n",
            "MSE: 4068280.5734823206\n",
            "RMSLE: 0.17810525563366458\n"
          ],
          "name": "stdout"
        }
      ]
    }
  ]
}